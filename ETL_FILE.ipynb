{
 "cells": [
  {
   "cell_type": "raw",
   "source": [
    "\n"
   ],
   "metadata": {
    "collapsed": false
   },
   "id": "8912efca734f09de"
  },
  {
   "cell_type": "code",
   "outputs": [
    {
     "data": {
      "text/plain": "       BusinessEntityID PersonType  NameStyle Title FirstName MiddleName  \\\n0                     1         EM      False  None       Ken          J   \n1                     2         EM      False  None     Terri        Lee   \n2                     3         EM      False  None   Roberto       None   \n3                     4         EM      False  None       Rob       None   \n4                     5         EM      False   Ms.      Gail          A   \n...                 ...        ...        ...   ...       ...        ...   \n19967             20773         IN      False  None   Crystal       None   \n19968             20774         IN      False  None  Isabella          F   \n19969             20775         IN      False  None   Crystal          S   \n19970             20776         IN      False  None   Crystal       None   \n19971             20777         IN      False  None   Crystal       None   \n\n         LastName Suffix  EmailPromotion AdditionalContactInfo  \\\n0         Sánchez   None               0                  None   \n1           Duffy   None               1                  None   \n2      Tamburello   None               0                  None   \n3         Walters   None               0                  None   \n4        Erickson   None               0                  None   \n...           ...    ...             ...                   ...   \n19967         Guo   None               0                  None   \n19968  Richardson   None               2                  None   \n19969          He   None               0                  None   \n19970       Zheng   None               1                  None   \n19971          Hu   None               0                  None   \n\n                                            Demographics  \\\n0      <IndividualSurvey xmlns=\"http://schemas.micros...   \n1      <IndividualSurvey xmlns=\"http://schemas.micros...   \n2      <IndividualSurvey xmlns=\"http://schemas.micros...   \n3      <IndividualSurvey xmlns=\"http://schemas.micros...   \n4      <IndividualSurvey xmlns=\"http://schemas.micros...   \n...                                                  ...   \n19967  <IndividualSurvey xmlns=\"http://schemas.micros...   \n19968  <IndividualSurvey xmlns=\"http://schemas.micros...   \n19969  <IndividualSurvey xmlns=\"http://schemas.micros...   \n19970  <IndividualSurvey xmlns=\"http://schemas.micros...   \n19971  <IndividualSurvey xmlns=\"http://schemas.micros...   \n\n                                    rowguid ModifiedDate          PhoneNumber  \\\n0      92C4279F-1207-48A3-8448-4636514EB7E2   2009-01-07         697-555-0142   \n1      D8763459-8AA8-47CC-AFF7-C9079AF79033   2008-01-24         819-555-0175   \n2      E1A2555E-0828-434B-A33B-6F38136A37DE   2007-11-04         212-555-0187   \n3      F2D7CE06-38B3-4357-805B-F4B6B71C01FF   2007-11-28         612-555-0100   \n4      F3A3F6B4-AE3B-430C-A754-9F2231BA6FEF   2007-12-30         849-555-0139   \n...                                     ...          ...                  ...   \n19967  D0A499A2-C258-43E9-AB06-F61543A71134   2014-03-19  1 (11) 500 555-0171   \n19968  A4F7F248-82F3-43D5-B5A3-8BD1CB610254   2013-07-29         910-555-0166   \n19969  CD0B82D0-3409-4497-A65F-A68E75EE26CB   2014-03-12         813-555-0148   \n19970  386E35E8-97B3-43E4-9B5F-9594C2FF5CEA   2014-01-14  1 (11) 500 555-0171   \n19971  1773C8F3-2CC7-4826-A7F5-30D3F36543CD   2013-10-16  1 (11) 500 555-0126   \n\n       PhoneNumberTypeID  EmailAddressID                    EmailAddress  \\\n0                      1               1        ken0@adventure-works.com   \n1                      3               2      terri0@adventure-works.com   \n2                      1               3    roberto0@adventure-works.com   \n3                      1               4        rob0@adventure-works.com   \n4                      1               5       gail0@adventure-works.com   \n...                  ...             ...                             ...   \n19967                  1           19968   crystal18@adventure-works.com   \n19968                  1           19969  isabella91@adventure-works.com   \n19969                  2           19970   crystal19@adventure-works.com   \n19970                  2           19971   crystal20@adventure-works.com   \n19971                  2           19972   crystal21@adventure-works.com   \n\n                                       PasswordHash PasswordSalt  \n0      pbFwXWE99vobT6g+vPWFy93NtUU/orrIWafF01hccfM=     bE3XiWw=  \n1      bawRVNrZQYQ05qF05Gz6VLilnviZmrqBReTTAGAudm0=     EjJaC3U=  \n2      8BUXrZfDqO1IyHCWOYzYmqN1IhTUn3CJMpdx/UCQ3iY=     wbPZqMw=  \n3      SjLXpiarHSlz+6AG+H+4QpB/IPRzras/+9q/5Wr7tf8=     PwSunQU=  \n4      8FYdAiY6gWuBsgjCFdg0UibtsqOcWHf9TyaHIP7+paA=     qYhZRiM=  \n...                                             ...          ...  \n19967  4gSNTcSKHtKW1k9te824egho2RixU5Gc+LRDNYyMDx4=     qh4YKRQ=  \n19968  gOO6OEoRpCe9TiQ4+1fX1qXIzavOQ0Ccvl1JHS/Pseg=     s+EMJTA=  \n19969  r5nZct0C8mWL6KM0DE4pM8fO/0nmUYAtya8ref2efg8=     axcde7k=  \n19970  5eVmZbWYJXVwZkBkvpxlhA3/bKMLRReav9CgRP4NRbU=     nJbmm88=  \n19971  ZEgQH9qZIPiLgyBHYw/dD1FJQNpdQyIAa+BFfKX5/jg=     7iy/umc=  \n\n[19972 rows x 19 columns]",
      "text/html": "<div>\n<style scoped>\n    .dataframe tbody tr th:only-of-type {\n        vertical-align: middle;\n    }\n\n    .dataframe tbody tr th {\n        vertical-align: top;\n    }\n\n    .dataframe thead th {\n        text-align: right;\n    }\n</style>\n<table border=\"1\" class=\"dataframe\">\n  <thead>\n    <tr style=\"text-align: right;\">\n      <th></th>\n      <th>BusinessEntityID</th>\n      <th>PersonType</th>\n      <th>NameStyle</th>\n      <th>Title</th>\n      <th>FirstName</th>\n      <th>MiddleName</th>\n      <th>LastName</th>\n      <th>Suffix</th>\n      <th>EmailPromotion</th>\n      <th>AdditionalContactInfo</th>\n      <th>Demographics</th>\n      <th>rowguid</th>\n      <th>ModifiedDate</th>\n      <th>PhoneNumber</th>\n      <th>PhoneNumberTypeID</th>\n      <th>EmailAddressID</th>\n      <th>EmailAddress</th>\n      <th>PasswordHash</th>\n      <th>PasswordSalt</th>\n    </tr>\n  </thead>\n  <tbody>\n    <tr>\n      <th>0</th>\n      <td>1</td>\n      <td>EM</td>\n      <td>False</td>\n      <td>None</td>\n      <td>Ken</td>\n      <td>J</td>\n      <td>Sánchez</td>\n      <td>None</td>\n      <td>0</td>\n      <td>None</td>\n      <td>&lt;IndividualSurvey xmlns=\"http://schemas.micros...</td>\n      <td>92C4279F-1207-48A3-8448-4636514EB7E2</td>\n      <td>2009-01-07</td>\n      <td>697-555-0142</td>\n      <td>1</td>\n      <td>1</td>\n      <td>ken0@adventure-works.com</td>\n      <td>pbFwXWE99vobT6g+vPWFy93NtUU/orrIWafF01hccfM=</td>\n      <td>bE3XiWw=</td>\n    </tr>\n    <tr>\n      <th>1</th>\n      <td>2</td>\n      <td>EM</td>\n      <td>False</td>\n      <td>None</td>\n      <td>Terri</td>\n      <td>Lee</td>\n      <td>Duffy</td>\n      <td>None</td>\n      <td>1</td>\n      <td>None</td>\n      <td>&lt;IndividualSurvey xmlns=\"http://schemas.micros...</td>\n      <td>D8763459-8AA8-47CC-AFF7-C9079AF79033</td>\n      <td>2008-01-24</td>\n      <td>819-555-0175</td>\n      <td>3</td>\n      <td>2</td>\n      <td>terri0@adventure-works.com</td>\n      <td>bawRVNrZQYQ05qF05Gz6VLilnviZmrqBReTTAGAudm0=</td>\n      <td>EjJaC3U=</td>\n    </tr>\n    <tr>\n      <th>2</th>\n      <td>3</td>\n      <td>EM</td>\n      <td>False</td>\n      <td>None</td>\n      <td>Roberto</td>\n      <td>None</td>\n      <td>Tamburello</td>\n      <td>None</td>\n      <td>0</td>\n      <td>None</td>\n      <td>&lt;IndividualSurvey xmlns=\"http://schemas.micros...</td>\n      <td>E1A2555E-0828-434B-A33B-6F38136A37DE</td>\n      <td>2007-11-04</td>\n      <td>212-555-0187</td>\n      <td>1</td>\n      <td>3</td>\n      <td>roberto0@adventure-works.com</td>\n      <td>8BUXrZfDqO1IyHCWOYzYmqN1IhTUn3CJMpdx/UCQ3iY=</td>\n      <td>wbPZqMw=</td>\n    </tr>\n    <tr>\n      <th>3</th>\n      <td>4</td>\n      <td>EM</td>\n      <td>False</td>\n      <td>None</td>\n      <td>Rob</td>\n      <td>None</td>\n      <td>Walters</td>\n      <td>None</td>\n      <td>0</td>\n      <td>None</td>\n      <td>&lt;IndividualSurvey xmlns=\"http://schemas.micros...</td>\n      <td>F2D7CE06-38B3-4357-805B-F4B6B71C01FF</td>\n      <td>2007-11-28</td>\n      <td>612-555-0100</td>\n      <td>1</td>\n      <td>4</td>\n      <td>rob0@adventure-works.com</td>\n      <td>SjLXpiarHSlz+6AG+H+4QpB/IPRzras/+9q/5Wr7tf8=</td>\n      <td>PwSunQU=</td>\n    </tr>\n    <tr>\n      <th>4</th>\n      <td>5</td>\n      <td>EM</td>\n      <td>False</td>\n      <td>Ms.</td>\n      <td>Gail</td>\n      <td>A</td>\n      <td>Erickson</td>\n      <td>None</td>\n      <td>0</td>\n      <td>None</td>\n      <td>&lt;IndividualSurvey xmlns=\"http://schemas.micros...</td>\n      <td>F3A3F6B4-AE3B-430C-A754-9F2231BA6FEF</td>\n      <td>2007-12-30</td>\n      <td>849-555-0139</td>\n      <td>1</td>\n      <td>5</td>\n      <td>gail0@adventure-works.com</td>\n      <td>8FYdAiY6gWuBsgjCFdg0UibtsqOcWHf9TyaHIP7+paA=</td>\n      <td>qYhZRiM=</td>\n    </tr>\n    <tr>\n      <th>...</th>\n      <td>...</td>\n      <td>...</td>\n      <td>...</td>\n      <td>...</td>\n      <td>...</td>\n      <td>...</td>\n      <td>...</td>\n      <td>...</td>\n      <td>...</td>\n      <td>...</td>\n      <td>...</td>\n      <td>...</td>\n      <td>...</td>\n      <td>...</td>\n      <td>...</td>\n      <td>...</td>\n      <td>...</td>\n      <td>...</td>\n      <td>...</td>\n    </tr>\n    <tr>\n      <th>19967</th>\n      <td>20773</td>\n      <td>IN</td>\n      <td>False</td>\n      <td>None</td>\n      <td>Crystal</td>\n      <td>None</td>\n      <td>Guo</td>\n      <td>None</td>\n      <td>0</td>\n      <td>None</td>\n      <td>&lt;IndividualSurvey xmlns=\"http://schemas.micros...</td>\n      <td>D0A499A2-C258-43E9-AB06-F61543A71134</td>\n      <td>2014-03-19</td>\n      <td>1 (11) 500 555-0171</td>\n      <td>1</td>\n      <td>19968</td>\n      <td>crystal18@adventure-works.com</td>\n      <td>4gSNTcSKHtKW1k9te824egho2RixU5Gc+LRDNYyMDx4=</td>\n      <td>qh4YKRQ=</td>\n    </tr>\n    <tr>\n      <th>19968</th>\n      <td>20774</td>\n      <td>IN</td>\n      <td>False</td>\n      <td>None</td>\n      <td>Isabella</td>\n      <td>F</td>\n      <td>Richardson</td>\n      <td>None</td>\n      <td>2</td>\n      <td>None</td>\n      <td>&lt;IndividualSurvey xmlns=\"http://schemas.micros...</td>\n      <td>A4F7F248-82F3-43D5-B5A3-8BD1CB610254</td>\n      <td>2013-07-29</td>\n      <td>910-555-0166</td>\n      <td>1</td>\n      <td>19969</td>\n      <td>isabella91@adventure-works.com</td>\n      <td>gOO6OEoRpCe9TiQ4+1fX1qXIzavOQ0Ccvl1JHS/Pseg=</td>\n      <td>s+EMJTA=</td>\n    </tr>\n    <tr>\n      <th>19969</th>\n      <td>20775</td>\n      <td>IN</td>\n      <td>False</td>\n      <td>None</td>\n      <td>Crystal</td>\n      <td>S</td>\n      <td>He</td>\n      <td>None</td>\n      <td>0</td>\n      <td>None</td>\n      <td>&lt;IndividualSurvey xmlns=\"http://schemas.micros...</td>\n      <td>CD0B82D0-3409-4497-A65F-A68E75EE26CB</td>\n      <td>2014-03-12</td>\n      <td>813-555-0148</td>\n      <td>2</td>\n      <td>19970</td>\n      <td>crystal19@adventure-works.com</td>\n      <td>r5nZct0C8mWL6KM0DE4pM8fO/0nmUYAtya8ref2efg8=</td>\n      <td>axcde7k=</td>\n    </tr>\n    <tr>\n      <th>19970</th>\n      <td>20776</td>\n      <td>IN</td>\n      <td>False</td>\n      <td>None</td>\n      <td>Crystal</td>\n      <td>None</td>\n      <td>Zheng</td>\n      <td>None</td>\n      <td>1</td>\n      <td>None</td>\n      <td>&lt;IndividualSurvey xmlns=\"http://schemas.micros...</td>\n      <td>386E35E8-97B3-43E4-9B5F-9594C2FF5CEA</td>\n      <td>2014-01-14</td>\n      <td>1 (11) 500 555-0171</td>\n      <td>2</td>\n      <td>19971</td>\n      <td>crystal20@adventure-works.com</td>\n      <td>5eVmZbWYJXVwZkBkvpxlhA3/bKMLRReav9CgRP4NRbU=</td>\n      <td>nJbmm88=</td>\n    </tr>\n    <tr>\n      <th>19971</th>\n      <td>20777</td>\n      <td>IN</td>\n      <td>False</td>\n      <td>None</td>\n      <td>Crystal</td>\n      <td>None</td>\n      <td>Hu</td>\n      <td>None</td>\n      <td>0</td>\n      <td>None</td>\n      <td>&lt;IndividualSurvey xmlns=\"http://schemas.micros...</td>\n      <td>1773C8F3-2CC7-4826-A7F5-30D3F36543CD</td>\n      <td>2013-10-16</td>\n      <td>1 (11) 500 555-0126</td>\n      <td>2</td>\n      <td>19972</td>\n      <td>crystal21@adventure-works.com</td>\n      <td>ZEgQH9qZIPiLgyBHYw/dD1FJQNpdQyIAa+BFfKX5/jg=</td>\n      <td>7iy/umc=</td>\n    </tr>\n  </tbody>\n</table>\n<p>19972 rows × 19 columns</p>\n</div>"
     },
     "execution_count": 27,
     "metadata": {},
     "output_type": "execute_result"
    }
   ],
   "source": [
    "#person_df\n",
    "# Establish connection to the source SQL Server database and read data\n",
    "\n",
    "import warnings\n",
    "import pandas as pd\n",
    "import pyodbc\n",
    "warnings.simplefilter('ignore')\n",
    "\n",
    "# Connection details for the source SQL Server database\n",
    "source_db = {\n",
    "    'servername': r'DESKTOP-R9U7MMK\\SQLEXPRESS',\n",
    "    'database': 'AdventureWorks2019'\n",
    "}\n",
    "\n",
    "# Connection details for the destination SQL Server database\n",
    "destination_db = {\n",
    "    'servername': r'DESKTOP-R9U7MMK\\SQLEXPRESS',\n",
    "    'database': 'PR4'\n",
    "}\n",
    "\n",
    "# Connection string for the source SQL Server database\n",
    "source_conn_str = (\n",
    "    'Driver={SQL Server};'\n",
    "    'SERVER=' + source_db['servername'] + ';'\n",
    "    'DATABASE=' + source_db['database'] + ';'\n",
    "    'Trusted_Connection=yes;'\n",
    ")\n",
    "\n",
    "# Connection string for the destination SQL Server database\n",
    "destination_conn_str = (\n",
    "    'Driver={SQL Server};'\n",
    "    'SERVER=' + destination_db['servername'] + ';'\n",
    "    'DATABASE=' + destination_db['database'] + ';'\n",
    "    'Trusted_Connection=yes;'\n",
    ")\n",
    "try:\n",
    "    with pyodbc.connect(source_conn_str) as source_conn:\n",
    "        person_df = pd.read_sql_query(\"SELECT * FROM Person.person\", source_conn)\n",
    "        personPhone_df = pd.read_sql_query(\"SELECT PhoneNumber, PhoneNumberTypeID, BusinessEntityID FROM Person.PersonPhone\", source_conn)\n",
    "        personEmailAdress_df = pd.read_sql_query(\"SELECT EmailAddressID, EmailAddress, BusinessEntityID FROM Person.EmailAddress\", source_conn)\n",
    "        personPassword_df = pd.read_sql_query(\"SELECT PasswordHash, PasswordSalt, BusinessEntityID FROM Person.Password\", source_conn)\n",
    "\n",
    "        # Merging DataFrames\n",
    "        merged_df = pd.merge(person_df, personPhone_df, on='BusinessEntityID', how='left')\n",
    "        merged_df = pd.merge(merged_df, personEmailAdress_df, on='BusinessEntityID', how='left')\n",
    "        merged_df = pd.merge(merged_df, personPassword_df, on='BusinessEntityID', how='left')\n",
    "\n",
    "except pyodbc.Error as e:\n",
    "    print(\"Error while connecting to the source SQL Server:\", e)\n",
    "\n",
    "# Establish connection to the destination SQL Server database and insert data\n",
    "# try:\n",
    "#     with pyodbc.connect(destination_conn_str) as destination_conn:\n",
    "#         cursor = destination_conn.cursor()\n",
    "#         \n",
    "#         # Batch insert\n",
    "#         insert_query = \"\"\"\n",
    "#         INSERT INTO [PR4].[dbo].[INVENTORY_SALES_LEVELS]\n",
    "#         (INVENTORY_YEAR, INVENTORY_MONTH, PRODUCT_NUMBER, INVENTORY_COUNT, MARGIN, LANGUAGE, DESCRIPTION)\n",
    "#         VALUES (?, ?, ?, ?, ?, ?, ?)\n",
    "#         \"\"\"\n",
    "#         \n",
    "#         # Convert DataFrame to a list of tuples for batch insertion\n",
    "#         data_to_insert = merged_df[['INVENTORY_YEAR', 'INVENTORY_MONTH', 'PRODUCT_NUMBER', 'INVENTORY_COUNT', 'MARGIN', 'LANGUAGE', 'DESCRIPTION']].values.tolist()\n",
    "#         \n",
    "#         # Executing batch insert\n",
    "#         cursor.executemany(insert_query, data_to_insert)\n",
    "#         \n",
    "#         # Commit transaction\n",
    "#         destination_conn.commit()\n",
    "#         \n",
    "#         print(\"Data inserted svsvvsuccessfully.\")\n",
    "# except pyodbc.Error as e:\n",
    "#     print(\"Error while connecting to the destination SQL Server or inserting data:\", e)\n",
    "merged_df"
   ],
   "metadata": {
    "collapsed": false,
    "ExecuteTime": {
     "end_time": "2024-05-24T08:53:49.639603Z",
     "start_time": "2024-05-24T08:53:48.139879Z"
    }
   },
   "id": "16161aec8932be11",
   "execution_count": 27
  },
  {
   "cell_type": "code",
   "outputs": [
    {
     "data": {
      "text/plain": "       BusinessEntityID\n0                  4577\n1                 14491\n2                 14881\n3                 11383\n4                  9663\n...                 ...\n20772              3788\n20773             12987\n20774             12759\n20775                58\n20776             20729\n\n[20777 rows x 1 columns]",
      "text/html": "<div>\n<style scoped>\n    .dataframe tbody tr th:only-of-type {\n        vertical-align: middle;\n    }\n\n    .dataframe tbody tr th {\n        vertical-align: top;\n    }\n\n    .dataframe thead th {\n        text-align: right;\n    }\n</style>\n<table border=\"1\" class=\"dataframe\">\n  <thead>\n    <tr style=\"text-align: right;\">\n      <th></th>\n      <th>BusinessEntityID</th>\n    </tr>\n  </thead>\n  <tbody>\n    <tr>\n      <th>0</th>\n      <td>4577</td>\n    </tr>\n    <tr>\n      <th>1</th>\n      <td>14491</td>\n    </tr>\n    <tr>\n      <th>2</th>\n      <td>14881</td>\n    </tr>\n    <tr>\n      <th>3</th>\n      <td>11383</td>\n    </tr>\n    <tr>\n      <th>4</th>\n      <td>9663</td>\n    </tr>\n    <tr>\n      <th>...</th>\n      <td>...</td>\n    </tr>\n    <tr>\n      <th>20772</th>\n      <td>3788</td>\n    </tr>\n    <tr>\n      <th>20773</th>\n      <td>12987</td>\n    </tr>\n    <tr>\n      <th>20774</th>\n      <td>12759</td>\n    </tr>\n    <tr>\n      <th>20775</th>\n      <td>58</td>\n    </tr>\n    <tr>\n      <th>20776</th>\n      <td>20729</td>\n    </tr>\n  </tbody>\n</table>\n<p>20777 rows × 1 columns</p>\n</div>"
     },
     "execution_count": 16,
     "metadata": {},
     "output_type": "execute_result"
    }
   ],
   "source": [
    "#businessEntity_df\n",
    "# Establish connection to the source SQL Server database and read datangffgngfvng\n",
    "try:\n",
    "    with pyodbc.connect(source_conn_str) as source_conn:\n",
    "        businessEntity_df = pd.read_sql_query(\"SELECT BusinessEntityID FROM Person.BusinessEntity\", source_conn)\n",
    "\n",
    "except pyodbc.Error as e:\n",
    "    print(\"Error while connecting to the source SQL Server:\", e)\n",
    "\n",
    "# Establish connection to the destination SQL Server database and insert data\n",
    "# try:\n",
    "#     with pyodbc.connect(destination_conn_str) as destination_conn:\n",
    "#         cursor = destination_conn.cursor()\n",
    "#         \n",
    "#         # Batch insert\n",
    "#         insert_query = \"\"\"\n",
    "#         INSERT INTO [PR4].[dbo].[INVENTORY_SALES_LEVELS]\n",
    "#         (INVENTORY_YEAR, INVENTORY_MONTH, PRODUCT_NUMBER, INVENTORY_COUNT, MARGIN, LANGUAGE, DESCRIPTION)\n",
    "#         VALUES (?, ?, ?, ?, ?, ?, ?)\n",
    "#         \"\"\"\n",
    "#         \n",
    "#         # Convert DataFrame to a list of tuples for batch insertion\n",
    "#         data_to_insert = merged_df[['INVENTORY_YEAR', 'INVENTORY_MONTH', 'PRODUCT_NUMBER', 'INVENTORY_COUNT', 'MARGIN', 'LANGUAGE', 'DESCRIPTION']].values.tolist()\n",
    "#         \n",
    "#         # Executing batch insert\n",
    "#         cursor.executemany(insert_query, data_to_insert)\n",
    "#         \n",
    "#         # Commit transaction\n",
    "#         destination_conn.commit()\n",
    "#         \n",
    "#         print(\"Data inserted successfully.\")\n",
    "# except pyodbc.Error as e:\n",
    "#     print(\"Error while connecting to the destination SQL Server or inserting data:\", e)\n",
    "businessEntity_df"
   ],
   "metadata": {
    "collapsed": false,
    "ExecuteTime": {
     "end_time": "2024-05-24T08:26:29.358406Z",
     "start_time": "2024-05-24T08:26:29.298126Z"
    }
   },
   "id": "d8896a0b7a38cc29",
   "execution_count": 16
  },
  {
   "cell_type": "code",
   "outputs": [
    {
     "data": {
      "text/plain": "       AddressID  AddressTypeID  BusinessEntityID      Name\n0            249              2                 1      Home\n1            293              2                 2      Home\n2            224              2                 3      Home\n3          11387              2                 4      Home\n4            190              2                 5      Home\n...          ...            ...               ...       ...\n19609        206              5             20099  Shipping\n19610        217              5             20305  Shipping\n19611        222              5             20419  Shipping\n19612        255              5             20550  Shipping\n19613        290              5             20759  Shipping\n\n[19614 rows x 4 columns]",
      "text/html": "<div>\n<style scoped>\n    .dataframe tbody tr th:only-of-type {\n        vertical-align: middle;\n    }\n\n    .dataframe tbody tr th {\n        vertical-align: top;\n    }\n\n    .dataframe thead th {\n        text-align: right;\n    }\n</style>\n<table border=\"1\" class=\"dataframe\">\n  <thead>\n    <tr style=\"text-align: right;\">\n      <th></th>\n      <th>AddressID</th>\n      <th>AddressTypeID</th>\n      <th>BusinessEntityID</th>\n      <th>Name</th>\n    </tr>\n  </thead>\n  <tbody>\n    <tr>\n      <th>0</th>\n      <td>249</td>\n      <td>2</td>\n      <td>1</td>\n      <td>Home</td>\n    </tr>\n    <tr>\n      <th>1</th>\n      <td>293</td>\n      <td>2</td>\n      <td>2</td>\n      <td>Home</td>\n    </tr>\n    <tr>\n      <th>2</th>\n      <td>224</td>\n      <td>2</td>\n      <td>3</td>\n      <td>Home</td>\n    </tr>\n    <tr>\n      <th>3</th>\n      <td>11387</td>\n      <td>2</td>\n      <td>4</td>\n      <td>Home</td>\n    </tr>\n    <tr>\n      <th>4</th>\n      <td>190</td>\n      <td>2</td>\n      <td>5</td>\n      <td>Home</td>\n    </tr>\n    <tr>\n      <th>...</th>\n      <td>...</td>\n      <td>...</td>\n      <td>...</td>\n      <td>...</td>\n    </tr>\n    <tr>\n      <th>19609</th>\n      <td>206</td>\n      <td>5</td>\n      <td>20099</td>\n      <td>Shipping</td>\n    </tr>\n    <tr>\n      <th>19610</th>\n      <td>217</td>\n      <td>5</td>\n      <td>20305</td>\n      <td>Shipping</td>\n    </tr>\n    <tr>\n      <th>19611</th>\n      <td>222</td>\n      <td>5</td>\n      <td>20419</td>\n      <td>Shipping</td>\n    </tr>\n    <tr>\n      <th>19612</th>\n      <td>255</td>\n      <td>5</td>\n      <td>20550</td>\n      <td>Shipping</td>\n    </tr>\n    <tr>\n      <th>19613</th>\n      <td>290</td>\n      <td>5</td>\n      <td>20759</td>\n      <td>Shipping</td>\n    </tr>\n  </tbody>\n</table>\n<p>19614 rows × 4 columns</p>\n</div>"
     },
     "execution_count": 23,
     "metadata": {},
     "output_type": "execute_result"
    }
   ],
   "source": [
    "#businessEntityAddress_df\n",
    "# Establish connection to the source SQL Server database and read data\n",
    "try:\n",
    "    with pyodbc.connect(source_conn_str) as source_conn:\n",
    "        businessEntityAddress_df = pd.read_sql_query(\"SELECT AddressID, AddressTypeID, BusinessEntityID FROM Person.BusinessEntityAddress\", source_conn)\n",
    "        addressType_df = pd.read_sql_query(\"SELECT AddressTypeID, Name FROM Person.AddressType\", source_conn)\n",
    "                                           \n",
    "        # Merging DataFrames\n",
    "        businessEntityAddress_df = pd.merge(businessEntityAddress_df, addressType_df, on='AddressTypeID', how='left')\n",
    "except pyodbc.Error as e:\n",
    "    print(\"Error while connecting to the source SQL Server:\", e)\n",
    "\n",
    "# Establish connection to the destination SQL Server database and insert data\n",
    "# try:\n",
    "#     with pyodbc.connect(destination_conn_str) as destination_conn:\n",
    "#         cursor = destination_conn.cursor()\n",
    "#         \n",
    "#         # Batch insert\n",
    "#         insert_query = \"\"\"\n",
    "#         INSERT INTO [PR4].[dbo].[INVENTORY_SALES_LEVELS]\n",
    "#         (INVENTORY_YEAR, INVENTORY_MONTH, PRODUCT_NUMBER, INVENTORY_COUNT, MARGIN, LANGUAGE, DESCRIPTION)\n",
    "#         VALUES (?, ?, ?, ?, ?, ?, ?)\n",
    "#         \"\"\"\n",
    "#         \n",
    "#         # Convert DataFrame to a list of tuples for batch insertion\n",
    "#         data_to_insert = merged_df[['INVENTORY_YEAR', 'INVENTORY_MONTH', 'PRODUCT_NUMBER', 'INVENTORY_COUNT', 'MARGIN', 'LANGUAGE', 'DESCRIPTION']].values.tolist()\n",
    "#         \n",
    "#         # Executing batch insert\n",
    "#         cursor.executemany(insert_query, data_to_insert)\n",
    "#         \n",
    "#         # Commit transaction\n",
    "#         destination_conn.commit()\n",
    "#         \n",
    "#         print(\"Data inserted successfully.\")\n",
    "# except pyodbc.Error as e:\n",
    "#     print(\"Error while connecting to the destination SQL Server or inserting data:\", e)\n",
    "businessEntityAddress_df"
   ],
   "metadata": {
    "collapsed": false,
    "ExecuteTime": {
     "end_time": "2024-05-24T08:41:11.473816Z",
     "start_time": "2024-05-24T08:41:11.269516Z"
    }
   },
   "id": "989a58665da738c6",
   "execution_count": 23
  },
  {
   "cell_type": "code",
   "outputs": [
    {
     "data": {
      "text/plain": "       AddressID           AddressLine1 AddressLine2       City  \\\n0              1          1970 Napa Ct.         None    Bothell   \n1              2     9833 Mt. Dias Blv.         None    Bothell   \n2              3   7484 Roundtree Drive         None    Bothell   \n3              4       9539 Glenside Dr         None    Bothell   \n4              5          1226 Shoe St.         None    Bothell   \n...          ...                    ...          ...        ...   \n19609      32517           177 11th Ave         None  Sammamish   \n19610      32518           8040 Hill Ct         None    Redmond   \n19611      32519           137 Mazatlan         None    Seattle   \n19612      32520            5863 Sierra         None   Bellevue   \n19613      32521  7145 Matchstick Drive         None  Sammamish   \n\n       StateProvinceID PostalCode  \\\n0                   79      98011   \n1                   79      98011   \n2                   79      98011   \n3                   79      98011   \n4                   79      98011   \n...                ...        ...   \n19609               79      98074   \n19610               79      98052   \n19611               79      98104   \n19612               79      98004   \n19613               79      98074   \n\n                                         SpatialLocation  \n0      b'\\xe6\\x10\\x00\\x00\\x01\\x0c\\xae\\x8b\\xfc(\\xbc\\xe...  \n1      b'\\xe6\\x10\\x00\\x00\\x01\\x0c\\xd6\\xfa\\x85\\x1a\\xe6...  \n2      b'\\xe6\\x10\\x00\\x00\\x01\\x0c\\x18\\xe3\\x04\\xc4\\xad...  \n3      b'\\xe6\\x10\\x00\\x00\\x01\\x0c\\x81:\\r_\\x9f\\xdeG@\\x...  \n4      b'\\xe6\\x10\\x00\\x00\\x01\\x0ca\\xc6M\\x8a\\xbb\\xd9G@...  \n...                                                  ...  \n19609  b'\\xe6\\x10\\x00\\x00\\x01\\x0c\\xbf\\xdc\\xce8m\\xd6G@...  \n19610  b'\\xe6\\x10\\x00\\x00\\x01\\x0cnU\\xa1\\x19H\\xd4G@r1\\...  \n19611  b'\\xe6\\x10\\x00\\x00\\x01\\x0c\\x12/\\x1f\\xe5\\x87\\xc...  \n19612  b'\\xe6\\x10\\x00\\x00\\x01\\x0c\\xf7W\\x1d{\\xf0\\xccG@...  \n19613  b'\\xe6\\x10\\x00\\x00\\x01\\x0c\\xeeD\\xc4\\x96;\\xcaG@...  \n\n[19614 rows x 7 columns]",
      "text/html": "<div>\n<style scoped>\n    .dataframe tbody tr th:only-of-type {\n        vertical-align: middle;\n    }\n\n    .dataframe tbody tr th {\n        vertical-align: top;\n    }\n\n    .dataframe thead th {\n        text-align: right;\n    }\n</style>\n<table border=\"1\" class=\"dataframe\">\n  <thead>\n    <tr style=\"text-align: right;\">\n      <th></th>\n      <th>AddressID</th>\n      <th>AddressLine1</th>\n      <th>AddressLine2</th>\n      <th>City</th>\n      <th>StateProvinceID</th>\n      <th>PostalCode</th>\n      <th>SpatialLocation</th>\n    </tr>\n  </thead>\n  <tbody>\n    <tr>\n      <th>0</th>\n      <td>1</td>\n      <td>1970 Napa Ct.</td>\n      <td>None</td>\n      <td>Bothell</td>\n      <td>79</td>\n      <td>98011</td>\n      <td>b'\\xe6\\x10\\x00\\x00\\x01\\x0c\\xae\\x8b\\xfc(\\xbc\\xe...</td>\n    </tr>\n    <tr>\n      <th>1</th>\n      <td>2</td>\n      <td>9833 Mt. Dias Blv.</td>\n      <td>None</td>\n      <td>Bothell</td>\n      <td>79</td>\n      <td>98011</td>\n      <td>b'\\xe6\\x10\\x00\\x00\\x01\\x0c\\xd6\\xfa\\x85\\x1a\\xe6...</td>\n    </tr>\n    <tr>\n      <th>2</th>\n      <td>3</td>\n      <td>7484 Roundtree Drive</td>\n      <td>None</td>\n      <td>Bothell</td>\n      <td>79</td>\n      <td>98011</td>\n      <td>b'\\xe6\\x10\\x00\\x00\\x01\\x0c\\x18\\xe3\\x04\\xc4\\xad...</td>\n    </tr>\n    <tr>\n      <th>3</th>\n      <td>4</td>\n      <td>9539 Glenside Dr</td>\n      <td>None</td>\n      <td>Bothell</td>\n      <td>79</td>\n      <td>98011</td>\n      <td>b'\\xe6\\x10\\x00\\x00\\x01\\x0c\\x81:\\r_\\x9f\\xdeG@\\x...</td>\n    </tr>\n    <tr>\n      <th>4</th>\n      <td>5</td>\n      <td>1226 Shoe St.</td>\n      <td>None</td>\n      <td>Bothell</td>\n      <td>79</td>\n      <td>98011</td>\n      <td>b'\\xe6\\x10\\x00\\x00\\x01\\x0ca\\xc6M\\x8a\\xbb\\xd9G@...</td>\n    </tr>\n    <tr>\n      <th>...</th>\n      <td>...</td>\n      <td>...</td>\n      <td>...</td>\n      <td>...</td>\n      <td>...</td>\n      <td>...</td>\n      <td>...</td>\n    </tr>\n    <tr>\n      <th>19609</th>\n      <td>32517</td>\n      <td>177 11th Ave</td>\n      <td>None</td>\n      <td>Sammamish</td>\n      <td>79</td>\n      <td>98074</td>\n      <td>b'\\xe6\\x10\\x00\\x00\\x01\\x0c\\xbf\\xdc\\xce8m\\xd6G@...</td>\n    </tr>\n    <tr>\n      <th>19610</th>\n      <td>32518</td>\n      <td>8040 Hill Ct</td>\n      <td>None</td>\n      <td>Redmond</td>\n      <td>79</td>\n      <td>98052</td>\n      <td>b'\\xe6\\x10\\x00\\x00\\x01\\x0cnU\\xa1\\x19H\\xd4G@r1\\...</td>\n    </tr>\n    <tr>\n      <th>19611</th>\n      <td>32519</td>\n      <td>137 Mazatlan</td>\n      <td>None</td>\n      <td>Seattle</td>\n      <td>79</td>\n      <td>98104</td>\n      <td>b'\\xe6\\x10\\x00\\x00\\x01\\x0c\\x12/\\x1f\\xe5\\x87\\xc...</td>\n    </tr>\n    <tr>\n      <th>19612</th>\n      <td>32520</td>\n      <td>5863 Sierra</td>\n      <td>None</td>\n      <td>Bellevue</td>\n      <td>79</td>\n      <td>98004</td>\n      <td>b'\\xe6\\x10\\x00\\x00\\x01\\x0c\\xf7W\\x1d{\\xf0\\xccG@...</td>\n    </tr>\n    <tr>\n      <th>19613</th>\n      <td>32521</td>\n      <td>7145 Matchstick Drive</td>\n      <td>None</td>\n      <td>Sammamish</td>\n      <td>79</td>\n      <td>98074</td>\n      <td>b'\\xe6\\x10\\x00\\x00\\x01\\x0c\\xeeD\\xc4\\x96;\\xcaG@...</td>\n    </tr>\n  </tbody>\n</table>\n<p>19614 rows × 7 columns</p>\n</div>"
     },
     "execution_count": 24,
     "metadata": {},
     "output_type": "execute_result"
    }
   ],
   "source": [
    "#person.Address_df\n",
    "# Establish connection to the source SQL Server database and read data\n",
    "try:\n",
    "    with pyodbc.connect(source_conn_str) as source_conn:\n",
    "        personAddress_df = pd.read_sql_query(\"SELECT AddressID, AddressLine1, AddressLine2, City, StateProvinceID, PostalCode, SpatialLocation FROM Person.Address\", source_conn)\n",
    "                                           \n",
    "except pyodbc.Error as e:\n",
    "    print(\"Error while connecting to the source SQL Server:\", e)\n",
    "\n",
    "# Establish connection to the destination SQL Server database and insert data\n",
    "# try:\n",
    "#     with pyodbc.connect(destination_conn_str) as destination_conn:\n",
    "#         cursor = destination_conn.cursor()\n",
    "#         \n",
    "#         # Batch insert\n",
    "#         insert_query = \"\"\"\n",
    "#         INSERT INTO [PR4].[dbo].[INVENTORY_SALES_LEVELS]\n",
    "#         (INVENTORY_YEAR, INVENTORY_MONTH, PRODUCT_NUMBER, INVENTORY_COUNT, MARGIN, LANGUAGE, DESCRIPTION)\n",
    "#         VALUES (?, ?, ?, ?, ?, ?, ?)\n",
    "#         \"\"\"\n",
    "#         \n",
    "#         # Convert DataFrame to a list of tuples for batch insertion\n",
    "#         data_to_insert = merged_df[['INVENTORY_YEAR', 'INVENTORY_MONTH', 'PRODUCT_NUMBER', 'INVENTORY_COUNT', 'MARGIN', 'LANGUAGE', 'DESCRIPTION']].values.tolist()\n",
    "#         \n",
    "#         # Executing batch insert\n",
    "#         cursor.executemany(insert_query, data_to_insert)\n",
    "#         \n",
    "#         # Commit transaction\n",
    "#         destination_conn.commit()\n",
    "#         \n",
    "#         print(\"Data inserted successfully.\")\n",
    "# except pyodbc.Error as e:\n",
    "#     print(\"Error while connecting to the destination SQL Server or inserting data:\", e)\n",
    "personAddress_df"
   ],
   "metadata": {
    "collapsed": false,
    "ExecuteTime": {
     "end_time": "2024-05-24T08:49:16.478294Z",
     "start_time": "2024-05-24T08:49:16.303484Z"
    }
   },
   "id": "5d9010f60301d52d",
   "execution_count": 24
  },
  {
   "cell_type": "code",
   "outputs": [
    {
     "data": {
      "text/plain": "       CreditCardID       CardType      CardNumber  ExpMonth  ExpYear  \\\n0                 1   SuperiorCard  33332664695310        11     2006   \n1                 2    Distinguish  55552127249722         8     2005   \n2                 3  ColonialVoice  77778344838353         7     2005   \n3                 4  ColonialVoice  77774915718248         7     2006   \n4                 5          Vista  11114404600042         4     2005   \n...             ...            ...             ...       ...      ...   \n19113         19233   SuperiorCard  33335458414079         1     2005   \n19114         19234          Vista  11114074915665         1     2007   \n19115         19235  ColonialVoice  77774511327745         1     2006   \n19116         19236          Vista  11112645284978        10     2008   \n19117         19237   SuperiorCard  33336254511031         5     2005   \n\n       BusinessEntityID  \n0                  4955  \n1                 13222  \n2                  7082  \n3                  9347  \n4                 11277  \n...                 ...  \n19113              5116  \n19114              2734  \n19115              6402  \n19116             12007  \n19117             14372  \n\n[19118 rows x 6 columns]",
      "text/html": "<div>\n<style scoped>\n    .dataframe tbody tr th:only-of-type {\n        vertical-align: middle;\n    }\n\n    .dataframe tbody tr th {\n        vertical-align: top;\n    }\n\n    .dataframe thead th {\n        text-align: right;\n    }\n</style>\n<table border=\"1\" class=\"dataframe\">\n  <thead>\n    <tr style=\"text-align: right;\">\n      <th></th>\n      <th>CreditCardID</th>\n      <th>CardType</th>\n      <th>CardNumber</th>\n      <th>ExpMonth</th>\n      <th>ExpYear</th>\n      <th>BusinessEntityID</th>\n    </tr>\n  </thead>\n  <tbody>\n    <tr>\n      <th>0</th>\n      <td>1</td>\n      <td>SuperiorCard</td>\n      <td>33332664695310</td>\n      <td>11</td>\n      <td>2006</td>\n      <td>4955</td>\n    </tr>\n    <tr>\n      <th>1</th>\n      <td>2</td>\n      <td>Distinguish</td>\n      <td>55552127249722</td>\n      <td>8</td>\n      <td>2005</td>\n      <td>13222</td>\n    </tr>\n    <tr>\n      <th>2</th>\n      <td>3</td>\n      <td>ColonialVoice</td>\n      <td>77778344838353</td>\n      <td>7</td>\n      <td>2005</td>\n      <td>7082</td>\n    </tr>\n    <tr>\n      <th>3</th>\n      <td>4</td>\n      <td>ColonialVoice</td>\n      <td>77774915718248</td>\n      <td>7</td>\n      <td>2006</td>\n      <td>9347</td>\n    </tr>\n    <tr>\n      <th>4</th>\n      <td>5</td>\n      <td>Vista</td>\n      <td>11114404600042</td>\n      <td>4</td>\n      <td>2005</td>\n      <td>11277</td>\n    </tr>\n    <tr>\n      <th>...</th>\n      <td>...</td>\n      <td>...</td>\n      <td>...</td>\n      <td>...</td>\n      <td>...</td>\n      <td>...</td>\n    </tr>\n    <tr>\n      <th>19113</th>\n      <td>19233</td>\n      <td>SuperiorCard</td>\n      <td>33335458414079</td>\n      <td>1</td>\n      <td>2005</td>\n      <td>5116</td>\n    </tr>\n    <tr>\n      <th>19114</th>\n      <td>19234</td>\n      <td>Vista</td>\n      <td>11114074915665</td>\n      <td>1</td>\n      <td>2007</td>\n      <td>2734</td>\n    </tr>\n    <tr>\n      <th>19115</th>\n      <td>19235</td>\n      <td>ColonialVoice</td>\n      <td>77774511327745</td>\n      <td>1</td>\n      <td>2006</td>\n      <td>6402</td>\n    </tr>\n    <tr>\n      <th>19116</th>\n      <td>19236</td>\n      <td>Vista</td>\n      <td>11112645284978</td>\n      <td>10</td>\n      <td>2008</td>\n      <td>12007</td>\n    </tr>\n    <tr>\n      <th>19117</th>\n      <td>19237</td>\n      <td>SuperiorCard</td>\n      <td>33336254511031</td>\n      <td>5</td>\n      <td>2005</td>\n      <td>14372</td>\n    </tr>\n  </tbody>\n</table>\n<p>19118 rows × 6 columns</p>\n</div>"
     },
     "execution_count": 33,
     "metadata": {},
     "output_type": "execute_result"
    }
   ],
   "source": [
    "#Sales.CreditCard\n",
    "# Establish connection to the source SQL Server database and read data\n",
    "try:\n",
    "    with pyodbc.connect(source_conn_str) as source_conn:\n",
    "        creditCard_df = pd.read_sql_query(\"SELECT CreditCardID, CardType, CardNumber, ExpMonth, ExpYear FROM Sales.CreditCard\", source_conn)\n",
    "        personCreditCard_df = pd.read_sql_query(\"SELECT CreditCardID, BusinessEntityID FROM Sales.PersonCreditCard\", source_conn)\n",
    "        \n",
    "        # Merging DataFrames\n",
    "        creditCard_df = pd.merge(creditCard_df, personCreditCard_df, on='CreditCardID', how='left')\n",
    "except pyodbc.Error as e:\n",
    "    print(\"Error while connecting to the source SQL Server:\", e)\n",
    "\n",
    "# Establish connection to the destination SQL Server database and insert data\n",
    "# try:\n",
    "#     with pyodbc.connect(destination_conn_str) as destination_conn:\n",
    "#         cursor = destination_conn.cursor()\n",
    "#         \n",
    "#         # Batch insert\n",
    "#         insert_query = \"\"\"\n",
    "#         INSERT INTO [PR4].[dbo].[INVENTORY_SALES_LEVELS]\n",
    "#         (INVENTORY_YEAR, INVENTORY_MONTH, PRODUCT_NUMBER, INVENTORY_COUNT, MARGIN, LANGUAGE, DESCRIPTION)\n",
    "#         VALUES (?, ?, ?, ?, ?, ?, ?)\n",
    "#         \"\"\"\n",
    "#         \n",
    "#         # Convert DataFrame to a list of tuples for batch insertion\n",
    "#         data_to_insert = merged_df[['INVENTORY_YEAR', 'INVENTORY_MONTH', 'PRODUCT_NUMBER', 'INVENTORY_COUNT', 'MARGIN', 'LANGUAGE', 'DESCRIPTION']].values.tolist()\n",
    "#         \n",
    "#         # Executing batch insert\n",
    "#         cursor.executemany(insert_query, data_to_insert)\n",
    "#         \n",
    "#         # Commit transaction\n",
    "#         destination_conn.commit()\n",
    "#         \n",
    "#         print(\"Data inserted successfully.\")\n",
    "# except pyodbc.Error as e:\n",
    "#     print(\"Error while connecting to the destination SQL Server or inserting data:\", e)\n",
    "creditCard_df"
   ],
   "metadata": {
    "collapsed": false,
    "ExecuteTime": {
     "end_time": "2024-05-24T09:12:21.912108Z",
     "start_time": "2024-05-24T09:12:21.740108Z"
    }
   },
   "id": "fad37f56e4051836",
   "execution_count": 33
  },
  {
   "cell_type": "code",
   "outputs": [
    {
     "data": {
      "text/plain": "    BusinessEntityID  TerritoryID  SalesQuota   Bonus  CommissionPct  \\\n0                274          NaN         NaN     0.0          0.000   \n1                275          2.0    300000.0  4100.0          0.012   \n2                276          4.0    250000.0  2000.0          0.015   \n3                277          3.0    250000.0  2500.0          0.015   \n4                278          6.0    250000.0   500.0          0.010   \n5                279          5.0    300000.0  6700.0          0.010   \n6                280          1.0    250000.0  5000.0          0.010   \n7                281          4.0    250000.0  3550.0          0.010   \n8                282          6.0    250000.0  5000.0          0.015   \n9                283          1.0    250000.0  3500.0          0.012   \n10               284          1.0    300000.0  3900.0          0.019   \n11               285          NaN         NaN     0.0          0.000   \n12               286          9.0    250000.0  5650.0          0.018   \n13               287          NaN         NaN     0.0          0.000   \n14               288          8.0    250000.0    75.0          0.018   \n15               289         10.0    250000.0  5150.0          0.020   \n16               290          7.0    250000.0   985.0          0.016   \n\n    SalesLastYear      SalesYTD  \n0    0.000000e+00  5.596976e+05  \n1    1.750406e+06  3.763178e+06  \n2    1.439156e+06  4.251369e+06  \n3    1.997186e+06  3.189418e+06  \n4    1.620277e+06  1.453719e+06  \n5    1.849641e+06  2.315186e+06  \n6    1.927059e+06  1.352577e+06  \n7    2.073506e+06  2.458536e+06  \n8    2.038235e+06  2.604541e+06  \n9    1.371635e+06  1.573013e+06  \n10   0.000000e+00  1.576562e+06  \n11   0.000000e+00  1.725245e+05  \n12   2.278549e+06  1.421811e+06  \n13   0.000000e+00  5.199059e+05  \n14   1.307950e+06  1.827067e+06  \n15   1.635823e+06  4.116871e+06  \n16   2.396540e+06  3.121616e+06  ",
      "text/html": "<div>\n<style scoped>\n    .dataframe tbody tr th:only-of-type {\n        vertical-align: middle;\n    }\n\n    .dataframe tbody tr th {\n        vertical-align: top;\n    }\n\n    .dataframe thead th {\n        text-align: right;\n    }\n</style>\n<table border=\"1\" class=\"dataframe\">\n  <thead>\n    <tr style=\"text-align: right;\">\n      <th></th>\n      <th>BusinessEntityID</th>\n      <th>TerritoryID</th>\n      <th>SalesQuota</th>\n      <th>Bonus</th>\n      <th>CommissionPct</th>\n      <th>SalesLastYear</th>\n      <th>SalesYTD</th>\n    </tr>\n  </thead>\n  <tbody>\n    <tr>\n      <th>0</th>\n      <td>274</td>\n      <td>NaN</td>\n      <td>NaN</td>\n      <td>0.0</td>\n      <td>0.000</td>\n      <td>0.000000e+00</td>\n      <td>5.596976e+05</td>\n    </tr>\n    <tr>\n      <th>1</th>\n      <td>275</td>\n      <td>2.0</td>\n      <td>300000.0</td>\n      <td>4100.0</td>\n      <td>0.012</td>\n      <td>1.750406e+06</td>\n      <td>3.763178e+06</td>\n    </tr>\n    <tr>\n      <th>2</th>\n      <td>276</td>\n      <td>4.0</td>\n      <td>250000.0</td>\n      <td>2000.0</td>\n      <td>0.015</td>\n      <td>1.439156e+06</td>\n      <td>4.251369e+06</td>\n    </tr>\n    <tr>\n      <th>3</th>\n      <td>277</td>\n      <td>3.0</td>\n      <td>250000.0</td>\n      <td>2500.0</td>\n      <td>0.015</td>\n      <td>1.997186e+06</td>\n      <td>3.189418e+06</td>\n    </tr>\n    <tr>\n      <th>4</th>\n      <td>278</td>\n      <td>6.0</td>\n      <td>250000.0</td>\n      <td>500.0</td>\n      <td>0.010</td>\n      <td>1.620277e+06</td>\n      <td>1.453719e+06</td>\n    </tr>\n    <tr>\n      <th>5</th>\n      <td>279</td>\n      <td>5.0</td>\n      <td>300000.0</td>\n      <td>6700.0</td>\n      <td>0.010</td>\n      <td>1.849641e+06</td>\n      <td>2.315186e+06</td>\n    </tr>\n    <tr>\n      <th>6</th>\n      <td>280</td>\n      <td>1.0</td>\n      <td>250000.0</td>\n      <td>5000.0</td>\n      <td>0.010</td>\n      <td>1.927059e+06</td>\n      <td>1.352577e+06</td>\n    </tr>\n    <tr>\n      <th>7</th>\n      <td>281</td>\n      <td>4.0</td>\n      <td>250000.0</td>\n      <td>3550.0</td>\n      <td>0.010</td>\n      <td>2.073506e+06</td>\n      <td>2.458536e+06</td>\n    </tr>\n    <tr>\n      <th>8</th>\n      <td>282</td>\n      <td>6.0</td>\n      <td>250000.0</td>\n      <td>5000.0</td>\n      <td>0.015</td>\n      <td>2.038235e+06</td>\n      <td>2.604541e+06</td>\n    </tr>\n    <tr>\n      <th>9</th>\n      <td>283</td>\n      <td>1.0</td>\n      <td>250000.0</td>\n      <td>3500.0</td>\n      <td>0.012</td>\n      <td>1.371635e+06</td>\n      <td>1.573013e+06</td>\n    </tr>\n    <tr>\n      <th>10</th>\n      <td>284</td>\n      <td>1.0</td>\n      <td>300000.0</td>\n      <td>3900.0</td>\n      <td>0.019</td>\n      <td>0.000000e+00</td>\n      <td>1.576562e+06</td>\n    </tr>\n    <tr>\n      <th>11</th>\n      <td>285</td>\n      <td>NaN</td>\n      <td>NaN</td>\n      <td>0.0</td>\n      <td>0.000</td>\n      <td>0.000000e+00</td>\n      <td>1.725245e+05</td>\n    </tr>\n    <tr>\n      <th>12</th>\n      <td>286</td>\n      <td>9.0</td>\n      <td>250000.0</td>\n      <td>5650.0</td>\n      <td>0.018</td>\n      <td>2.278549e+06</td>\n      <td>1.421811e+06</td>\n    </tr>\n    <tr>\n      <th>13</th>\n      <td>287</td>\n      <td>NaN</td>\n      <td>NaN</td>\n      <td>0.0</td>\n      <td>0.000</td>\n      <td>0.000000e+00</td>\n      <td>5.199059e+05</td>\n    </tr>\n    <tr>\n      <th>14</th>\n      <td>288</td>\n      <td>8.0</td>\n      <td>250000.0</td>\n      <td>75.0</td>\n      <td>0.018</td>\n      <td>1.307950e+06</td>\n      <td>1.827067e+06</td>\n    </tr>\n    <tr>\n      <th>15</th>\n      <td>289</td>\n      <td>10.0</td>\n      <td>250000.0</td>\n      <td>5150.0</td>\n      <td>0.020</td>\n      <td>1.635823e+06</td>\n      <td>4.116871e+06</td>\n    </tr>\n    <tr>\n      <th>16</th>\n      <td>290</td>\n      <td>7.0</td>\n      <td>250000.0</td>\n      <td>985.0</td>\n      <td>0.016</td>\n      <td>2.396540e+06</td>\n      <td>3.121616e+06</td>\n    </tr>\n  </tbody>\n</table>\n</div>"
     },
     "execution_count": 75,
     "metadata": {},
     "output_type": "execute_result"
    }
   ],
   "source": [
    "#Sales.SalesPerson\n",
    "# Establish connection to the source SQL Server database and read data\n",
    "try:\n",
    "    with pyodbc.connect(source_conn_str) as source_conn:\n",
    "        salesPerson_df = pd.read_sql_query(\"SELECT BusinessEntityID, TerritoryID, SalesQuota, Bonus, CommissionPct, SalesLastYear, SalesYTD FROM Sales.SalesPerson\", source_conn)\n",
    "\n",
    "except pyodbc.Error as e:\n",
    "    print(\"Error while connecting to the source SQL Server:\", e)\n",
    "\n",
    "salesPerson_df"
   ],
   "metadata": {
    "collapsed": false,
    "ExecuteTime": {
     "end_time": "2024-05-24T09:53:08.797557Z",
     "start_time": "2024-05-24T09:53:08.764065Z"
    }
   },
   "id": "441d1a18c8930dc4",
   "execution_count": 75
  },
  {
   "cell_type": "code",
   "outputs": [
    {
     "data": {
      "text/plain": "     BusinessEntityID                            Name  SalesPersonID\n0                 292            Next-Door Bike Store            279\n1                 294  Professional Sales and Service            276\n2                 296                  Riders Company            277\n3                 298              The Bike Mechanics            275\n4                 300               Nationwide Supply            286\n..                ...                             ...            ...\n696              1988                     Retreat Inn            282\n697              1990   Technical Parts Manufacturing            281\n698              1992         Totes & Baskets Company            277\n699              1994                  World of Bikes            277\n700              2051           A Bicycle Association            275\n\n[701 rows x 3 columns]",
      "text/html": "<div>\n<style scoped>\n    .dataframe tbody tr th:only-of-type {\n        vertical-align: middle;\n    }\n\n    .dataframe tbody tr th {\n        vertical-align: top;\n    }\n\n    .dataframe thead th {\n        text-align: right;\n    }\n</style>\n<table border=\"1\" class=\"dataframe\">\n  <thead>\n    <tr style=\"text-align: right;\">\n      <th></th>\n      <th>BusinessEntityID</th>\n      <th>Name</th>\n      <th>SalesPersonID</th>\n    </tr>\n  </thead>\n  <tbody>\n    <tr>\n      <th>0</th>\n      <td>292</td>\n      <td>Next-Door Bike Store</td>\n      <td>279</td>\n    </tr>\n    <tr>\n      <th>1</th>\n      <td>294</td>\n      <td>Professional Sales and Service</td>\n      <td>276</td>\n    </tr>\n    <tr>\n      <th>2</th>\n      <td>296</td>\n      <td>Riders Company</td>\n      <td>277</td>\n    </tr>\n    <tr>\n      <th>3</th>\n      <td>298</td>\n      <td>The Bike Mechanics</td>\n      <td>275</td>\n    </tr>\n    <tr>\n      <th>4</th>\n      <td>300</td>\n      <td>Nationwide Supply</td>\n      <td>286</td>\n    </tr>\n    <tr>\n      <th>...</th>\n      <td>...</td>\n      <td>...</td>\n      <td>...</td>\n    </tr>\n    <tr>\n      <th>696</th>\n      <td>1988</td>\n      <td>Retreat Inn</td>\n      <td>282</td>\n    </tr>\n    <tr>\n      <th>697</th>\n      <td>1990</td>\n      <td>Technical Parts Manufacturing</td>\n      <td>281</td>\n    </tr>\n    <tr>\n      <th>698</th>\n      <td>1992</td>\n      <td>Totes &amp; Baskets Company</td>\n      <td>277</td>\n    </tr>\n    <tr>\n      <th>699</th>\n      <td>1994</td>\n      <td>World of Bikes</td>\n      <td>277</td>\n    </tr>\n    <tr>\n      <th>700</th>\n      <td>2051</td>\n      <td>A Bicycle Association</td>\n      <td>275</td>\n    </tr>\n  </tbody>\n</table>\n<p>701 rows × 3 columns</p>\n</div>"
     },
     "execution_count": 82,
     "metadata": {},
     "output_type": "execute_result"
    }
   ],
   "source": [
    "#Sales.Store\n",
    "# Establish connection to the source SQL Server database and read data\n",
    "try:\n",
    "    with pyodbc.connect(source_conn_str) as source_conn:\n",
    "        salesStore_df = pd.read_sql_query(\"SELECT BusinessEntityID, Name, SalesPersonID FROM Sales.Store\", source_conn)\n",
    "\n",
    "except pyodbc.Error as e:\n",
    "    print(\"Error while connecting to the source SQL Server:\", e)\n",
    "\n",
    "salesStore_df"
   ],
   "metadata": {
    "collapsed": false,
    "ExecuteTime": {
     "end_time": "2024-05-24T10:03:52.528780Z",
     "start_time": "2024-05-24T10:03:52.485349Z"
    }
   },
   "id": "166ce2830c11ce9e",
   "execution_count": 82
  },
  {
   "cell_type": "code",
   "outputs": [
    {
     "data": {
      "text/plain": "     BusinessEntityID  QuotaDate  SalesQuota\n0                 274 2011-05-31     28000.0\n1                 274 2011-08-31      7000.0\n2                 274 2011-12-01     91000.0\n3                 274 2012-02-29    140000.0\n4                 274 2012-05-30     70000.0\n..                ...        ...         ...\n158               290 2013-02-28    404000.0\n159               290 2013-05-30   1262000.0\n160               290 2013-08-30   1057000.0\n161               290 2013-11-30    707000.0\n162               290 2014-03-01    908000.0\n\n[163 rows x 3 columns]",
      "text/html": "<div>\n<style scoped>\n    .dataframe tbody tr th:only-of-type {\n        vertical-align: middle;\n    }\n\n    .dataframe tbody tr th {\n        vertical-align: top;\n    }\n\n    .dataframe thead th {\n        text-align: right;\n    }\n</style>\n<table border=\"1\" class=\"dataframe\">\n  <thead>\n    <tr style=\"text-align: right;\">\n      <th></th>\n      <th>BusinessEntityID</th>\n      <th>QuotaDate</th>\n      <th>SalesQuota</th>\n    </tr>\n  </thead>\n  <tbody>\n    <tr>\n      <th>0</th>\n      <td>274</td>\n      <td>2011-05-31</td>\n      <td>28000.0</td>\n    </tr>\n    <tr>\n      <th>1</th>\n      <td>274</td>\n      <td>2011-08-31</td>\n      <td>7000.0</td>\n    </tr>\n    <tr>\n      <th>2</th>\n      <td>274</td>\n      <td>2011-12-01</td>\n      <td>91000.0</td>\n    </tr>\n    <tr>\n      <th>3</th>\n      <td>274</td>\n      <td>2012-02-29</td>\n      <td>140000.0</td>\n    </tr>\n    <tr>\n      <th>4</th>\n      <td>274</td>\n      <td>2012-05-30</td>\n      <td>70000.0</td>\n    </tr>\n    <tr>\n      <th>...</th>\n      <td>...</td>\n      <td>...</td>\n      <td>...</td>\n    </tr>\n    <tr>\n      <th>158</th>\n      <td>290</td>\n      <td>2013-02-28</td>\n      <td>404000.0</td>\n    </tr>\n    <tr>\n      <th>159</th>\n      <td>290</td>\n      <td>2013-05-30</td>\n      <td>1262000.0</td>\n    </tr>\n    <tr>\n      <th>160</th>\n      <td>290</td>\n      <td>2013-08-30</td>\n      <td>1057000.0</td>\n    </tr>\n    <tr>\n      <th>161</th>\n      <td>290</td>\n      <td>2013-11-30</td>\n      <td>707000.0</td>\n    </tr>\n    <tr>\n      <th>162</th>\n      <td>290</td>\n      <td>2014-03-01</td>\n      <td>908000.0</td>\n    </tr>\n  </tbody>\n</table>\n<p>163 rows × 3 columns</p>\n</div>"
     },
     "execution_count": 83,
     "metadata": {},
     "output_type": "execute_result"
    }
   ],
   "source": [
    "#Sales.SalesPersonQuotaHistory\n",
    "# Establish connection to the source SQL Server database and read data\n",
    "try:\n",
    "    with pyodbc.connect(source_conn_str) as source_conn:\n",
    "        salesPersonQuotaHistory_df = pd.read_sql_query(\"SELECT BusinessEntityID, QuotaDate, SalesQuota FROM Sales.SalesPersonQuotaHistory\", source_conn)\n",
    "\n",
    "except pyodbc.Error as e:\n",
    "    print(\"Error while connecting to the source SQL Server:\", e)\n",
    "\n",
    "salesPersonQuotaHistory_df"
   ],
   "metadata": {
    "collapsed": false,
    "ExecuteTime": {
     "end_time": "2024-05-24T10:05:12.308479Z",
     "start_time": "2024-05-24T10:05:12.270070Z"
    }
   },
   "id": "2abf05623641e147",
   "execution_count": 83
  },
  {
   "cell_type": "code",
   "outputs": [
    {
     "data": {
      "text/plain": "    BusinessEntityID  TerritoryID  StartDate    EndDate\n0                275            2 2011-05-31 2012-11-29\n1                275            3 2012-11-30        NaT\n2                276            4 2011-05-31        NaT\n3                277            3 2011-05-31 2012-11-29\n4                277            2 2012-11-30        NaT\n5                278            6 2011-05-31        NaT\n6                279            5 2011-05-31        NaT\n7                280            1 2011-05-31 2012-09-29\n8                281            4 2011-05-31        NaT\n9                282            6 2011-05-31 2012-05-29\n10               282           10 2012-05-30        NaT\n11               283            1 2011-05-31        NaT\n12               284            1 2012-09-30        NaT\n13               286            9 2013-05-30        NaT\n14               288            8 2013-05-30        NaT\n15               289            6 2012-05-30        NaT\n16               290            7 2012-05-30        NaT",
      "text/html": "<div>\n<style scoped>\n    .dataframe tbody tr th:only-of-type {\n        vertical-align: middle;\n    }\n\n    .dataframe tbody tr th {\n        vertical-align: top;\n    }\n\n    .dataframe thead th {\n        text-align: right;\n    }\n</style>\n<table border=\"1\" class=\"dataframe\">\n  <thead>\n    <tr style=\"text-align: right;\">\n      <th></th>\n      <th>BusinessEntityID</th>\n      <th>TerritoryID</th>\n      <th>StartDate</th>\n      <th>EndDate</th>\n    </tr>\n  </thead>\n  <tbody>\n    <tr>\n      <th>0</th>\n      <td>275</td>\n      <td>2</td>\n      <td>2011-05-31</td>\n      <td>2012-11-29</td>\n    </tr>\n    <tr>\n      <th>1</th>\n      <td>275</td>\n      <td>3</td>\n      <td>2012-11-30</td>\n      <td>NaT</td>\n    </tr>\n    <tr>\n      <th>2</th>\n      <td>276</td>\n      <td>4</td>\n      <td>2011-05-31</td>\n      <td>NaT</td>\n    </tr>\n    <tr>\n      <th>3</th>\n      <td>277</td>\n      <td>3</td>\n      <td>2011-05-31</td>\n      <td>2012-11-29</td>\n    </tr>\n    <tr>\n      <th>4</th>\n      <td>277</td>\n      <td>2</td>\n      <td>2012-11-30</td>\n      <td>NaT</td>\n    </tr>\n    <tr>\n      <th>5</th>\n      <td>278</td>\n      <td>6</td>\n      <td>2011-05-31</td>\n      <td>NaT</td>\n    </tr>\n    <tr>\n      <th>6</th>\n      <td>279</td>\n      <td>5</td>\n      <td>2011-05-31</td>\n      <td>NaT</td>\n    </tr>\n    <tr>\n      <th>7</th>\n      <td>280</td>\n      <td>1</td>\n      <td>2011-05-31</td>\n      <td>2012-09-29</td>\n    </tr>\n    <tr>\n      <th>8</th>\n      <td>281</td>\n      <td>4</td>\n      <td>2011-05-31</td>\n      <td>NaT</td>\n    </tr>\n    <tr>\n      <th>9</th>\n      <td>282</td>\n      <td>6</td>\n      <td>2011-05-31</td>\n      <td>2012-05-29</td>\n    </tr>\n    <tr>\n      <th>10</th>\n      <td>282</td>\n      <td>10</td>\n      <td>2012-05-30</td>\n      <td>NaT</td>\n    </tr>\n    <tr>\n      <th>11</th>\n      <td>283</td>\n      <td>1</td>\n      <td>2011-05-31</td>\n      <td>NaT</td>\n    </tr>\n    <tr>\n      <th>12</th>\n      <td>284</td>\n      <td>1</td>\n      <td>2012-09-30</td>\n      <td>NaT</td>\n    </tr>\n    <tr>\n      <th>13</th>\n      <td>286</td>\n      <td>9</td>\n      <td>2013-05-30</td>\n      <td>NaT</td>\n    </tr>\n    <tr>\n      <th>14</th>\n      <td>288</td>\n      <td>8</td>\n      <td>2013-05-30</td>\n      <td>NaT</td>\n    </tr>\n    <tr>\n      <th>15</th>\n      <td>289</td>\n      <td>6</td>\n      <td>2012-05-30</td>\n      <td>NaT</td>\n    </tr>\n    <tr>\n      <th>16</th>\n      <td>290</td>\n      <td>7</td>\n      <td>2012-05-30</td>\n      <td>NaT</td>\n    </tr>\n  </tbody>\n</table>\n</div>"
     },
     "execution_count": 85,
     "metadata": {},
     "output_type": "execute_result"
    }
   ],
   "source": [
    "#Sales.SalesTerritoryHistory\n",
    "# Establish connection to the source SQL Server database and read data\n",
    "try:\n",
    "    with pyodbc.connect(source_conn_str) as source_conn:\n",
    "        salesTerritoryHistory_df = pd.read_sql_query(\"SELECT BusinessEntityID, TerritoryID, StartDate, EndDate FROM Sales.salesTerritoryHistory\", source_conn)\n",
    "\n",
    "except pyodbc.Error as e:\n",
    "    print(\"Error while connecting to the source SQL Server:\", e)\n",
    "\n",
    "salesTerritoryHistory_df"
   ],
   "metadata": {
    "collapsed": false,
    "ExecuteTime": {
     "end_time": "2024-05-24T10:06:16.639328Z",
     "start_time": "2024-05-24T10:06:16.625369Z"
    }
   },
   "id": "92838288f2ed568d",
   "execution_count": 85
  },
  {
   "cell_type": "code",
   "outputs": [
    {
     "data": {
      "text/plain": "   TerritoryID            Name CountryRegionCode          Group      SalesYTD  \\\n0            1       Northwest                US  North America  7.887187e+06   \n1            2       Northeast                US  North America  2.402177e+06   \n2            3         Central                US  North America  3.072175e+06   \n3            4       Southwest                US  North America  1.051085e+07   \n4            5       Southeast                US  North America  2.538667e+06   \n5            6          Canada                CA  North America  6.771829e+06   \n6            7          France                FR         Europe  4.772398e+06   \n7            8         Germany                DE         Europe  3.805202e+06   \n8            9       Australia                AU        Pacific  5.977815e+06   \n9           10  United Kingdom                GB         Europe  5.012905e+06   \n\n   SalesLastYear  CostYTD  CostLastYear  \n0   3.298694e+06      0.0           0.0  \n1   3.607149e+06      0.0           0.0  \n2   3.205014e+06      0.0           0.0  \n3   5.366576e+06      0.0           0.0  \n4   3.925071e+06      0.0           0.0  \n5   5.693989e+06      0.0           0.0  \n6   2.396540e+06      0.0           0.0  \n7   1.307950e+06      0.0           0.0  \n8   2.278549e+06      0.0           0.0  \n9   1.635823e+06      0.0           0.0  ",
      "text/html": "<div>\n<style scoped>\n    .dataframe tbody tr th:only-of-type {\n        vertical-align: middle;\n    }\n\n    .dataframe tbody tr th {\n        vertical-align: top;\n    }\n\n    .dataframe thead th {\n        text-align: right;\n    }\n</style>\n<table border=\"1\" class=\"dataframe\">\n  <thead>\n    <tr style=\"text-align: right;\">\n      <th></th>\n      <th>TerritoryID</th>\n      <th>Name</th>\n      <th>CountryRegionCode</th>\n      <th>Group</th>\n      <th>SalesYTD</th>\n      <th>SalesLastYear</th>\n      <th>CostYTD</th>\n      <th>CostLastYear</th>\n    </tr>\n  </thead>\n  <tbody>\n    <tr>\n      <th>0</th>\n      <td>1</td>\n      <td>Northwest</td>\n      <td>US</td>\n      <td>North America</td>\n      <td>7.887187e+06</td>\n      <td>3.298694e+06</td>\n      <td>0.0</td>\n      <td>0.0</td>\n    </tr>\n    <tr>\n      <th>1</th>\n      <td>2</td>\n      <td>Northeast</td>\n      <td>US</td>\n      <td>North America</td>\n      <td>2.402177e+06</td>\n      <td>3.607149e+06</td>\n      <td>0.0</td>\n      <td>0.0</td>\n    </tr>\n    <tr>\n      <th>2</th>\n      <td>3</td>\n      <td>Central</td>\n      <td>US</td>\n      <td>North America</td>\n      <td>3.072175e+06</td>\n      <td>3.205014e+06</td>\n      <td>0.0</td>\n      <td>0.0</td>\n    </tr>\n    <tr>\n      <th>3</th>\n      <td>4</td>\n      <td>Southwest</td>\n      <td>US</td>\n      <td>North America</td>\n      <td>1.051085e+07</td>\n      <td>5.366576e+06</td>\n      <td>0.0</td>\n      <td>0.0</td>\n    </tr>\n    <tr>\n      <th>4</th>\n      <td>5</td>\n      <td>Southeast</td>\n      <td>US</td>\n      <td>North America</td>\n      <td>2.538667e+06</td>\n      <td>3.925071e+06</td>\n      <td>0.0</td>\n      <td>0.0</td>\n    </tr>\n    <tr>\n      <th>5</th>\n      <td>6</td>\n      <td>Canada</td>\n      <td>CA</td>\n      <td>North America</td>\n      <td>6.771829e+06</td>\n      <td>5.693989e+06</td>\n      <td>0.0</td>\n      <td>0.0</td>\n    </tr>\n    <tr>\n      <th>6</th>\n      <td>7</td>\n      <td>France</td>\n      <td>FR</td>\n      <td>Europe</td>\n      <td>4.772398e+06</td>\n      <td>2.396540e+06</td>\n      <td>0.0</td>\n      <td>0.0</td>\n    </tr>\n    <tr>\n      <th>7</th>\n      <td>8</td>\n      <td>Germany</td>\n      <td>DE</td>\n      <td>Europe</td>\n      <td>3.805202e+06</td>\n      <td>1.307950e+06</td>\n      <td>0.0</td>\n      <td>0.0</td>\n    </tr>\n    <tr>\n      <th>8</th>\n      <td>9</td>\n      <td>Australia</td>\n      <td>AU</td>\n      <td>Pacific</td>\n      <td>5.977815e+06</td>\n      <td>2.278549e+06</td>\n      <td>0.0</td>\n      <td>0.0</td>\n    </tr>\n    <tr>\n      <th>9</th>\n      <td>10</td>\n      <td>United Kingdom</td>\n      <td>GB</td>\n      <td>Europe</td>\n      <td>5.012905e+06</td>\n      <td>1.635823e+06</td>\n      <td>0.0</td>\n      <td>0.0</td>\n    </tr>\n  </tbody>\n</table>\n</div>"
     },
     "execution_count": 94,
     "metadata": {},
     "output_type": "execute_result"
    }
   ],
   "source": [
    "#Sales.SalesTerritory\n",
    "# Establish connection to the source SQL Server database and read data\n",
    "try:\n",
    "    with pyodbc.connect(source_conn_str) as source_conn:\n",
    "        SalesTerritory_df = pd.read_sql_query(\"SELECT TerritoryID, Name, CountryRegionCode, [Group], SalesYTD, SalesLastYear, CostYTD, CostLastYear FROM Sales.SalesTerritory\", source_conn)\n",
    "\n",
    "except pyodbc.Error as e:\n",
    "    print(\"Error while connecting to the source SQL Server:\", e)\n",
    "\n",
    "SalesTerritory_df"
   ],
   "metadata": {
    "collapsed": false,
    "ExecuteTime": {
     "end_time": "2024-05-24T10:10:55.023686Z",
     "start_time": "2024-05-24T10:10:54.996462Z"
    }
   },
   "id": "76c9a6a9aeb1455e",
   "execution_count": 94
  },
  {
   "cell_type": "code",
   "outputs": [
    {
     "data": {
      "text/plain": "    CountryRegionCode CurrencyCode\n0                  AE          AED\n1                  AR          ARS\n2                  AT          ATS\n3                  AU          AUD\n4                  BB          BBD\n..                ...          ...\n104                UY          UYU\n105                VE          VEB\n106                VN          VND\n107                ZA          ZAR\n108                ZW          ZWD\n\n[109 rows x 2 columns]",
      "text/html": "<div>\n<style scoped>\n    .dataframe tbody tr th:only-of-type {\n        vertical-align: middle;\n    }\n\n    .dataframe tbody tr th {\n        vertical-align: top;\n    }\n\n    .dataframe thead th {\n        text-align: right;\n    }\n</style>\n<table border=\"1\" class=\"dataframe\">\n  <thead>\n    <tr style=\"text-align: right;\">\n      <th></th>\n      <th>CountryRegionCode</th>\n      <th>CurrencyCode</th>\n    </tr>\n  </thead>\n  <tbody>\n    <tr>\n      <th>0</th>\n      <td>AE</td>\n      <td>AED</td>\n    </tr>\n    <tr>\n      <th>1</th>\n      <td>AR</td>\n      <td>ARS</td>\n    </tr>\n    <tr>\n      <th>2</th>\n      <td>AT</td>\n      <td>ATS</td>\n    </tr>\n    <tr>\n      <th>3</th>\n      <td>AU</td>\n      <td>AUD</td>\n    </tr>\n    <tr>\n      <th>4</th>\n      <td>BB</td>\n      <td>BBD</td>\n    </tr>\n    <tr>\n      <th>...</th>\n      <td>...</td>\n      <td>...</td>\n    </tr>\n    <tr>\n      <th>104</th>\n      <td>UY</td>\n      <td>UYU</td>\n    </tr>\n    <tr>\n      <th>105</th>\n      <td>VE</td>\n      <td>VEB</td>\n    </tr>\n    <tr>\n      <th>106</th>\n      <td>VN</td>\n      <td>VND</td>\n    </tr>\n    <tr>\n      <th>107</th>\n      <td>ZA</td>\n      <td>ZAR</td>\n    </tr>\n    <tr>\n      <th>108</th>\n      <td>ZW</td>\n      <td>ZWD</td>\n    </tr>\n  </tbody>\n</table>\n<p>109 rows × 2 columns</p>\n</div>"
     },
     "execution_count": 108,
     "metadata": {},
     "output_type": "execute_result"
    }
   ],
   "source": [
    "#Sales.CountryRegionCurrency\n",
    "# Establish connection to the source SQL Server database and read data\n",
    "try:\n",
    "    with pyodbc.connect(source_conn_str) as source_conn:\n",
    "        CountryRegionCurrency_df = pd.read_sql_query(\"SELECT CountryRegionCode, CurrencyCode FROM Sales.CountryRegionCurrency\",source_conn)\n",
    "\n",
    "except pyodbc.Error as e:\n",
    "    print(\"Error while connecting to the source SQL Server:\", e)\n",
    "\n",
    "CountryRegionCurrency_df"
   ],
   "metadata": {
    "collapsed": false,
    "ExecuteTime": {
     "end_time": "2024-05-24T10:17:23.533011Z",
     "start_time": "2024-05-24T10:17:23.519085Z"
    }
   },
   "id": "b8d02dd499257de5",
   "execution_count": 108
  },
  {
   "cell_type": "code",
   "outputs": [
    {
     "data": {
      "text/plain": "    CurrencyCode             Name\n0            AFA          Afghani\n1            DZD   Algerian Dinar\n2            ARS   Argentine Peso\n3            AMD    Armenian Dram\n4            AWG   Aruban Guilder\n..           ...              ...\n100          KRW              Won\n101          JPY              Yen\n102          CNY    Yuan Renminbi\n103          ZWD  Zimbabwe Dollar\n104          PLN            Zloty\n\n[105 rows x 2 columns]",
      "text/html": "<div>\n<style scoped>\n    .dataframe tbody tr th:only-of-type {\n        vertical-align: middle;\n    }\n\n    .dataframe tbody tr th {\n        vertical-align: top;\n    }\n\n    .dataframe thead th {\n        text-align: right;\n    }\n</style>\n<table border=\"1\" class=\"dataframe\">\n  <thead>\n    <tr style=\"text-align: right;\">\n      <th></th>\n      <th>CurrencyCode</th>\n      <th>Name</th>\n    </tr>\n  </thead>\n  <tbody>\n    <tr>\n      <th>0</th>\n      <td>AFA</td>\n      <td>Afghani</td>\n    </tr>\n    <tr>\n      <th>1</th>\n      <td>DZD</td>\n      <td>Algerian Dinar</td>\n    </tr>\n    <tr>\n      <th>2</th>\n      <td>ARS</td>\n      <td>Argentine Peso</td>\n    </tr>\n    <tr>\n      <th>3</th>\n      <td>AMD</td>\n      <td>Armenian Dram</td>\n    </tr>\n    <tr>\n      <th>4</th>\n      <td>AWG</td>\n      <td>Aruban Guilder</td>\n    </tr>\n    <tr>\n      <th>...</th>\n      <td>...</td>\n      <td>...</td>\n    </tr>\n    <tr>\n      <th>100</th>\n      <td>KRW</td>\n      <td>Won</td>\n    </tr>\n    <tr>\n      <th>101</th>\n      <td>JPY</td>\n      <td>Yen</td>\n    </tr>\n    <tr>\n      <th>102</th>\n      <td>CNY</td>\n      <td>Yuan Renminbi</td>\n    </tr>\n    <tr>\n      <th>103</th>\n      <td>ZWD</td>\n      <td>Zimbabwe Dollar</td>\n    </tr>\n    <tr>\n      <th>104</th>\n      <td>PLN</td>\n      <td>Zloty</td>\n    </tr>\n  </tbody>\n</table>\n<p>105 rows × 2 columns</p>\n</div>"
     },
     "execution_count": 109,
     "metadata": {},
     "output_type": "execute_result"
    }
   ],
   "source": [
    "#Sales.Currency\n",
    "# Establish connection to the source SQL Server database and read data\n",
    "try:\n",
    "    with pyodbc.connect(source_conn_str) as source_conn:\n",
    "        currency_df = pd.read_sql_query(\"SELECT CurrencyCode, Name FROM Sales.Currency\",source_conn)\n",
    "\n",
    "except pyodbc.Error as e:\n",
    "    print(\"Error while connecting to the source SQL Server:\", e)\n",
    "\n",
    "currency_df"
   ],
   "metadata": {
    "collapsed": false,
    "ExecuteTime": {
     "end_time": "2024-05-24T10:18:29.483308Z",
     "start_time": "2024-05-24T10:18:29.453135Z"
    }
   },
   "id": "95898d7383bc0afe",
   "execution_count": 109
  },
  {
   "cell_type": "code",
   "outputs": [
    {
     "data": {
      "text/plain": "        SalesOrderDetailID CarrierTrackingNumber  OrderQty  ProductID  \\\n0                        1          4911-403C-98         1        776   \n1                        2          4911-403C-98         3        777   \n2                        3          4911-403C-98         1        778   \n3                        4          4911-403C-98         1        771   \n4                        5          4911-403C-98         1        772   \n...                    ...                   ...       ...        ...   \n121312              121313                  None         1        878   \n121313              121314                  None         1        712   \n121314              121315                  None         1        878   \n121315              121316                  None         1        879   \n121316              121317                  None         1        712   \n\n        SpecialOfferID  UnitPrice  UnitPriceDiscount  LineTotal  SalesOrderID  \\\n0                    1   2024.994                0.0   2024.994         43659   \n1                    1   2024.994                0.0   6074.982         43659   \n2                    1   2024.994                0.0   2024.994         43659   \n3                    1   2039.994                0.0   2039.994         43659   \n4                    1   2039.994                0.0   2039.994         43659   \n...                ...        ...                ...        ...           ...   \n121312               1     21.980                0.0     21.980         75122   \n121313               1      8.990                0.0      8.990         75122   \n121314               1     21.980                0.0     21.980         75123   \n121315               1    159.000                0.0    159.000         75123   \n121316               1      8.990                0.0      8.990         75123   \n\n        OrderDate  ... CreditCardID    SubTotal     TaxAmt   Freight  \\\n0      2011-05-31  ...      16281.0  20565.6206  1971.5149  616.0984   \n1      2011-05-31  ...      16281.0  20565.6206  1971.5149  616.0984   \n2      2011-05-31  ...      16281.0  20565.6206  1971.5149  616.0984   \n3      2011-05-31  ...      16281.0  20565.6206  1971.5149  616.0984   \n4      2011-05-31  ...      16281.0  20565.6206  1971.5149  616.0984   \n...           ...  ...          ...         ...        ...       ...   \n121312 2014-06-30  ...      18719.0     30.9700     2.4776    0.7743   \n121313 2014-06-30  ...      18719.0     30.9700     2.4776    0.7743   \n121314 2014-06-30  ...      10084.0    189.9700    15.1976    4.7493   \n121315 2014-06-30  ...      10084.0    189.9700    15.1976    4.7493   \n121316 2014-06-30  ...      10084.0    189.9700    15.1976    4.7493   \n\n          TotalDue CurrencyRateDate  FromCurrencyCode  ToCurrencyCode  \\\n0       23153.2339              NaT               NaN             NaN   \n1       23153.2339              NaT               NaN             NaN   \n2       23153.2339              NaT               NaN             NaN   \n3       23153.2339              NaT               NaN             NaN   \n4       23153.2339              NaT               NaN             NaN   \n...            ...              ...               ...             ...   \n121312     34.2219              NaT               NaN             NaN   \n121313     34.2219              NaT               NaN             NaN   \n121314    209.9169              NaT               NaN             NaN   \n121315    209.9169              NaT               NaN             NaN   \n121316    209.9169              NaT               NaN             NaN   \n\n        AverageRate  EndOfDayRate  \n0               NaN           NaN  \n1               NaN           NaN  \n2               NaN           NaN  \n3               NaN           NaN  \n4               NaN           NaN  \n...             ...           ...  \n121312          NaN           NaN  \n121313          NaN           NaN  \n121314          NaN           NaN  \n121315          NaN           NaN  \n121316          NaN           NaN  \n\n[121317 rows x 33 columns]",
      "text/html": "<div>\n<style scoped>\n    .dataframe tbody tr th:only-of-type {\n        vertical-align: middle;\n    }\n\n    .dataframe tbody tr th {\n        vertical-align: top;\n    }\n\n    .dataframe thead th {\n        text-align: right;\n    }\n</style>\n<table border=\"1\" class=\"dataframe\">\n  <thead>\n    <tr style=\"text-align: right;\">\n      <th></th>\n      <th>SalesOrderDetailID</th>\n      <th>CarrierTrackingNumber</th>\n      <th>OrderQty</th>\n      <th>ProductID</th>\n      <th>SpecialOfferID</th>\n      <th>UnitPrice</th>\n      <th>UnitPriceDiscount</th>\n      <th>LineTotal</th>\n      <th>SalesOrderID</th>\n      <th>OrderDate</th>\n      <th>...</th>\n      <th>CreditCardID</th>\n      <th>SubTotal</th>\n      <th>TaxAmt</th>\n      <th>Freight</th>\n      <th>TotalDue</th>\n      <th>CurrencyRateDate</th>\n      <th>FromCurrencyCode</th>\n      <th>ToCurrencyCode</th>\n      <th>AverageRate</th>\n      <th>EndOfDayRate</th>\n    </tr>\n  </thead>\n  <tbody>\n    <tr>\n      <th>0</th>\n      <td>1</td>\n      <td>4911-403C-98</td>\n      <td>1</td>\n      <td>776</td>\n      <td>1</td>\n      <td>2024.994</td>\n      <td>0.0</td>\n      <td>2024.994</td>\n      <td>43659</td>\n      <td>2011-05-31</td>\n      <td>...</td>\n      <td>16281.0</td>\n      <td>20565.6206</td>\n      <td>1971.5149</td>\n      <td>616.0984</td>\n      <td>23153.2339</td>\n      <td>NaT</td>\n      <td>NaN</td>\n      <td>NaN</td>\n      <td>NaN</td>\n      <td>NaN</td>\n    </tr>\n    <tr>\n      <th>1</th>\n      <td>2</td>\n      <td>4911-403C-98</td>\n      <td>3</td>\n      <td>777</td>\n      <td>1</td>\n      <td>2024.994</td>\n      <td>0.0</td>\n      <td>6074.982</td>\n      <td>43659</td>\n      <td>2011-05-31</td>\n      <td>...</td>\n      <td>16281.0</td>\n      <td>20565.6206</td>\n      <td>1971.5149</td>\n      <td>616.0984</td>\n      <td>23153.2339</td>\n      <td>NaT</td>\n      <td>NaN</td>\n      <td>NaN</td>\n      <td>NaN</td>\n      <td>NaN</td>\n    </tr>\n    <tr>\n      <th>2</th>\n      <td>3</td>\n      <td>4911-403C-98</td>\n      <td>1</td>\n      <td>778</td>\n      <td>1</td>\n      <td>2024.994</td>\n      <td>0.0</td>\n      <td>2024.994</td>\n      <td>43659</td>\n      <td>2011-05-31</td>\n      <td>...</td>\n      <td>16281.0</td>\n      <td>20565.6206</td>\n      <td>1971.5149</td>\n      <td>616.0984</td>\n      <td>23153.2339</td>\n      <td>NaT</td>\n      <td>NaN</td>\n      <td>NaN</td>\n      <td>NaN</td>\n      <td>NaN</td>\n    </tr>\n    <tr>\n      <th>3</th>\n      <td>4</td>\n      <td>4911-403C-98</td>\n      <td>1</td>\n      <td>771</td>\n      <td>1</td>\n      <td>2039.994</td>\n      <td>0.0</td>\n      <td>2039.994</td>\n      <td>43659</td>\n      <td>2011-05-31</td>\n      <td>...</td>\n      <td>16281.0</td>\n      <td>20565.6206</td>\n      <td>1971.5149</td>\n      <td>616.0984</td>\n      <td>23153.2339</td>\n      <td>NaT</td>\n      <td>NaN</td>\n      <td>NaN</td>\n      <td>NaN</td>\n      <td>NaN</td>\n    </tr>\n    <tr>\n      <th>4</th>\n      <td>5</td>\n      <td>4911-403C-98</td>\n      <td>1</td>\n      <td>772</td>\n      <td>1</td>\n      <td>2039.994</td>\n      <td>0.0</td>\n      <td>2039.994</td>\n      <td>43659</td>\n      <td>2011-05-31</td>\n      <td>...</td>\n      <td>16281.0</td>\n      <td>20565.6206</td>\n      <td>1971.5149</td>\n      <td>616.0984</td>\n      <td>23153.2339</td>\n      <td>NaT</td>\n      <td>NaN</td>\n      <td>NaN</td>\n      <td>NaN</td>\n      <td>NaN</td>\n    </tr>\n    <tr>\n      <th>...</th>\n      <td>...</td>\n      <td>...</td>\n      <td>...</td>\n      <td>...</td>\n      <td>...</td>\n      <td>...</td>\n      <td>...</td>\n      <td>...</td>\n      <td>...</td>\n      <td>...</td>\n      <td>...</td>\n      <td>...</td>\n      <td>...</td>\n      <td>...</td>\n      <td>...</td>\n      <td>...</td>\n      <td>...</td>\n      <td>...</td>\n      <td>...</td>\n      <td>...</td>\n      <td>...</td>\n    </tr>\n    <tr>\n      <th>121312</th>\n      <td>121313</td>\n      <td>None</td>\n      <td>1</td>\n      <td>878</td>\n      <td>1</td>\n      <td>21.980</td>\n      <td>0.0</td>\n      <td>21.980</td>\n      <td>75122</td>\n      <td>2014-06-30</td>\n      <td>...</td>\n      <td>18719.0</td>\n      <td>30.9700</td>\n      <td>2.4776</td>\n      <td>0.7743</td>\n      <td>34.2219</td>\n      <td>NaT</td>\n      <td>NaN</td>\n      <td>NaN</td>\n      <td>NaN</td>\n      <td>NaN</td>\n    </tr>\n    <tr>\n      <th>121313</th>\n      <td>121314</td>\n      <td>None</td>\n      <td>1</td>\n      <td>712</td>\n      <td>1</td>\n      <td>8.990</td>\n      <td>0.0</td>\n      <td>8.990</td>\n      <td>75122</td>\n      <td>2014-06-30</td>\n      <td>...</td>\n      <td>18719.0</td>\n      <td>30.9700</td>\n      <td>2.4776</td>\n      <td>0.7743</td>\n      <td>34.2219</td>\n      <td>NaT</td>\n      <td>NaN</td>\n      <td>NaN</td>\n      <td>NaN</td>\n      <td>NaN</td>\n    </tr>\n    <tr>\n      <th>121314</th>\n      <td>121315</td>\n      <td>None</td>\n      <td>1</td>\n      <td>878</td>\n      <td>1</td>\n      <td>21.980</td>\n      <td>0.0</td>\n      <td>21.980</td>\n      <td>75123</td>\n      <td>2014-06-30</td>\n      <td>...</td>\n      <td>10084.0</td>\n      <td>189.9700</td>\n      <td>15.1976</td>\n      <td>4.7493</td>\n      <td>209.9169</td>\n      <td>NaT</td>\n      <td>NaN</td>\n      <td>NaN</td>\n      <td>NaN</td>\n      <td>NaN</td>\n    </tr>\n    <tr>\n      <th>121315</th>\n      <td>121316</td>\n      <td>None</td>\n      <td>1</td>\n      <td>879</td>\n      <td>1</td>\n      <td>159.000</td>\n      <td>0.0</td>\n      <td>159.000</td>\n      <td>75123</td>\n      <td>2014-06-30</td>\n      <td>...</td>\n      <td>10084.0</td>\n      <td>189.9700</td>\n      <td>15.1976</td>\n      <td>4.7493</td>\n      <td>209.9169</td>\n      <td>NaT</td>\n      <td>NaN</td>\n      <td>NaN</td>\n      <td>NaN</td>\n      <td>NaN</td>\n    </tr>\n    <tr>\n      <th>121316</th>\n      <td>121317</td>\n      <td>None</td>\n      <td>1</td>\n      <td>712</td>\n      <td>1</td>\n      <td>8.990</td>\n      <td>0.0</td>\n      <td>8.990</td>\n      <td>75123</td>\n      <td>2014-06-30</td>\n      <td>...</td>\n      <td>10084.0</td>\n      <td>189.9700</td>\n      <td>15.1976</td>\n      <td>4.7493</td>\n      <td>209.9169</td>\n      <td>NaT</td>\n      <td>NaN</td>\n      <td>NaN</td>\n      <td>NaN</td>\n      <td>NaN</td>\n    </tr>\n  </tbody>\n</table>\n<p>121317 rows × 33 columns</p>\n</div>"
     },
     "execution_count": 80,
     "metadata": {},
     "output_type": "execute_result"
    }
   ],
   "source": [
    "try:\n",
    "    with pyodbc.connect(source_conn_str) as source_conn:\n",
    "        sales_order_header_df = pd.read_sql_query(\"SELECT SalesOrderID, OrderDate, DueDate, ShipDate, Status, SalesOrderNumber, PurchaseOrderNumber, AccountNumber, CustomerID, SalesPersonID, TerritoryID, BillToAddressID, ShipToAddressID, ShipMethodID, CurrencyRateID, CreditCardID, SubTotal, TaxAmt, Freight, TotalDue   FROM Sales.SalesOrderHeader\", source_conn)\n",
    "        sales_order_detail_df = pd.read_sql_query(\"SELECT SalesOrderDetailID, CarrierTrackingNumber , OrderQty, ProductID,SpecialOfferID,UnitPrice, UnitPriceDiscount, LineTotal, SalesOrderID  FROM Sales.SalesOrderDetail \", source_conn)\n",
    "        currency_rate_df = pd.read_sql_query(\"SELECT CurrencyRateID, CurrencyRateDate,FromCurrencyCode, ToCurrencyCode, AverageRate, EndOfDayRate  FROM Sales.CurrencyRate\", source_conn)\n",
    "        \n",
    "        ## merging dataframes\n",
    "        sales_order_df = pd.merge(sales_order_header_df, currency_rate_df, on='CurrencyRateID', how='left')\n",
    "        sales_order_df = pd.merge(sales_order_detail_df, sales_order_df, on='SalesOrderID', how='left')\n",
    "                           \n",
    "except pyodbc.Error as e:\n",
    "    print(\"Error while connecting to the source SQL Server:\", e)\n",
    "sales_order_df"
   ],
   "metadata": {
    "collapsed": false,
    "ExecuteTime": {
     "end_time": "2024-05-24T09:58:57.754053Z",
     "start_time": "2024-05-24T09:58:52.818509Z"
    }
   },
   "id": "e87156bf0f152c4",
   "execution_count": 80
  },
  {
   "cell_type": "code",
   "outputs": [
    {
     "data": {
      "text/plain": "   ShipMethodID                Name  ShipBase  ShipRate\n0             1  XRQ - TRUCK GROUND      3.95      0.99\n1             2        ZY - EXPRESS      9.95      1.99\n2             3   OVERSEAS - DELUXE     29.95      2.99\n3             4    OVERNIGHT J-FAST     21.95      1.29\n4             5   CARGO TRANSPORT 5      8.99      1.49",
      "text/html": "<div>\n<style scoped>\n    .dataframe tbody tr th:only-of-type {\n        vertical-align: middle;\n    }\n\n    .dataframe tbody tr th {\n        vertical-align: top;\n    }\n\n    .dataframe thead th {\n        text-align: right;\n    }\n</style>\n<table border=\"1\" class=\"dataframe\">\n  <thead>\n    <tr style=\"text-align: right;\">\n      <th></th>\n      <th>ShipMethodID</th>\n      <th>Name</th>\n      <th>ShipBase</th>\n      <th>ShipRate</th>\n    </tr>\n  </thead>\n  <tbody>\n    <tr>\n      <th>0</th>\n      <td>1</td>\n      <td>XRQ - TRUCK GROUND</td>\n      <td>3.95</td>\n      <td>0.99</td>\n    </tr>\n    <tr>\n      <th>1</th>\n      <td>2</td>\n      <td>ZY - EXPRESS</td>\n      <td>9.95</td>\n      <td>1.99</td>\n    </tr>\n    <tr>\n      <th>2</th>\n      <td>3</td>\n      <td>OVERSEAS - DELUXE</td>\n      <td>29.95</td>\n      <td>2.99</td>\n    </tr>\n    <tr>\n      <th>3</th>\n      <td>4</td>\n      <td>OVERNIGHT J-FAST</td>\n      <td>21.95</td>\n      <td>1.29</td>\n    </tr>\n    <tr>\n      <th>4</th>\n      <td>5</td>\n      <td>CARGO TRANSPORT 5</td>\n      <td>8.99</td>\n      <td>1.49</td>\n    </tr>\n  </tbody>\n</table>\n</div>"
     },
     "execution_count": 98,
     "metadata": {},
     "output_type": "execute_result"
    }
   ],
   "source": [
    "try:\n",
    "    with pyodbc.connect(source_conn_str) as source_conn:\n",
    "        ship_method_df = pd.read_sql_query(\"SELECT ShipMethodID, Name, ShipBase, ShipRate FROM Purchasing.ShipMethod\", source_conn)\n",
    "except pyodbc.Error as e:\n",
    "    print(\"Error while connecting to the source SQL Server:\", e)\n",
    "ship_method_df"
   ],
   "metadata": {
    "collapsed": false,
    "ExecuteTime": {
     "end_time": "2024-05-24T10:12:43.446722Z",
     "start_time": "2024-05-24T10:12:43.418901Z"
    }
   },
   "id": "92facf4316ed23d4",
   "execution_count": 98
  },
  {
   "cell_type": "code",
   "outputs": [],
   "source": [
    "try:\n",
    "    with pyodbc.connect(source_conn_str) as source_conn:\n",
    "        salesTerritoryHistory_df = pd.read_sql_query(\"SELECT BusinessEntityID, TerritoryID, StartDate, EndDate FROM Sales.salesTerritoryHistory\", source_conn)\n",
    "\n",
    "except pyodbc.Error as e:\n",
    "    print(\"Error while connecting to the source SQL Server:\", e)\n",
    "\n",
    "salesTerritoryHistory_df"
   ],
   "metadata": {
    "collapsed": false
   },
   "id": "7c5eb1f6d49a5ce4"
  }
 ],
 "metadata": {
  "kernelspec": {
   "display_name": "Python 3",
   "language": "python",
   "name": "python3"
  },
  "language_info": {
   "codemirror_mode": {
    "name": "ipython",
    "version": 2
   },
   "file_extension": ".py",
   "mimetype": "text/x-python",
   "name": "python",
   "nbconvert_exporter": "python",
   "pygments_lexer": "ipython2",
   "version": "2.7.6"
  }
 },
 "nbformat": 4,
 "nbformat_minor": 5
}

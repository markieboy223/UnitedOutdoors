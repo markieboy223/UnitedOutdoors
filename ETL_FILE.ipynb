{
 "cells": [
  {
   "cell_type": "code",
   "outputs": [
    {
     "name": "stderr",
     "output_type": "stream",
     "text": [
      "C:\\Users\\markv\\AppData\\Local\\Temp\\ipykernel_19812\\492744870.py:35: UserWarning: pandas only supports SQLAlchemy connectable (engine/connection) or database string URI or sqlite3 DBAPI2 connection. Other DBAPI2 objects are not tested. Please consider using SQLAlchemy.\n",
      "  person_df = pd.read_sql_query(\"SELECT * FROM Person.person\", source_conn)\n",
      "C:\\Users\\markv\\AppData\\Local\\Temp\\ipykernel_19812\\492744870.py:36: UserWarning: pandas only supports SQLAlchemy connectable (engine/connection) or database string URI or sqlite3 DBAPI2 connection. Other DBAPI2 objects are not tested. Please consider using SQLAlchemy.\n",
      "  personPhone_df = pd.read_sql_query(\"SELECT * FROM Person.PersonPhone\", source_conn)\n"
     ]
    },
    {
     "data": {
      "text/plain": "       BusinessEntityID PersonType  NameStyle Title FirstName MiddleName  \\\n0                     1         EM      False  None       Ken          J   \n1                     2         EM      False  None     Terri        Lee   \n2                     3         EM      False  None   Roberto       None   \n3                     4         EM      False  None       Rob       None   \n4                     5         EM      False   Ms.      Gail          A   \n...                 ...        ...        ...   ...       ...        ...   \n19967             20773         IN      False  None   Crystal       None   \n19968             20774         IN      False  None  Isabella          F   \n19969             20775         IN      False  None   Crystal          S   \n19970             20776         IN      False  None   Crystal       None   \n19971             20777         IN      False  None   Crystal       None   \n\n         LastName Suffix  EmailPromotion AdditionalContactInfo  \\\n0         Sánchez   None               0                  None   \n1           Duffy   None               1                  None   \n2      Tamburello   None               0                  None   \n3         Walters   None               0                  None   \n4        Erickson   None               0                  None   \n...           ...    ...             ...                   ...   \n19967         Guo   None               0                  None   \n19968  Richardson   None               2                  None   \n19969          He   None               0                  None   \n19970       Zheng   None               1                  None   \n19971          Hu   None               0                  None   \n\n                                            Demographics  \\\n0      <IndividualSurvey xmlns=\"http://schemas.micros...   \n1      <IndividualSurvey xmlns=\"http://schemas.micros...   \n2      <IndividualSurvey xmlns=\"http://schemas.micros...   \n3      <IndividualSurvey xmlns=\"http://schemas.micros...   \n4      <IndividualSurvey xmlns=\"http://schemas.micros...   \n...                                                  ...   \n19967  <IndividualSurvey xmlns=\"http://schemas.micros...   \n19968  <IndividualSurvey xmlns=\"http://schemas.micros...   \n19969  <IndividualSurvey xmlns=\"http://schemas.micros...   \n19970  <IndividualSurvey xmlns=\"http://schemas.micros...   \n19971  <IndividualSurvey xmlns=\"http://schemas.micros...   \n\n                                    rowguid ModifiedDate_x  \\\n0      92C4279F-1207-48A3-8448-4636514EB7E2     2009-01-07   \n1      D8763459-8AA8-47CC-AFF7-C9079AF79033     2008-01-24   \n2      E1A2555E-0828-434B-A33B-6F38136A37DE     2007-11-04   \n3      F2D7CE06-38B3-4357-805B-F4B6B71C01FF     2007-11-28   \n4      F3A3F6B4-AE3B-430C-A754-9F2231BA6FEF     2007-12-30   \n...                                     ...            ...   \n19967  D0A499A2-C258-43E9-AB06-F61543A71134     2014-03-19   \n19968  A4F7F248-82F3-43D5-B5A3-8BD1CB610254     2013-07-29   \n19969  CD0B82D0-3409-4497-A65F-A68E75EE26CB     2014-03-12   \n19970  386E35E8-97B3-43E4-9B5F-9594C2FF5CEA     2014-01-14   \n19971  1773C8F3-2CC7-4826-A7F5-30D3F36543CD     2013-10-16   \n\n               PhoneNumber  PhoneNumberTypeID ModifiedDate_y  \n0             697-555-0142                  1     2009-01-07  \n1             819-555-0175                  3     2008-01-24  \n2             212-555-0187                  1     2007-11-04  \n3             612-555-0100                  1     2007-11-28  \n4             849-555-0139                  1     2007-12-30  \n...                    ...                ...            ...  \n19967  1 (11) 500 555-0171                  1     2014-03-19  \n19968         910-555-0166                  1     2013-07-29  \n19969         813-555-0148                  2     2014-03-12  \n19970  1 (11) 500 555-0171                  2     2014-01-14  \n19971  1 (11) 500 555-0126                  2     2013-10-16  \n\n[19972 rows x 16 columns]",
      "text/html": "<div>\n<style scoped>\n    .dataframe tbody tr th:only-of-type {\n        vertical-align: middle;\n    }\n\n    .dataframe tbody tr th {\n        vertical-align: top;\n    }\n\n    .dataframe thead th {\n        text-align: right;\n    }\n</style>\n<table border=\"1\" class=\"dataframe\">\n  <thead>\n    <tr style=\"text-align: right;\">\n      <th></th>\n      <th>BusinessEntityID</th>\n      <th>PersonType</th>\n      <th>NameStyle</th>\n      <th>Title</th>\n      <th>FirstName</th>\n      <th>MiddleName</th>\n      <th>LastName</th>\n      <th>Suffix</th>\n      <th>EmailPromotion</th>\n      <th>AdditionalContactInfo</th>\n      <th>Demographics</th>\n      <th>rowguid</th>\n      <th>ModifiedDate_x</th>\n      <th>PhoneNumber</th>\n      <th>PhoneNumberTypeID</th>\n      <th>ModifiedDate_y</th>\n    </tr>\n  </thead>\n  <tbody>\n    <tr>\n      <th>0</th>\n      <td>1</td>\n      <td>EM</td>\n      <td>False</td>\n      <td>None</td>\n      <td>Ken</td>\n      <td>J</td>\n      <td>Sánchez</td>\n      <td>None</td>\n      <td>0</td>\n      <td>None</td>\n      <td>&lt;IndividualSurvey xmlns=\"http://schemas.micros...</td>\n      <td>92C4279F-1207-48A3-8448-4636514EB7E2</td>\n      <td>2009-01-07</td>\n      <td>697-555-0142</td>\n      <td>1</td>\n      <td>2009-01-07</td>\n    </tr>\n    <tr>\n      <th>1</th>\n      <td>2</td>\n      <td>EM</td>\n      <td>False</td>\n      <td>None</td>\n      <td>Terri</td>\n      <td>Lee</td>\n      <td>Duffy</td>\n      <td>None</td>\n      <td>1</td>\n      <td>None</td>\n      <td>&lt;IndividualSurvey xmlns=\"http://schemas.micros...</td>\n      <td>D8763459-8AA8-47CC-AFF7-C9079AF79033</td>\n      <td>2008-01-24</td>\n      <td>819-555-0175</td>\n      <td>3</td>\n      <td>2008-01-24</td>\n    </tr>\n    <tr>\n      <th>2</th>\n      <td>3</td>\n      <td>EM</td>\n      <td>False</td>\n      <td>None</td>\n      <td>Roberto</td>\n      <td>None</td>\n      <td>Tamburello</td>\n      <td>None</td>\n      <td>0</td>\n      <td>None</td>\n      <td>&lt;IndividualSurvey xmlns=\"http://schemas.micros...</td>\n      <td>E1A2555E-0828-434B-A33B-6F38136A37DE</td>\n      <td>2007-11-04</td>\n      <td>212-555-0187</td>\n      <td>1</td>\n      <td>2007-11-04</td>\n    </tr>\n    <tr>\n      <th>3</th>\n      <td>4</td>\n      <td>EM</td>\n      <td>False</td>\n      <td>None</td>\n      <td>Rob</td>\n      <td>None</td>\n      <td>Walters</td>\n      <td>None</td>\n      <td>0</td>\n      <td>None</td>\n      <td>&lt;IndividualSurvey xmlns=\"http://schemas.micros...</td>\n      <td>F2D7CE06-38B3-4357-805B-F4B6B71C01FF</td>\n      <td>2007-11-28</td>\n      <td>612-555-0100</td>\n      <td>1</td>\n      <td>2007-11-28</td>\n    </tr>\n    <tr>\n      <th>4</th>\n      <td>5</td>\n      <td>EM</td>\n      <td>False</td>\n      <td>Ms.</td>\n      <td>Gail</td>\n      <td>A</td>\n      <td>Erickson</td>\n      <td>None</td>\n      <td>0</td>\n      <td>None</td>\n      <td>&lt;IndividualSurvey xmlns=\"http://schemas.micros...</td>\n      <td>F3A3F6B4-AE3B-430C-A754-9F2231BA6FEF</td>\n      <td>2007-12-30</td>\n      <td>849-555-0139</td>\n      <td>1</td>\n      <td>2007-12-30</td>\n    </tr>\n    <tr>\n      <th>...</th>\n      <td>...</td>\n      <td>...</td>\n      <td>...</td>\n      <td>...</td>\n      <td>...</td>\n      <td>...</td>\n      <td>...</td>\n      <td>...</td>\n      <td>...</td>\n      <td>...</td>\n      <td>...</td>\n      <td>...</td>\n      <td>...</td>\n      <td>...</td>\n      <td>...</td>\n      <td>...</td>\n    </tr>\n    <tr>\n      <th>19967</th>\n      <td>20773</td>\n      <td>IN</td>\n      <td>False</td>\n      <td>None</td>\n      <td>Crystal</td>\n      <td>None</td>\n      <td>Guo</td>\n      <td>None</td>\n      <td>0</td>\n      <td>None</td>\n      <td>&lt;IndividualSurvey xmlns=\"http://schemas.micros...</td>\n      <td>D0A499A2-C258-43E9-AB06-F61543A71134</td>\n      <td>2014-03-19</td>\n      <td>1 (11) 500 555-0171</td>\n      <td>1</td>\n      <td>2014-03-19</td>\n    </tr>\n    <tr>\n      <th>19968</th>\n      <td>20774</td>\n      <td>IN</td>\n      <td>False</td>\n      <td>None</td>\n      <td>Isabella</td>\n      <td>F</td>\n      <td>Richardson</td>\n      <td>None</td>\n      <td>2</td>\n      <td>None</td>\n      <td>&lt;IndividualSurvey xmlns=\"http://schemas.micros...</td>\n      <td>A4F7F248-82F3-43D5-B5A3-8BD1CB610254</td>\n      <td>2013-07-29</td>\n      <td>910-555-0166</td>\n      <td>1</td>\n      <td>2013-07-29</td>\n    </tr>\n    <tr>\n      <th>19969</th>\n      <td>20775</td>\n      <td>IN</td>\n      <td>False</td>\n      <td>None</td>\n      <td>Crystal</td>\n      <td>S</td>\n      <td>He</td>\n      <td>None</td>\n      <td>0</td>\n      <td>None</td>\n      <td>&lt;IndividualSurvey xmlns=\"http://schemas.micros...</td>\n      <td>CD0B82D0-3409-4497-A65F-A68E75EE26CB</td>\n      <td>2014-03-12</td>\n      <td>813-555-0148</td>\n      <td>2</td>\n      <td>2014-03-12</td>\n    </tr>\n    <tr>\n      <th>19970</th>\n      <td>20776</td>\n      <td>IN</td>\n      <td>False</td>\n      <td>None</td>\n      <td>Crystal</td>\n      <td>None</td>\n      <td>Zheng</td>\n      <td>None</td>\n      <td>1</td>\n      <td>None</td>\n      <td>&lt;IndividualSurvey xmlns=\"http://schemas.micros...</td>\n      <td>386E35E8-97B3-43E4-9B5F-9594C2FF5CEA</td>\n      <td>2014-01-14</td>\n      <td>1 (11) 500 555-0171</td>\n      <td>2</td>\n      <td>2014-01-14</td>\n    </tr>\n    <tr>\n      <th>19971</th>\n      <td>20777</td>\n      <td>IN</td>\n      <td>False</td>\n      <td>None</td>\n      <td>Crystal</td>\n      <td>None</td>\n      <td>Hu</td>\n      <td>None</td>\n      <td>0</td>\n      <td>None</td>\n      <td>&lt;IndividualSurvey xmlns=\"http://schemas.micros...</td>\n      <td>1773C8F3-2CC7-4826-A7F5-30D3F36543CD</td>\n      <td>2013-10-16</td>\n      <td>1 (11) 500 555-0126</td>\n      <td>2</td>\n      <td>2013-10-16</td>\n    </tr>\n  </tbody>\n</table>\n<p>19972 rows × 16 columns</p>\n</div>"
     },
     "execution_count": 3,
     "metadata": {},
     "output_type": "execute_result"
    }
   ],
   "source": [
    "import pandas as pd\n",
    "import pyodbc\n",
    "\n",
    "# Connection details for the source SQL Server database\n",
    "source_db = {\n",
    "    'servername': r'LAPTOP-NDOACQTH\\SQLEXPRESS',\n",
    "    'database': 'AdventureWorks2019'\n",
    "}\n",
    "\n",
    "# Connection details for the destination SQL Server database\n",
    "destination_db = {\n",
    "    'servername': r'LAPTOP-NDOACQTH\\SQLEXPRESS',\n",
    "    'database': 'PR4'\n",
    "}\n",
    "\n",
    "# Connection string for the source SQL Server database\n",
    "source_conn_str = (\n",
    "    'Driver={SQL Server};'\n",
    "    'SERVER=' + source_db['servername'] + ';'\n",
    "    'DATABASE=' + source_db['database'] + ';'\n",
    "    'Trusted_Connection=yes;'\n",
    ")\n",
    "\n",
    "# Connection string for the destination SQL Server database\n",
    "destination_conn_str = (\n",
    "    'Driver={SQL Server};'\n",
    "    'SERVER=' + destination_db['servername'] + ';'\n",
    "    'DATABASE=' + destination_db['database'] + ';'\n",
    "    'Trusted_Connection=yes;'\n",
    ")\n",
    "\n",
    "# Establish connection to the source SQL Server database and read data\n",
    "try:\n",
    "    with pyodbc.connect(source_conn_str) as source_conn:\n",
    "        person_df = pd.read_sql_query(\"SELECT * FROM Person.person\", source_conn)\n",
    "        personPhone_df = pd.read_sql_query(\"SELECT * FROM Person.PersonPhone\", source_conn)\n",
    "\n",
    "        # Merging DataFrames\n",
    "        merged_df = pd.merge(person_df, personPhone_df, on='BusinessEntityID', how='left')\n",
    "\n",
    "except pyodbc.Error as e:\n",
    "    print(\"Error while connecting to the source SQL Server:\", e)\n",
    "\n",
    "# Establish connection to the destination SQL Server database and insert data\n",
    "# try:\n",
    "#     with pyodbc.connect(destination_conn_str) as destination_conn:\n",
    "#         cursor = destination_conn.cursor()\n",
    "#         \n",
    "#         # Batch insert\n",
    "#         insert_query = \"\"\"\n",
    "#         INSERT INTO [PR4].[dbo].[INVENTORY_SALES_LEVELS]\n",
    "#         (INVENTORY_YEAR, INVENTORY_MONTH, PRODUCT_NUMBER, INVENTORY_COUNT, MARGIN, LANGUAGE, DESCRIPTION)\n",
    "#         VALUES (?, ?, ?, ?, ?, ?, ?)\n",
    "#         \"\"\"\n",
    "#         \n",
    "#         # Convert DataFrame to a list of tuples for batch insertion\n",
    "#         data_to_insert = merged_df[['INVENTORY_YEAR', 'INVENTORY_MONTH', 'PRODUCT_NUMBER', 'INVENTORY_COUNT', 'MARGIN', 'LANGUAGE', 'DESCRIPTION']].values.tolist()\n",
    "#         \n",
    "#         # Executing batch insert\n",
    "#         cursor.executemany(insert_query, data_to_insert)\n",
    "#         \n",
    "#         # Commit transaction\n",
    "#         destination_conn.commit()\n",
    "#         \n",
    "#         print(\"Data inserted successfully.\")\n",
    "# except pyodbc.Error as e:\n",
    "#     print(\"Error while connecting to the destination SQL Server or inserting data:\", e)\n",
    "merged_df"
   ],
   "metadata": {
    "collapsed": false,
    "ExecuteTime": {
     "end_time": "2024-05-23T10:38:53.400519200Z",
     "start_time": "2024-05-23T10:38:52.031804300Z"
    }
   },
   "id": "77826da0696aeeae",
   "execution_count": 3
  },
  {
   "cell_type": "code",
   "outputs": [],
   "source": [],
   "metadata": {
    "collapsed": false
   },
   "id": "16161aec8932be11"
  }
 ],
 "metadata": {
  "kernelspec": {
   "display_name": "Python 3",
   "language": "python",
   "name": "python3"
  },
  "language_info": {
   "codemirror_mode": {
    "name": "ipython",
    "version": 2
   },
   "file_extension": ".py",
   "mimetype": "text/x-python",
   "name": "python",
   "nbconvert_exporter": "python",
   "pygments_lexer": "ipython2",
   "version": "2.7.6"
  }
 },
 "nbformat": 4,
 "nbformat_minor": 5
}

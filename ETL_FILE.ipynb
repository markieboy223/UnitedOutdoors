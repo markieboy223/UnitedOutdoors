{
 "cells": [
  {
   "cell_type": "code",
   "outputs": [],
   "source": [
    "import warnings\n",
    "import pandas as pd\n",
    "import pyodbc\n",
    "import numpy as np\n",
    "\n",
    "warnings.simplefilter('ignore')\n",
    "\n",
    "# Connection details for the source SQL Server database\n",
    "source_db = {\n",
    "    'servername': r'LAPTOP-NDOACQTH\\SQLEXPRESS',\n",
    "    'database': 'AdventureWorks2019'\n",
    "}\n",
    "\n",
    "source_db_northwind = {\n",
    "    'servername': r'LAPTOP-NDOACQTH\\SQLEXPRESS',\n",
    "    'database': 'NORTHWIND'\n",
    "}\n",
    "\n",
    "# Connection details for the destination SQL Server database\n",
    "destination_db = {\n",
    "    'servername': r'LAPTOP-NDOACQTH\\SQLEXPRESS',\n",
    "    'database': 'DWUnitedOutdoors'\n",
    "}\n",
    "\n",
    "# Connection string for the source SQL Server database\n",
    "source_conn_str = (\n",
    "    'Driver={SQL Server};'\n",
    "    'SERVER=' + source_db['servername'] + ';'\n",
    "    'DATABASE=' + source_db['database'] + ';'\n",
    "    'Trusted_Connection=yes;'\n",
    ")\n",
    "\n",
    "# Connection string for the source SQL Server database\n",
    "source_conn_str_northwind = (\n",
    "    'Driver={SQL Server};'\n",
    "    'SERVER=' + source_db_northwind['servername'] + ';'\n",
    "    'DATABASE=' + source_db_northwind['database'] + ';'\n",
    "    'Trusted_Connection=yes;'\n",
    ")\n",
    "\n",
    "# Connection string for the destination SQL Server database\n",
    "destination_conn_str = (\n",
    "    'Driver={SQL Server};'\n",
    "    'SERVER=' + destination_db['servername'] + ';'\n",
    "    'DATABASE=' + destination_db['database'] + ';'\n",
    "    'Trusted_Connection=yes;'\n",
    ")"
   ],
   "metadata": {
    "collapsed": false,
    "ExecuteTime": {
     "end_time": "2024-05-28T09:57:54.908155Z",
     "start_time": "2024-05-28T09:57:54.900896Z"
    }
   },
   "id": "16161aec8932be11",
   "execution_count": 2
  },
  {
   "cell_type": "code",
   "outputs": [
    {
     "name": "stdout",
     "output_type": "stream",
     "text": [
      "Data inserted successfully.\n"
     ]
    }
   ],
   "source": [
    "#Person.Person\n",
    "try:\n",
    "    with pyodbc.connect(source_conn_str) as source_conn:\n",
    "        person_df = pd.read_sql_query(\"SELECT * FROM Person.person\", source_conn)\n",
    "        personPhone_df = pd.read_sql_query(\"SELECT PhoneNumber, PhoneNumberTypeID, BusinessEntityID FROM Person.PersonPhone\", source_conn)\n",
    "        phoneNumberType_df = pd.read_sql_query(\"SELECT PhoneNumberTypeID, Name FROM Person.PhoneNumberType\", source_conn)\n",
    "        personEmailAdress_df = pd.read_sql_query(\"SELECT EmailAddressID, EmailAddress, BusinessEntityID FROM Person.EmailAddress\", source_conn)\n",
    "        personPassword_df = pd.read_sql_query(\"SELECT PasswordHash, PasswordSalt, BusinessEntityID FROM Person.Password\", source_conn)\n",
    "\n",
    "        # Merging DataFrames\n",
    "        person_df = pd.merge(person_df, personPhone_df, on='BusinessEntityID', how='left')\n",
    "        person_df = pd.merge(person_df, phoneNumberType_df, on='PhoneNumberTypeID', how='left')\n",
    "        person_df = pd.merge(person_df, personEmailAdress_df, on='BusinessEntityID', how='left')\n",
    "        person_df = pd.merge(person_df, personPassword_df, on='BusinessEntityID', how='left')\n",
    "\n",
    "except pyodbc.Error as e:\n",
    "    print(\"Error while connecting to the source SQL Server:\", e)\n",
    "\n",
    "# Establish connection to the destination SQL Server database and insert data\n",
    "try:\n",
    "    with pyodbc.connect(destination_conn_str) as destination_conn:\n",
    "        cursor = destination_conn.cursor()\n",
    "\n",
    "        # Batch insert\n",
    "        insert_query = \"\"\"\n",
    "        INSERT INTO [DWUnitedOutdoors].[dbo].[Person]\n",
    "        (BusinessEntityID, PersonType, NameStyle, Title, FirstName, MiddleName, LastName, Suffix, EmailPromotion, PasswordSalt, PasswordHash, EmailAddress, Name, EmailAddressID, PhoneNumberTypeID)\n",
    "        VALUES (?, ?, ?, ?, ?, ?, ?, ?, ?, ?, ?, ?, ?, ?, ?)\n",
    "        \"\"\"\n",
    "\n",
    "        # Convert DataFrame to a list of tuples for batch insertion\n",
    "        data_to_insert = person_df[['BusinessEntityID', 'PersonType', 'NameStyle', 'Title', 'FirstName', 'MiddleName', 'LastName', 'Suffix', 'EmailPromotion', 'PasswordSalt', 'PasswordHash', 'EmailAddress', 'Name', 'EmailAddressID', 'PhoneNumberTypeID']].values.tolist()\n",
    "\n",
    "        # Executing batch insert\n",
    "        cursor.executemany(insert_query, data_to_insert)\n",
    "\n",
    "        # Commit transaction\n",
    "        destination_conn.commit()\n",
    "\n",
    "        print(\"Data inserted successfully.\")\n",
    "except pyodbc.Error as e:\n",
    "    print(\"Error while connecting to the destination SQL Server or inserting data:\", e)"
   ],
   "metadata": {
    "collapsed": false,
    "ExecuteTime": {
     "end_time": "2024-05-28T09:58:43.819388Z",
     "start_time": "2024-05-28T09:58:33.540197Z"
    }
   },
   "id": "1912afcb8c91cd23",
   "execution_count": 3
  },
  {
   "cell_type": "code",
   "outputs": [
    {
     "name": "stdout",
     "output_type": "stream",
     "text": [
      "Data inserted successfully.\n"
     ]
    }
   ],
   "source": [
    "#businessEntity_df\n",
    "# Establish connection to the source SQL Server database and read\n",
    "try:\n",
    "    with pyodbc.connect(source_conn_str) as source_conn:\n",
    "        businessEntity_df = pd.read_sql_query(\"SELECT BusinessEntityID FROM Person.BusinessEntity\", source_conn)\n",
    "\n",
    "except pyodbc.Error as e:\n",
    "    print(\"Error while connecting to the source SQL Server:\", e)\n",
    "\n",
    "# Establish connection to the destination SQL Server database and insert data\n",
    "try:\n",
    "    with pyodbc.connect(destination_conn_str) as destination_conn:\n",
    "        cursor = destination_conn.cursor()\n",
    "\n",
    "        # Batch insert\n",
    "        insert_query = \"\"\"\n",
    "        INSERT INTO [DWUnitedOutdoors].[dbo].[BusinessEntity]\n",
    "        (BusinessEntityID)\n",
    "        VALUES (?)\n",
    "        \"\"\"\n",
    "\n",
    "        # Convert DataFrame to a list of tuples for batch insertion\n",
    "        data_to_insert = businessEntity_df[['BusinessEntityID']].values.tolist()\n",
    "\n",
    "        # Executing batch insert\n",
    "        cursor.executemany(insert_query, data_to_insert)\n",
    "\n",
    "        # Commit transaction\n",
    "        destination_conn.commit()\n",
    "\n",
    "        print(\"Data inserted successfully.\")\n",
    "except pyodbc.Error as e:\n",
    "    print(\"Error while connecting to the destination SQL Server or inserting data:\", e)\n",
    "# businessEntity_df"
   ],
   "metadata": {
    "collapsed": false,
    "ExecuteTime": {
     "end_time": "2024-05-28T09:58:55.978437Z",
     "start_time": "2024-05-28T09:58:47.920419Z"
    }
   },
   "id": "d8896a0b7a38cc29",
   "execution_count": 4
  },
  {
   "cell_type": "code",
   "outputs": [
    {
     "name": "stdout",
     "output_type": "stream",
     "text": [
      "Data inserted successfully.\n"
     ]
    }
   ],
   "source": [
    "#businessEntityAddress_df\n",
    "# Establish connection to the source SQL Server database and read data\n",
    "try:\n",
    "    with pyodbc.connect(source_conn_str) as source_conn:\n",
    "        businessEntityAddress_df = pd.read_sql_query(\"SELECT AddressID, AddressTypeID, BusinessEntityID FROM Person.BusinessEntityAddress\", source_conn)\n",
    "        addressType_df = pd.read_sql_query(\"SELECT AddressTypeID, Name FROM Person.AddressType\", source_conn)\n",
    "                                           \n",
    "        # Merging DataFrames\n",
    "        businessEntityAddress_df = pd.merge(businessEntityAddress_df, addressType_df, on='AddressTypeID', how='left')\n",
    "except pyodbc.Error as e:\n",
    "    print(\"Error while connecting to the source SQL Server:\", e)\n",
    "\n",
    "# Establish connection to the destination SQL Server database and insert data\n",
    "try:\n",
    "    with pyodbc.connect(destination_conn_str) as destination_conn:\n",
    "        cursor = destination_conn.cursor()\n",
    "\n",
    "        # Batch insert\n",
    "        insert_query = \"\"\"\n",
    "        INSERT INTO [DWUnitedOutdoors].[dbo].[BusinessEntityAddress]\n",
    "        (BusinessEntityID, AddressID, AddressTypeID, Name)\n",
    "        VALUES (?, ?, ?, ?)\n",
    "        \"\"\"\n",
    "\n",
    "        # Convert DataFrame to a list of tuples for batch insertion\n",
    "        data_to_insert = businessEntityAddress_df[['BusinessEntityID', 'AddressID', 'AddressTypeID', 'Name']].values.tolist()\n",
    "\n",
    "        # Executing batch insert\n",
    "        cursor.executemany(insert_query, data_to_insert)\n",
    "\n",
    "        # Commit transaction\n",
    "        destination_conn.commit()\n",
    "\n",
    "        print(\"Data inserted successfully.\")\n",
    "except pyodbc.Error as e:\n",
    "    print(\"Error while connecting to the destination SQL Server or inserting data:\", e)"
   ],
   "metadata": {
    "collapsed": false,
    "ExecuteTime": {
     "end_time": "2024-05-28T09:59:11.525019Z",
     "start_time": "2024-05-28T09:59:03.552021Z"
    }
   },
   "id": "989a58665da738c6",
   "execution_count": 5
  },
  {
   "cell_type": "code",
   "outputs": [
    {
     "name": "stdout",
     "output_type": "stream",
     "text": [
      "Data inserted successfully.\n"
     ]
    }
   ],
   "source": [
    "#person.Address_df\n",
    "# Establish connection to the source SQL Server database and read data\n",
    "try:\n",
    "    with pyodbc.connect(source_conn_str) as source_conn:\n",
    "        personAddress_df = pd.read_sql_query(\"SELECT AddressID, AddressLine1, AddressLine2, City, StateProvinceID, PostalCode, SpatialLocation FROM Person.Address\", source_conn)\n",
    "                                           \n",
    "except pyodbc.Error as e:\n",
    "    print(\"Error while connecting to the source SQL Server:\", e)\n",
    "\n",
    "# Establish connection to the destination SQL Server database and insert data\n",
    "try:\n",
    "    with pyodbc.connect(destination_conn_str) as destination_conn:\n",
    "        cursor = destination_conn.cursor()\n",
    "\n",
    "        # Batch insert\n",
    "        insert_query = \"\"\"\n",
    "        INSERT INTO [DWUnitedOutdoors].[dbo].[Address]\n",
    "        (AddressID, AddressLine1, AddressLine2, City, StateProvinceID, PostalCode, SpatialLocation)\n",
    "        VALUES (?, ?, ?, ?, ?, ?, ?)\n",
    "        \"\"\"\n",
    "\n",
    "        # Convert DataFrame to a list of tuples for batch insertion\n",
    "        data_to_insert = personAddress_df[['AddressID', 'AddressLine1', 'AddressLine2', 'City', 'StateProvinceID', 'PostalCode', 'SpatialLocation']].values.tolist()\n",
    "\n",
    "        # Executing batch insert\n",
    "        cursor.executemany(insert_query, data_to_insert)\n",
    "\n",
    "        # Commit transaction\n",
    "        destination_conn.commit()\n",
    "\n",
    "        print(\"Data inserted successfully.\")\n",
    "except pyodbc.Error as e:\n",
    "    print(\"Error while connecting to the destination SQL Server or inserting data:\", e)"
   ],
   "metadata": {
    "collapsed": false,
    "ExecuteTime": {
     "end_time": "2024-05-28T09:59:25.871750Z",
     "start_time": "2024-05-28T09:59:14.283974Z"
    }
   },
   "id": "5d9010f60301d52d",
   "execution_count": 6
  },
  {
   "cell_type": "code",
   "outputs": [
    {
     "name": "stdout",
     "output_type": "stream",
     "text": [
      "Data inserted successfully.\n"
     ]
    }
   ],
   "source": [
    "#Sales.CreditCard\n",
    "# Establish connection to the source SQL Server database and read data\n",
    "try:\n",
    "    with pyodbc.connect(source_conn_str) as source_conn:\n",
    "        creditCard_df = pd.read_sql_query(\"SELECT CreditCardID, CardType, CardNumber, ExpMonth, ExpYear FROM Sales.CreditCard\", source_conn)\n",
    "        personCreditCard_df = pd.read_sql_query(\"SELECT CreditCardID, BusinessEntityID FROM Sales.PersonCreditCard\", source_conn)\n",
    "        \n",
    "        # Merging DataFrames\n",
    "        creditCard_df = pd.merge(creditCard_df, personCreditCard_df, on='CreditCardID', how='left')\n",
    "except pyodbc.Error as e:\n",
    "    print(\"Error while connecting to the source SQL Server:\", e)\n",
    "\n",
    "#Establish connection to the destination SQL Server database and insert data\n",
    "try:\n",
    "    with pyodbc.connect(destination_conn_str) as destination_conn:\n",
    "        cursor = destination_conn.cursor()\n",
    "\n",
    "        # Batch insert\n",
    "        insert_query = \"\"\"\n",
    "        INSERT INTO [DWUnitedOutdoors].[dbo].[CreditCard]\n",
    "        (CreditCardID, BusinessEntityID, CardType, CardNumber, ExpMonth, ExpYear)\n",
    "        VALUES (?, ?, ?, ?, ?, ?)\n",
    "        \"\"\"\n",
    "\n",
    "        # Convert DataFrame to a list of tuples for batch insertion\n",
    "        data_to_insert = creditCard_df[['CreditCardID', 'BusinessEntityID', 'CardType', 'CardNumber', 'ExpMonth', 'ExpYear']].values.tolist()\n",
    "\n",
    "        # Executing batch insert\n",
    "        cursor.executemany(insert_query, data_to_insert)\n",
    "\n",
    "        # Commit transaction\n",
    "        destination_conn.commit()\n",
    "\n",
    "        print(\"Data inserted successfully.\")\n",
    "except pyodbc.Error as e:\n",
    "    print(\"Error while connecting to the destination SQL Server or inserting data:\", e)"
   ],
   "metadata": {
    "collapsed": false,
    "ExecuteTime": {
     "end_time": "2024-05-28T09:59:34.874613Z",
     "start_time": "2024-05-28T09:59:27.653971Z"
    }
   },
   "id": "fad37f56e4051836",
   "execution_count": 7
  },
  {
   "cell_type": "code",
   "outputs": [
    {
     "name": "stdout",
     "output_type": "stream",
     "text": [
      "Data inserted successfully into SalesPerson table.\n"
     ]
    }
   ],
   "source": [
    "#Sales.SalesPerson\n",
    "# Establish connection to the source SQL Server database and read data  \n",
    "try:\n",
    "    with pyodbc.connect(source_conn_str) as source_conn:\n",
    "        salesPerson_df = pd.read_sql_query(\"SELECT BusinessEntityID, TerritoryID, SalesQuota, Bonus, CommissionPct, SalesLastYear, SalesYTD FROM Sales.SalesPerson\", source_conn)\n",
    "except pyodbc.Error as e:\n",
    "    print(\"Error while connecting to the source SQL Server:\", e)\n",
    "\n",
    "# Fill NaN values in selected columns\n",
    "salesPerson_df['TerritoryID'].fillna(0.0, inplace=True)\n",
    "salesPerson_df['SalesQuota'].fillna(0.0, inplace=True)\n",
    "salesPerson_df['CommissionPct'].fillna(0.0, inplace=True)\n",
    "\n",
    "try:\n",
    "    with pyodbc.connect(destination_conn_str) as destination_conn:\n",
    "        cursor = destination_conn.cursor()\n",
    "         \n",
    "        # Batch insert\n",
    "        insert_query = \"\"\"\n",
    "        INSERT INTO [DWUnitedOutdoors].[dbo].[SalesPerson]\n",
    "        (BusinessEntityID, TerritoryID, SalesQuota, Bonus, CommisionPct, SalesLastYear, SalesYTD)\n",
    "        VALUES (?, ?, ?, ?, ?, ?, ?)\n",
    "        \"\"\"\n",
    "         \n",
    "        # Convert DataFrame to a list of tuples for batch insertion\n",
    "        data_to_insert = salesPerson_df[['BusinessEntityID', 'TerritoryID', 'SalesQuota', 'Bonus', 'CommissionPct', 'SalesLastYear', 'SalesYTD']].values.tolist()\n",
    "         \n",
    "        # Executing batch insert\n",
    "        cursor.executemany(insert_query, data_to_insert)\n",
    "         \n",
    "        # Commit transaction\n",
    "        destination_conn.commit()\n",
    "         \n",
    "        print(\"Data inserted successfully into SalesPerson table.\")\n",
    "except pyodbc.Error as e:\n",
    "    print(\"Error while connecting to the destination SQL Server:\", e)"
   ],
   "metadata": {
    "collapsed": false,
    "ExecuteTime": {
     "end_time": "2024-05-28T09:59:37.527420Z",
     "start_time": "2024-05-28T09:59:37.489901Z"
    }
   },
   "id": "441d1a18c8930dc4",
   "execution_count": 8
  },
  {
   "cell_type": "code",
   "outputs": [
    {
     "name": "stdout",
     "output_type": "stream",
     "text": [
      "Data inserted successfully into salesstore table.\n"
     ]
    }
   ],
   "source": [
    "#Sales.Store\n",
    "# Establish connection to the source SQL Server database and read data\n",
    "try:\n",
    "    with pyodbc.connect(source_conn_str) as source_conn:\n",
    "        salesStore_df = pd.read_sql_query(\"SELECT BusinessEntityID, Name, SalesPersonID FROM Sales.Store\", source_conn)\n",
    "\n",
    "except pyodbc.Error as e:\n",
    "    print(\"Error while connecting to the source SQL Server:\", e)\n",
    "\n",
    "try:\n",
    "    with pyodbc.connect(destination_conn_str) as destination_conn:\n",
    "        cursor = destination_conn.cursor()\n",
    "        # Batch insert for salesPersonQuotaHistory_df\n",
    "        insert_query = \"\"\"\n",
    "        INSERT INTO [DWUnitedOutdoors].[dbo].[Store]\n",
    "        (BusinessEntityID, Name, SalesPersonID)\n",
    "        VALUES (?, ?, ?)\n",
    "        \"\"\"\n",
    "\n",
    "        # Convert DataFrame to a list of tuples for batch insertion\n",
    "        data_to_insert = salesStore_df[['BusinessEntityID', 'Name', 'SalesPersonID']].values.tolist()\n",
    "\n",
    "        # Executing batch insert\n",
    "        cursor.executemany(insert_query, data_to_insert)\n",
    "\n",
    "        # Commit transaction\n",
    "        destination_conn.commit()\n",
    "\n",
    "        print(\"Data inserted successfully into salesstore table.\")\n",
    "except pyodbc.Error as e:\n",
    "    print(\"Error while connecting to the destination SQL Server:\", e)"
   ],
   "metadata": {
    "collapsed": false,
    "ExecuteTime": {
     "end_time": "2024-05-28T09:59:41.202666Z",
     "start_time": "2024-05-28T09:59:40.968422Z"
    }
   },
   "id": "166ce2830c11ce9e",
   "execution_count": 9
  },
  {
   "cell_type": "code",
   "outputs": [
    {
     "name": "stdout",
     "output_type": "stream",
     "text": [
      "Data inserted successfully into SalesPersonQuotaHistory table.\n"
     ]
    }
   ],
   "source": [
    "#Sales.SalesPersonQuotaHistory\n",
    "# Establish connection to the source SQL Server database and read data\n",
    "try:\n",
    "    with pyodbc.connect(source_conn_str) as source_conn:\n",
    "        salesPersonQuotaHistory_df = pd.read_sql_query(\"SELECT BusinessEntityID, QuotaDate, SalesQuota FROM Sales.SalesPersonQuotaHistory\", source_conn)\n",
    "\n",
    "except pyodbc.Error as e:\n",
    "    print(\"Error while connecting to the source SQL Server:\", e)\n",
    "\n",
    "try:\n",
    "    with pyodbc.connect(destination_conn_str) as destination_conn:\n",
    "        cursor = destination_conn.cursor()\n",
    "        # Batch insert for salesPersonQuotaHistory_df\n",
    "        insert_query = \"\"\"\n",
    "        INSERT INTO [DWUnitedOutdoors].[dbo].[SalesPersonQuotaHistory]\n",
    "        (BusinessEntityID, QuotaDate, SalesQuota)\n",
    "        VALUES (?, ?, ?)\n",
    "        \"\"\"\n",
    "\n",
    "        # Convert DataFrame to a list of tuples for batch insertion\n",
    "        data_to_insert = salesPersonQuotaHistory_df[['BusinessEntityID', 'QuotaDate', 'SalesQuota']].values.tolist()\n",
    "\n",
    "        # Executing batch insert\n",
    "        cursor.executemany(insert_query, data_to_insert)\n",
    "\n",
    "        # Commit transaction\n",
    "        destination_conn.commit()\n",
    "\n",
    "        print(\"Data inserted successfully into SalesPersonQuotaHistory table.\")\n",
    "except pyodbc.Error as e:\n",
    "    print(\"Error while connecting to the destination SQL Server:\", e)"
   ],
   "metadata": {
    "collapsed": false,
    "ExecuteTime": {
     "end_time": "2024-05-28T09:59:43.515208Z",
     "start_time": "2024-05-28T09:59:43.359823Z"
    }
   },
   "id": "2abf05623641e147",
   "execution_count": 10
  },
  {
   "cell_type": "code",
   "outputs": [
    {
     "name": "stdout",
     "output_type": "stream",
     "text": [
      "Data inserted successfully into SalesTerritoryHistory table.\n"
     ]
    }
   ],
   "source": [
    "#Sales.SalesTerritoryHistory\n",
    "# Establish connection to the source SQL Server database and read data\n",
    "try:\n",
    "    with pyodbc.connect(source_conn_str) as source_conn:\n",
    "        salesTerritoryHistory_df = pd.read_sql_query(\"SELECT BusinessEntityID, TerritoryID, StartDate, EndDate FROM Sales.salesTerritoryHistory\", source_conn)\n",
    "\n",
    "except pyodbc.Error as e:\n",
    "    print(\"Error while connecting to the source SQL Server:\", e)\n",
    "\n",
    "# Convert date columns to datetime objects\n",
    "date_columns = ['StartDate', 'EndDate']\n",
    "for column in date_columns:\n",
    "    salesTerritoryHistory_df[column] = pd.to_datetime(salesTerritoryHistory_df[column], errors='coerce')\n",
    "\n",
    "# Drop rows with invalid dates\n",
    "salesTerritoryHistory_df.dropna(subset=date_columns, inplace=True)\n",
    "\n",
    "# Format dates as strings in 'YYYY-MM-DD' format\n",
    "salesTerritoryHistory_df['StartDate'] = salesTerritoryHistory_df['StartDate'].dt.strftime('%Y-%m-%d')\n",
    "salesTerritoryHistory_df['EndDate'] = salesTerritoryHistory_df['EndDate'].dt.strftime('%Y-%m-%d')\n",
    "\n",
    "try:\n",
    "    with pyodbc.connect(destination_conn_str) as destination_conn:\n",
    "        cursor = destination_conn.cursor()\n",
    "        # Batch insert for salesTerritoryHistory_df\n",
    "        insert_query = \"\"\"\n",
    "        INSERT INTO [DWUnitedOutdoors].[dbo].[SalesTerritoryHistory]\n",
    "        (BusinessEntityID, TerritoryID, StartDate, EndDate)\n",
    "        VALUES (?, ?, ?, ?)\n",
    "        \"\"\"\n",
    "\n",
    "        # Convert DataFrame to a list of tuples for batch insertion\n",
    "        data_to_insert = salesTerritoryHistory_df[['BusinessEntityID', 'TerritoryID', 'StartDate', 'EndDate']].values.tolist()\n",
    "\n",
    "        # Executing batch insert\n",
    "        cursor.executemany(insert_query, data_to_insert)\n",
    "\n",
    "        # Commit transaction\n",
    "        destination_conn.commit()\n",
    "\n",
    "        print(\"Data inserted successfully into SalesTerritoryHistory table.\")\n",
    "except pyodbc.Error as e:\n",
    "    print(\"Error while connecting to the destination SQL Server:\", e)"
   ],
   "metadata": {
    "collapsed": false,
    "ExecuteTime": {
     "end_time": "2024-05-28T09:59:45.943430Z",
     "start_time": "2024-05-28T09:59:45.911431Z"
    }
   },
   "id": "92838288f2ed568d",
   "execution_count": 11
  },
  {
   "cell_type": "code",
   "outputs": [
    {
     "name": "stdout",
     "output_type": "stream",
     "text": [
      "Data inserted successfully into SalesTerritory table.\n"
     ]
    }
   ],
   "source": [
    "#Sales.SalesTerritory\n",
    "# Establish connection to the source SQL Server database and read data\n",
    "try:\n",
    "    with pyodbc.connect(source_conn_str) as source_conn:\n",
    "        SalesTerritory_df = pd.read_sql_query(\"SELECT TerritoryID, Name, CountryRegionCode, [Group], SalesYTD, SalesLastYear, CostYTD, CostLastYear FROM Sales.SalesTerritory\", source_conn)\n",
    "\n",
    "except pyodbc.Error as e:\n",
    "    print(\"Error while connecting to the source SQL Server:\", e)\n",
    "\n",
    "try:\n",
    "    with pyodbc.connect(destination_conn_str) as destination_conn:\n",
    "        cursor = destination_conn.cursor()\n",
    "        # Batch insert for SalesTerritory_df\n",
    "        insert_query = \"\"\"\n",
    "        INSERT INTO [DWUnitedOutdoors].[dbo].[SalesTerritory]\n",
    "        (TerritoryID, Name, CountryRegionCode, [Group], SalesYTD, SalesLastYear, CostYTD, CostLastYear)\n",
    "        VALUES (?, ?, ?, ?, ?, ?, ?, ?)\n",
    "        \"\"\"\n",
    "\n",
    "        # Convert DataFrame to a list of tuples for batch insertion\n",
    "        data_to_insert = SalesTerritory_df[['TerritoryID', 'Name', 'CountryRegionCode', 'Group', 'SalesYTD', 'SalesLastYear', 'CostYTD', 'CostLastYear']].values.tolist()\n",
    "\n",
    "        # Executing batch insert\n",
    "        cursor.executemany(insert_query, data_to_insert)\n",
    "\n",
    "        # Commit transaction\n",
    "        destination_conn.commit()\n",
    "\n",
    "        print(\"Data inserted successfully into SalesTerritory table.\")\n",
    "except pyodbc.Error as e:\n",
    "    print(\"Error while connecting to the destination SQL Server:\", e)"
   ],
   "metadata": {
    "collapsed": false,
    "ExecuteTime": {
     "end_time": "2024-05-28T09:59:48.752306Z",
     "start_time": "2024-05-28T09:59:48.718873Z"
    }
   },
   "id": "76c9a6a9aeb1455e",
   "execution_count": 12
  },
  {
   "cell_type": "code",
   "outputs": [
    {
     "name": "stdout",
     "output_type": "stream",
     "text": [
      "Data inserted successfully into CountryRegionCurrency table.\n"
     ]
    }
   ],
   "source": [
    "#Sales.CountryRegionCurrency\n",
    "# Establish connection to the source SQL Server database and read data\n",
    "try:\n",
    "    with pyodbc.connect(source_conn_str) as source_conn:\n",
    "        CountryRegionCurrency_df = pd.read_sql_query(\"SELECT CountryRegionCode, CurrencyCode FROM Sales.CountryRegionCurrency\",source_conn)\n",
    "\n",
    "except pyodbc.Error as e:\n",
    "    print(\"Error while connecting to the source SQL Server:\", e)\n",
    "\n",
    "try:\n",
    "    with pyodbc.connect(destination_conn_str) as destination_conn:\n",
    "        cursor = destination_conn.cursor()\n",
    "        # Batch insert for CountryRegionCurrency_df\n",
    "        insert_query = \"\"\"\n",
    "        INSERT INTO [DWUnitedOutdoors].[dbo].[CountryRegionCurrency]\n",
    "        (CountryRegionCode, CurrencyCode)\n",
    "        VALUES (?, ?)\n",
    "        \"\"\"\n",
    "\n",
    "        # Convert DataFrame to a list of tuples for batch insertion\n",
    "        data_to_insert = CountryRegionCurrency_df[['CountryRegionCode', 'CurrencyCode']].values.tolist()\n",
    "\n",
    "        # Executing batch insert\n",
    "        cursor.executemany(insert_query, data_to_insert)\n",
    "\n",
    "        # Commit transaction\n",
    "        destination_conn.commit()\n",
    "\n",
    "        print(\"Data inserted successfully into CountryRegionCurrency table.\")\n",
    "except pyodbc.Error as e:\n",
    "    print(\"Error while connecting to the destination SQL Server:\", e)"
   ],
   "metadata": {
    "collapsed": false,
    "ExecuteTime": {
     "end_time": "2024-05-28T09:59:51.261930Z",
     "start_time": "2024-05-28T09:59:51.165879Z"
    }
   },
   "id": "b8d02dd499257de5",
   "execution_count": 13
  },
  {
   "cell_type": "code",
   "outputs": [
    {
     "name": "stdout",
     "output_type": "stream",
     "text": [
      "Data inserted successfully into Currency table.\n"
     ]
    }
   ],
   "source": [
    "#Sales.Currency\n",
    "# Establish connection to the source SQL Server database and read data\n",
    "try:\n",
    "    with pyodbc.connect(source_conn_str) as source_conn:\n",
    "        currency_df = pd.read_sql_query(\"SELECT CurrencyCode, Name FROM Sales.Currency\",source_conn)\n",
    "\n",
    "except pyodbc.Error as e:\n",
    "    print(\"Error while connecting to the source SQL Server:\", e)\n",
    "\n",
    "try:\n",
    "    with pyodbc.connect(destination_conn_str) as destination_conn:\n",
    "        cursor = destination_conn.cursor()\n",
    "        # Batch insert for currency_df\n",
    "        insert_query = \"\"\"\n",
    "        INSERT INTO [DWUnitedOutdoors].[dbo].[Currency]\n",
    "        (CurrencyCode, Name)\n",
    "        VALUES (?, ?)\n",
    "        \"\"\"\n",
    "\n",
    "        # Convert DataFrame to a list of tuples for batch insertion\n",
    "        data_to_insert = currency_df[['CurrencyCode', 'Name']].values.tolist()\n",
    "\n",
    "        # Executing batch insert\n",
    "        cursor.executemany(insert_query, data_to_insert)\n",
    "\n",
    "        # Commit transaction\n",
    "        destination_conn.commit()\n",
    "\n",
    "        print(\"Data inserted successfully into Currency table.\")\n",
    "except pyodbc.Error as e:\n",
    "    print(\"Error while connecting to the destination SQL Server:\", e)"
   ],
   "metadata": {
    "collapsed": false,
    "ExecuteTime": {
     "end_time": "2024-05-28T09:59:53.703202Z",
     "start_time": "2024-05-28T09:59:53.597917Z"
    }
   },
   "id": "95898d7383bc0afe",
   "execution_count": 14
  },
  {
   "cell_type": "code",
   "outputs": [
    {
     "name": "stdout",
     "output_type": "stream",
     "text": [
      "Data inserted successfully into SalesOrder table.\n"
     ]
    },
    {
     "data": {
      "text/plain": "        SalesOrderDetailID CarrierTrackingNumber  OrderQty  ProductID  \\\n0                        1          4911-403C-98         1        776   \n1                        2          4911-403C-98         3        777   \n2                        3          4911-403C-98         1        778   \n3                        4          4911-403C-98         1        771   \n4                        5          4911-403C-98         1        772   \n...                    ...                   ...       ...        ...   \n121312              121313               Default         1        878   \n121313              121314               Default         1        712   \n121314              121315               Default         1        878   \n121315              121316               Default         1        879   \n121316              121317               Default         1        712   \n\n        SpecialOfferID  UnitPrice  UnitPriceDiscount  LineTotal  SalesOrderID  \\\n0                    1   2024.994                0.0   2024.994         43659   \n1                    1   2024.994                0.0   6074.982         43659   \n2                    1   2024.994                0.0   2024.994         43659   \n3                    1   2039.994                0.0   2039.994         43659   \n4                    1   2039.994                0.0   2039.994         43659   \n...                ...        ...                ...        ...           ...   \n121312               1     21.980                0.0     21.980         75122   \n121313               1      8.990                0.0      8.990         75122   \n121314               1     21.980                0.0     21.980         75123   \n121315               1    159.000                0.0    159.000         75123   \n121316               1      8.990                0.0      8.990         75123   \n\n        OrderDate  ... CurrencyRateID CreditCardID    SubTotal     TaxAmt  \\\n0      2011-05-31  ...              0        16281  20565.6206  1971.5149   \n1      2011-05-31  ...              0        16281  20565.6206  1971.5149   \n2      2011-05-31  ...              0        16281  20565.6206  1971.5149   \n3      2011-05-31  ...              0        16281  20565.6206  1971.5149   \n4      2011-05-31  ...              0        16281  20565.6206  1971.5149   \n...           ...  ...            ...          ...         ...        ...   \n121312 2014-06-30  ...              0        18719     30.9700     2.4776   \n121313 2014-06-30  ...              0        18719     30.9700     2.4776   \n121314 2014-06-30  ...              0        10084    189.9700    15.1976   \n121315 2014-06-30  ...              0        10084    189.9700    15.1976   \n121316 2014-06-30  ...              0        10084    189.9700    15.1976   \n\n         Freight CurrencyRateDate  FromCurrencyCode  ToCurrencyCode  \\\n0       616.0984       1900-01-01           default         default   \n1       616.0984       1900-01-01           default         default   \n2       616.0984       1900-01-01           default         default   \n3       616.0984       1900-01-01           default         default   \n4       616.0984       1900-01-01           default         default   \n...          ...              ...               ...             ...   \n121312    0.7743       1900-01-01           default         default   \n121313    0.7743       1900-01-01           default         default   \n121314    4.7493       1900-01-01           default         default   \n121315    4.7493       1900-01-01           default         default   \n121316    4.7493       1900-01-01           default         default   \n\n        AverageRate  EndOfDayRate  \n0               0.0           0.0  \n1               0.0           0.0  \n2               0.0           0.0  \n3               0.0           0.0  \n4               0.0           0.0  \n...             ...           ...  \n121312          0.0           0.0  \n121313          0.0           0.0  \n121314          0.0           0.0  \n121315          0.0           0.0  \n121316          0.0           0.0  \n\n[121317 rows x 32 columns]",
      "text/html": "<div>\n<style scoped>\n    .dataframe tbody tr th:only-of-type {\n        vertical-align: middle;\n    }\n\n    .dataframe tbody tr th {\n        vertical-align: top;\n    }\n\n    .dataframe thead th {\n        text-align: right;\n    }\n</style>\n<table border=\"1\" class=\"dataframe\">\n  <thead>\n    <tr style=\"text-align: right;\">\n      <th></th>\n      <th>SalesOrderDetailID</th>\n      <th>CarrierTrackingNumber</th>\n      <th>OrderQty</th>\n      <th>ProductID</th>\n      <th>SpecialOfferID</th>\n      <th>UnitPrice</th>\n      <th>UnitPriceDiscount</th>\n      <th>LineTotal</th>\n      <th>SalesOrderID</th>\n      <th>OrderDate</th>\n      <th>...</th>\n      <th>CurrencyRateID</th>\n      <th>CreditCardID</th>\n      <th>SubTotal</th>\n      <th>TaxAmt</th>\n      <th>Freight</th>\n      <th>CurrencyRateDate</th>\n      <th>FromCurrencyCode</th>\n      <th>ToCurrencyCode</th>\n      <th>AverageRate</th>\n      <th>EndOfDayRate</th>\n    </tr>\n  </thead>\n  <tbody>\n    <tr>\n      <th>0</th>\n      <td>1</td>\n      <td>4911-403C-98</td>\n      <td>1</td>\n      <td>776</td>\n      <td>1</td>\n      <td>2024.994</td>\n      <td>0.0</td>\n      <td>2024.994</td>\n      <td>43659</td>\n      <td>2011-05-31</td>\n      <td>...</td>\n      <td>0</td>\n      <td>16281</td>\n      <td>20565.6206</td>\n      <td>1971.5149</td>\n      <td>616.0984</td>\n      <td>1900-01-01</td>\n      <td>default</td>\n      <td>default</td>\n      <td>0.0</td>\n      <td>0.0</td>\n    </tr>\n    <tr>\n      <th>1</th>\n      <td>2</td>\n      <td>4911-403C-98</td>\n      <td>3</td>\n      <td>777</td>\n      <td>1</td>\n      <td>2024.994</td>\n      <td>0.0</td>\n      <td>6074.982</td>\n      <td>43659</td>\n      <td>2011-05-31</td>\n      <td>...</td>\n      <td>0</td>\n      <td>16281</td>\n      <td>20565.6206</td>\n      <td>1971.5149</td>\n      <td>616.0984</td>\n      <td>1900-01-01</td>\n      <td>default</td>\n      <td>default</td>\n      <td>0.0</td>\n      <td>0.0</td>\n    </tr>\n    <tr>\n      <th>2</th>\n      <td>3</td>\n      <td>4911-403C-98</td>\n      <td>1</td>\n      <td>778</td>\n      <td>1</td>\n      <td>2024.994</td>\n      <td>0.0</td>\n      <td>2024.994</td>\n      <td>43659</td>\n      <td>2011-05-31</td>\n      <td>...</td>\n      <td>0</td>\n      <td>16281</td>\n      <td>20565.6206</td>\n      <td>1971.5149</td>\n      <td>616.0984</td>\n      <td>1900-01-01</td>\n      <td>default</td>\n      <td>default</td>\n      <td>0.0</td>\n      <td>0.0</td>\n    </tr>\n    <tr>\n      <th>3</th>\n      <td>4</td>\n      <td>4911-403C-98</td>\n      <td>1</td>\n      <td>771</td>\n      <td>1</td>\n      <td>2039.994</td>\n      <td>0.0</td>\n      <td>2039.994</td>\n      <td>43659</td>\n      <td>2011-05-31</td>\n      <td>...</td>\n      <td>0</td>\n      <td>16281</td>\n      <td>20565.6206</td>\n      <td>1971.5149</td>\n      <td>616.0984</td>\n      <td>1900-01-01</td>\n      <td>default</td>\n      <td>default</td>\n      <td>0.0</td>\n      <td>0.0</td>\n    </tr>\n    <tr>\n      <th>4</th>\n      <td>5</td>\n      <td>4911-403C-98</td>\n      <td>1</td>\n      <td>772</td>\n      <td>1</td>\n      <td>2039.994</td>\n      <td>0.0</td>\n      <td>2039.994</td>\n      <td>43659</td>\n      <td>2011-05-31</td>\n      <td>...</td>\n      <td>0</td>\n      <td>16281</td>\n      <td>20565.6206</td>\n      <td>1971.5149</td>\n      <td>616.0984</td>\n      <td>1900-01-01</td>\n      <td>default</td>\n      <td>default</td>\n      <td>0.0</td>\n      <td>0.0</td>\n    </tr>\n    <tr>\n      <th>...</th>\n      <td>...</td>\n      <td>...</td>\n      <td>...</td>\n      <td>...</td>\n      <td>...</td>\n      <td>...</td>\n      <td>...</td>\n      <td>...</td>\n      <td>...</td>\n      <td>...</td>\n      <td>...</td>\n      <td>...</td>\n      <td>...</td>\n      <td>...</td>\n      <td>...</td>\n      <td>...</td>\n      <td>...</td>\n      <td>...</td>\n      <td>...</td>\n      <td>...</td>\n      <td>...</td>\n    </tr>\n    <tr>\n      <th>121312</th>\n      <td>121313</td>\n      <td>Default</td>\n      <td>1</td>\n      <td>878</td>\n      <td>1</td>\n      <td>21.980</td>\n      <td>0.0</td>\n      <td>21.980</td>\n      <td>75122</td>\n      <td>2014-06-30</td>\n      <td>...</td>\n      <td>0</td>\n      <td>18719</td>\n      <td>30.9700</td>\n      <td>2.4776</td>\n      <td>0.7743</td>\n      <td>1900-01-01</td>\n      <td>default</td>\n      <td>default</td>\n      <td>0.0</td>\n      <td>0.0</td>\n    </tr>\n    <tr>\n      <th>121313</th>\n      <td>121314</td>\n      <td>Default</td>\n      <td>1</td>\n      <td>712</td>\n      <td>1</td>\n      <td>8.990</td>\n      <td>0.0</td>\n      <td>8.990</td>\n      <td>75122</td>\n      <td>2014-06-30</td>\n      <td>...</td>\n      <td>0</td>\n      <td>18719</td>\n      <td>30.9700</td>\n      <td>2.4776</td>\n      <td>0.7743</td>\n      <td>1900-01-01</td>\n      <td>default</td>\n      <td>default</td>\n      <td>0.0</td>\n      <td>0.0</td>\n    </tr>\n    <tr>\n      <th>121314</th>\n      <td>121315</td>\n      <td>Default</td>\n      <td>1</td>\n      <td>878</td>\n      <td>1</td>\n      <td>21.980</td>\n      <td>0.0</td>\n      <td>21.980</td>\n      <td>75123</td>\n      <td>2014-06-30</td>\n      <td>...</td>\n      <td>0</td>\n      <td>10084</td>\n      <td>189.9700</td>\n      <td>15.1976</td>\n      <td>4.7493</td>\n      <td>1900-01-01</td>\n      <td>default</td>\n      <td>default</td>\n      <td>0.0</td>\n      <td>0.0</td>\n    </tr>\n    <tr>\n      <th>121315</th>\n      <td>121316</td>\n      <td>Default</td>\n      <td>1</td>\n      <td>879</td>\n      <td>1</td>\n      <td>159.000</td>\n      <td>0.0</td>\n      <td>159.000</td>\n      <td>75123</td>\n      <td>2014-06-30</td>\n      <td>...</td>\n      <td>0</td>\n      <td>10084</td>\n      <td>189.9700</td>\n      <td>15.1976</td>\n      <td>4.7493</td>\n      <td>1900-01-01</td>\n      <td>default</td>\n      <td>default</td>\n      <td>0.0</td>\n      <td>0.0</td>\n    </tr>\n    <tr>\n      <th>121316</th>\n      <td>121317</td>\n      <td>Default</td>\n      <td>1</td>\n      <td>712</td>\n      <td>1</td>\n      <td>8.990</td>\n      <td>0.0</td>\n      <td>8.990</td>\n      <td>75123</td>\n      <td>2014-06-30</td>\n      <td>...</td>\n      <td>0</td>\n      <td>10084</td>\n      <td>189.9700</td>\n      <td>15.1976</td>\n      <td>4.7493</td>\n      <td>1900-01-01</td>\n      <td>default</td>\n      <td>default</td>\n      <td>0.0</td>\n      <td>0.0</td>\n    </tr>\n  </tbody>\n</table>\n<p>121317 rows × 32 columns</p>\n</div>"
     },
     "execution_count": 102,
     "metadata": {},
     "output_type": "execute_result"
    }
   ],
   "source": [
    "#Sales.order\n",
    "try:\n",
    "    with pyodbc.connect(source_conn_str) as source_conn:\n",
    "        sales_order_header_df = pd.read_sql_query(\"SELECT SalesOrderID, OrderDate, DueDate, ShipDate, Status, SalesOrderNumber, PurchaseOrderNumber, AccountNumber, CustomerID, SalesPersonID, TerritoryID, BillToAddressID, ShipToAddressID, ShipMethodID, CurrencyRateID, CreditCardID, SubTotal, TaxAmt, Freight   FROM Sales.SalesOrderHeader\", source_conn)\n",
    "        sales_order_detail_df = pd.read_sql_query(\"SELECT SalesOrderDetailID, CarrierTrackingNumber , OrderQty, ProductID,SpecialOfferID,UnitPrice, UnitPriceDiscount, LineTotal, SalesOrderID  FROM Sales.SalesOrderDetail \", source_conn)\n",
    "        currency_rate_df = pd.read_sql_query(\"SELECT CurrencyRateID, CurrencyRateDate,FromCurrencyCode, ToCurrencyCode, AverageRate, EndOfDayRate  FROM Sales.CurrencyRate\", source_conn)\n",
    "        \n",
    "        ## merging dataframes\n",
    "        sales_order_df = pd.merge(sales_order_header_df, currency_rate_df, on='CurrencyRateID', how='left')\n",
    "        sales_order_df = pd.merge(sales_order_detail_df, sales_order_df, on='SalesOrderID', how='left')\n",
    "                           \n",
    "except pyodbc.Error as e:\n",
    "    print(\"Error while connecting to the source SQL Server:\", e)\n",
    "    \n",
    "sales_order_df['OrderDate'] = pd.to_datetime(sales_order_df['OrderDate'], errors='coerce')\n",
    "sales_order_df['DueDate'] = pd.to_datetime(sales_order_df['DueDate'], errors='coerce')\n",
    "sales_order_df['ShipDate'] = pd.to_datetime(sales_order_df['ShipDate'], errors='coerce')\n",
    "sales_order_df['CurrencyRateDate'] = pd.to_datetime(sales_order_df['CurrencyRateDate'], errors='coerce')\n",
    "\n",
    "# Replace NaT values with a default datetime value\n",
    "default_date = pd.Timestamp('1900-01-01')  # or any other default value you prefer\n",
    "sales_order_df['OrderDate'].fillna(default_date, inplace=True)\n",
    "sales_order_df['DueDate'].fillna(default_date, inplace=True)\n",
    "sales_order_df['ShipDate'].fillna(default_date, inplace=True)\n",
    "sales_order_df['CurrencyRateDate'].fillna(default_date, inplace=True)\n",
    "sales_order_df['Freight'].fillna(0.0, inplace=True)\n",
    "sales_order_df['FromCurrencyCode'].fillna('default', inplace=True)\n",
    "sales_order_df['ToCurrencyCode'].fillna('default', inplace=True)\n",
    "sales_order_df['AverageRate'].fillna(0.0, inplace=True)\n",
    "sales_order_df['EndOfDayRate'].fillna(0.0, inplace=True)\n",
    "sales_order_df['CurrencyRateID'].fillna(0, inplace=True)\n",
    "sales_order_df['Status'].fillna(0, inplace=True)\n",
    "sales_order_df['CarrierTrackingNumber'].fillna('Default', inplace=True)\n",
    "sales_order_df['SalesPersonID'].fillna(0, inplace=True)\n",
    "sales_order_df['TaxAmt'].fillna(0.0, inplace=True)\n",
    "sales_order_df['CreditCardID'].fillna(0, inplace=True)\n",
    "\n",
    "sales_order_df['CreditCardID'] = sales_order_df['CreditCardID'].astype(int)\n",
    "sales_order_df['CurrencyRateID'] = sales_order_df['CurrencyRateID'].astype(int)\n",
    "sales_order_df['SalesPersonID'] = sales_order_df['SalesPersonID'].astype(int)\n",
    "\n",
    "try:\n",
    "    with pyodbc.connect(destination_conn_str) as destination_conn:\n",
    "        cursor = destination_conn.cursor()\n",
    "        # Batch insert for sales_order_df\n",
    "        insert_query = \"\"\"\n",
    "        INSERT INTO [DWUnitedOutdoors].[dbo].[Sales_Order]\n",
    "        (SalesOrderID, OrderDate, DueDate, ShipDate, Status, SalesOrderNumber, PurchaseOrderNumber, AccountNumber, CustomerID, SalesPersonID, TerritoryID, BillToAdressID, ShipToAdressID, ShipMethodID, CurrencyRateID, CreditCardID, SubTotal, TaxAmt, Freight, SalesOrderDetailID, CarrierTrackingNumber, OrderQty, ProductID, UnitPrice, UnitPriceDiscount, LineTotal, CurrencyRateDate, FromCurrencyCode, ToCurrencyCode, AverageRate, EndOfDayRate)\n",
    "        VALUES (?, ?, ?, ?, ?, ?, ?, ?, ?, ?, ?, ?, ?, ?, ?, ?, ?, ?, ?, ?, ?, ?, ?, ?, ?, ?, ?, ?, ?, ?, ?)\n",
    "        \"\"\"\n",
    "\n",
    "        # Convert DataFrame to a list of tuples for batch insertion\n",
    "        data_to_insert = sales_order_df[['SalesOrderID', 'OrderDate', 'DueDate', 'ShipDate', 'Status', 'SalesOrderNumber', 'PurchaseOrderNumber', 'AccountNumber', 'CustomerID', 'SalesPersonID', 'TerritoryID', 'BillToAddressID', 'ShipToAddressID', 'ShipMethodID', 'CurrencyRateID', 'CreditCardID', 'SubTotal', 'TaxAmt', 'Freight', 'SalesOrderDetailID', 'CarrierTrackingNumber', 'OrderQty', 'ProductID', 'UnitPrice', 'UnitPriceDiscount', 'LineTotal', 'CurrencyRateDate', 'FromCurrencyCode', 'ToCurrencyCode', 'AverageRate', 'EndOfDayRate']].values.tolist()\n",
    "\n",
    "        # Executing batch insert\n",
    "        cursor.executemany(insert_query, data_to_insert)\n",
    "\n",
    "        # Commit transaction\n",
    "        destination_conn.commit()\n",
    "\n",
    "        print(\"Data inserted successfully into SalesOrder table.\")\n",
    "except pyodbc.Error as e:\n",
    "    print(\"Error while connecting to the destination SQL Server:\", e)"
   ],
   "metadata": {
    "collapsed": false,
    "ExecuteTime": {
     "end_time": "2024-05-28T11:02:49.875335Z",
     "start_time": "2024-05-28T11:02:07.411136Z"
    }
   },
   "id": "e87156bf0f152c4",
   "execution_count": 102
  },
  {
   "cell_type": "code",
   "outputs": [
    {
     "name": "stdout",
     "output_type": "stream",
     "text": [
      "Data inserted successfully into ShipMethod table.\n"
     ]
    }
   ],
   "source": [
    "#purchasing.shipmethod\n",
    "try:\n",
    "    with pyodbc.connect(source_conn_str) as source_conn:\n",
    "        ship_method_df = pd.read_sql_query(\"SELECT ShipMethodID, Name, ShipBase, ShipRate FROM Purchasing.ShipMethod\", source_conn)\n",
    "except pyodbc.Error as e:\n",
    "    print(\"Error while connecting to the source SQL Server:\", e)\n",
    "try:\n",
    "    with pyodbc.connect(destination_conn_str) as destination_conn:\n",
    "        cursor = destination_conn.cursor()\n",
    "        # Batch insert for ship_method\n",
    "        insert_query = \"\"\"\n",
    "        INSERT INTO [DWUnitedOutdoors].[dbo].[ShipMethod]\n",
    "        (ShipMethodID, Name, ShipBase, ShipRate)\n",
    "        VALUES (?, ?, ?, ?)\n",
    "        \"\"\"\n",
    "\n",
    "        # Convert DataFrame to a list of tuples for batch insertion\n",
    "        data_to_insert = ship_method_df[['ShipMethodID', 'Name', 'ShipBase', 'ShipRate']].values.tolist()\n",
    "\n",
    "        # Executing batch insert\n",
    "        cursor.executemany(insert_query, data_to_insert)\n",
    "\n",
    "        # Commit transaction\n",
    "        destination_conn.commit()\n",
    "\n",
    "        print(\"Data inserted successfully into ShipMethod table.\")\n",
    "except pyodbc.Error as e:\n",
    "    print(\"Error while connecting to the destination SQL Server:\", e)"
   ],
   "metadata": {
    "collapsed": false,
    "ExecuteTime": {
     "end_time": "2024-05-28T10:00:16.671049Z",
     "start_time": "2024-05-28T10:00:16.555239Z"
    }
   },
   "id": "92facf4316ed23d4",
   "execution_count": 16
  },
  {
   "cell_type": "code",
   "outputs": [
    {
     "name": "stdout",
     "output_type": "stream",
     "text": [
      "Data inserted successfully into salesOrderHeaderSalesReason table.\n"
     ]
    }
   ],
   "source": [
    "#Sales.salesOrderHeaderSalesReason\n",
    "try:\n",
    "    with pyodbc.connect(source_conn_str) as source_conn:\n",
    "        salesOrderHeaderSalesReason_df = pd.read_sql_query(\"SELECT SalesOrderID, SalesReasonID FROM Sales.SalesOrderHeaderSalesReason\", source_conn)\n",
    "        salesReason_df = pd.read_sql_query(\"SELECT Name, ReasonType, SalesReasonID FROM Sales.SalesReason\", source_conn)\n",
    "\n",
    "        ## merging dataframes\n",
    "        salesOrderHeaderSalesReason_df = pd.merge(salesOrderHeaderSalesReason_df, salesReason_df, on='SalesReasonID', how='left')\n",
    "except pyodbc.Error as e:\n",
    "    print(\"Error while connecting to the source SQL Server:\", e)\n",
    "\n",
    "try:\n",
    "    with pyodbc.connect(destination_conn_str) as destination_conn:\n",
    "        cursor = destination_conn.cursor()\n",
    "        # Batch insert for salesOrderHeaderSalesReason\n",
    "        insert_query = \"\"\"\n",
    "        INSERT INTO [DWUnitedOutdoors].[dbo].[salesOrderHeaderSalesReason]\n",
    "        (SalesOrderID, SalesReasonID, Name, ReasonType)\n",
    "        VALUES (?, ?, ?, ?)\n",
    "        \"\"\"\n",
    "\n",
    "        # Convert DataFrame to a list of tuples for batch insertion\n",
    "        data_to_insert = salesOrderHeaderSalesReason_df[['SalesOrderID', 'SalesReasonID', 'Name', 'ReasonType']].values.tolist()\n",
    "\n",
    "        # Executing batch insert\n",
    "        cursor.executemany(insert_query, data_to_insert)\n",
    "\n",
    "        # Commit transaction\n",
    "        destination_conn.commit()\n",
    "\n",
    "        print(\"Data inserted successfully into salesOrderHeaderSalesReason table.\")\n",
    "except pyodbc.Error as e:\n",
    "    print(\"Error while connecting to the destination SQL Server:\", e)"
   ],
   "metadata": {
    "collapsed": false,
    "ExecuteTime": {
     "end_time": "2024-05-28T10:00:27.350063Z",
     "start_time": "2024-05-28T10:00:19.965394Z"
    }
   },
   "id": "ffa3b16f97cc349b",
   "execution_count": 17
  },
  {
   "cell_type": "code",
   "outputs": [
    {
     "name": "stdout",
     "output_type": "stream",
     "text": [
      "Data inserted successfully into CountryRegion table.\n"
     ]
    }
   ],
   "source": [
    "#Person.CountryRegion\n",
    "try:\n",
    "    with pyodbc.connect(source_conn_str) as source_conn:\n",
    "        CountryRegion_df = pd.read_sql_query(\"SELECT CountryRegionCode, Name FROM Person.CountryRegion\", source_conn)\n",
    "except pyodbc.Error as e:\n",
    "    print(\"Error while connecting to the source SQL Server:\", e)\n",
    "\n",
    "try:\n",
    "    with pyodbc.connect(destination_conn_str) as destination_conn:\n",
    "        cursor = destination_conn.cursor()\n",
    "        # Batch insert for CountryRegion\n",
    "        insert_query = \"\"\"\n",
    "        INSERT INTO [DWUnitedOutdoors].[dbo].[CounrtyRegion]\n",
    "        (CountryRegionCode, Name)\n",
    "        VALUES (?, ?)\n",
    "        \"\"\"\n",
    "\n",
    "        # Convert DataFrame to a list of tuples for batch insertion\n",
    "        data_to_insert = CountryRegion_df[['CountryRegionCode', 'Name']].values.tolist()\n",
    "\n",
    "        # Executing batch insert\n",
    "        cursor.executemany(insert_query, data_to_insert)\n",
    "\n",
    "        # Commit transaction\n",
    "        destination_conn.commit()\n",
    "\n",
    "        print(\"Data inserted successfully into CountryRegion table.\")\n",
    "except pyodbc.Error as e:\n",
    "    print(\"Error while connecting to the destination SQL Server:\", e)"
   ],
   "metadata": {
    "collapsed": false,
    "ExecuteTime": {
     "end_time": "2024-05-28T10:00:30.759560Z",
     "start_time": "2024-05-28T10:00:30.652120Z"
    }
   },
   "id": "84ecdac947f4c3d3",
   "execution_count": 18
  },
  {
   "cell_type": "code",
   "outputs": [
    {
     "name": "stdout",
     "output_type": "stream",
     "text": [
      "Data inserted successfully into StateProvince table.\n"
     ]
    }
   ],
   "source": [
    "#Person.StateProvince\n",
    "try:\n",
    "    with pyodbc.connect(source_conn_str) as source_conn:\n",
    "        StateProvince_df = pd.read_sql_query(\"SELECT StateProvinceID, StateProvinceCode, CountryRegionCode, Name, TerritoryID FROM Person.StateProvince\", source_conn)\n",
    "except pyodbc.Error as e:\n",
    "    print(\"Error while connecting to the source SQL Server:\", e)\n",
    "\n",
    "try:\n",
    "    with pyodbc.connect(destination_conn_str) as destination_conn:\n",
    "        cursor = destination_conn.cursor()\n",
    "        # Batch insert for StateProvince\n",
    "        insert_query = \"\"\"\n",
    "        INSERT INTO [DWUnitedOutdoors].[dbo].[StateProvince]\n",
    "        (StateProvinceID, StateProvinceCode, CountryRegionCode, Name, TerritoryID)\n",
    "        VALUES (?, ?, ?, ?, ?)\n",
    "        \"\"\"\n",
    "\n",
    "        # Convert DataFrame to a list of tuples for batch insertion\n",
    "        data_to_insert = StateProvince_df[['StateProvinceID', 'StateProvinceCode', 'CountryRegionCode', 'Name', 'TerritoryID']].values.tolist()\n",
    "\n",
    "        # Executing batch insert\n",
    "        cursor.executemany(insert_query, data_to_insert)\n",
    "\n",
    "        # Commit transaction\n",
    "        destination_conn.commit()\n",
    "\n",
    "        print(\"Data inserted successfully into StateProvince table.\")\n",
    "except pyodbc.Error as e:\n",
    "    print(\"Error while connecting to the destination SQL Server:\", e)"
   ],
   "metadata": {
    "collapsed": false,
    "ExecuteTime": {
     "end_time": "2024-05-28T10:00:33.522422Z",
     "start_time": "2024-05-28T10:00:33.389767Z"
    }
   },
   "id": "70578ab3fb50331d",
   "execution_count": 19
  },
  {
   "cell_type": "code",
   "outputs": [
    {
     "name": "stdout",
     "output_type": "stream",
     "text": [
      "Data inserted successfully into BusinessEntityContact table.\n"
     ]
    }
   ],
   "source": [
    "#Person.BusinessEntityContact\n",
    "try:\n",
    "    with pyodbc.connect(source_conn_str) as source_conn:\n",
    "        BusinessEntityContact_df = pd.read_sql_query(\"SELECT BusinessEntityID, PersonID, ContactTypeID FROM Person.BusinessEntityContact\", source_conn)\n",
    "        ContactType_df = pd.read_sql_query(\"SELECT Name, ContactTypeID FROM Person.ContactType\", source_conn)\n",
    "        \n",
    "        ## merging dataframes\n",
    "        BusinessEntityContact_df = pd.merge(BusinessEntityContact_df, ContactType_df, on='ContactTypeID', how='left')\n",
    "except pyodbc.Error as e:\n",
    "    print(\"Error while connecting to the source SQL Server:\", e)\n",
    "\n",
    "try:\n",
    "    with pyodbc.connect(destination_conn_str) as destination_conn:\n",
    "        cursor = destination_conn.cursor()\n",
    "        # Batch insert for BusinessEntityContact\n",
    "        insert_query = \"\"\"\n",
    "        INSERT INTO [DWUnitedOutdoors].[dbo].[BusinessEntityContact]\n",
    "        (BusinessEntityID, PersonID, ContactTypeID, Name)\n",
    "        VALUES (?, ?, ?, ?)\n",
    "        \"\"\"\n",
    "\n",
    "        # Convert DataFrame to a list of tuples for batch insertion\n",
    "        data_to_insert = BusinessEntityContact_df[['BusinessEntityID', 'PersonID', 'ContactTypeID', 'Name']].values.tolist()\n",
    "\n",
    "        # Executing batch insert\n",
    "        cursor.executemany(insert_query, data_to_insert)\n",
    "\n",
    "        # Commit transaction\n",
    "        destination_conn.commit()\n",
    "\n",
    "        print(\"Data inserted successfully into BusinessEntityContact table.\")\n",
    "except pyodbc.Error as e:\n",
    "    print(\"Error while connecting to the destination SQL Server:\", e)"
   ],
   "metadata": {
    "collapsed": false,
    "ExecuteTime": {
     "end_time": "2024-05-28T10:00:35.852160Z",
     "start_time": "2024-05-28T10:00:35.623681Z"
    }
   },
   "id": "3a2967fb0007bacd",
   "execution_count": 20
  },
  {
   "cell_type": "code",
   "outputs": [
    {
     "name": "stdout",
     "output_type": "stream",
     "text": [
      "Data inserted successfully.\n"
     ]
    }
   ],
   "source": [
    "#Purchasing.PurchaseOrder\n",
    "try:\n",
    "    with pyodbc.connect(source_conn_str) as source_conn:\n",
    "        PurchaseOrderDetail_df = pd.read_sql_query(\"SELECT PurchaseOrderID, PurchaseOrderDetailID, DueDate, OrderQty, ProductID, UnitPrice, LineTotal, ReceivedQty, RejectedQty, StockedQty FROM Purchasing.PurchaseOrderDetail\", source_conn)\n",
    "        PurchaseOrderHeader_df = pd.read_sql_query(\"SELECT PurchaseOrderID, RevisionNumber, Status, EmployeeID, VendorID, ShipMethodID, OrderDate, ShipDate, Subtotal, taxAmt, Freight, TotalDue FROM Purchasing.PurchaseOrderHeader \", source_conn)\n",
    "        \n",
    "        ## merging dataframes\n",
    "        PurchaseOrderDetail_df = pd.merge(PurchaseOrderHeader_df, PurchaseOrderDetail_df, on='PurchaseOrderID', how='left')\n",
    "except pyodbc.Error as e:\n",
    "    print(\"Error while connecting to the source SQL Server:\", e)\n",
    "# Establish connection to the destination SQL Server database and insert data\n",
    "try:\n",
    "    with pyodbc.connect(destination_conn_str) as destination_conn:\n",
    "        cursor = destination_conn.cursor()\n",
    "        # Batch insert\n",
    "        insert_query = \"\"\"\n",
    "        INSERT INTO [DWUnitedOutdoors].[dbo].[PurchaseOrder]\n",
    "        (PurchaseOrderID, PurchaseOrderDetailID, DueDate, OrderQty, ProductID, UnitPrice, LineTotal, ReceivedQty, StockedQuantity, RejectedQty, RevisionNumber, Status, EmployeeID, VendorID, ShipMethodID, OrderDate, ShipDate, Subtotal, taxAmt, TotalDue)\n",
    "        VALUES (?, ?, ?, ?, ?, ?, ?, ?, ?, ?, ?, ?, ?, ?, ?, ?, ?, ?, ?, ? )\n",
    "        \"\"\"\n",
    "\n",
    "        # Convert DataFrame to a list of tuples for batch insertion\n",
    "        data_to_insert = PurchaseOrderDetail_df[['PurchaseOrderID', 'PurchaseOrderDetailID', 'DueDate', 'OrderQty', 'ProductID', 'UnitPrice', 'LineTotal', 'ReceivedQty', 'StockedQty', 'RejectedQty', 'RevisionNumber', 'Status', 'EmployeeID', 'VendorID', 'ShipMethodID', 'OrderDate', 'ShipDate', 'Subtotal', 'taxAmt', 'TotalDue' ]].values.tolist()\n",
    "\n",
    "        # Executing batch insert\n",
    "        cursor.executemany(insert_query, data_to_insert)\n",
    "\n",
    "        # Commit transaction\n",
    "        destination_conn.commit()\n",
    "\n",
    "        print(\"Data inserted successfully.\")\n",
    "except pyodbc.Error as e:\n",
    "    print(\"Error while connecting to the source SQL Server:\", e)"
   ],
   "metadata": {
    "collapsed": false,
    "ExecuteTime": {
     "end_time": "2024-05-28T10:01:24.416978Z",
     "start_time": "2024-05-28T10:01:19.572458Z"
    }
   },
   "id": "53031a16fca2d380",
   "execution_count": 22
  },
  {
   "cell_type": "code",
   "outputs": [
    {
     "name": "stdout",
     "output_type": "stream",
     "text": [
      "Data inserted successfully.\n"
     ]
    }
   ],
   "source": [
    "#Purchasing.Vendor\n",
    "try:\n",
    "    with pyodbc.connect(source_conn_str) as source_conn:\n",
    "        Vendor_df = pd.read_sql_query(\"SELECT BusinessEntityID, AccountNumber, Name, CreditRating, PurchasingWebServiceURL FROM Purchasing.Vendor\", source_conn)\n",
    "except pyodbc.Error as e:\n",
    "    print(\"Error while connecting to the source SQL Server:\", e)\n",
    "\n",
    "# Establish connection to the destination SQL Server database and insert data\n",
    "try:\n",
    "    with pyodbc.connect(destination_conn_str) as destination_conn:\n",
    "        cursor = destination_conn.cursor()\n",
    "        # Batch insert\n",
    "        insert_query = \"\"\"\n",
    "        INSERT INTO [DWUnitedOutdoors].[dbo].[Vendor]\n",
    "        (BusinessEntityID, AccountNumber, Name, CreditRating, PurchasingWebServiceURL)\n",
    "        VALUES (?, ?, ?, ?, ?)\n",
    "        \"\"\"\n",
    "\n",
    "        # Convert DataFrame to a list of tuples for batch insertion\n",
    "        data_to_insert = Vendor_df[['BusinessEntityID', 'AccountNumber', 'Name', 'CreditRating', 'PurchasingWebServiceURL']].values.tolist()\n",
    "\n",
    "        # Executing batch insert\n",
    "        cursor.executemany(insert_query, data_to_insert)\n",
    "\n",
    "        # Commit transaction\n",
    "        destination_conn.commit()\n",
    "        \n",
    "        print(\"Data inserted successfully.\")\n",
    "except pyodbc.Error as e:\n",
    "    print(\"Error while connecting to the destination SQL Server:\", e)"
   ],
   "metadata": {
    "collapsed": false,
    "ExecuteTime": {
     "end_time": "2024-05-28T10:01:50.867148Z",
     "start_time": "2024-05-28T10:01:45.007631Z"
    }
   },
   "id": "2480fd30697a5b62",
   "execution_count": 23
  },
  {
   "cell_type": "code",
   "outputs": [
    {
     "name": "stdout",
     "output_type": "stream",
     "text": [
      "Data inserted successfully.\n"
     ]
    }
   ],
   "source": [
    "##Production.ProductSubCategory\n",
    "try:\n",
    "    with pyodbc.connect(source_conn_str) as source_conn:\n",
    "        ProductSubCategory_df = pd.read_sql_query(\"SELECT ProductSubCategoryID ,ProductCategoryID, Name FROM Production.ProductSubCategory\", source_conn)\n",
    "        ProductCategory_df = pd.read_sql_query(\"SELECT Name, ProductCategoryID FROM Production.ProductCategory\", source_conn)\n",
    "\n",
    "        ## merging dataframes\n",
    "        ProductSubCategory_df = pd.merge(ProductSubCategory_df, ProductCategory_df, on='ProductCategoryID', how='left')\n",
    "except pyodbc.Error as e:\n",
    "    print(\"Error while connecting to the source SQL Server:\", e)\n",
    "    # Establish connection to the destination SQL Server database and insert data\n",
    "try:\n",
    "    with pyodbc.connect(destination_conn_str) as destination_conn:\n",
    "        cursor = destination_conn.cursor()\n",
    "\n",
    "        # Batch insert\n",
    "        insert_query = \"\"\"\n",
    "        INSERT INTO [DWUnitedOutdoors].[dbo].[ProductSubCategory]\n",
    "        (ProductSubCategoryID, ProductCategoryID, SubCategory_Name, Category_Name)\n",
    "        VALUES (?, ?, ?, ?)\n",
    "        \"\"\"\n",
    "        # Convert DataFrame to a list of tuples for batch insertion\n",
    "        data_to_insert = ProductSubCategory_df[['ProductSubCategoryID', 'ProductCategoryID', 'Name_x', 'Name_y']].values.tolist()\n",
    "\n",
    "        # Executing batch insert\n",
    "        cursor.executemany(insert_query, data_to_insert)\n",
    "\n",
    "        # Commit transaction\n",
    "        destination_conn.commit()\n",
    "\n",
    "        print(\"Data inserted successfully.\")\n",
    "except pyodbc.Error as e:\n",
    "    print(\"Error while connecting to the destination SQL Server or inserting data:\", e)"
   ],
   "metadata": {
    "collapsed": false,
    "ExecuteTime": {
     "end_time": "2024-05-28T10:02:00.571252Z",
     "start_time": "2024-05-28T10:02:00.433994Z"
    }
   },
   "id": "b66d66c80806fed6",
   "execution_count": 24
  },
  {
   "cell_type": "code",
   "outputs": [
    {
     "name": "stdout",
     "output_type": "stream",
     "text": [
      "Data inserted successfully.\n"
     ]
    },
    {
     "data": {
      "text/plain": "     ProductID                   Name ProductNumber    Color  \\\n0            1        Adjustable Race       AR-5381  Unknown   \n1            2           Bearing Ball       BA-8327  Unknown   \n2            3        BB Ball Bearing       BE-2349  Unknown   \n3            4  Headset Ball Bearings       BE-2908  Unknown   \n4          316                  Blade       BL-2036  Unknown   \n..         ...                    ...           ...      ...   \n499        995      ML Bottom Bracket       BB-8107  Unknown   \n500        996      HL Bottom Bracket       BB-9108  Unknown   \n501        997     Road-750 Black, 44    BK-R19B-44    Black   \n502        998     Road-750 Black, 48    BK-R19B-48    Black   \n503        999     Road-750 Black, 52    BK-R19B-52    Black   \n\n     SafetyStockLevel  ReorderPoint  StandardCost  ListPrice  Size  \\\n0                1000           750        0.0000       0.00  null   \n1                1000           750        0.0000       0.00  null   \n2                 800           600        0.0000       0.00  null   \n3                 800           600        0.0000       0.00  null   \n4                 800           600        0.0000       0.00  null   \n..                ...           ...           ...        ...   ...   \n499               500           375       44.9506     101.24  null   \n500               500           375       53.9416     121.49  null   \n501               100            75      343.6496     539.99    44   \n502               100            75      343.6496     539.99    48   \n503               100            75      343.6496     539.99    52   \n\n    SizeUnitMeasureCode WeightUnitMeasureCode  Weight  DaysToManufacture  \\\n0                   nul                  None    0.00                  0   \n1                   nul                  None    0.00                  0   \n2                   nul                  None    0.00                  1   \n3                   nul                  None    0.00                  0   \n4                   nul                  None    0.00                  1   \n..                  ...                   ...     ...                ...   \n499                 nul                   G    168.00                  1   \n500                 nul                   G    170.00                  1   \n501                 CM                    LB    19.77                  4   \n502                 CM                    LB    20.13                  4   \n503                 CM                    LB    20.42                  4   \n\n    ProductLine Class Style  ProductSubcategoryID        SellStartDate  \\\n0            no    no    no                   0.0  2008-04-30 00:00:00   \n1            no    no    no                   0.0  2008-04-30 00:00:00   \n2            no    no    no                   0.0  2008-04-30 00:00:00   \n3            no    no    no                   0.0  2008-04-30 00:00:00   \n4            no    no    no                   0.0  2008-04-30 00:00:00   \n..          ...   ...   ...                   ...                  ...   \n499          no    M     no                   5.0  2013-05-30 00:00:00   \n500          no    H     no                   5.0  2013-05-30 00:00:00   \n501          R     L     U                    2.0  2013-05-30 00:00:00   \n502          R     L     U                    2.0  2013-05-30 00:00:00   \n503          R     L     U                    2.0  2013-05-30 00:00:00   \n\n    SellEndDate DiscontinuedDate  \n0    1900-01-01       1900-01-01  \n1    1900-01-01       1900-01-01  \n2    1900-01-01       1900-01-01  \n3    1900-01-01       1900-01-01  \n4    1900-01-01       1900-01-01  \n..          ...              ...  \n499  1900-01-01       1900-01-01  \n500  1900-01-01       1900-01-01  \n501  1900-01-01       1900-01-01  \n502  1900-01-01       1900-01-01  \n503  1900-01-01       1900-01-01  \n\n[504 rows x 20 columns]",
      "text/html": "<div>\n<style scoped>\n    .dataframe tbody tr th:only-of-type {\n        vertical-align: middle;\n    }\n\n    .dataframe tbody tr th {\n        vertical-align: top;\n    }\n\n    .dataframe thead th {\n        text-align: right;\n    }\n</style>\n<table border=\"1\" class=\"dataframe\">\n  <thead>\n    <tr style=\"text-align: right;\">\n      <th></th>\n      <th>ProductID</th>\n      <th>Name</th>\n      <th>ProductNumber</th>\n      <th>Color</th>\n      <th>SafetyStockLevel</th>\n      <th>ReorderPoint</th>\n      <th>StandardCost</th>\n      <th>ListPrice</th>\n      <th>Size</th>\n      <th>SizeUnitMeasureCode</th>\n      <th>WeightUnitMeasureCode</th>\n      <th>Weight</th>\n      <th>DaysToManufacture</th>\n      <th>ProductLine</th>\n      <th>Class</th>\n      <th>Style</th>\n      <th>ProductSubcategoryID</th>\n      <th>SellStartDate</th>\n      <th>SellEndDate</th>\n      <th>DiscontinuedDate</th>\n    </tr>\n  </thead>\n  <tbody>\n    <tr>\n      <th>0</th>\n      <td>1</td>\n      <td>Adjustable Race</td>\n      <td>AR-5381</td>\n      <td>Unknown</td>\n      <td>1000</td>\n      <td>750</td>\n      <td>0.0000</td>\n      <td>0.00</td>\n      <td>null</td>\n      <td>nul</td>\n      <td>None</td>\n      <td>0.00</td>\n      <td>0</td>\n      <td>no</td>\n      <td>no</td>\n      <td>no</td>\n      <td>0.0</td>\n      <td>2008-04-30 00:00:00</td>\n      <td>1900-01-01</td>\n      <td>1900-01-01</td>\n    </tr>\n    <tr>\n      <th>1</th>\n      <td>2</td>\n      <td>Bearing Ball</td>\n      <td>BA-8327</td>\n      <td>Unknown</td>\n      <td>1000</td>\n      <td>750</td>\n      <td>0.0000</td>\n      <td>0.00</td>\n      <td>null</td>\n      <td>nul</td>\n      <td>None</td>\n      <td>0.00</td>\n      <td>0</td>\n      <td>no</td>\n      <td>no</td>\n      <td>no</td>\n      <td>0.0</td>\n      <td>2008-04-30 00:00:00</td>\n      <td>1900-01-01</td>\n      <td>1900-01-01</td>\n    </tr>\n    <tr>\n      <th>2</th>\n      <td>3</td>\n      <td>BB Ball Bearing</td>\n      <td>BE-2349</td>\n      <td>Unknown</td>\n      <td>800</td>\n      <td>600</td>\n      <td>0.0000</td>\n      <td>0.00</td>\n      <td>null</td>\n      <td>nul</td>\n      <td>None</td>\n      <td>0.00</td>\n      <td>1</td>\n      <td>no</td>\n      <td>no</td>\n      <td>no</td>\n      <td>0.0</td>\n      <td>2008-04-30 00:00:00</td>\n      <td>1900-01-01</td>\n      <td>1900-01-01</td>\n    </tr>\n    <tr>\n      <th>3</th>\n      <td>4</td>\n      <td>Headset Ball Bearings</td>\n      <td>BE-2908</td>\n      <td>Unknown</td>\n      <td>800</td>\n      <td>600</td>\n      <td>0.0000</td>\n      <td>0.00</td>\n      <td>null</td>\n      <td>nul</td>\n      <td>None</td>\n      <td>0.00</td>\n      <td>0</td>\n      <td>no</td>\n      <td>no</td>\n      <td>no</td>\n      <td>0.0</td>\n      <td>2008-04-30 00:00:00</td>\n      <td>1900-01-01</td>\n      <td>1900-01-01</td>\n    </tr>\n    <tr>\n      <th>4</th>\n      <td>316</td>\n      <td>Blade</td>\n      <td>BL-2036</td>\n      <td>Unknown</td>\n      <td>800</td>\n      <td>600</td>\n      <td>0.0000</td>\n      <td>0.00</td>\n      <td>null</td>\n      <td>nul</td>\n      <td>None</td>\n      <td>0.00</td>\n      <td>1</td>\n      <td>no</td>\n      <td>no</td>\n      <td>no</td>\n      <td>0.0</td>\n      <td>2008-04-30 00:00:00</td>\n      <td>1900-01-01</td>\n      <td>1900-01-01</td>\n    </tr>\n    <tr>\n      <th>...</th>\n      <td>...</td>\n      <td>...</td>\n      <td>...</td>\n      <td>...</td>\n      <td>...</td>\n      <td>...</td>\n      <td>...</td>\n      <td>...</td>\n      <td>...</td>\n      <td>...</td>\n      <td>...</td>\n      <td>...</td>\n      <td>...</td>\n      <td>...</td>\n      <td>...</td>\n      <td>...</td>\n      <td>...</td>\n      <td>...</td>\n      <td>...</td>\n      <td>...</td>\n    </tr>\n    <tr>\n      <th>499</th>\n      <td>995</td>\n      <td>ML Bottom Bracket</td>\n      <td>BB-8107</td>\n      <td>Unknown</td>\n      <td>500</td>\n      <td>375</td>\n      <td>44.9506</td>\n      <td>101.24</td>\n      <td>null</td>\n      <td>nul</td>\n      <td>G</td>\n      <td>168.00</td>\n      <td>1</td>\n      <td>no</td>\n      <td>M</td>\n      <td>no</td>\n      <td>5.0</td>\n      <td>2013-05-30 00:00:00</td>\n      <td>1900-01-01</td>\n      <td>1900-01-01</td>\n    </tr>\n    <tr>\n      <th>500</th>\n      <td>996</td>\n      <td>HL Bottom Bracket</td>\n      <td>BB-9108</td>\n      <td>Unknown</td>\n      <td>500</td>\n      <td>375</td>\n      <td>53.9416</td>\n      <td>121.49</td>\n      <td>null</td>\n      <td>nul</td>\n      <td>G</td>\n      <td>170.00</td>\n      <td>1</td>\n      <td>no</td>\n      <td>H</td>\n      <td>no</td>\n      <td>5.0</td>\n      <td>2013-05-30 00:00:00</td>\n      <td>1900-01-01</td>\n      <td>1900-01-01</td>\n    </tr>\n    <tr>\n      <th>501</th>\n      <td>997</td>\n      <td>Road-750 Black, 44</td>\n      <td>BK-R19B-44</td>\n      <td>Black</td>\n      <td>100</td>\n      <td>75</td>\n      <td>343.6496</td>\n      <td>539.99</td>\n      <td>44</td>\n      <td>CM</td>\n      <td>LB</td>\n      <td>19.77</td>\n      <td>4</td>\n      <td>R</td>\n      <td>L</td>\n      <td>U</td>\n      <td>2.0</td>\n      <td>2013-05-30 00:00:00</td>\n      <td>1900-01-01</td>\n      <td>1900-01-01</td>\n    </tr>\n    <tr>\n      <th>502</th>\n      <td>998</td>\n      <td>Road-750 Black, 48</td>\n      <td>BK-R19B-48</td>\n      <td>Black</td>\n      <td>100</td>\n      <td>75</td>\n      <td>343.6496</td>\n      <td>539.99</td>\n      <td>48</td>\n      <td>CM</td>\n      <td>LB</td>\n      <td>20.13</td>\n      <td>4</td>\n      <td>R</td>\n      <td>L</td>\n      <td>U</td>\n      <td>2.0</td>\n      <td>2013-05-30 00:00:00</td>\n      <td>1900-01-01</td>\n      <td>1900-01-01</td>\n    </tr>\n    <tr>\n      <th>503</th>\n      <td>999</td>\n      <td>Road-750 Black, 52</td>\n      <td>BK-R19B-52</td>\n      <td>Black</td>\n      <td>100</td>\n      <td>75</td>\n      <td>343.6496</td>\n      <td>539.99</td>\n      <td>52</td>\n      <td>CM</td>\n      <td>LB</td>\n      <td>20.42</td>\n      <td>4</td>\n      <td>R</td>\n      <td>L</td>\n      <td>U</td>\n      <td>2.0</td>\n      <td>2013-05-30 00:00:00</td>\n      <td>1900-01-01</td>\n      <td>1900-01-01</td>\n    </tr>\n  </tbody>\n</table>\n<p>504 rows × 20 columns</p>\n</div>"
     },
     "execution_count": 128,
     "metadata": {},
     "output_type": "execute_result"
    }
   ],
   "source": [
    "#Production.Product\n",
    "try:\n",
    "    with pyodbc.connect(source_conn_str) as source_conn:\n",
    "        productionproduct_df = pd.read_sql_query(\"SELECT ProductID ,Name, ProductNumber, Color, SafetyStockLevel, ReorderPoint, StandardCost, ListPrice, Size, SizeUnitMeasureCode, WeightUnitMeasureCode, Weight, DaysToManufacture, ProductLine, Class, Style, ProductSubcategoryID, SellStartDate, SellEndDate, DiscontinuedDate FROM Production.Product\", source_conn)\n",
    "\n",
    "except pyodbc.Error as e:\n",
    "    print(\"Error while connecting to the source SQL Server:\", e)\n",
    "    \n",
    "# Convert date fields to datetime objects\n",
    "productionproduct_df['SellStartDate'] = pd.to_datetime(productionproduct_df['SellStartDate'])\n",
    "productionproduct_df['SellEndDate'] = pd.to_datetime(productionproduct_df['SellEndDate'])\n",
    "productionproduct_df['DiscontinuedDate'] = pd.to_datetime(productionproduct_df['DiscontinuedDate'])\n",
    "\n",
    "# Convert datetime objects to string format\n",
    "productionproduct_df['SellStartDate'] = productionproduct_df['SellStartDate'].dt.strftime('%Y-%m-%d %H:%M:%S')\n",
    "productionproduct_df['SellEndDate'].fillna('1900-01-01 00:00:00', inplace=True)\n",
    "productionproduct_df['DiscontinuedDate'].fillna('1900-01-01 00:00:00', inplace=True)\n",
    "\n",
    "# Fill missing values with defaults\n",
    "productionproduct_df['Color'].fillna('Unknown', inplace=True)\n",
    "productionproduct_df['Size'].fillna('null', inplace=True)\n",
    "productionproduct_df['SizeUnitMeasureCode'].fillna('nul', inplace=True)\n",
    "productionproduct_df['Weight'].fillna(0.0, inplace=True)\n",
    "productionproduct_df['ProductLine'].fillna('no', inplace=True)\n",
    "productionproduct_df['Class'].fillna('no', inplace=True)\n",
    "productionproduct_df['Style'].fillna('no', inplace=True)\n",
    "productionproduct_df['ProductSubcategoryID'].fillna(0, inplace=True)\n",
    "\n",
    "\n",
    "# Establish connection to the destination SQL Server database and insert data\n",
    "try:\n",
    "    with pyodbc.connect(destination_conn_str) as destination_conn:\n",
    "        cursor = destination_conn.cursor()\n",
    "\n",
    "        # Batch insert\n",
    "        insert_query = \"\"\"\n",
    "        INSERT INTO [DWUnitedOutdoors].[dbo].[ProductionProduct]\n",
    "        (ProductID, Name, ProductNumber, Color, SafetyStockLevel, ReorderPoint, StandardCost, ListPrice, Size, SizeUnitMeasureCode, WeightUnitMeasureCode, Weight, DaysToManufacture, ProductLine, Class, Style, ProductSubcategoryID, SellStartDate, SellEndDate, DiscontinuedDate)\n",
    "        VALUES (?, ?, ?, ?, ?, ?, ?, ?, ?, ?, ?, ?, ?, ?, ?, ?, ?, ?, ?, ?)\n",
    "        \"\"\"\n",
    "        # Convert DataFrame to a list of tuples for batch insertion\n",
    "        data_to_insert = productionproduct_df[['ProductID', 'Name', 'ProductNumber', 'Color', 'SafetyStockLevel', 'ReorderPoint', 'StandardCost', 'ListPrice', 'Size', 'SizeUnitMeasureCode', 'WeightUnitMeasureCode', 'Weight', 'DaysToManufacture', 'ProductLine', 'Class', 'Style', 'ProductSubcategoryID', 'SellStartDate', 'SellEndDate', 'DiscontinuedDate']].values.tolist()\n",
    "\n",
    "        # Executing batch insert\n",
    "        cursor.executemany(insert_query, data_to_insert)\n",
    "\n",
    "        # Commit transaction\n",
    "        destination_conn.commit()\n",
    "\n",
    "        print(\"Data inserted successfully.\")\n",
    "except pyodbc.Error as e:\n",
    "    print(\"Error while connecting to the destination SQL Server or inserting data:\", e)"
   ],
   "metadata": {
    "collapsed": false,
    "ExecuteTime": {
     "end_time": "2024-05-28T11:39:56.087960Z",
     "start_time": "2024-05-28T11:39:55.780947Z"
    }
   },
   "id": "b7cfee617ac3d50a",
   "execution_count": 128
  },
  {
   "cell_type": "code",
   "outputs": [
    {
     "name": "stdout",
     "output_type": "stream",
     "text": [
      "Data inserted successfully.\n"
     ]
    }
   ],
   "source": [
    "#Production.Work\n",
    "try:\n",
    "    with pyodbc.connect(source_conn_str) as source_conn:\n",
    "        work_order_df = pd.read_sql_query(\"SELECT WorkOrderID, ProductID, OrderQty, StockedQty, ScrappedQty, StartDate, EndDate, DueDate FROM Production.WorkOrder\", source_conn)\n",
    "        work_order_routing_df = pd.read_sql_query(\"SELECT WorkOrderID, OperationSequence, LocationID, ScheduledStartDate, ScheduledEndDate, ActualStartDate, ActualEndDate, ActualResourceHrs, PlannedCost, ActualCost FROM Production.WorkOrderRouting\", source_conn)\n",
    "         ## merging dataframes\n",
    "        work_order_df = pd.merge(work_order_routing_df, work_order_df, on='WorkOrderID', how='left')\n",
    "except pyodbc.Error as e:\n",
    "    print(\"Error while connecting to the source SQL Server:\", e)\n",
    "        # Establish connection to the destination SQL Server database and insert data\n",
    "try:\n",
    "    with pyodbc.connect(destination_conn_str) as destination_conn:\n",
    "        cursor = destination_conn.cursor()\n",
    "\n",
    "        # Batch insert\n",
    "        insert_query = \"\"\"\n",
    "        INSERT INTO [DWUnitedOutdoors].[dbo].[Work]\n",
    "        (WorkOrderID, ProductID, OperationSequence, LocationID, ScheduledStartDate, ScheduledEndDate, ActualStartDate, ActualEndDate, ActualResourceHrs, PlannedCost, ActualCost, OrderQty, StockedQty, StartDate, EndDate, DueDate)\n",
    "        VALUES (?, ?, ?, ?, ?, ?, ?, ?, ?, ?, ?, ?, ?, ?, ?, ?)\n",
    "        \"\"\"\n",
    "        # Convert DataFrame to a list of tuples for batch insertion\n",
    "        data_to_insert = work_order_df[['WorkOrderID', 'ProductID', 'OperationSequence', 'LocationID', 'ScheduledStartDate', 'ScheduledEndDate', 'ActualStartDate', 'ActualEndDate', 'ActualResourceHrs', 'PlannedCost', 'ActualCost', 'OrderQty', 'StockedQty', 'StartDate', 'EndDate', 'DueDate']].values.tolist()\n",
    "\n",
    "        # Executing batch insert\n",
    "        cursor.executemany(insert_query, data_to_insert)\n",
    "\n",
    "        # Commit transaction\n",
    "        destination_conn.commit()\n",
    "\n",
    "        print(\"Data inserted successfully.\")\n",
    "except pyodbc.Error as e:\n",
    "    print(\"Error while connecting to the destination SQL Server or inserting data:\", e)"
   ],
   "metadata": {
    "collapsed": false,
    "ExecuteTime": {
     "end_time": "2024-05-28T10:02:27.784286Z",
     "start_time": "2024-05-28T10:02:08.864756Z"
    }
   },
   "id": "185a72664fa74849",
   "execution_count": 26
  },
  {
   "cell_type": "code",
   "outputs": [
    {
     "name": "stdout",
     "output_type": "stream",
     "text": [
      "Data inserted successfully into ProductCostHistory table.\n"
     ]
    },
    {
     "data": {
      "text/plain": "        ProductID StartDate_x  EndDate_x  StandardCost StartDate_y  EndDate_y  \\\n0             707  2011-05-31 2012-05-29       12.0278  2011-05-31 2012-05-29   \n1             707  2011-05-31 2012-05-29       12.0278  2011-05-31 2012-05-29   \n2             707  2011-05-31 2012-05-29       12.0278  2011-05-31 2012-05-29   \n3             707  2011-05-31 2012-05-29       12.0278  2011-05-31 2012-05-29   \n4             707  2011-05-31 2012-05-29       12.0278  2011-05-31 2012-05-29   \n...           ...         ...        ...           ...         ...        ...   \n259355        999  2013-05-30 2000-01-01      343.6496  2013-05-30 2000-01-01   \n259356        999  2013-05-30 2000-01-01      343.6496  2013-05-30 2000-01-01   \n259357        999  2013-05-30 2000-01-01      343.6496  2013-05-30 2000-01-01   \n259358        999  2013-05-30 2000-01-01      343.6496  2013-05-30 2000-01-01   \n259359        999  2013-05-30 2000-01-01      343.6496  2013-05-30 2000-01-01   \n\n        ListPrice  TransactionID  ReferenceOrderID  ReferenceOrderLineID  \\\n0         33.6442         100139             53454                     1   \n1         33.6442         100285             53458                    23   \n2         33.6442         100336             53459                    25   \n3         33.6442         100385             53460                    31   \n4         33.6442         100486             53465                     2   \n...           ...            ...               ...                   ...   \n259355   539.9900         208832             72194                     0   \n259356   539.9900         209047             74143                     1   \n259357   539.9900         209086             72303                     0   \n259358   539.9900         209277             72415                     0   \n259359   539.9900         209501             72519                     0   \n\n       TransactionDate  Quantity  ActualCost  \n0           2013-07-31       6.0      20.994  \n1           2013-07-31       6.0      20.994  \n2           2013-07-31       6.0      20.994  \n3           2013-07-31      10.0      20.994  \n4           2013-07-31      12.0      20.994  \n...                ...       ...         ...  \n259355      2014-05-30       1.0       0.000  \n259356      2014-05-30       1.0     539.990  \n259357      2014-05-31       3.0       0.000  \n259358      2014-06-01       1.0       0.000  \n259359      2014-06-02       1.0       0.000  \n\n[259360 rows x 13 columns]",
      "text/html": "<div>\n<style scoped>\n    .dataframe tbody tr th:only-of-type {\n        vertical-align: middle;\n    }\n\n    .dataframe tbody tr th {\n        vertical-align: top;\n    }\n\n    .dataframe thead th {\n        text-align: right;\n    }\n</style>\n<table border=\"1\" class=\"dataframe\">\n  <thead>\n    <tr style=\"text-align: right;\">\n      <th></th>\n      <th>ProductID</th>\n      <th>StartDate_x</th>\n      <th>EndDate_x</th>\n      <th>StandardCost</th>\n      <th>StartDate_y</th>\n      <th>EndDate_y</th>\n      <th>ListPrice</th>\n      <th>TransactionID</th>\n      <th>ReferenceOrderID</th>\n      <th>ReferenceOrderLineID</th>\n      <th>TransactionDate</th>\n      <th>Quantity</th>\n      <th>ActualCost</th>\n    </tr>\n  </thead>\n  <tbody>\n    <tr>\n      <th>0</th>\n      <td>707</td>\n      <td>2011-05-31</td>\n      <td>2012-05-29</td>\n      <td>12.0278</td>\n      <td>2011-05-31</td>\n      <td>2012-05-29</td>\n      <td>33.6442</td>\n      <td>100139</td>\n      <td>53454</td>\n      <td>1</td>\n      <td>2013-07-31</td>\n      <td>6.0</td>\n      <td>20.994</td>\n    </tr>\n    <tr>\n      <th>1</th>\n      <td>707</td>\n      <td>2011-05-31</td>\n      <td>2012-05-29</td>\n      <td>12.0278</td>\n      <td>2011-05-31</td>\n      <td>2012-05-29</td>\n      <td>33.6442</td>\n      <td>100285</td>\n      <td>53458</td>\n      <td>23</td>\n      <td>2013-07-31</td>\n      <td>6.0</td>\n      <td>20.994</td>\n    </tr>\n    <tr>\n      <th>2</th>\n      <td>707</td>\n      <td>2011-05-31</td>\n      <td>2012-05-29</td>\n      <td>12.0278</td>\n      <td>2011-05-31</td>\n      <td>2012-05-29</td>\n      <td>33.6442</td>\n      <td>100336</td>\n      <td>53459</td>\n      <td>25</td>\n      <td>2013-07-31</td>\n      <td>6.0</td>\n      <td>20.994</td>\n    </tr>\n    <tr>\n      <th>3</th>\n      <td>707</td>\n      <td>2011-05-31</td>\n      <td>2012-05-29</td>\n      <td>12.0278</td>\n      <td>2011-05-31</td>\n      <td>2012-05-29</td>\n      <td>33.6442</td>\n      <td>100385</td>\n      <td>53460</td>\n      <td>31</td>\n      <td>2013-07-31</td>\n      <td>10.0</td>\n      <td>20.994</td>\n    </tr>\n    <tr>\n      <th>4</th>\n      <td>707</td>\n      <td>2011-05-31</td>\n      <td>2012-05-29</td>\n      <td>12.0278</td>\n      <td>2011-05-31</td>\n      <td>2012-05-29</td>\n      <td>33.6442</td>\n      <td>100486</td>\n      <td>53465</td>\n      <td>2</td>\n      <td>2013-07-31</td>\n      <td>12.0</td>\n      <td>20.994</td>\n    </tr>\n    <tr>\n      <th>...</th>\n      <td>...</td>\n      <td>...</td>\n      <td>...</td>\n      <td>...</td>\n      <td>...</td>\n      <td>...</td>\n      <td>...</td>\n      <td>...</td>\n      <td>...</td>\n      <td>...</td>\n      <td>...</td>\n      <td>...</td>\n      <td>...</td>\n    </tr>\n    <tr>\n      <th>259355</th>\n      <td>999</td>\n      <td>2013-05-30</td>\n      <td>2000-01-01</td>\n      <td>343.6496</td>\n      <td>2013-05-30</td>\n      <td>2000-01-01</td>\n      <td>539.9900</td>\n      <td>208832</td>\n      <td>72194</td>\n      <td>0</td>\n      <td>2014-05-30</td>\n      <td>1.0</td>\n      <td>0.000</td>\n    </tr>\n    <tr>\n      <th>259356</th>\n      <td>999</td>\n      <td>2013-05-30</td>\n      <td>2000-01-01</td>\n      <td>343.6496</td>\n      <td>2013-05-30</td>\n      <td>2000-01-01</td>\n      <td>539.9900</td>\n      <td>209047</td>\n      <td>74143</td>\n      <td>1</td>\n      <td>2014-05-30</td>\n      <td>1.0</td>\n      <td>539.990</td>\n    </tr>\n    <tr>\n      <th>259357</th>\n      <td>999</td>\n      <td>2013-05-30</td>\n      <td>2000-01-01</td>\n      <td>343.6496</td>\n      <td>2013-05-30</td>\n      <td>2000-01-01</td>\n      <td>539.9900</td>\n      <td>209086</td>\n      <td>72303</td>\n      <td>0</td>\n      <td>2014-05-31</td>\n      <td>3.0</td>\n      <td>0.000</td>\n    </tr>\n    <tr>\n      <th>259358</th>\n      <td>999</td>\n      <td>2013-05-30</td>\n      <td>2000-01-01</td>\n      <td>343.6496</td>\n      <td>2013-05-30</td>\n      <td>2000-01-01</td>\n      <td>539.9900</td>\n      <td>209277</td>\n      <td>72415</td>\n      <td>0</td>\n      <td>2014-06-01</td>\n      <td>1.0</td>\n      <td>0.000</td>\n    </tr>\n    <tr>\n      <th>259359</th>\n      <td>999</td>\n      <td>2013-05-30</td>\n      <td>2000-01-01</td>\n      <td>343.6496</td>\n      <td>2013-05-30</td>\n      <td>2000-01-01</td>\n      <td>539.9900</td>\n      <td>209501</td>\n      <td>72519</td>\n      <td>0</td>\n      <td>2014-06-02</td>\n      <td>1.0</td>\n      <td>0.000</td>\n    </tr>\n  </tbody>\n</table>\n<p>259360 rows × 13 columns</p>\n</div>"
     },
     "execution_count": 133,
     "metadata": {},
     "output_type": "execute_result"
    }
   ],
   "source": [
    "#Production.ProductionHistory\n",
    "try:\n",
    "    with pyodbc.connect(source_conn_str) as source_conn:\n",
    "        ProductCostHistory_df = pd.read_sql_query(\"SELECT ProductID, StartDate, EndDate, StandardCost FROM Production.ProductCostHistory\", source_conn)\n",
    "        ProductListPriceHistory_df = pd.read_sql_query(\"SELECT ProductID, StartDate, EndDate, ListPrice FROM Production.ProductListPriceHistory\", source_conn)\n",
    "        TransactionHistory_df = pd.read_sql_query(\"SELECT ProductID, TransactionID, ReferenceOrderID, ReferenceOrderLineID, TransactionDate, Quantity, ActualCost FROM Production.TransactionHistory\", source_conn)\n",
    "        \n",
    "         ## merging dataframes\n",
    "        ProductCostHistory_df = pd.merge(ProductCostHistory_df, ProductListPriceHistory_df, on='ProductID', how='left')\n",
    "        ProductCostHistory_df = pd.merge(ProductCostHistory_df, TransactionHistory_df, on='ProductID', how='left')\n",
    "except pyodbc.Error as e:\n",
    "    print(\"Error while connecting to the source SQL Server:\", e)\n",
    "    \n",
    "# Convert datetime columns to datetime format\n",
    "ProductCostHistory_df['StartDate_x'] = pd.to_datetime(ProductCostHistory_df['StartDate_x'])\n",
    "ProductCostHistory_df['EndDate_x'] = pd.to_datetime(ProductCostHistory_df['EndDate_x'])\n",
    "ProductCostHistory_df['StartDate_y'] = pd.to_datetime(ProductCostHistory_df['StartDate_y'])\n",
    "ProductCostHistory_df['EndDate_y'] = pd.to_datetime(ProductCostHistory_df['EndDate_y'])\n",
    "ProductCostHistory_df['TransactionDate'] = pd.to_datetime(ProductCostHistory_df['TransactionDate'])\n",
    "ProductCostHistory_df['ReferenceOrderID'].fillna(0, inplace=True)\n",
    "ProductCostHistory_df['ReferenceOrderLineID'].fillna(0, inplace=True)\n",
    "ProductCostHistory_df['TransactionID'].fillna(0, inplace=True)\n",
    "ProductCostHistory_df['Quantity'].fillna(0.0, inplace=True)\n",
    "ProductCostHistory_df['ActualCost'].fillna(0.0, inplace=True)\n",
    "\n",
    "# Handle missing values in datetime columns (if any)\n",
    "# For example, fill missing values with a default datetime value\n",
    "default_datetime = pd.to_datetime('2000-01-01')\n",
    "ProductCostHistory_df['StartDate_x'].fillna(default_datetime, inplace=True)\n",
    "ProductCostHistory_df['EndDate_x'].fillna(default_datetime, inplace=True)\n",
    "ProductCostHistory_df['StartDate_y'].fillna(default_datetime, inplace=True)\n",
    "ProductCostHistory_df['EndDate_y'].fillna(default_datetime, inplace=True)\n",
    "ProductCostHistory_df['TransactionDate'].fillna(default_datetime, inplace=True)\n",
    "ProductCostHistory_df['ReferenceOrderID'] = ProductCostHistory_df['ReferenceOrderID'].astype(int)\n",
    "ProductCostHistory_df['ReferenceOrderLineID'] = ProductCostHistory_df['ReferenceOrderLineID'].astype(int)\n",
    "ProductCostHistory_df['TransactionID'] = ProductCostHistory_df['TransactionID'].astype(int)\n",
    "\n",
    "try:\n",
    "    with pyodbc.connect(destination_conn_str) as destination_conn:\n",
    "        cursor = destination_conn.cursor()\n",
    "        # Batch insert for ProductCostHistory\n",
    "        insert_query = \"\"\"\n",
    "        INSERT INTO [DWUnitedOutdoors].[dbo].[ProductionHistory]\n",
    "        (ProductID, Cost_StartDate, Cost_EndDate, StandardCost, List_StartDate, List_EndDate, ListPrice, TransactionID, ReferenceOrderID, ReferenceOrderLineID, TransactionDate, Quantity, ActualCost)\n",
    "        VALUES (?, ?, ?, ?, ?, ?, ?, ?, ?, ?, ?, ?, ?)\n",
    "        \"\"\"\n",
    "\n",
    "        # Convert DataFrame to a list of tuples for batch insertion\n",
    "        data_to_insert = ProductCostHistory_df[['ProductID', 'StartDate_x', 'EndDate_x', 'StandardCost', 'StartDate_y', 'EndDate_y', 'ListPrice', 'TransactionID', 'ReferenceOrderID', 'ReferenceOrderLineID', 'TransactionDate', 'Quantity', 'ActualCost']].values.tolist()\n",
    "\n",
    "        # Executing batch insert\n",
    "        cursor.executemany(insert_query, data_to_insert)\n",
    "\n",
    "        # Commit transaction\n",
    "        destination_conn.commit()\n",
    "\n",
    "        print(\"Data inserted successfully into ProductCostHistory table.\")\n",
    "except pyodbc.Error as e:\n",
    "    print(\"Error while connecting to the destination SQL Server:\", e)"
   ],
   "metadata": {
    "collapsed": false,
    "ExecuteTime": {
     "end_time": "2024-05-28T11:45:19.309472Z",
     "start_time": "2024-05-28T11:44:25.317863Z"
    }
   },
   "id": "96a6a410940a71dd",
   "execution_count": 133
  },
  {
   "cell_type": "code",
   "outputs": [
    {
     "name": "stdout",
     "output_type": "stream",
     "text": [
      "Data inserted successfully into ProductInventory table.\n"
     ]
    }
   ],
   "source": [
    "#Production.ProductInventory\n",
    "try:\n",
    "    with pyodbc.connect(source_conn_str) as source_conn:\n",
    "        ProductInventory_df = pd.read_sql_query(\"SELECT ProductID, LocationID, Shelf, Bin, Quantity FROM Production.ProductInventory\", source_conn)\n",
    "        Location_df = pd.read_sql_query(\"SELECT LocationID, Name, CostRate, Availability FROM Production.Location\", source_conn)\n",
    "        \n",
    "        ## merging dataframes\n",
    "        ProductInventory_df = pd.merge(ProductInventory_df, Location_df, on='LocationID', how='left')\n",
    "except pyodbc.Error as e:\n",
    "    print(\"Error while connecting to the source SQL Server:\", e)\n",
    "try:\n",
    "    with pyodbc.connect(destination_conn_str) as destination_conn:\n",
    "        cursor = destination_conn.cursor()\n",
    "        # Batch insert\n",
    "        insert_query = \"\"\"\n",
    "        INSERT INTO [DWUnitedOutdoors].[dbo].[ProductInventory]\n",
    "        (ProductID, LocationID, Shelf, Bin, Quantity, Name, CostRate, Availability)\n",
    "        VALUES (?, ?, ?, ?, ?, ?, ?, ?)\n",
    "        \"\"\"\n",
    "\n",
    "        # Convert DataFrame to a list of tuples for batch insertion\n",
    "        data_to_insert = ProductInventory_df[['ProductID', 'LocationID', 'Shelf', 'Bin', 'Quantity', 'Name', 'CostRate', 'Availability']].values.tolist()\n",
    "\n",
    "        # Executing batch insert\n",
    "        cursor.executemany(insert_query, data_to_insert)\n",
    "\n",
    "        # Commit transaction\n",
    "        destination_conn.commit()\n",
    "\n",
    "        print(\"Data inserted successfully into ProductInventory table.\")\n",
    "except pyodbc.Error as e:\n",
    "    print(\"Error while connecting to the destination SQL Server:\", e)"
   ],
   "metadata": {
    "collapsed": false,
    "ExecuteTime": {
     "end_time": "2024-05-28T10:03:24.774854Z",
     "start_time": "2024-05-28T10:03:24.374865Z"
    }
   },
   "id": "9f5cf4b88fe0980f",
   "execution_count": 28
  },
  {
   "cell_type": "code",
   "outputs": [
    {
     "name": "stdout",
     "output_type": "stream",
     "text": [
      "Data inserted successfully into ProductVendor table.\n"
     ]
    }
   ],
   "source": [
    "#Purchasing.ProductVendor\n",
    "try:\n",
    "    with pyodbc.connect(source_conn_str) as source_conn:\n",
    "        ProductVendor_df = pd.read_sql_query(\"SELECT ProductID, BusinessEntityID, AverageLeadTime, StandardPrice, LastReceiptCost, LastReceiptDate, MinOrderQty, MaxOrderQty, OnOrderQty, UnitMeasureCode FROM Purchasing.ProductVendor\", source_conn)\n",
    "except pyodbc.Error as e:\n",
    "    print(\"Error while connecting to the source SQL Server:\", e)\n",
    "\n",
    "ProductVendor_df['OnOrderQty'].fillna(0, inplace=True)\n",
    "try:\n",
    "    with pyodbc.connect(destination_conn_str) as destination_conn:\n",
    "        cursor = destination_conn.cursor()\n",
    "        insert_query = \"\"\"\n",
    "        INSERT INTO [DWUnitedOutdoors].[dbo].[ProductVendor]\n",
    "        (ProductID, BusinessEntityID, AverageLeadTime, StandardPrice, LastReceiptCost, LastReceiptDate, MinOrderQty, MaxOrderQty, OnOrderQty, UnitMeasureCode)\n",
    "        VALUES (?, ?, ?, ?, ?, ?, ?, ?, ?, ?)\n",
    "        \"\"\"\n",
    "        data_to_insert = ProductVendor_df[['ProductID', 'BusinessEntityID', 'AverageLeadTime', 'StandardPrice', 'LastReceiptCost', 'LastReceiptDate', 'MinOrderQty', 'MaxOrderQty', 'OnOrderQty', 'UnitMeasureCode']].values.tolist()\n",
    "        cursor.executemany(insert_query, data_to_insert)\n",
    "        destination_conn.commit()\n",
    "        print(\"Data inserted successfully into ProductVendor table.\")\n",
    "except pyodbc.Error as e:\n",
    "    print(\"Error while connecting to the destination SQL Server:\", e)"
   ],
   "metadata": {
    "collapsed": false,
    "ExecuteTime": {
     "end_time": "2024-05-28T10:03:28.213825Z",
     "start_time": "2024-05-28T10:03:27.918827Z"
    }
   },
   "id": "453fb642c4f4eb63",
   "execution_count": 29
  },
  {
   "cell_type": "code",
   "outputs": [
    {
     "name": "stdout",
     "output_type": "stream",
     "text": [
      "Data inserted successfully into ShoppingCartItem table.\n"
     ]
    }
   ],
   "source": [
    "#ShoppingcartItem\n",
    "try:\n",
    "      with pyodbc.connect(source_conn_str) as source_conn:\n",
    "          Shoppingcart_df = pd.read_sql_query(\"SELECT ShoppingCartItemID, ShoppingCartID, Quantity, ProductID, DateCreated from Sales.ShoppingCartItem\", source_conn)\n",
    "except pyodbc.Error as e:\n",
    "    print(\"Error while connecting to the source SQL Server:\", e)\n",
    "try:\n",
    "    with pyodbc.connect(destination_conn_str) as destination_conn:\n",
    "        cursor = destination_conn.cursor()\n",
    "        # Batch insert\n",
    "        insert_query = \"\"\"\n",
    "        INSERT INTO [DWUnitedOutdoors].[dbo].[ShoppingCartItem]\n",
    "        (ShoppingCartItemID, ShoppingCardID, Quantity, ProductID, DateCreated)\n",
    "        VALUES (?, ?, ?, ?, ?)\n",
    "        \"\"\"\n",
    "\n",
    "        # Convert DataFrame to a list of tuples for batch insertion\n",
    "        data_to_insert = Shoppingcart_df[['ShoppingCartItemID', 'ShoppingCartID', 'Quantity', 'ProductID', 'DateCreated']].values.tolist()\n",
    "\n",
    "        # Executing batch insert\n",
    "        cursor.executemany(insert_query, data_to_insert)\n",
    "\n",
    "        # Commit transaction\n",
    "        destination_conn.commit()\n",
    "\n",
    "        print(\"Data inserted successfully into ShoppingCartItem table.\")\n",
    "except pyodbc.Error as e:\n",
    "    print(\"Error while connecting to the destination SQL Server:\", e)"
   ],
   "metadata": {
    "collapsed": false,
    "ExecuteTime": {
     "end_time": "2024-05-28T10:03:30.717444Z",
     "start_time": "2024-05-28T10:03:30.682927Z"
    }
   },
   "id": "a2f3adbf70e267fa",
   "execution_count": 30
  },
  {
   "cell_type": "code",
   "outputs": [
    {
     "name": "stdout",
     "output_type": "stream",
     "text": [
      "Data inserted successfully into OrderDetails table.\n"
     ]
    },
    {
     "data": {
      "text/plain": "      OrderID CustomerID  EmployeeID            OrderDate  \\\n0       10248      VINET           5  1996-07-04 00:00:00   \n1       10248      VINET           5  1996-07-04 00:00:00   \n2       10248      VINET           5  1996-07-04 00:00:00   \n3       10249      TOMSP           6  1996-07-05 00:00:00   \n4       10249      TOMSP           6  1996-07-05 00:00:00   \n...       ...        ...         ...                  ...   \n2150    11077      RATTC           1  1998-05-06 00:00:00   \n2151    11077      RATTC           1  1998-05-06 00:00:00   \n2152    11077      RATTC           1  1998-05-06 00:00:00   \n2153    11077      RATTC           1  1998-05-06 00:00:00   \n2154    11077      RATTC           1  1998-05-06 00:00:00   \n\n             RequiredDate ShippedDate  ShipVia  Freight  \\\n0     1996-08-01 00:00:00  1996-07-16        3    32.38   \n1     1996-08-01 00:00:00  1996-07-16        3    32.38   \n2     1996-08-01 00:00:00  1996-07-16        3    32.38   \n3     1996-08-16 00:00:00  1996-07-10        1    11.61   \n4     1996-08-16 00:00:00  1996-07-10        1    11.61   \n...                   ...         ...      ...      ...   \n2150  1998-06-03 00:00:00  1900-01-01        2     8.53   \n2151  1998-06-03 00:00:00  1900-01-01        2     8.53   \n2152  1998-06-03 00:00:00  1900-01-01        2     8.53   \n2153  1998-06-03 00:00:00  1900-01-01        2     8.53   \n2154  1998-06-03 00:00:00  1900-01-01        2     8.53   \n\n                        ShipName         ShipAddress     ShipCity ShipRegion  \\\n0      Vins et alcools Chevalier  59 rue de l'Abbaye        Reims    Default   \n1      Vins et alcools Chevalier  59 rue de l'Abbaye        Reims    Default   \n2      Vins et alcools Chevalier  59 rue de l'Abbaye        Reims    Default   \n3             Toms Spezialitäten       Luisenstr. 48      Münster    Default   \n4             Toms Spezialitäten       Luisenstr. 48      Münster    Default   \n...                          ...                 ...          ...        ...   \n2150  Rattlesnake Canyon Grocery     2817 Milton Dr.  Albuquerque         NM   \n2151  Rattlesnake Canyon Grocery     2817 Milton Dr.  Albuquerque         NM   \n2152  Rattlesnake Canyon Grocery     2817 Milton Dr.  Albuquerque         NM   \n2153  Rattlesnake Canyon Grocery     2817 Milton Dr.  Albuquerque         NM   \n2154  Rattlesnake Canyon Grocery     2817 Milton Dr.  Albuquerque         NM   \n\n     ShipPostalCode ShipCountry  ProductID  UnitPrice  Quantity  Discount  \n0             51100      France         11      14.00        12      0.00  \n1             51100      France         42       9.80        10      0.00  \n2             51100      France         72      34.80         5      0.00  \n3             44087     Germany         14      18.60         9      0.00  \n4             44087     Germany         51      42.40        40      0.00  \n...             ...         ...        ...        ...       ...       ...  \n2150          87110         USA         64      33.25         2      0.03  \n2151          87110         USA         66      17.00         1      0.00  \n2152          87110         USA         73      15.00         2      0.01  \n2153          87110         USA         75       7.75         4      0.00  \n2154          87110         USA         77      13.00         2      0.00  \n\n[2155 rows x 18 columns]",
      "text/html": "<div>\n<style scoped>\n    .dataframe tbody tr th:only-of-type {\n        vertical-align: middle;\n    }\n\n    .dataframe tbody tr th {\n        vertical-align: top;\n    }\n\n    .dataframe thead th {\n        text-align: right;\n    }\n</style>\n<table border=\"1\" class=\"dataframe\">\n  <thead>\n    <tr style=\"text-align: right;\">\n      <th></th>\n      <th>OrderID</th>\n      <th>CustomerID</th>\n      <th>EmployeeID</th>\n      <th>OrderDate</th>\n      <th>RequiredDate</th>\n      <th>ShippedDate</th>\n      <th>ShipVia</th>\n      <th>Freight</th>\n      <th>ShipName</th>\n      <th>ShipAddress</th>\n      <th>ShipCity</th>\n      <th>ShipRegion</th>\n      <th>ShipPostalCode</th>\n      <th>ShipCountry</th>\n      <th>ProductID</th>\n      <th>UnitPrice</th>\n      <th>Quantity</th>\n      <th>Discount</th>\n    </tr>\n  </thead>\n  <tbody>\n    <tr>\n      <th>0</th>\n      <td>10248</td>\n      <td>VINET</td>\n      <td>5</td>\n      <td>1996-07-04 00:00:00</td>\n      <td>1996-08-01 00:00:00</td>\n      <td>1996-07-16</td>\n      <td>3</td>\n      <td>32.38</td>\n      <td>Vins et alcools Chevalier</td>\n      <td>59 rue de l'Abbaye</td>\n      <td>Reims</td>\n      <td>Default</td>\n      <td>51100</td>\n      <td>France</td>\n      <td>11</td>\n      <td>14.00</td>\n      <td>12</td>\n      <td>0.00</td>\n    </tr>\n    <tr>\n      <th>1</th>\n      <td>10248</td>\n      <td>VINET</td>\n      <td>5</td>\n      <td>1996-07-04 00:00:00</td>\n      <td>1996-08-01 00:00:00</td>\n      <td>1996-07-16</td>\n      <td>3</td>\n      <td>32.38</td>\n      <td>Vins et alcools Chevalier</td>\n      <td>59 rue de l'Abbaye</td>\n      <td>Reims</td>\n      <td>Default</td>\n      <td>51100</td>\n      <td>France</td>\n      <td>42</td>\n      <td>9.80</td>\n      <td>10</td>\n      <td>0.00</td>\n    </tr>\n    <tr>\n      <th>2</th>\n      <td>10248</td>\n      <td>VINET</td>\n      <td>5</td>\n      <td>1996-07-04 00:00:00</td>\n      <td>1996-08-01 00:00:00</td>\n      <td>1996-07-16</td>\n      <td>3</td>\n      <td>32.38</td>\n      <td>Vins et alcools Chevalier</td>\n      <td>59 rue de l'Abbaye</td>\n      <td>Reims</td>\n      <td>Default</td>\n      <td>51100</td>\n      <td>France</td>\n      <td>72</td>\n      <td>34.80</td>\n      <td>5</td>\n      <td>0.00</td>\n    </tr>\n    <tr>\n      <th>3</th>\n      <td>10249</td>\n      <td>TOMSP</td>\n      <td>6</td>\n      <td>1996-07-05 00:00:00</td>\n      <td>1996-08-16 00:00:00</td>\n      <td>1996-07-10</td>\n      <td>1</td>\n      <td>11.61</td>\n      <td>Toms Spezialitäten</td>\n      <td>Luisenstr. 48</td>\n      <td>Münster</td>\n      <td>Default</td>\n      <td>44087</td>\n      <td>Germany</td>\n      <td>14</td>\n      <td>18.60</td>\n      <td>9</td>\n      <td>0.00</td>\n    </tr>\n    <tr>\n      <th>4</th>\n      <td>10249</td>\n      <td>TOMSP</td>\n      <td>6</td>\n      <td>1996-07-05 00:00:00</td>\n      <td>1996-08-16 00:00:00</td>\n      <td>1996-07-10</td>\n      <td>1</td>\n      <td>11.61</td>\n      <td>Toms Spezialitäten</td>\n      <td>Luisenstr. 48</td>\n      <td>Münster</td>\n      <td>Default</td>\n      <td>44087</td>\n      <td>Germany</td>\n      <td>51</td>\n      <td>42.40</td>\n      <td>40</td>\n      <td>0.00</td>\n    </tr>\n    <tr>\n      <th>...</th>\n      <td>...</td>\n      <td>...</td>\n      <td>...</td>\n      <td>...</td>\n      <td>...</td>\n      <td>...</td>\n      <td>...</td>\n      <td>...</td>\n      <td>...</td>\n      <td>...</td>\n      <td>...</td>\n      <td>...</td>\n      <td>...</td>\n      <td>...</td>\n      <td>...</td>\n      <td>...</td>\n      <td>...</td>\n      <td>...</td>\n    </tr>\n    <tr>\n      <th>2150</th>\n      <td>11077</td>\n      <td>RATTC</td>\n      <td>1</td>\n      <td>1998-05-06 00:00:00</td>\n      <td>1998-06-03 00:00:00</td>\n      <td>1900-01-01</td>\n      <td>2</td>\n      <td>8.53</td>\n      <td>Rattlesnake Canyon Grocery</td>\n      <td>2817 Milton Dr.</td>\n      <td>Albuquerque</td>\n      <td>NM</td>\n      <td>87110</td>\n      <td>USA</td>\n      <td>64</td>\n      <td>33.25</td>\n      <td>2</td>\n      <td>0.03</td>\n    </tr>\n    <tr>\n      <th>2151</th>\n      <td>11077</td>\n      <td>RATTC</td>\n      <td>1</td>\n      <td>1998-05-06 00:00:00</td>\n      <td>1998-06-03 00:00:00</td>\n      <td>1900-01-01</td>\n      <td>2</td>\n      <td>8.53</td>\n      <td>Rattlesnake Canyon Grocery</td>\n      <td>2817 Milton Dr.</td>\n      <td>Albuquerque</td>\n      <td>NM</td>\n      <td>87110</td>\n      <td>USA</td>\n      <td>66</td>\n      <td>17.00</td>\n      <td>1</td>\n      <td>0.00</td>\n    </tr>\n    <tr>\n      <th>2152</th>\n      <td>11077</td>\n      <td>RATTC</td>\n      <td>1</td>\n      <td>1998-05-06 00:00:00</td>\n      <td>1998-06-03 00:00:00</td>\n      <td>1900-01-01</td>\n      <td>2</td>\n      <td>8.53</td>\n      <td>Rattlesnake Canyon Grocery</td>\n      <td>2817 Milton Dr.</td>\n      <td>Albuquerque</td>\n      <td>NM</td>\n      <td>87110</td>\n      <td>USA</td>\n      <td>73</td>\n      <td>15.00</td>\n      <td>2</td>\n      <td>0.01</td>\n    </tr>\n    <tr>\n      <th>2153</th>\n      <td>11077</td>\n      <td>RATTC</td>\n      <td>1</td>\n      <td>1998-05-06 00:00:00</td>\n      <td>1998-06-03 00:00:00</td>\n      <td>1900-01-01</td>\n      <td>2</td>\n      <td>8.53</td>\n      <td>Rattlesnake Canyon Grocery</td>\n      <td>2817 Milton Dr.</td>\n      <td>Albuquerque</td>\n      <td>NM</td>\n      <td>87110</td>\n      <td>USA</td>\n      <td>75</td>\n      <td>7.75</td>\n      <td>4</td>\n      <td>0.00</td>\n    </tr>\n    <tr>\n      <th>2154</th>\n      <td>11077</td>\n      <td>RATTC</td>\n      <td>1</td>\n      <td>1998-05-06 00:00:00</td>\n      <td>1998-06-03 00:00:00</td>\n      <td>1900-01-01</td>\n      <td>2</td>\n      <td>8.53</td>\n      <td>Rattlesnake Canyon Grocery</td>\n      <td>2817 Milton Dr.</td>\n      <td>Albuquerque</td>\n      <td>NM</td>\n      <td>87110</td>\n      <td>USA</td>\n      <td>77</td>\n      <td>13.00</td>\n      <td>2</td>\n      <td>0.00</td>\n    </tr>\n  </tbody>\n</table>\n<p>2155 rows × 18 columns</p>\n</div>"
     },
     "execution_count": 117,
     "metadata": {},
     "output_type": "execute_result"
    }
   ],
   "source": [
    "#Orders/Northwind\n",
    "try:\n",
    "        with pyodbc.connect(source_conn_str_northwind) as source_conn:\n",
    "            Orders_df = pd.read_sql_query(\"SELECT OrderID, CustomerID, EmployeeID, OrderDate, RequiredDate, ShippedDate, ShipVia, Freight, ShipName, ShipAddress, ShipCity, ShipRegion, ShipPostalCode, ShipCountry  FROM Orders\", source_conn)\n",
    "            OrdersDetail_df = pd.read_sql_query(\"SELECT OrderID, ProductID, UnitPrice, Quantity, Discount FROM Order_Details\", source_conn)\n",
    "            \n",
    "            ##mergingOrderDetails\n",
    "            Orders_df = pd.merge(Orders_df, OrdersDetail_df, on='OrderID', how='left')\n",
    "            \n",
    "except pyodbc.Error as e:\n",
    "    print(\"Error while connecting to the source SQL Server:\", e)\n",
    "    \n",
    "Orders_df['OrderDate'] = Orders_df['OrderDate'].dt.strftime('%Y-%m-%d %H:%M:%S')\n",
    "Orders_df['RequiredDate'] = Orders_df['RequiredDate'].dt.strftime('%Y-%m-%d %H:%M:%S')\n",
    "Orders_df['ShippedDate'].fillna('1900-01-01 00:00:00', inplace=True)\n",
    "sales_order_df['Freight'].fillna(0.0, inplace=True)\n",
    "sales_order_df['UnitPrice'].fillna(0.0, inplace=True)\n",
    "Orders_df['ShipRegion'].fillna('Default', inplace=True)\n",
    "Orders_df['ShipPostalCode'].fillna('Default', inplace=True)\n",
    "\n",
    "try:\n",
    "    with pyodbc.connect(destination_conn_str) as destination_conn:\n",
    "        cursor = destination_conn.cursor()\n",
    "        # Batch insert\n",
    "        insert_query = \"\"\"\n",
    "        INSERT INTO [DWUnitedOutdoors].[dbo].[Orders]\n",
    "        (OrderID, CustomerID, EmployeeID, OrderDate, RequiredDate, ShippedDate, ShipVia, Freight, ShipName, ShipAdress, ShipCity, ShipRegion, ShipPostalCode, ShipCountry, ProductID, UnitPrice, Quantity, Discount)\n",
    "        VALUES (?, ?, ?, ?, ?, ?, ?, ?, ?, ?, ?, ?, ?, ?, ?, ?, ?, ?)\n",
    "        \"\"\"\n",
    "\n",
    "        # Convert DataFrame to a list of tuples for batch insertion\n",
    "        data_to_insert = Orders_df[['OrderID', 'CustomerID', 'EmployeeID', 'OrderDate', 'RequiredDate', 'ShippedDate', 'ShipVia', 'Freight', 'ShipName', 'ShipAddress', 'ShipCity', 'ShipRegion', 'ShipPostalCode', 'ShipCountry', 'ProductID', 'UnitPrice', 'Quantity', 'Discount']].values.tolist()\n",
    "\n",
    "        # Executing batch insert\n",
    "        cursor.executemany(insert_query, data_to_insert)\n",
    "\n",
    "        # Commit transaction\n",
    "        destination_conn.commit()\n",
    "\n",
    "        print(\"Data inserted successfully into OrderDetails table.\")\n",
    "except pyodbc.Error as e:\n",
    "    print(\"Error while connecting to the destination SQL Server:\", e)"
   ],
   "metadata": {
    "collapsed": false,
    "ExecuteTime": {
     "end_time": "2024-05-28T11:32:33.486642Z",
     "start_time": "2024-05-28T11:32:31.586411Z"
    }
   },
   "id": "dc4d1db40277e0f9",
   "execution_count": 117
  },
  {
   "cell_type": "code",
   "outputs": [
    {
     "name": "stdout",
     "output_type": "stream",
     "text": [
      "Data inserted successfully.\n"
     ]
    }
   ],
   "source": [
    "#unitmeasure\n",
    "# Establish connection to the source SQL Server database and read\n",
    "try:\n",
    "    with pyodbc.connect(source_conn_str) as source_conn:\n",
    "        unitmeasure_df = pd.read_sql_query(\"SELECT UnitMeasureCode, Name FROM Production.UnitMeasure\", source_conn)\n",
    "\n",
    "except pyodbc.Error as e:\n",
    "    print(\"Error while connecting to the source SQL Server:\", e)\n",
    "\n",
    "# Establish connection to the destination SQL Server database and insert data\n",
    "try:\n",
    "    with pyodbc.connect(destination_conn_str) as destination_conn:\n",
    "        cursor = destination_conn.cursor()\n",
    "\n",
    "        # Batch insert\n",
    "        insert_query = \"\"\"\n",
    "        INSERT INTO [DWUnitedOutdoors].[dbo].[UnitMeasure]\n",
    "        (UnitMeasureCode, Name)\n",
    "        VALUES (?, ?)\n",
    "        \"\"\"\n",
    "\n",
    "        # Convert DataFrame to a list of tuples for batch insertion\n",
    "        data_to_insert = unitmeasure_df[['UnitMeasureCode', 'Name']].values.tolist()\n",
    "\n",
    "        # Executing batch insert\n",
    "        cursor.executemany(insert_query, data_to_insert) \n",
    "        # Commit transaction\n",
    "        destination_conn.commit()\n",
    "\n",
    "        print(\"Data inserted successfully.\")\n",
    "except pyodbc.Error as e:\n",
    "    print(\"Error while connecting to the destination SQL Server or inserting data:\", e)"
   ],
   "metadata": {
    "collapsed": false,
    "ExecuteTime": {
     "end_time": "2024-05-28T10:03:46.066402Z",
     "start_time": "2024-05-28T10:03:46.014400Z"
    }
   },
   "id": "21200a53cb257eba",
   "execution_count": 32
  },
  {
   "cell_type": "code",
   "outputs": [
    {
     "name": "stdout",
     "output_type": "stream",
     "text": [
      "Data types of DataFrame columns:\n",
      "BillOfMaterialsID      int64\n",
      "ProductAssemblyID      int32\n",
      "ComponentID            int64\n",
      "StartDate             object\n",
      "EndDate               object\n",
      "UnitMeasureCode       object\n",
      "BOMlevel               int64\n",
      "PerAssemblyQty       float64\n",
      "dtype: object\n",
      "Data inserted successfully into BillOfMaterial table.\n"
     ]
    }
   ],
   "source": [
    "#BillOfMaterials\n",
    "# Fetch data from source\n",
    "try:\n",
    "    with pyodbc.connect(source_conn_str) as source_conn:\n",
    "        bill_of_material_df = pd.read_sql_query(\"\"\"SELECT BillOfMaterialsID, ProductAssemblyID, ComponentID, StartDate, EndDate, UnitMeasureCode, BOMlevel, PerAssemblyQty FROM Production.BillOfMaterials\"\"\", source_conn)\n",
    "except pyodbc.Error as e:\n",
    "    print(\"Error while connecting to the source SQL Server:\", e)\n",
    "\n",
    "# Validate and clean date columns\n",
    "date_columns = ['StartDate', 'EndDate']\n",
    "for column in date_columns:\n",
    "    bill_of_material_df[column] = pd.to_datetime(bill_of_material_df[column], errors='coerce')\n",
    "\n",
    "# Drop rows with invalid StartDate\n",
    "bill_of_material_df.dropna(subset=['StartDate'], inplace=True)\n",
    "\n",
    "# Replace NaT in EndDate with None\n",
    "bill_of_material_df['EndDate'] = bill_of_material_df['EndDate'].apply(lambda x: None if pd.isna(x) else x)\n",
    "\n",
    "# Convert datetime columns to strings in 'YYYY-MM-DD' format, or None\n",
    "bill_of_material_df['StartDate'] = bill_of_material_df['StartDate'].apply(lambda x: x.strftime('%Y-%m-%d') if not pd.isna(x) else None)\n",
    "bill_of_material_df['EndDate'] = bill_of_material_df['EndDate'].apply(lambda x: x.strftime('%Y-%m-%d') if not pd.isna(x) else None)\n",
    "\n",
    "# Ensure PerAssemblyQty is of type float\n",
    "bill_of_material_df['PerAssemblyQty'] = bill_of_material_df['PerAssemblyQty'].astype(float)\n",
    "\n",
    "# Handle missing and infinite values in ProductAssemblyID\n",
    "bill_of_material_df['ProductAssemblyID'] = bill_of_material_df['ProductAssemblyID'].fillna(0).astype(int)\n",
    "\n",
    "# Print data types of each column\n",
    "print(\"Data types of DataFrame columns:\")\n",
    "print(bill_of_material_df.dtypes)\n",
    "\n",
    "# Insert data into destination\n",
    "try:\n",
    "    with pyodbc.connect(destination_conn_str) as destination_conn:\n",
    "        cursor = destination_conn.cursor()\n",
    "        insert_query = \"\"\"\n",
    "        INSERT INTO [DWUnitedOutdoors].[dbo].[BillOfMaterial]\n",
    "        (BillOfMaterialsID, ProductAssemblyID, ComponentID, StartDate, EndDate, UnitMeasureCode, BOMlevel, PerAssemblyQty)\n",
    "        VALUES (?, ?, ?, ?, ?, ?, ?, ?)\n",
    "        \"\"\"\n",
    "\n",
    "        # Convert DataFrame to a list of tuples for batch insertion\n",
    "        data_to_insert = bill_of_material_df[\n",
    "            ['BillOfMaterialsID', 'ProductAssemblyID', 'ComponentID', 'StartDate', 'EndDate', 'UnitMeasureCode', 'BOMlevel', 'PerAssemblyQty']\n",
    "        ].values.tolist()\n",
    "\n",
    "        # Executing batch insert\n",
    "        cursor.executemany(insert_query, data_to_insert)\n",
    "\n",
    "        # Commit transaction\n",
    "        destination_conn.commit()\n",
    "\n",
    "        print(\"Data inserted successfully into BillOfMaterial table.\")\n",
    "except pyodbc.Error as e:\n",
    "    print(\"Error while connecting to the destination SQL Server:\", e)"
   ],
   "metadata": {
    "collapsed": false,
    "ExecuteTime": {
     "end_time": "2024-05-28T10:03:49.830971Z",
     "start_time": "2024-05-28T10:03:48.424447Z"
    }
   },
   "id": "a419bffc0335e282",
   "execution_count": 33
  },
  {
   "cell_type": "code",
   "outputs": [
    {
     "name": "stdout",
     "output_type": "stream",
     "text": [
      "Data inserted successfully.\n"
     ]
    }
   ],
   "source": [
    "#Product/Northwind\n",
    "try:\n",
    "    with pyodbc.connect(source_conn_str_northwind) as source_conn:\n",
    "        NorthWindProducts_df = pd.read_sql_query(\"SELECT * FROM dbo.Products\", source_conn)\n",
    "        NorthWindCategories_df = pd.read_sql_query(\"SELECT * FROM dbo.Categories\", source_conn)\n",
    "        #merge on CategoryID\n",
    "        NorthWindSuppliers_df = pd.read_sql_query(\"SELECT SupplierID, CompanyName, ContactName, ContactTitle, Address, City, Region, PostalCode, Country, Phone, Fax FROM dbo.Suppliers\", source_conn)  \n",
    "        #merge on SupplierID\n",
    "        NorthWindProducts_df = pd.merge(NorthWindProducts_df, NorthWindCategories_df, on='CategoryID', how='left')\n",
    "        NorthWindProducts_df = pd.merge(NorthWindProducts_df, NorthWindSuppliers_df, on='SupplierID', how='left')\n",
    "\n",
    "except pyodbc.Error as e:\n",
    "    print(\"Error while connecting to the source SQL Server:\", e)\n",
    "\n",
    "# Establish connection to the destination SQL Server database and insert data\n",
    "try:\n",
    "    with pyodbc.connect(destination_conn_str) as destination_conn:\n",
    "        cursor = destination_conn.cursor()\n",
    "        # Batch insert\n",
    "        insert_query = \"\"\"\n",
    "        INSERT INTO [DWUnitedOutdoors].[dbo].[Product]\n",
    "        (ProductID, ProductName, SupplierID, CategoryID, QuantityPerUnit, UnitPrice, UnitsInStock, UnitsOnOrder, ReorderLevel, Discontinued, CategoryName, Description, Picture, CompanyName, ContactName, ContactTitle, Adress, City, Region, PostalCode, Country, Phone, Fax)\n",
    "        VALUES (?, ?, ?, ?, ?, ?, ?, ?, ?, ?, ?, ?, ?, ?, ?, ?, ?, ?, ?, ?, ?, ?, ?)\n",
    "        \"\"\"\n",
    "\n",
    "        # Convert DataFrame to a list of tuples for batch insertion\n",
    "        data_to_insert = NorthWindProducts_df[['ProductID', 'ProductName', 'SupplierID', 'CategoryID', 'QuantityPerUnit', 'UnitPrice', 'UnitsInStock', 'UnitsOnOrder', 'ReorderLevel', 'Discontinued', 'CategoryName', 'Description', 'Picture', 'CompanyName', 'ContactName', 'ContactTitle', 'Address', 'City', 'Region', 'PostalCode', 'Country', 'Phone', 'Fax']].values.tolist()\n",
    "\n",
    "        # Executing batch insert\n",
    "        cursor.executemany(insert_query, data_to_insert) \n",
    "        # Commit transaction\n",
    "        destination_conn.commit()\n",
    "\n",
    "        print(\"Data inserted successfully.\")\n",
    "except pyodbc.Error as e:\n",
    "    print(\"Error while connecting to the destination SQL Server or inserting data:\", e)"
   ],
   "metadata": {
    "collapsed": false,
    "ExecuteTime": {
     "end_time": "2024-05-28T10:03:54.003535Z",
     "start_time": "2024-05-28T10:03:53.637535Z"
    }
   },
   "id": "e222e0cd7707b79c",
   "execution_count": 34
  },
  {
   "cell_type": "code",
   "outputs": [
    {
     "name": "stdout",
     "output_type": "stream",
     "text": [
      "Data inserted successfully.\n"
     ]
    }
   ],
   "source": [
    "#Region/Northwind\n",
    "try:\n",
    "    with pyodbc.connect(source_conn_str_northwind) as source_conn:\n",
    "        NorthWindRegion_df = pd.read_sql_query(\"SELECT RegionID, RegionDescription FROM dbo.Region\", source_conn)\n",
    "        NorthWindTerritories_df = pd.read_sql_query(\"SELECT TerritoryID, TerritoryDescription, RegionID FROM dbo.Territories\", source_conn)\n",
    "        #merge on SupplierID\n",
    "        NorthWindRegion_df = pd.merge(NorthWindRegion_df, NorthWindTerritories_df, on='RegionID', how='left')\n",
    "\n",
    "except pyodbc.Error as e:\n",
    "    print(\"Error while connecting to the source SQL Server:\", e)\n",
    "\n",
    "# Establish connection to the destination SQL Server database and insert data\n",
    "try:\n",
    "    with pyodbc.connect(destination_conn_str) as destination_conn:\n",
    "        cursor = destination_conn.cursor()\n",
    "        # Batch insert\n",
    "        insert_query = \"\"\"\n",
    "        INSERT INTO [DWUnitedOutdoors].[dbo].[Region]\n",
    "        (RegionID, RegionDescription, TerritoryID, TerritoryDescription)\n",
    "        VALUES (?, ?, ?, ?)\n",
    "        \"\"\"\n",
    "\n",
    "        # Convert DataFrame to a list of tuples for batch insertion\n",
    "        data_to_insert = NorthWindRegion_df[['RegionID', 'RegionDescription', 'TerritoryID', 'TerritoryDescription']].values.tolist()\n",
    "\n",
    "        # Executing batch insert\n",
    "        cursor.executemany(insert_query, data_to_insert) \n",
    "        # Commit transaction\n",
    "        destination_conn.commit()\n",
    "\n",
    "        print(\"Data inserted successfully.\")\n",
    "except pyodbc.Error as e:\n",
    "    print(\"Error while connecting to the destination SQL Server or inserting data:\", e)"
   ],
   "metadata": {
    "collapsed": false,
    "ExecuteTime": {
     "end_time": "2024-05-28T10:03:58.263651Z",
     "start_time": "2024-05-28T10:03:58.200650Z"
    }
   },
   "id": "4390e2f3ea123a46",
   "execution_count": 35
  },
  {
   "cell_type": "code",
   "outputs": [
    {
     "name": "stdout",
     "output_type": "stream",
     "text": [
      "Data inserted successfully.\n"
     ]
    }
   ],
   "source": [
    "#EmployeeTerritories/Northwind\n",
    "try:\n",
    "    with pyodbc.connect(source_conn_str_northwind) as source_conn:\n",
    "        NorthWindEmployeeTerritories_df = pd.read_sql_query(\"SELECT EmployeeID, TerritoryID FROM dbo.EmployeeTerritories\", source_conn)\n",
    "\n",
    "except pyodbc.Error as e:\n",
    "    print(\"Error while connecting to the source SQL Server:\", e)\n",
    "\n",
    "# Establish connection to the destination SQL Server database and insert data\n",
    "try:\n",
    "    with pyodbc.connect(destination_conn_str) as destination_conn:\n",
    "        cursor = destination_conn.cursor()\n",
    "        # Batch insert\n",
    "        insert_query = \"\"\"\n",
    "        INSERT INTO [DWUnitedOutdoors].[dbo].[EmployeeTerritories]\n",
    "        (EmployeeID, TerritoryID)\n",
    "        VALUES (?, ?)\n",
    "        \"\"\"\n",
    "\n",
    "        # Convert DataFrame to a list of tuples for batch insertion\n",
    "        data_to_insert = NorthWindEmployeeTerritories_df[['EmployeeID', 'TerritoryID']].values.tolist()\n",
    "\n",
    "        # Executing batch insert\n",
    "        cursor.executemany(insert_query, data_to_insert) \n",
    "        # Commit transaction\n",
    "        destination_conn.commit()\n",
    "\n",
    "        print(\"Data inserted successfully.\")\n",
    "except pyodbc.Error as e:\n",
    "    print(\"Error while connecting to the destination SQL Server or inserting data:\", e)"
   ],
   "metadata": {
    "collapsed": false,
    "ExecuteTime": {
     "end_time": "2024-05-28T10:04:06.574049Z",
     "start_time": "2024-05-28T10:04:06.513657Z"
    }
   },
   "id": "9a5371f3dc972e44",
   "execution_count": 36
  },
  {
   "cell_type": "code",
   "outputs": [
    {
     "name": "stdout",
     "output_type": "stream",
     "text": [
      "Data inserted successfully.\n"
     ]
    }
   ],
   "source": [
    "#Employees/Northwind\n",
    "try:\n",
    "    with pyodbc.connect(source_conn_str_northwind) as source_conn:\n",
    "        NorthWindEmployees_df = pd.read_sql_query(\"SELECT * FROM dbo.Employees\", source_conn)\n",
    "\n",
    "except pyodbc.Error as e:\n",
    "    print(\"Error while connecting to the source SQL Server:\", e)\n",
    "\n",
    "NorthWindEmployees_df['EmployeeID'] = NorthWindEmployees_df['EmployeeID'].astype(int)\n",
    "NorthWindEmployees_df['ReportsTo'] = NorthWindEmployees_df['ReportsTo'].fillna(0).astype(int)\n",
    "# Establish connection to the destination SQL Server database and insert data\n",
    "try:\n",
    "    with pyodbc.connect(destination_conn_str) as destination_conn:\n",
    "        cursor = destination_conn.cursor()\n",
    "        # Batch insert\n",
    "        insert_query = \"\"\"\n",
    "        INSERT INTO [DWUnitedOutdoors].[dbo].[Employees]\n",
    "        (EmployeeID, LastName, FirstName, Title, TitleOfCourtesy, BirthDate, HireDate, Adress, City, Region, PostalCode, Country, HomePhone, Extension, Photo, Notes, ReportsTo, PhotoPath)\n",
    "        VALUES (?, ?, ?, ?, ?, ?, ?, ?, ?, ?, ?, ?, ?, ?, ?, ?, ?, ?)\n",
    "        \"\"\"\n",
    "\n",
    "        # Convert DataFrame to a list of tuples for batch insertion\n",
    "        data_to_insert = NorthWindEmployees_df[['EmployeeID', 'LastName', 'FirstName', 'Title', 'TitleOfCourtesy', 'BirthDate', 'HireDate', 'Address', 'City', 'Region', 'PostalCode', 'Country', 'HomePhone', 'Extension', 'Photo', 'Notes', 'ReportsTo', 'PhotoPath']].values.tolist()\n",
    "\n",
    "        # Executing batch insert\n",
    "        cursor.executemany(insert_query, data_to_insert) \n",
    "        # Commit transaction\n",
    "        destination_conn.commit()\n",
    "\n",
    "        print(\"Data inserted successfully.\")\n",
    "except pyodbc.Error as e:\n",
    "    print(\"Error while connecting to the destination SQL Server or inserting data:\", e)"
   ],
   "metadata": {
    "collapsed": false,
    "ExecuteTime": {
     "end_time": "2024-05-28T10:04:14.143512Z",
     "start_time": "2024-05-28T10:04:14.031513Z"
    }
   },
   "id": "193f5ecdf5d8ad3a",
   "execution_count": 37
  },
  {
   "cell_type": "code",
   "outputs": [
    {
     "name": "stdout",
     "output_type": "stream",
     "text": [
      "Data inserted successfully.\n"
     ]
    }
   ],
   "source": [
    "#Shippers/Northwind\n",
    "try:\n",
    "    with pyodbc.connect(source_conn_str_northwind) as source_conn:\n",
    "        NorthWindShippers_df = pd.read_sql_query(\"SELECT * FROM dbo.Shippers\", source_conn)\n",
    "\n",
    "except pyodbc.Error as e:\n",
    "    print(\"Error while connecting to the source SQL Server:\", e)\n",
    "\n",
    "# Establish connection to the destination SQL Server database and insert data\n",
    "try:\n",
    "    with pyodbc.connect(destination_conn_str) as destination_conn:\n",
    "        cursor = destination_conn.cursor()\n",
    "        # Batch insert\n",
    "        insert_query = \"\"\"\n",
    "        INSERT INTO [DWUnitedOutdoors].[dbo].[Shippers]\n",
    "        (ShipperID, CompanyName, Phone)\n",
    "        VALUES (?, ?, ?)\n",
    "        \"\"\"\n",
    "\n",
    "        # Convert DataFrame to a list of tuples for batch insertion\n",
    "        data_to_insert = NorthWindShippers_df[['ShipperID', 'CompanyName', 'Phone']].values.tolist()\n",
    "\n",
    "        # Executing batch insert\n",
    "        cursor.executemany(insert_query, data_to_insert) \n",
    "        # Commit transaction\n",
    "        destination_conn.commit()\n",
    "\n",
    "        print(\"Data inserted successfully.\")\n",
    "except pyodbc.Error as e:\n",
    "    print(\"Error while connecting to the destination SQL Server or inserting data:\", e)"
   ],
   "metadata": {
    "collapsed": false,
    "ExecuteTime": {
     "end_time": "2024-05-28T10:04:17.131272Z",
     "start_time": "2024-05-28T10:04:17.028773Z"
    }
   },
   "id": "b6f967b84ae2d2c0",
   "execution_count": 38
  },
  {
   "cell_type": "code",
   "outputs": [
    {
     "name": "stdout",
     "output_type": "stream",
     "text": [
      "Data inserted successfully.\n"
     ]
    },
    {
     "data": {
      "text/plain": "      CustomerID                         CompanyName         ContactName  \\\n0          ALFKI                 Alfreds Futterkiste        Maria Anders   \n1          ANATR  Ana Trujillo Emparedados y helados        Ana Trujillo   \n2          ANTON             Antonio Moreno Taquería      Antonio Moreno   \n3          AROUT                     Around the Horn        Thomas Hardy   \n4          BERGS                  Berglunds snabbköp  Christina Berglund   \n...          ...                                 ...                 ...   \n19906      30114                             Default             Default   \n19907      30115                             Default             Default   \n19908      30116                             Default             Default   \n19909      30117                             Default             Default   \n19910      30118                             Default             Default   \n\n               ContactTitle                        Address         City  \\\n0      Sales Representative                  Obere Str. 57       Berlin   \n1                     Owner  Avda. de la Constitución 2222  México D.F.   \n2                     Owner                Mataderos  2312  México D.F.   \n3      Sales Representative                120 Hanover Sq.       London   \n4       Order Administrator                Berguvsvägen  8        Luleå   \n...                     ...                            ...          ...   \n19906               Default                        Default      Default   \n19907               Default                        Default      Default   \n19908               Default                        Default      Default   \n19909               Default                        Default      Default   \n19910               Default                        Default      Default   \n\n        Region PostalCode  Country           Phone             Fax  PersonID  \\\n0      Default      12209  Germany     030-0074321     030-0076545         0   \n1      Default      05021   Mexico    (5) 555-4729    (5) 555-3745         0   \n2      Default      05023   Mexico    (5) 555-3932         Default         0   \n3      Default    WA1 1DP       UK  (171) 555-7788  (171) 555-6750         0   \n4      Default   S-958 22   Sweden   0921-12 34 65   0921-12 34 67         0   \n...        ...        ...      ...             ...             ...       ...   \n19906  Default    Default  Default         Default         Default      1985   \n19907  Default    Default  Default         Default         Default      1987   \n19908  Default    Default  Default         Default         Default      1989   \n19909  Default    Default  Default         Default         Default      1991   \n19910  Default    Default  Default         Default         Default      1993   \n\n       StoreID  TerritoryID AccountNumber  \\\n0            0            0       Default   \n1            0            0       Default   \n2            0            0       Default   \n3            0            0       Default   \n4            0            0       Default   \n...        ...          ...           ...   \n19906     1986            7    AW00030114   \n19907     1988            6    AW00030115   \n19908     1990            4    AW00030116   \n19909     1992            4    AW00030117   \n19910     1994            3    AW00030118   \n\n                                    rowguid            ModifiedDate  \n0                                       NaN                     NaT  \n1                                       NaN                     NaT  \n2                                       NaN                     NaT  \n3                                       NaN                     NaT  \n4                                       NaN                     NaT  \n...                                     ...                     ...  \n19906  97154F3D-28F1-4B15-AE03-9518B781ECE3 2014-09-12 11:15:07.263  \n19907  E4CF8FD5-30A4-4B8E-8FD8-47032E255778 2014-09-12 11:15:07.263  \n19908  EC409609-D25D-41B8-9D15-A1AA6E89FC77 2014-09-12 11:15:07.263  \n19909  6F08E2FB-1CD3-4F6E-A2E6-385669598B19 2014-09-12 11:15:07.263  \n19910  2495B4EB-FE8B-459E-A1B6-DBA25C04E626 2014-09-12 11:15:07.263  \n\n[19911 rows x 17 columns]",
      "text/html": "<div>\n<style scoped>\n    .dataframe tbody tr th:only-of-type {\n        vertical-align: middle;\n    }\n\n    .dataframe tbody tr th {\n        vertical-align: top;\n    }\n\n    .dataframe thead th {\n        text-align: right;\n    }\n</style>\n<table border=\"1\" class=\"dataframe\">\n  <thead>\n    <tr style=\"text-align: right;\">\n      <th></th>\n      <th>CustomerID</th>\n      <th>CompanyName</th>\n      <th>ContactName</th>\n      <th>ContactTitle</th>\n      <th>Address</th>\n      <th>City</th>\n      <th>Region</th>\n      <th>PostalCode</th>\n      <th>Country</th>\n      <th>Phone</th>\n      <th>Fax</th>\n      <th>PersonID</th>\n      <th>StoreID</th>\n      <th>TerritoryID</th>\n      <th>AccountNumber</th>\n      <th>rowguid</th>\n      <th>ModifiedDate</th>\n    </tr>\n  </thead>\n  <tbody>\n    <tr>\n      <th>0</th>\n      <td>ALFKI</td>\n      <td>Alfreds Futterkiste</td>\n      <td>Maria Anders</td>\n      <td>Sales Representative</td>\n      <td>Obere Str. 57</td>\n      <td>Berlin</td>\n      <td>Default</td>\n      <td>12209</td>\n      <td>Germany</td>\n      <td>030-0074321</td>\n      <td>030-0076545</td>\n      <td>0</td>\n      <td>0</td>\n      <td>0</td>\n      <td>Default</td>\n      <td>NaN</td>\n      <td>NaT</td>\n    </tr>\n    <tr>\n      <th>1</th>\n      <td>ANATR</td>\n      <td>Ana Trujillo Emparedados y helados</td>\n      <td>Ana Trujillo</td>\n      <td>Owner</td>\n      <td>Avda. de la Constitución 2222</td>\n      <td>México D.F.</td>\n      <td>Default</td>\n      <td>05021</td>\n      <td>Mexico</td>\n      <td>(5) 555-4729</td>\n      <td>(5) 555-3745</td>\n      <td>0</td>\n      <td>0</td>\n      <td>0</td>\n      <td>Default</td>\n      <td>NaN</td>\n      <td>NaT</td>\n    </tr>\n    <tr>\n      <th>2</th>\n      <td>ANTON</td>\n      <td>Antonio Moreno Taquería</td>\n      <td>Antonio Moreno</td>\n      <td>Owner</td>\n      <td>Mataderos  2312</td>\n      <td>México D.F.</td>\n      <td>Default</td>\n      <td>05023</td>\n      <td>Mexico</td>\n      <td>(5) 555-3932</td>\n      <td>Default</td>\n      <td>0</td>\n      <td>0</td>\n      <td>0</td>\n      <td>Default</td>\n      <td>NaN</td>\n      <td>NaT</td>\n    </tr>\n    <tr>\n      <th>3</th>\n      <td>AROUT</td>\n      <td>Around the Horn</td>\n      <td>Thomas Hardy</td>\n      <td>Sales Representative</td>\n      <td>120 Hanover Sq.</td>\n      <td>London</td>\n      <td>Default</td>\n      <td>WA1 1DP</td>\n      <td>UK</td>\n      <td>(171) 555-7788</td>\n      <td>(171) 555-6750</td>\n      <td>0</td>\n      <td>0</td>\n      <td>0</td>\n      <td>Default</td>\n      <td>NaN</td>\n      <td>NaT</td>\n    </tr>\n    <tr>\n      <th>4</th>\n      <td>BERGS</td>\n      <td>Berglunds snabbköp</td>\n      <td>Christina Berglund</td>\n      <td>Order Administrator</td>\n      <td>Berguvsvägen  8</td>\n      <td>Luleå</td>\n      <td>Default</td>\n      <td>S-958 22</td>\n      <td>Sweden</td>\n      <td>0921-12 34 65</td>\n      <td>0921-12 34 67</td>\n      <td>0</td>\n      <td>0</td>\n      <td>0</td>\n      <td>Default</td>\n      <td>NaN</td>\n      <td>NaT</td>\n    </tr>\n    <tr>\n      <th>...</th>\n      <td>...</td>\n      <td>...</td>\n      <td>...</td>\n      <td>...</td>\n      <td>...</td>\n      <td>...</td>\n      <td>...</td>\n      <td>...</td>\n      <td>...</td>\n      <td>...</td>\n      <td>...</td>\n      <td>...</td>\n      <td>...</td>\n      <td>...</td>\n      <td>...</td>\n      <td>...</td>\n      <td>...</td>\n    </tr>\n    <tr>\n      <th>19906</th>\n      <td>30114</td>\n      <td>Default</td>\n      <td>Default</td>\n      <td>Default</td>\n      <td>Default</td>\n      <td>Default</td>\n      <td>Default</td>\n      <td>Default</td>\n      <td>Default</td>\n      <td>Default</td>\n      <td>Default</td>\n      <td>1985</td>\n      <td>1986</td>\n      <td>7</td>\n      <td>AW00030114</td>\n      <td>97154F3D-28F1-4B15-AE03-9518B781ECE3</td>\n      <td>2014-09-12 11:15:07.263</td>\n    </tr>\n    <tr>\n      <th>19907</th>\n      <td>30115</td>\n      <td>Default</td>\n      <td>Default</td>\n      <td>Default</td>\n      <td>Default</td>\n      <td>Default</td>\n      <td>Default</td>\n      <td>Default</td>\n      <td>Default</td>\n      <td>Default</td>\n      <td>Default</td>\n      <td>1987</td>\n      <td>1988</td>\n      <td>6</td>\n      <td>AW00030115</td>\n      <td>E4CF8FD5-30A4-4B8E-8FD8-47032E255778</td>\n      <td>2014-09-12 11:15:07.263</td>\n    </tr>\n    <tr>\n      <th>19908</th>\n      <td>30116</td>\n      <td>Default</td>\n      <td>Default</td>\n      <td>Default</td>\n      <td>Default</td>\n      <td>Default</td>\n      <td>Default</td>\n      <td>Default</td>\n      <td>Default</td>\n      <td>Default</td>\n      <td>Default</td>\n      <td>1989</td>\n      <td>1990</td>\n      <td>4</td>\n      <td>AW00030116</td>\n      <td>EC409609-D25D-41B8-9D15-A1AA6E89FC77</td>\n      <td>2014-09-12 11:15:07.263</td>\n    </tr>\n    <tr>\n      <th>19909</th>\n      <td>30117</td>\n      <td>Default</td>\n      <td>Default</td>\n      <td>Default</td>\n      <td>Default</td>\n      <td>Default</td>\n      <td>Default</td>\n      <td>Default</td>\n      <td>Default</td>\n      <td>Default</td>\n      <td>Default</td>\n      <td>1991</td>\n      <td>1992</td>\n      <td>4</td>\n      <td>AW00030117</td>\n      <td>6F08E2FB-1CD3-4F6E-A2E6-385669598B19</td>\n      <td>2014-09-12 11:15:07.263</td>\n    </tr>\n    <tr>\n      <th>19910</th>\n      <td>30118</td>\n      <td>Default</td>\n      <td>Default</td>\n      <td>Default</td>\n      <td>Default</td>\n      <td>Default</td>\n      <td>Default</td>\n      <td>Default</td>\n      <td>Default</td>\n      <td>Default</td>\n      <td>Default</td>\n      <td>1993</td>\n      <td>1994</td>\n      <td>3</td>\n      <td>AW00030118</td>\n      <td>2495B4EB-FE8B-459E-A1B6-DBA25C04E626</td>\n      <td>2014-09-12 11:15:07.263</td>\n    </tr>\n  </tbody>\n</table>\n<p>19911 rows × 17 columns</p>\n</div>"
     },
     "execution_count": 87,
     "metadata": {},
     "output_type": "execute_result"
    }
   ],
   "source": [
    "#Customer/Northwind\n",
    "try:\n",
    "    with pyodbc.connect(source_conn_str_northwind) as source_conn:\n",
    "        NorthWindCustomer_df = pd.read_sql_query(\"SELECT * FROM dbo.Customers\", source_conn)\n",
    "except pyodbc.Error as e:\n",
    "    print(\"Error while connecting to the source SQL Server:\", e)\n",
    "\n",
    "try:\n",
    "    with pyodbc.connect(source_conn_str) as source_conn:\n",
    "        Customers_df = pd.read_sql_query(\"SELECT * FROM Sales.Customer\", source_conn)\n",
    "except pyodbc.Error as e:\n",
    "    print(\"Error while connecting to the source SQL Server:\", e)\n",
    "\n",
    "# Convert 'CustomerID' to string type\n",
    "NorthWindCustomer_df['CustomerID'] = NorthWindCustomer_df['CustomerID'].astype(str)\n",
    "Customers_df['CustomerID'] = Customers_df['CustomerID'].astype(str)\n",
    "\n",
    "# Set 'CustomerID' as the index for both DataFrames\n",
    "NorthWindCustomer_df.set_index('CustomerID', inplace=True)\n",
    "Customers_df.set_index('CustomerID', inplace=True)\n",
    "\n",
    "# Concatenate the two DataFrames along the index\n",
    "merged_customers_df = pd.concat([NorthWindCustomer_df, Customers_df], join='outer')\n",
    "\n",
    "# Reset the index to convert 'CustomerID' back to a column\n",
    "merged_customers_df.reset_index(inplace=True)\n",
    "\n",
    "merged_customers_df['PersonID'].fillna(0, inplace=True)\n",
    "merged_customers_df['StoreID'].fillna(0, inplace=True)\n",
    "merged_customers_df['TerritoryID'].fillna(0, inplace=True)\n",
    "merged_customers_df['AccountNumber'].fillna('Default', inplace=True)\n",
    "merged_customers_df['Region'].fillna('Default', inplace=True)\n",
    "merged_customers_df['Country'].fillna('Default', inplace=True)\n",
    "merged_customers_df['Address'].fillna('Default', inplace=True)\n",
    "merged_customers_df['CustomerID'].fillna('Default', inplace=True)\n",
    "merged_customers_df['CompanyName'].fillna('Default', inplace=True)\n",
    "merged_customers_df['ContactName'].fillna('Default', inplace=True)\n",
    "merged_customers_df['ContactTitle'].fillna('Default', inplace=True)\n",
    "merged_customers_df['City'].fillna('Default', inplace=True)\n",
    "merged_customers_df['PostalCode'].fillna('Default', inplace=True)\n",
    "merged_customers_df['Phone'].fillna('Default', inplace=True)\n",
    "merged_customers_df['Fax'].fillna('Default', inplace=True)\n",
    "\n",
    "merged_customers_df['PersonID'] = merged_customers_df['PersonID'].astype(int)\n",
    "merged_customers_df['StoreID'] = merged_customers_df['StoreID'].astype(int)\n",
    "merged_customers_df['TerritoryID'] = merged_customers_df['TerritoryID'].astype(int)\n",
    "merged_customers_df['AccountNumber'] = merged_customers_df['AccountNumber'].astype(str)\n",
    "merged_customers_df['Address'] = merged_customers_df['Address'].astype(str)\n",
    "\n",
    "# Establish connection to the destination SQL Server database and insert data\n",
    "try:\n",
    "    with pyodbc.connect(destination_conn_str) as destination_conn:\n",
    "        cursor = destination_conn.cursor()\n",
    "        # Batch insert\n",
    "        insert_query = \"\"\"\n",
    "        INSERT INTO [DWUnitedOutdoors].[dbo].[Customer]\n",
    "        (CustomerID, PersonID, StoreID, TerritoryID, AccountNumber, CompanyName, ContactName, ContactTitle, Address, City, Region, PostalCode, Country, Phone, Fax)\n",
    "        VALUES (?, ?, ?, ?, ?, ?, ?, ?, ?, ?, ?, ?, ?, ?, ?)\n",
    "        \"\"\"\n",
    "\n",
    "        # Convert DataFrame to a list of tuples for batch insertion\n",
    "        data_to_insert = merged_customers_df[[\n",
    "            'CustomerID', 'PersonID', 'StoreID', 'TerritoryID', 'AccountNumber',\n",
    "            'CompanyName', 'ContactName', 'ContactTitle', 'Address', 'City', 'Region',\n",
    "            'PostalCode', 'Country', 'Phone', 'Fax'\n",
    "        ]].values.tolist()\n",
    "\n",
    "        # Executing batch insert\n",
    "        cursor.executemany(insert_query, data_to_insert) \n",
    "        # Commit transaction\n",
    "        destination_conn.commit()\n",
    "\n",
    "        print(\"Data inserted successfully.\")\n",
    "except pyodbc.Error as e: \n",
    "    print(\"Error while connecting to the destination SQL Server or inserting data:\", e)"
   ],
   "metadata": {
    "collapsed": false,
    "ExecuteTime": {
     "end_time": "2024-05-28T10:36:25.686225Z",
     "start_time": "2024-05-28T10:36:20.077276Z"
    }
   },
   "id": "436d09e7b03b9254",
   "execution_count": 87
  }
 ],
 "metadata": {
  "kernelspec": {
   "display_name": "Python 3",
   "language": "python",
   "name": "python3"
  },
  "language_info": {
   "codemirror_mode": {
    "name": "ipython",
    "version": 2
   },
   "file_extension": ".py",
   "mimetype": "text/x-python",
   "name": "python",
   "nbconvert_exporter": "python",
   "pygments_lexer": "ipython2",
   "version": "2.7.6"
  }
 },
 "nbformat": 4,
 "nbformat_minor": 5
}

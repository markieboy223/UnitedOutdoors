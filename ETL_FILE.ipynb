{
 "cells": [
  {
   "cell_type": "code",
   "outputs": [],
   "source": [
    "import warnings\n",
    "import pandas as pd\n",
    "import pyodbc\n",
    "import numpy as np\n",
    "\n",
    "warnings.simplefilter('ignore')\n",
    "\n",
    "# Connection details for the source SQL Server database\n",
    "source_db = {\n",
    "    'servername': r'DESKTOP-R9U7MMK\\SQLEXPRESS',\n",
    "    'database': 'AdventureWorks2019'\n",
    "}\n",
    "\n",
    "source_db_northwind = {\n",
    "    'servername': r'DESKTOP-R9U7MMK\\SQLEXPRESS',\n",
    "    'database': 'NORTHWIND'\n",
    "}\n",
    "\n",
    "# Connection details for the destination SQL Server database\n",
    "destination_db = {\n",
    "    'servername': r'DESKTOP-R9U7MMK\\SQLEXPRESS',\n",
    "    'database': 'DWUnitedOutdoors'\n",
    "}\n",
    "\n",
    "# Connection string for the source SQL Server database\n",
    "source_conn_str = (\n",
    "    'Driver={SQL Server};'\n",
    "    'SERVER=' + source_db['servername'] + ';'\n",
    "    'DATABASE=' + source_db['database'] + ';'\n",
    "    'Trusted_Connection=yes;'\n",
    ")\n",
    "\n",
    "# Connection string for the source SQL Server database\n",
    "source_conn_str_northwind = (\n",
    "    'Driver={SQL Server};'\n",
    "    'SERVER=' + source_db_northwind['servername'] + ';'\n",
    "    'DATABASE=' + source_db_northwind['database'] + ';'\n",
    "    'Trusted_Connection=yes;'\n",
    ")\n",
    "\n",
    "# Connection string for the destination SQL Server database\n",
    "destination_conn_str = (\n",
    "    'Driver={SQL Server};'\n",
    "    'SERVER=' + destination_db['servername'] + ';'\n",
    "    'DATABASE=' + destination_db['database'] + ';'\n",
    "    'Trusted_Connection=yes;'\n",
    ")"
   ],
   "metadata": {
    "collapsed": false,
    "ExecuteTime": {
     "end_time": "2024-05-27T13:17:08.373790Z",
     "start_time": "2024-05-27T13:17:08.367413Z"
    }
   },
   "id": "16161aec8932be11",
   "execution_count": 70
  },
  {
   "cell_type": "code",
   "outputs": [
    {
     "name": "stdout",
     "output_type": "stream",
     "text": [
      "Data inserted successfully.\n"
     ]
    }
   ],
   "source": [
    "#Person.Person\n",
    "try:\n",
    "    with pyodbc.connect(source_conn_str) as source_conn:\n",
    "        person_df = pd.read_sql_query(\"SELECT * FROM Person.person\", source_conn)\n",
    "        personPhone_df = pd.read_sql_query(\"SELECT PhoneNumber, PhoneNumberTypeID, BusinessEntityID FROM Person.PersonPhone\", source_conn)\n",
    "        phoneNumberType_df = pd.read_sql_query(\"SELECT PhoneNumberTypeID, Name FROM Person.PhoneNumberType\", source_conn)\n",
    "        personEmailAdress_df = pd.read_sql_query(\"SELECT EmailAddressID, EmailAddress, BusinessEntityID FROM Person.EmailAddress\", source_conn)\n",
    "        personPassword_df = pd.read_sql_query(\"SELECT PasswordHash, PasswordSalt, BusinessEntityID FROM Person.Password\", source_conn)\n",
    "\n",
    "        # Merging DataFrames\n",
    "        person_df = pd.merge(person_df, personPhone_df, on='BusinessEntityID', how='left')\n",
    "        person_df = pd.merge(person_df, phoneNumberType_df, on='PhoneNumberTypeID', how='left')\n",
    "        person_df = pd.merge(person_df, personEmailAdress_df, on='BusinessEntityID', how='left')\n",
    "        person_df = pd.merge(person_df, personPassword_df, on='BusinessEntityID', how='left')\n",
    "\n",
    "except pyodbc.Error as e:\n",
    "    print(\"Error while connecting to the source SQL Server:\", e)\n",
    "\n",
    "# Establish connection to the destination SQL Server database and insert data\n",
    "try:\n",
    "    with pyodbc.connect(destination_conn_str) as destination_conn:\n",
    "        cursor = destination_conn.cursor()\n",
    "\n",
    "        # Batch insert\n",
    "        insert_query = \"\"\"\n",
    "        INSERT INTO [DWUnitedOutdoors].[dbo].[Person]\n",
    "        (BusinessEntityID, PersonType, NameStyle, Title, FirstName, MiddleName, LastName, Suffix, EmailPromotion, PasswordSalt, PasswordHash, EmailAddress, Name, EmailAddressID, PhoneNumberTypeID)\n",
    "        VALUES (?, ?, ?, ?, ?, ?, ?, ?, ?, ?, ?, ?, ?, ?, ?)\n",
    "        \"\"\"\n",
    "\n",
    "        # Convert DataFrame to a list of tuples for batch insertion\n",
    "        data_to_insert = person_df[['BusinessEntityID', 'PersonType', 'NameStyle', 'Title', 'FirstName', 'MiddleName', 'LastName', 'Suffix', 'EmailPromotion', 'PasswordSalt', 'PasswordHash', 'EmailAddress', 'Name', 'EmailAddressID', 'PhoneNumberTypeID']].values.tolist()\n",
    "\n",
    "        # Executing batch insert\n",
    "        cursor.executemany(insert_query, data_to_insert)\n",
    "\n",
    "        # Commit transaction\n",
    "        destination_conn.commit()\n",
    "\n",
    "        print(\"Data inserted successfully.\")\n",
    "except pyodbc.Error as e:\n",
    "    print(\"Error while connecting to the destination SQL Server or inserting data:\", e)"
   ],
   "metadata": {
    "collapsed": false,
    "ExecuteTime": {
     "end_time": "2024-05-27T10:19:07.449065Z",
     "start_time": "2024-05-27T10:18:56.763701Z"
    }
   },
   "id": "1912afcb8c91cd23",
   "execution_count": 37
  },
  {
   "cell_type": "code",
   "outputs": [
    {
     "name": "stdout",
     "output_type": "stream",
     "text": [
      "Data inserted successfully.\n"
     ]
    }
   ],
   "source": [
    "#businessEntity_df\n",
    "# Establish connection to the source SQL Server database and read\n",
    "try:\n",
    "    with pyodbc.connect(source_conn_str) as source_conn:\n",
    "        businessEntity_df = pd.read_sql_query(\"SELECT BusinessEntityID FROM Person.BusinessEntity\", source_conn)\n",
    "\n",
    "except pyodbc.Error as e:\n",
    "    print(\"Error while connecting to the source SQL Server:\", e)\n",
    "\n",
    "# Establish connection to the destination SQL Server database and insert data\n",
    "try:\n",
    "    with pyodbc.connect(destination_conn_str) as destination_conn:\n",
    "        cursor = destination_conn.cursor()\n",
    "\n",
    "        # Batch insert\n",
    "        insert_query = \"\"\"\n",
    "        INSERT INTO [DWUnitedOutdoors].[dbo].[BusinessEntity]\n",
    "        (BusinessEntityID)\n",
    "        VALUES (?)\n",
    "        \"\"\"\n",
    "\n",
    "        # Convert DataFrame to a list of tuples for batch insertion\n",
    "        data_to_insert = businessEntity_df[['BusinessEntityID']].values.tolist()\n",
    "\n",
    "        # Executing batch insert\n",
    "        cursor.executemany(insert_query, data_to_insert)\n",
    "\n",
    "        # Commit transaction\n",
    "        destination_conn.commit()\n",
    "\n",
    "        print(\"Data inserted successfully.\")\n",
    "except pyodbc.Error as e:\n",
    "    print(\"Error while connecting to the destination SQL Server or inserting data:\", e)\n",
    "# businessEntity_df"
   ],
   "metadata": {
    "collapsed": false,
    "ExecuteTime": {
     "end_time": "2024-05-27T09:51:38.310869Z",
     "start_time": "2024-05-27T09:51:34.320381Z"
    }
   },
   "id": "d8896a0b7a38cc29",
   "execution_count": 22
  },
  {
   "cell_type": "code",
   "outputs": [
    {
     "name": "stdout",
     "output_type": "stream",
     "text": [
      "Error while connecting to the destination SQL Server or inserting data: ('23000', \"[23000] [Microsoft][ODBC SQL Server Driver][SQL Server]Violation of PRIMARY KEY constraint 'PK_BusinessEntityAddress'. Cannot insert duplicate key in object 'dbo.BusinessEntityAddress'. The duplicate key value is (2). (2627) (SQLExecDirectW); [23000] [Microsoft][ODBC SQL Server Driver][SQL Server]The statement has been terminated. (3621)\")\n"
     ]
    }
   ],
   "source": [
    "#businessEntityAddress_df\n",
    "# Establish connection to the source SQL Server database and read data\n",
    "try:\n",
    "    with pyodbc.connect(source_conn_str) as source_conn:\n",
    "        businessEntityAddress_df = pd.read_sql_query(\"SELECT AddressID, AddressTypeID, BusinessEntityID FROM Person.BusinessEntityAddress\", source_conn)\n",
    "        addressType_df = pd.read_sql_query(\"SELECT AddressTypeID, Name FROM Person.AddressType\", source_conn)\n",
    "                                           \n",
    "        # Merging DataFrames\n",
    "        businessEntityAddress_df = pd.merge(businessEntityAddress_df, addressType_df, on='AddressTypeID', how='left')\n",
    "except pyodbc.Error as e:\n",
    "    print(\"Error while connecting to the source SQL Server:\", e)\n",
    "\n",
    "# Establish connection to the destination SQL Server database and insert data\n",
    "try:\n",
    "    with pyodbc.connect(destination_conn_str) as destination_conn:\n",
    "        cursor = destination_conn.cursor()\n",
    "\n",
    "        # Batch insert\n",
    "        insert_query = \"\"\"\n",
    "        INSERT INTO [DWUnitedOutdoors].[dbo].[BusinessEntityAddress]\n",
    "        (BusinessEntityID, AddressID, AddressTypeID, Name)\n",
    "        VALUES (?, ?, ?, ?)\n",
    "        \"\"\"\n",
    "\n",
    "        # Convert DataFrame to a list of tuples for batch insertion\n",
    "        data_to_insert = businessEntityAddress_df[['BusinessEntityID', 'AddressID', 'AddressTypeID', 'Name']].values.tolist()\n",
    "\n",
    "        # Executing batch insert\n",
    "        cursor.executemany(insert_query, data_to_insert)\n",
    "\n",
    "        # Commit transaction\n",
    "        destination_conn.commit()\n",
    "\n",
    "        print(\"Data inserted successfully.\")\n",
    "except pyodbc.Error as e:\n",
    "    print(\"Error while connecting to the destination SQL Server or inserting data:\", e)"
   ],
   "metadata": {
    "collapsed": false,
    "ExecuteTime": {
     "end_time": "2024-05-27T11:22:35.934441Z",
     "start_time": "2024-05-27T11:22:35.852184Z"
    }
   },
   "id": "989a58665da738c6",
   "execution_count": 55
  },
  {
   "cell_type": "code",
   "outputs": [
    {
     "name": "stdout",
     "output_type": "stream",
     "text": [
      "Data inserted successfully.\n"
     ]
    }
   ],
   "source": [
    "#person.Address_df\n",
    "# Establish connection to the source SQL Server database and read data\n",
    "try:\n",
    "    with pyodbc.connect(source_conn_str) as source_conn:\n",
    "        personAddress_df = pd.read_sql_query(\"SELECT AddressID, AddressLine1, AddressLine2, City, StateProvinceID, PostalCode, SpatialLocation FROM Person.Address\", source_conn)\n",
    "                                           \n",
    "except pyodbc.Error as e:\n",
    "    print(\"Error while connecting to the source SQL Server:\", e)\n",
    "\n",
    "# Establish connection to the destination SQL Server database and insert data\n",
    "try:\n",
    "    with pyodbc.connect(destination_conn_str) as destination_conn:\n",
    "        cursor = destination_conn.cursor()\n",
    "\n",
    "        # Batch insert\n",
    "        insert_query = \"\"\"\n",
    "        INSERT INTO [DWUnitedOutdoors].[dbo].[Address]\n",
    "        (AddressID, AddressLine1, AddressLine2, City, StateProvinceID, PostalCode, SpatialLocation)\n",
    "        VALUES (?, ?, ?, ?, ?, ?, ?)\n",
    "        \"\"\"\n",
    "\n",
    "        # Convert DataFrame to a list of tuples for batch insertion\n",
    "        data_to_insert = personAddress_df[['AddressID', 'AddressLine1', 'AddressLine2', 'City', 'StateProvinceID', 'PostalCode', 'SpatialLocation']].values.tolist()\n",
    "\n",
    "        # Executing batch insert\n",
    "        cursor.executemany(insert_query, data_to_insert)\n",
    "\n",
    "        # Commit transaction\n",
    "        destination_conn.commit()\n",
    "\n",
    "        print(\"Data inserted successfully.\")\n",
    "except pyodbc.Error as e:\n",
    "    print(\"Error while connecting to the destination SQL Server or inserting data:\", e)"
   ],
   "metadata": {
    "collapsed": false,
    "ExecuteTime": {
     "end_time": "2024-05-27T11:53:32.876840Z",
     "start_time": "2024-05-27T11:53:11.428311Z"
    }
   },
   "id": "5d9010f60301d52d",
   "execution_count": 15
  },
  {
   "cell_type": "code",
   "outputs": [
    {
     "name": "stdout",
     "output_type": "stream",
     "text": [
      "Data inserted successfully.\n"
     ]
    }
   ],
   "source": [
    "#Sales.CreditCard\n",
    "# Establish connection to the source SQL Server database and read data\n",
    "try:\n",
    "    with pyodbc.connect(source_conn_str) as source_conn:\n",
    "        creditCard_df = pd.read_sql_query(\"SELECT CreditCardID, CardType, CardNumber, ExpMonth, ExpYear FROM Sales.CreditCard\", source_conn)\n",
    "        personCreditCard_df = pd.read_sql_query(\"SELECT CreditCardID, BusinessEntityID FROM Sales.PersonCreditCard\", source_conn)\n",
    "        \n",
    "        # Merging DataFrames\n",
    "        creditCard_df = pd.merge(creditCard_df, personCreditCard_df, on='CreditCardID', how='left')\n",
    "except pyodbc.Error as e:\n",
    "    print(\"Error while connecting to the source SQL Server:\", e)\n",
    "\n",
    "#Establish connection to the destination SQL Server database and insert data\n",
    "try:\n",
    "    with pyodbc.connect(destination_conn_str) as destination_conn:\n",
    "        cursor = destination_conn.cursor()\n",
    "\n",
    "        # Batch insert\n",
    "        insert_query = \"\"\"\n",
    "        INSERT INTO [DWUnitedOutdoors].[dbo].[CreditCard]\n",
    "        (CreditCardID, BusinessEntityID, CardType, CardNumber, ExpMonth, ExpYear)\n",
    "        VALUES (?, ?, ?, ?, ?, ?)\n",
    "        \"\"\"\n",
    "\n",
    "        # Convert DataFrame to a list of tuples for batch insertion\n",
    "        data_to_insert = creditCard_df[['CreditCardID', 'BusinessEntityID', 'CardType', 'CardNumber', 'ExpMonth', 'ExpYear']].values.tolist()\n",
    "\n",
    "        # Executing batch insert\n",
    "        cursor.executemany(insert_query, data_to_insert)\n",
    "\n",
    "        # Commit transaction\n",
    "        destination_conn.commit()\n",
    "\n",
    "        print(\"Data inserted successfully.\")\n",
    "except pyodbc.Error as e:\n",
    "    print(\"Error while connecting to the destination SQL Server or inserting data:\", e)"
   ],
   "metadata": {
    "collapsed": false,
    "ExecuteTime": {
     "end_time": "2024-05-27T13:26:33.024576Z",
     "start_time": "2024-05-27T13:26:27.415388Z"
    }
   },
   "id": "fad37f56e4051836",
   "execution_count": 86
  },
  {
   "cell_type": "code",
   "outputs": [
    {
     "name": "stdout",
     "output_type": "stream",
     "text": [
      "Error while connecting to the destination SQL Server: ('23000', \"[23000] [Microsoft][ODBC SQL Server Driver][SQL Server]Cannot insert the value NULL into column 'SalesPersonID', table 'DWUnitedOutdoors.dbo.SalesPerson'; column does not allow nulls. INSERT fails. (515) (SQLExecDirectW); [23000] [Microsoft][ODBC SQL Server Driver][SQL Server]The statement has been terminated. (3621)\")\n"
     ]
    }
   ],
   "source": [
    "#Sales.SalesPerson\n",
    "# Establish connection to the source SQL Server database and read data  \n",
    "try:\n",
    "    with pyodbc.connect(source_conn_str) as source_conn:\n",
    "        salesPerson_df = pd.read_sql_query(\"SELECT BusinessEntityID, TerritoryID, SalesQuota, Bonus, CommissionPct, SalesLastYear, SalesYTD FROM Sales.SalesPerson\", source_conn)\n",
    "except pyodbc.Error as e:\n",
    "    print(\"Error while connecting to the source SQL Server:\", e)\n",
    "\n",
    "# Fill NaN values in selected columns\n",
    "salesPerson_df['TerritoryID'].fillna(0.0, inplace=True)\n",
    "salesPerson_df['SalesQuota'].fillna(0.0, inplace=True)\n",
    "salesPerson_df['CommissionPct'].fillna(0.0, inplace=True)\n",
    "\n",
    "try:\n",
    "    with pyodbc.connect(destination_conn_str) as destination_conn:\n",
    "        cursor = destination_conn.cursor()\n",
    "         \n",
    "        # Batch insert\n",
    "        insert_query = \"\"\"\n",
    "        INSERT INTO [DWUnitedOutdoors].[dbo].[SalesPerson]\n",
    "        (BusinessEntityID, TerritoryID, SalesQuota, Bonus, CommisionPct, SalesLastYear, SalesYTD)\n",
    "        VALUES (?, ?, ?, ?, ?, ?, ?)\n",
    "        \"\"\"\n",
    "         \n",
    "        # Convert DataFrame to a list of tuples for batch insertion\n",
    "        data_to_insert = salesPerson_df[['BusinessEntityID', 'TerritoryID', 'SalesQuota', 'Bonus', 'CommissionPct', 'SalesLastYear', 'SalesYTD']].values.tolist()\n",
    "         \n",
    "        # Executing batch insert\n",
    "        cursor.executemany(insert_query, data_to_insert)\n",
    "         \n",
    "        # Commit transaction\n",
    "        destination_conn.commit()\n",
    "         \n",
    "        print(\"Data inserted successfully into SalesPerson table.\")\n",
    "except pyodbc.Error as e:\n",
    "    print(\"Error while connecting to the destination SQL Server:\", e)"
   ],
   "metadata": {
    "collapsed": false,
    "ExecuteTime": {
     "end_time": "2024-05-27T13:24:43.910894Z",
     "start_time": "2024-05-27T13:24:43.889302Z"
    }
   },
   "id": "441d1a18c8930dc4",
   "execution_count": 85
  },
  {
   "cell_type": "code",
   "outputs": [
    {
     "name": "stdout",
     "output_type": "stream",
     "text": [
      "Data inserted successfully into SalesPersonQuotaHistory table.\n"
     ]
    }
   ],
   "source": [
    "#Sales.Store\n",
    "# Establish connection to the source SQL Server database and read data\n",
    "try:\n",
    "    with pyodbc.connect(source_conn_str) as source_conn:\n",
    "        salesStore_df = pd.read_sql_query(\"SELECT BusinessEntityID, Name, SalesPersonID FROM Sales.Store\", source_conn)\n",
    "\n",
    "except pyodbc.Error as e:\n",
    "    print(\"Error while connecting to the source SQL Server:\", e)\n",
    "\n",
    "try:\n",
    "    with pyodbc.connect(destination_conn_str) as destination_conn:\n",
    "        cursor = destination_conn.cursor()\n",
    "        # Batch insert for salesPersonQuotaHistory_df\n",
    "        insert_query = \"\"\"\n",
    "        INSERT INTO [DWUnitedOutdoors].[dbo].[Store]\n",
    "        (BusinessEntityID, Name, SalesPersonID)\n",
    "        VALUES (?, ?, ?)\n",
    "        \"\"\"\n",
    "\n",
    "        # Convert DataFrame to a list of tuples for batch insertion\n",
    "        data_to_insert = salesStore_df[['BusinessEntityID', 'Name', 'SalesPersonID']].values.tolist()\n",
    "\n",
    "        # Executing batch insert\n",
    "        cursor.executemany(insert_query, data_to_insert)\n",
    "\n",
    "        # Commit transaction\n",
    "        destination_conn.commit()\n",
    "\n",
    "        print(\"Data inserted successfully into salesstore table.\")\n",
    "except pyodbc.Error as e:\n",
    "    print(\"Error while connecting to the destination SQL Server:\", e)"
   ],
   "metadata": {
    "collapsed": false,
    "ExecuteTime": {
     "end_time": "2024-05-27T13:00:39.468323Z",
     "start_time": "2024-05-27T13:00:39.186187Z"
    }
   },
   "id": "166ce2830c11ce9e",
   "execution_count": 57
  },
  {
   "cell_type": "code",
   "outputs": [
    {
     "name": "stdout",
     "output_type": "stream",
     "text": [
      "Error while connecting to the destination SQL Server: ('23000', \"[23000] [Microsoft][ODBC SQL Server Driver][SQL Server]Violation of PRIMARY KEY constraint 'PK_SalesPersonQuotaHistory'. Cannot insert duplicate key in object 'dbo.SalesPersonQuotaHistory'. The duplicate key value is (May 31 2011 12:00AM). (2627) (SQLExecDirectW); [23000] [Microsoft][ODBC SQL Server Driver][SQL Server]The statement has been terminated. (3621)\")\n"
     ]
    }
   ],
   "source": [
    "#Sales.SalesPersonQuotaHistory\n",
    "# Establish connection to the source SQL Server database and read data\n",
    "try:\n",
    "    with pyodbc.connect(source_conn_str) as source_conn:\n",
    "        salesPersonQuotaHistory_df = pd.read_sql_query(\"SELECT BusinessEntityID, QuotaDate, SalesQuota FROM Sales.SalesPersonQuotaHistory\", source_conn)\n",
    "\n",
    "except pyodbc.Error as e:\n",
    "    print(\"Error while connecting to the source SQL Server:\", e)\n",
    "\n",
    "try:\n",
    "    with pyodbc.connect(destination_conn_str) as destination_conn:\n",
    "        cursor = destination_conn.cursor()\n",
    "        # Batch insert for salesPersonQuotaHistory_df\n",
    "        insert_query = \"\"\"\n",
    "        INSERT INTO [DWUnitedOutdoors].[dbo].[SalesPersonQuotaHistory]\n",
    "        (BusinessEntityID, QuotaDate, SalesQuota)\n",
    "        VALUES (?, ?, ?)\n",
    "        \"\"\"\n",
    "\n",
    "        # Convert DataFrame to a list of tuples for batch insertion\n",
    "        data_to_insert = salesPersonQuotaHistory_df[['BusinessEntityID', 'QuotaDate', 'SalesQuota']].values.tolist()\n",
    "\n",
    "        # Executing batch insert\n",
    "        cursor.executemany(insert_query, data_to_insert)\n",
    "\n",
    "        # Commit transaction\n",
    "        destination_conn.commit()\n",
    "\n",
    "        print(\"Data inserted successfully into SalesPersonQuotaHistory table.\")\n",
    "except pyodbc.Error as e:\n",
    "    print(\"Error while connecting to the destination SQL Server:\", e)"
   ],
   "metadata": {
    "collapsed": false,
    "ExecuteTime": {
     "end_time": "2024-05-27T13:02:44.856821Z",
     "start_time": "2024-05-27T13:02:44.813284Z"
    }
   },
   "id": "2abf05623641e147",
   "execution_count": 59
  },
  {
   "cell_type": "code",
   "outputs": [
    {
     "name": "stdout",
     "output_type": "stream",
     "text": [
      "Data inserted successfully into SalesTerritoryHistory table.\n"
     ]
    }
   ],
   "source": [
    "# Establish connection to the source SQL Server database and read data\n",
    "try:\n",
    "    with pyodbc.connect(source_conn_str) as source_conn:\n",
    "        salesTerritoryHistory_df = pd.read_sql_query(\"SELECT BusinessEntityID, TerritoryID, StartDate, EndDate FROM Sales.salesTerritoryHistory\", source_conn)\n",
    "\n",
    "except pyodbc.Error as e:\n",
    "    print(\"Error while connecting to the source SQL Server:\", e)\n",
    "\n",
    "# Convert date columns to datetime objects\n",
    "date_columns = ['StartDate', 'EndDate']\n",
    "for column in date_columns:\n",
    "    salesTerritoryHistory_df[column] = pd.to_datetime(salesTerritoryHistory_df[column], errors='coerce')\n",
    "\n",
    "# Drop rows with invalid dates\n",
    "salesTerritoryHistory_df.dropna(subset=date_columns, inplace=True)\n",
    "\n",
    "# Format dates as strings in 'YYYY-MM-DD' format\n",
    "salesTerritoryHistory_df['StartDate'] = salesTerritoryHistory_df['StartDate'].dt.strftime('%Y-%m-%d')\n",
    "salesTerritoryHistory_df['EndDate'] = salesTerritoryHistory_df['EndDate'].dt.strftime('%Y-%m-%d')\n",
    "\n",
    "try:\n",
    "    with pyodbc.connect(destination_conn_str) as destination_conn:\n",
    "        cursor = destination_conn.cursor()\n",
    "        # Batch insert for salesTerritoryHistory_df\n",
    "        insert_query = \"\"\"\n",
    "        INSERT INTO [DWUnitedOutdoors].[dbo].[SalesTerritoryHistory]\n",
    "        (BusinessEntityID, TerritoryID, StartDate, EndDate)\n",
    "        VALUES (?, ?, ?, ?)\n",
    "        \"\"\"\n",
    "\n",
    "        # Convert DataFrame to a list of tuples for batch insertion\n",
    "        data_to_insert = salesTerritoryHistory_df[['BusinessEntityID', 'TerritoryID', 'StartDate', 'EndDate']].values.tolist()\n",
    "\n",
    "        # Executing batch insert\n",
    "        cursor.executemany(insert_query, data_to_insert)\n",
    "\n",
    "        # Commit transaction\n",
    "        destination_conn.commit()\n",
    "\n",
    "        print(\"Data inserted successfully into SalesTerritoryHistory table.\")\n",
    "except pyodbc.Error as e:\n",
    "    print(\"Error while connecting to the destination SQL Server:\", e)"
   ],
   "metadata": {
    "collapsed": false,
    "ExecuteTime": {
     "end_time": "2024-05-27T13:04:21.338634Z",
     "start_time": "2024-05-27T13:04:21.297898Z"
    }
   },
   "id": "92838288f2ed568d",
   "execution_count": 61
  },
  {
   "cell_type": "code",
   "outputs": [
    {
     "name": "stdout",
     "output_type": "stream",
     "text": [
      "Data inserted successfully into SalesTerritory table.\n"
     ]
    }
   ],
   "source": [
    "#Sales.SalesTerritory\n",
    "# Establish connection to the source SQL Server database and read data\n",
    "try:\n",
    "    with pyodbc.connect(source_conn_str) as source_conn:\n",
    "        SalesTerritory_df = pd.read_sql_query(\"SELECT TerritoryID, Name, CountryRegionCode, [Group], SalesYTD, SalesLastYear, CostYTD, CostLastYear FROM Sales.SalesTerritory\", source_conn)\n",
    "\n",
    "except pyodbc.Error as e:\n",
    "    print(\"Error while connecting to the source SQL Server:\", e)\n",
    "\n",
    "try:\n",
    "    with pyodbc.connect(destination_conn_str) as destination_conn:\n",
    "        cursor = destination_conn.cursor()\n",
    "        # Batch insert for SalesTerritory_df\n",
    "        insert_query = \"\"\"\n",
    "        INSERT INTO [DWUnitedOutdoors].[dbo].[SalesTerritory]\n",
    "        (TerritoryID, Name, CountryRegionCode, [Group], SalesYTD, SalesLastYear, CostYTD, CostLastYear)\n",
    "        VALUES (?, ?, ?, ?, ?, ?, ?, ?)\n",
    "        \"\"\"\n",
    "\n",
    "        # Convert DataFrame to a list of tuples for batch insertion\n",
    "        data_to_insert = SalesTerritory_df[['TerritoryID', 'Name', 'CountryRegionCode', 'Group', 'SalesYTD', 'SalesLastYear', 'CostYTD', 'CostLastYear']].values.tolist()\n",
    "\n",
    "        # Executing batch insert\n",
    "        cursor.executemany(insert_query, data_to_insert)\n",
    "\n",
    "        # Commit transaction\n",
    "        destination_conn.commit()\n",
    "\n",
    "        print(\"Data inserted successfully into SalesTerritory table.\")\n",
    "except pyodbc.Error as e:\n",
    "    print(\"Error while connecting to the destination SQL Server:\", e)"
   ],
   "metadata": {
    "collapsed": false,
    "ExecuteTime": {
     "end_time": "2024-05-27T13:07:00.706535Z",
     "start_time": "2024-05-27T13:07:00.672535Z"
    }
   },
   "id": "76c9a6a9aeb1455e",
   "execution_count": 63
  },
  {
   "cell_type": "code",
   "outputs": [
    {
     "name": "stdout",
     "output_type": "stream",
     "text": [
      "Error while connecting to the destination SQL Server: ('23000', \"[23000] [Microsoft][ODBC SQL Server Driver][SQL Server]Violation of PRIMARY KEY constraint 'PK_CountryRegionCurrency'. Cannot insert duplicate key in object 'dbo.CountryRegionCurrency'. The duplicate key value is (AT). (2627) (SQLExecDirectW); [23000] [Microsoft][ODBC SQL Server Driver][SQL Server]The statement has been terminated. (3621)\")\n"
     ]
    }
   ],
   "source": [
    "#Sales.CountryRegionCurrency\n",
    "# Establish connection to the source SQL Server database and read data\n",
    "try:\n",
    "    with pyodbc.connect(source_conn_str) as source_conn:\n",
    "        CountryRegionCurrency_df = pd.read_sql_query(\"SELECT CountryRegionCode, CurrencyCode FROM Sales.CountryRegionCurrency\",source_conn)\n",
    "\n",
    "except pyodbc.Error as e:\n",
    "    print(\"Error while connecting to the source SQL Server:\", e)\n",
    "\n",
    "try:\n",
    "    with pyodbc.connect(destination_conn_str) as destination_conn:\n",
    "        cursor = destination_conn.cursor()\n",
    "        # Batch insert for CountryRegionCurrency_df\n",
    "        insert_query = \"\"\"\n",
    "        INSERT INTO [DWUnitedOutdoors].[dbo].[CountryRegionCurrency]\n",
    "        (CountryRegionCode, CurrencyCode)\n",
    "        VALUES (?, ?)\n",
    "        \"\"\"\n",
    "\n",
    "        # Convert DataFrame to a list of tuples for batch insertion\n",
    "        data_to_insert = CountryRegionCurrency_df[['CountryRegionCode', 'CurrencyCode']].values.tolist()\n",
    "\n",
    "        # Executing batch insert\n",
    "        cursor.executemany(insert_query, data_to_insert)\n",
    "\n",
    "        # Commit transaction\n",
    "        destination_conn.commit()\n",
    "\n",
    "        print(\"Data inserted successfully into CountryRegionCurrency table.\")\n",
    "except pyodbc.Error as e:\n",
    "    print(\"Error while connecting to the destination SQL Server:\", e)"
   ],
   "metadata": {
    "collapsed": false,
    "ExecuteTime": {
     "end_time": "2024-05-27T13:08:10.596686Z",
     "start_time": "2024-05-27T13:08:10.547684Z"
    }
   },
   "id": "b8d02dd499257de5",
   "execution_count": 64
  },
  {
   "cell_type": "code",
   "outputs": [
    {
     "name": "stdout",
     "output_type": "stream",
     "text": [
      "Data inserted successfully into Currency table.\n"
     ]
    }
   ],
   "source": [
    "#Sales.Currency\n",
    "# Establish connection to the source SQL Server database and read data\n",
    "try:\n",
    "    with pyodbc.connect(source_conn_str) as source_conn:\n",
    "        currency_df = pd.read_sql_query(\"SELECT CurrencyCode, Name FROM Sales.Currency\",source_conn)\n",
    "\n",
    "except pyodbc.Error as e:\n",
    "    print(\"Error while connecting to the source SQL Server:\", e)\n",
    "\n",
    "try:\n",
    "    with pyodbc.connect(destination_conn_str) as destination_conn:\n",
    "        cursor = destination_conn.cursor()\n",
    "        # Batch insert for currency_df\n",
    "        insert_query = \"\"\"\n",
    "        INSERT INTO [DWUnitedOutdoors].[dbo].[Currency]\n",
    "        (CurrencyCode, Name)\n",
    "        VALUES (?, ?)\n",
    "        \"\"\"\n",
    "\n",
    "        # Convert DataFrame to a list of tuples for batch insertion\n",
    "        data_to_insert = currency_df[['CurrencyCode', 'Name']].values.tolist()\n",
    "\n",
    "        # Executing batch insert\n",
    "        cursor.executemany(insert_query, data_to_insert)\n",
    "\n",
    "        # Commit transaction\n",
    "        destination_conn.commit()\n",
    "\n",
    "        print(\"Data inserted successfully into Currency table.\")\n",
    "except pyodbc.Error as e:\n",
    "    print(\"Error while connecting to the destination SQL Server:\", e)"
   ],
   "metadata": {
    "collapsed": false,
    "ExecuteTime": {
     "end_time": "2024-05-27T13:28:29.457446Z",
     "start_time": "2024-05-27T13:28:29.378605Z"
    }
   },
   "id": "95898d7383bc0afe",
   "execution_count": 87
  },
  {
   "cell_type": "code",
   "outputs": [
    {
     "name": "stdout",
     "output_type": "stream",
     "text": [
      "Error while connecting to the destination SQL Server: ('42000', '[42000] [Microsoft][ODBC SQL Server Driver][SQL Server]The incoming tabular data stream (TDS) remote procedure call (RPC) protocol stream is incorrect. Parameter 18 (\"\"): The supplied value is not a valid instance of data type float. Check the source data for invalid values. An example of an invalid value is data of numeric type with scale greater than precision. (8023) (SQLExecDirectW)')\n"
     ]
    },
    {
     "data": {
      "text/plain": "        SalesOrderDetailID CarrierTrackingNumber  OrderQty  ProductID  \\\n0                        1          4911-403C-98         1        776   \n1                        2          4911-403C-98         3        777   \n2                        3          4911-403C-98         1        778   \n3                        4          4911-403C-98         1        771   \n4                        5          4911-403C-98         1        772   \n...                    ...                   ...       ...        ...   \n121312              121313                  None         1        878   \n121313              121314                  None         1        712   \n121314              121315                  None         1        878   \n121315              121316                  None         1        879   \n121316              121317                  None         1        712   \n\n        SpecialOfferID  UnitPrice  UnitPriceDiscount  LineTotal  SalesOrderID  \\\n0                    1   2024.994                0.0   2024.994         43659   \n1                    1   2024.994                0.0   6074.982         43659   \n2                    1   2024.994                0.0   2024.994         43659   \n3                    1   2039.994                0.0   2039.994         43659   \n4                    1   2039.994                0.0   2039.994         43659   \n...                ...        ...                ...        ...           ...   \n121312               1     21.980                0.0     21.980         75122   \n121313               1      8.990                0.0      8.990         75122   \n121314               1     21.980                0.0     21.980         75123   \n121315               1    159.000                0.0    159.000         75123   \n121316               1      8.990                0.0      8.990         75123   \n\n        OrderDate  ... CreditCardID    SubTotal     TaxAmt   Freight  \\\n0      2011-05-31  ...      16281.0  20565.6206  1971.5149  616.0984   \n1      2011-05-31  ...      16281.0  20565.6206  1971.5149  616.0984   \n2      2011-05-31  ...      16281.0  20565.6206  1971.5149  616.0984   \n3      2011-05-31  ...      16281.0  20565.6206  1971.5149  616.0984   \n4      2011-05-31  ...      16281.0  20565.6206  1971.5149  616.0984   \n...           ...  ...          ...         ...        ...       ...   \n121312 2014-06-30  ...      18719.0     30.9700     2.4776    0.7743   \n121313 2014-06-30  ...      18719.0     30.9700     2.4776    0.7743   \n121314 2014-06-30  ...      10084.0    189.9700    15.1976    4.7493   \n121315 2014-06-30  ...      10084.0    189.9700    15.1976    4.7493   \n121316 2014-06-30  ...      10084.0    189.9700    15.1976    4.7493   \n\n          TotalDue CurrencyRateDate  FromCurrencyCode  ToCurrencyCode  \\\n0       23153.2339       1900-01-01               NaN             NaN   \n1       23153.2339       1900-01-01               NaN             NaN   \n2       23153.2339       1900-01-01               NaN             NaN   \n3       23153.2339       1900-01-01               NaN             NaN   \n4       23153.2339       1900-01-01               NaN             NaN   \n...            ...              ...               ...             ...   \n121312     34.2219       1900-01-01               NaN             NaN   \n121313     34.2219       1900-01-01               NaN             NaN   \n121314    209.9169       1900-01-01               NaN             NaN   \n121315    209.9169       1900-01-01               NaN             NaN   \n121316    209.9169       1900-01-01               NaN             NaN   \n\n        AverageRate  EndOfDayRate  \n0               NaN           NaN  \n1               NaN           NaN  \n2               NaN           NaN  \n3               NaN           NaN  \n4               NaN           NaN  \n...             ...           ...  \n121312          NaN           NaN  \n121313          NaN           NaN  \n121314          NaN           NaN  \n121315          NaN           NaN  \n121316          NaN           NaN  \n\n[121317 rows x 33 columns]",
      "text/html": "<div>\n<style scoped>\n    .dataframe tbody tr th:only-of-type {\n        vertical-align: middle;\n    }\n\n    .dataframe tbody tr th {\n        vertical-align: top;\n    }\n\n    .dataframe thead th {\n        text-align: right;\n    }\n</style>\n<table border=\"1\" class=\"dataframe\">\n  <thead>\n    <tr style=\"text-align: right;\">\n      <th></th>\n      <th>SalesOrderDetailID</th>\n      <th>CarrierTrackingNumber</th>\n      <th>OrderQty</th>\n      <th>ProductID</th>\n      <th>SpecialOfferID</th>\n      <th>UnitPrice</th>\n      <th>UnitPriceDiscount</th>\n      <th>LineTotal</th>\n      <th>SalesOrderID</th>\n      <th>OrderDate</th>\n      <th>...</th>\n      <th>CreditCardID</th>\n      <th>SubTotal</th>\n      <th>TaxAmt</th>\n      <th>Freight</th>\n      <th>TotalDue</th>\n      <th>CurrencyRateDate</th>\n      <th>FromCurrencyCode</th>\n      <th>ToCurrencyCode</th>\n      <th>AverageRate</th>\n      <th>EndOfDayRate</th>\n    </tr>\n  </thead>\n  <tbody>\n    <tr>\n      <th>0</th>\n      <td>1</td>\n      <td>4911-403C-98</td>\n      <td>1</td>\n      <td>776</td>\n      <td>1</td>\n      <td>2024.994</td>\n      <td>0.0</td>\n      <td>2024.994</td>\n      <td>43659</td>\n      <td>2011-05-31</td>\n      <td>...</td>\n      <td>16281.0</td>\n      <td>20565.6206</td>\n      <td>1971.5149</td>\n      <td>616.0984</td>\n      <td>23153.2339</td>\n      <td>1900-01-01</td>\n      <td>NaN</td>\n      <td>NaN</td>\n      <td>NaN</td>\n      <td>NaN</td>\n    </tr>\n    <tr>\n      <th>1</th>\n      <td>2</td>\n      <td>4911-403C-98</td>\n      <td>3</td>\n      <td>777</td>\n      <td>1</td>\n      <td>2024.994</td>\n      <td>0.0</td>\n      <td>6074.982</td>\n      <td>43659</td>\n      <td>2011-05-31</td>\n      <td>...</td>\n      <td>16281.0</td>\n      <td>20565.6206</td>\n      <td>1971.5149</td>\n      <td>616.0984</td>\n      <td>23153.2339</td>\n      <td>1900-01-01</td>\n      <td>NaN</td>\n      <td>NaN</td>\n      <td>NaN</td>\n      <td>NaN</td>\n    </tr>\n    <tr>\n      <th>2</th>\n      <td>3</td>\n      <td>4911-403C-98</td>\n      <td>1</td>\n      <td>778</td>\n      <td>1</td>\n      <td>2024.994</td>\n      <td>0.0</td>\n      <td>2024.994</td>\n      <td>43659</td>\n      <td>2011-05-31</td>\n      <td>...</td>\n      <td>16281.0</td>\n      <td>20565.6206</td>\n      <td>1971.5149</td>\n      <td>616.0984</td>\n      <td>23153.2339</td>\n      <td>1900-01-01</td>\n      <td>NaN</td>\n      <td>NaN</td>\n      <td>NaN</td>\n      <td>NaN</td>\n    </tr>\n    <tr>\n      <th>3</th>\n      <td>4</td>\n      <td>4911-403C-98</td>\n      <td>1</td>\n      <td>771</td>\n      <td>1</td>\n      <td>2039.994</td>\n      <td>0.0</td>\n      <td>2039.994</td>\n      <td>43659</td>\n      <td>2011-05-31</td>\n      <td>...</td>\n      <td>16281.0</td>\n      <td>20565.6206</td>\n      <td>1971.5149</td>\n      <td>616.0984</td>\n      <td>23153.2339</td>\n      <td>1900-01-01</td>\n      <td>NaN</td>\n      <td>NaN</td>\n      <td>NaN</td>\n      <td>NaN</td>\n    </tr>\n    <tr>\n      <th>4</th>\n      <td>5</td>\n      <td>4911-403C-98</td>\n      <td>1</td>\n      <td>772</td>\n      <td>1</td>\n      <td>2039.994</td>\n      <td>0.0</td>\n      <td>2039.994</td>\n      <td>43659</td>\n      <td>2011-05-31</td>\n      <td>...</td>\n      <td>16281.0</td>\n      <td>20565.6206</td>\n      <td>1971.5149</td>\n      <td>616.0984</td>\n      <td>23153.2339</td>\n      <td>1900-01-01</td>\n      <td>NaN</td>\n      <td>NaN</td>\n      <td>NaN</td>\n      <td>NaN</td>\n    </tr>\n    <tr>\n      <th>...</th>\n      <td>...</td>\n      <td>...</td>\n      <td>...</td>\n      <td>...</td>\n      <td>...</td>\n      <td>...</td>\n      <td>...</td>\n      <td>...</td>\n      <td>...</td>\n      <td>...</td>\n      <td>...</td>\n      <td>...</td>\n      <td>...</td>\n      <td>...</td>\n      <td>...</td>\n      <td>...</td>\n      <td>...</td>\n      <td>...</td>\n      <td>...</td>\n      <td>...</td>\n      <td>...</td>\n    </tr>\n    <tr>\n      <th>121312</th>\n      <td>121313</td>\n      <td>None</td>\n      <td>1</td>\n      <td>878</td>\n      <td>1</td>\n      <td>21.980</td>\n      <td>0.0</td>\n      <td>21.980</td>\n      <td>75122</td>\n      <td>2014-06-30</td>\n      <td>...</td>\n      <td>18719.0</td>\n      <td>30.9700</td>\n      <td>2.4776</td>\n      <td>0.7743</td>\n      <td>34.2219</td>\n      <td>1900-01-01</td>\n      <td>NaN</td>\n      <td>NaN</td>\n      <td>NaN</td>\n      <td>NaN</td>\n    </tr>\n    <tr>\n      <th>121313</th>\n      <td>121314</td>\n      <td>None</td>\n      <td>1</td>\n      <td>712</td>\n      <td>1</td>\n      <td>8.990</td>\n      <td>0.0</td>\n      <td>8.990</td>\n      <td>75122</td>\n      <td>2014-06-30</td>\n      <td>...</td>\n      <td>18719.0</td>\n      <td>30.9700</td>\n      <td>2.4776</td>\n      <td>0.7743</td>\n      <td>34.2219</td>\n      <td>1900-01-01</td>\n      <td>NaN</td>\n      <td>NaN</td>\n      <td>NaN</td>\n      <td>NaN</td>\n    </tr>\n    <tr>\n      <th>121314</th>\n      <td>121315</td>\n      <td>None</td>\n      <td>1</td>\n      <td>878</td>\n      <td>1</td>\n      <td>21.980</td>\n      <td>0.0</td>\n      <td>21.980</td>\n      <td>75123</td>\n      <td>2014-06-30</td>\n      <td>...</td>\n      <td>10084.0</td>\n      <td>189.9700</td>\n      <td>15.1976</td>\n      <td>4.7493</td>\n      <td>209.9169</td>\n      <td>1900-01-01</td>\n      <td>NaN</td>\n      <td>NaN</td>\n      <td>NaN</td>\n      <td>NaN</td>\n    </tr>\n    <tr>\n      <th>121315</th>\n      <td>121316</td>\n      <td>None</td>\n      <td>1</td>\n      <td>879</td>\n      <td>1</td>\n      <td>159.000</td>\n      <td>0.0</td>\n      <td>159.000</td>\n      <td>75123</td>\n      <td>2014-06-30</td>\n      <td>...</td>\n      <td>10084.0</td>\n      <td>189.9700</td>\n      <td>15.1976</td>\n      <td>4.7493</td>\n      <td>209.9169</td>\n      <td>1900-01-01</td>\n      <td>NaN</td>\n      <td>NaN</td>\n      <td>NaN</td>\n      <td>NaN</td>\n    </tr>\n    <tr>\n      <th>121316</th>\n      <td>121317</td>\n      <td>None</td>\n      <td>1</td>\n      <td>712</td>\n      <td>1</td>\n      <td>8.990</td>\n      <td>0.0</td>\n      <td>8.990</td>\n      <td>75123</td>\n      <td>2014-06-30</td>\n      <td>...</td>\n      <td>10084.0</td>\n      <td>189.9700</td>\n      <td>15.1976</td>\n      <td>4.7493</td>\n      <td>209.9169</td>\n      <td>1900-01-01</td>\n      <td>NaN</td>\n      <td>NaN</td>\n      <td>NaN</td>\n      <td>NaN</td>\n    </tr>\n  </tbody>\n</table>\n<p>121317 rows × 33 columns</p>\n</div>"
     },
     "execution_count": 93,
     "metadata": {},
     "output_type": "execute_result"
    }
   ],
   "source": [
    "#Sales.order\n",
    "try:\n",
    "    with pyodbc.connect(source_conn_str) as source_conn:\n",
    "        sales_order_header_df = pd.read_sql_query(\"SELECT SalesOrderID, OrderDate, DueDate, ShipDate, Status, SalesOrderNumber, PurchaseOrderNumber, AccountNumber, CustomerID, SalesPersonID, TerritoryID, BillToAddressID, ShipToAddressID, ShipMethodID, CurrencyRateID, CreditCardID, SubTotal, TaxAmt, Freight, TotalDue   FROM Sales.SalesOrderHeader\", source_conn)\n",
    "        sales_order_detail_df = pd.read_sql_query(\"SELECT SalesOrderDetailID, CarrierTrackingNumber , OrderQty, ProductID,SpecialOfferID,UnitPrice, UnitPriceDiscount, LineTotal, SalesOrderID  FROM Sales.SalesOrderDetail \", source_conn)\n",
    "        currency_rate_df = pd.read_sql_query(\"SELECT CurrencyRateID, CurrencyRateDate,FromCurrencyCode, ToCurrencyCode, AverageRate, EndOfDayRate  FROM Sales.CurrencyRate\", source_conn)\n",
    "        \n",
    "        ## merging dataframes\n",
    "        sales_order_df = pd.merge(sales_order_header_df, currency_rate_df, on='CurrencyRateID', how='left')\n",
    "        sales_order_df = pd.merge(sales_order_detail_df, sales_order_df, on='SalesOrderID', how='left')\n",
    "                           \n",
    "except pyodbc.Error as e:\n",
    "    print(\"Error while connecting to the source SQL Server:\", e)\n",
    "    \n",
    "sales_order_df['OrderDate'] = pd.to_datetime(sales_order_df['OrderDate'], errors='coerce')\n",
    "sales_order_df['DueDate'] = pd.to_datetime(sales_order_df['DueDate'], errors='coerce')\n",
    "sales_order_df['ShipDate'] = pd.to_datetime(sales_order_df['ShipDate'], errors='coerce')\n",
    "sales_order_df['CurrencyRateDate'] = pd.to_datetime(sales_order_df['CurrencyRateDate'], errors='coerce')\n",
    "\n",
    "# Replace NaT values with a default datetime value\n",
    "default_date = pd.Timestamp('1900-01-01')  # or any other default value you prefer\n",
    "sales_order_df['OrderDate'].fillna(default_date, inplace=True)\n",
    "sales_order_df['DueDate'].fillna(default_date, inplace=True)\n",
    "sales_order_df['ShipDate'].fillna(default_date, inplace=True)\n",
    "sales_order_df['CurrencyRateDate'].fillna(default_date, inplace=True)\n",
    "\n",
    "try:\n",
    "    with pyodbc.connect(destination_conn_str) as destination_conn:\n",
    "        cursor = destination_conn.cursor()\n",
    "        # Batch insert for sales_order_df\n",
    "        insert_query = \"\"\"\n",
    "        INSERT INTO [DWUnitedOutdoors].[dbo].[SalesOrder]\n",
    "        (SalesOrderID, OrderDate, DueDate, ShipDate, Status, SalesOrderNumber, PurchaseOrderNumber, AccountNumber, CustomerID, SalesPersonID, TerritoryID, BillToAddressID, ShipToAddressID, ShipMethodID, CurrencyRateID, CreditCardID, SubTotal, TaxAmt, Freight, TotalDue, SalesOrderDetailID, CarrierTrackingNumber, OrderQty, ProductID, SpecialOfferID, UnitPrice, UnitPriceDiscount, LineTotal, CurrencyRateDate, FromCurrencyCode, ToCurrencyCode, AverageRate, EndOfDayRate)\n",
    "        VALUES (?, ?, ?, ?, ?, ?, ?, ?, ?, ?, ?, ?, ?, ?, ?, ?, ?, ?, ?, ?, ?, ?, ?, ?, ?, ?, ?, ?, ?, ?, ?, ?, ?)\n",
    "        \"\"\"\n",
    "\n",
    "        # Convert DataFrame to a list of tuples for batch insertion\n",
    "        data_to_insert = sales_order_df[['SalesOrderID', 'OrderDate', 'DueDate', 'ShipDate', 'Status', 'SalesOrderNumber', 'PurchaseOrderNumber', 'AccountNumber', 'CustomerID', 'SalesPersonID', 'TerritoryID', 'BillToAddressID', 'ShipToAddressID', 'ShipMethodID', 'CurrencyRateID', 'CreditCardID', 'SubTotal', 'TaxAmt', 'Freight', 'TotalDue', 'SalesOrderDetailID', 'CarrierTrackingNumber', 'OrderQty', 'ProductID', 'SpecialOfferID', 'UnitPrice', 'UnitPriceDiscount', 'LineTotal', 'CurrencyRateDate', 'FromCurrencyCode', 'ToCurrencyCode', 'AverageRate', 'EndOfDayRate']].values.tolist()\n",
    "\n",
    "        # Executing batch insert\n",
    "        cursor.executemany(insert_query, data_to_insert)\n",
    "\n",
    "        # Commit transaction\n",
    "        destination_conn.commit()\n",
    "\n",
    "        print(\"Data inserted successfully into SalesOrder table.\")\n",
    "except pyodbc.Error as e:\n",
    "    print(\"Error while connecting to the destination SQL Server:\", e)\n",
    "sales_order_df"
   ],
   "metadata": {
    "collapsed": false,
    "ExecuteTime": {
     "end_time": "2024-05-27T13:36:10.902327Z",
     "start_time": "2024-05-27T13:36:07.210955Z"
    }
   },
   "id": "e87156bf0f152c4",
   "execution_count": 93
  },
  {
   "cell_type": "code",
   "outputs": [
    {
     "name": "stdout",
     "output_type": "stream",
     "text": [
      "Data inserted successfully into ShipMethod table.\n"
     ]
    }
   ],
   "source": [
    "#Sales.ship\n",
    "try:\n",
    "    with pyodbc.connect(source_conn_str) as source_conn:\n",
    "        ship_method_df = pd.read_sql_query(\"SELECT ShipMethodID, Name, ShipBase, ShipRate FROM Purchasing.ShipMethod\", source_conn)\n",
    "except pyodbc.Error as e:\n",
    "    print(\"Error while connecting to the source SQL Server:\", e)\n",
    "try:\n",
    "    with pyodbc.connect(destination_conn_str) as destination_conn:\n",
    "        cursor = destination_conn.cursor()\n",
    "        # Batch insert for ship_method\n",
    "        insert_query = \"\"\"\n",
    "        INSERT INTO [DWUnitedOutdoors].[dbo].[ShipMethod]\n",
    "        (ShipMethodID, Name, ShipBase, ShipRate)\n",
    "        VALUES (?, ?, ?, ?)\n",
    "        \"\"\"\n",
    "\n",
    "        # Convert DataFrame to a list of tuples for batch insertion\n",
    "        data_to_insert = ship_method_df[['ShipMethodID', 'Name', 'ShipBase', 'ShipRate']].values.tolist()\n",
    "\n",
    "        # Executing batch insert\n",
    "        cursor.executemany(insert_query, data_to_insert)\n",
    "\n",
    "        # Commit transaction\n",
    "        destination_conn.commit()\n",
    "\n",
    "        print(\"Data inserted successfully into ShipMethod table.\")\n",
    "except pyodbc.Error as e:\n",
    "    print(\"Error while connecting to the destination SQL Server:\", e)"
   ],
   "metadata": {
    "collapsed": false,
    "ExecuteTime": {
     "end_time": "2024-05-27T13:38:08.915926Z",
     "start_time": "2024-05-27T13:38:08.797926Z"
    }
   },
   "id": "92facf4316ed23d4",
   "execution_count": 94
  },
  {
   "cell_type": "code",
   "outputs": [
    {
     "name": "stdout",
     "output_type": "stream",
     "text": [
      "Data inserted successfully into salesOrderHeaderSalesReason table.\n"
     ]
    }
   ],
   "source": [
    "#Sales.salesOrderHeaderSalesReason\n",
    "try:\n",
    "    with pyodbc.connect(source_conn_str) as source_conn:\n",
    "        salesOrderHeaderSalesReason_df = pd.read_sql_query(\"SELECT SalesOrderID, SalesReasonID FROM Sales.SalesOrderHeaderSalesReason\", source_conn)\n",
    "        salesReason_df = pd.read_sql_query(\"SELECT Name, ReasonType, SalesReasonID FROM Sales.SalesReason\", source_conn)\n",
    "\n",
    "        ## merging dataframes\n",
    "        salesOrderHeaderSalesReason_df = pd.merge(salesOrderHeaderSalesReason_df, salesReason_df, on='SalesReasonID', how='left')\n",
    "except pyodbc.Error as e:\n",
    "    print(\"Error while connecting to the source SQL Server:\", e)\n",
    "\n",
    "try:\n",
    "    with pyodbc.connect(destination_conn_str) as destination_conn:\n",
    "        cursor = destination_conn.cursor()\n",
    "        # Batch insert for salesOrderHeaderSalesReason\n",
    "        insert_query = \"\"\"\n",
    "        INSERT INTO [DWUnitedOutdoors].[dbo].[salesOrderHeaderSalesReason]\n",
    "        (SalesOrderID, SalesReasonID, Name, ReasonType)\n",
    "        VALUES (?, ?, ?, ?)\n",
    "        \"\"\"\n",
    "\n",
    "        # Convert DataFrame to a list of tuples for batch insertion\n",
    "        data_to_insert = salesOrderHeaderSalesReason_df[['SalesOrderID', 'SalesReasonID', 'Name', 'ReasonType']].values.tolist()\n",
    "\n",
    "        # Executing batch insert\n",
    "        cursor.executemany(insert_query, data_to_insert)\n",
    "\n",
    "        # Commit transaction\n",
    "        destination_conn.commit()\n",
    "\n",
    "        print(\"Data inserted successfully into salesOrderHeaderSalesReason table.\")\n",
    "except pyodbc.Error as e:\n",
    "    print(\"Error while connecting to the destination SQL Server:\", e)"
   ],
   "metadata": {
    "collapsed": false,
    "ExecuteTime": {
     "end_time": "2024-05-27T13:39:44.300938Z",
     "start_time": "2024-05-27T13:39:31.025067Z"
    }
   },
   "id": "ffa3b16f97cc349b",
   "execution_count": 95
  },
  {
   "cell_type": "code",
   "outputs": [
    {
     "name": "stdout",
     "output_type": "stream",
     "text": [
      "Data inserted successfully into CountryRegion table.\n"
     ]
    }
   ],
   "source": [
    "#Person.CountryRegion\n",
    "try:\n",
    "    with pyodbc.connect(source_conn_str) as source_conn:\n",
    "        CountryRegion_df = pd.read_sql_query(\"SELECT CountryRegionCode, Name FROM Person.CountryRegion\", source_conn)\n",
    "except pyodbc.Error as e:\n",
    "    print(\"Error while connecting to the source SQL Server:\", e)\n",
    "\n",
    "try:\n",
    "    with pyodbc.connect(destination_conn_str) as destination_conn:\n",
    "        cursor = destination_conn.cursor()\n",
    "        # Batch insert for CountryRegion\n",
    "        insert_query = \"\"\"\n",
    "        INSERT INTO [DWUnitedOutdoors].[dbo].[CounrtyRegion]\n",
    "        (CountryRegionCode, Name)\n",
    "        VALUES (?, ?)\n",
    "        \"\"\"\n",
    "\n",
    "        # Convert DataFrame to a list of tuples for batch insertion\n",
    "        data_to_insert = CountryRegion_df[['CountryRegionCode', 'Name']].values.tolist()\n",
    "\n",
    "        # Executing batch insert\n",
    "        cursor.executemany(insert_query, data_to_insert)\n",
    "\n",
    "        # Commit transaction\n",
    "        destination_conn.commit()\n",
    "\n",
    "        print(\"Data inserted successfully into CountryRegion table.\")\n",
    "except pyodbc.Error as e:\n",
    "    print(\"Error while connecting to the destination SQL Server:\", e)"
   ],
   "metadata": {
    "collapsed": false,
    "ExecuteTime": {
     "end_time": "2024-05-27T13:41:04.149059Z",
     "start_time": "2024-05-27T13:41:04.062112Z"
    }
   },
   "id": "84ecdac947f4c3d3",
   "execution_count": 98
  },
  {
   "cell_type": "code",
   "outputs": [
    {
     "name": "stdout",
     "output_type": "stream",
     "text": [
      "Data inserted successfully into StateProvince table.\n"
     ]
    }
   ],
   "source": [
    "#Person.StateProvince\n",
    "try:\n",
    "    with pyodbc.connect(source_conn_str) as source_conn:\n",
    "        StateProvince_df = pd.read_sql_query(\"SELECT StateProvinceID, StateProvinceCode, CountryRegionCode, Name, TerritoryID FROM Person.StateProvince\", source_conn)\n",
    "except pyodbc.Error as e:\n",
    "    print(\"Error while connecting to the source SQL Server:\", e)\n",
    "\n",
    "try:\n",
    "    with pyodbc.connect(destination_conn_str) as destination_conn:\n",
    "        cursor = destination_conn.cursor()\n",
    "        # Batch insert for StateProvince\n",
    "        insert_query = \"\"\"\n",
    "        INSERT INTO [DWUnitedOutdoors].[dbo].[StateProvince]\n",
    "        (StateProvinceID, StateProvinceCode, CountryRegionCode, Name, TerritoryID)\n",
    "        VALUES (?, ?, ?, ?, ?)\n",
    "        \"\"\"\n",
    "\n",
    "        # Convert DataFrame to a list of tuples for batch insertion\n",
    "        data_to_insert = StateProvince_df[['StateProvinceID', 'StateProvinceCode', 'CountryRegionCode', 'Name', 'TerritoryID']].values.tolist()\n",
    "\n",
    "        # Executing batch insert\n",
    "        cursor.executemany(insert_query, data_to_insert)\n",
    "\n",
    "        # Commit transaction\n",
    "        destination_conn.commit()\n",
    "\n",
    "        print(\"Data inserted successfully into StateProvince table.\")\n",
    "except pyodbc.Error as e:\n",
    "    print(\"Error while connecting to the destination SQL Server:\", e)"
   ],
   "metadata": {
    "collapsed": false,
    "ExecuteTime": {
     "end_time": "2024-05-27T13:43:08.323724Z",
     "start_time": "2024-05-27T13:43:08.243886Z"
    }
   },
   "id": "70578ab3fb50331d",
   "execution_count": 102
  },
  {
   "cell_type": "code",
   "outputs": [
    {
     "name": "stdout",
     "output_type": "stream",
     "text": [
      "Error while connecting to the destination SQL Server: ('23000', \"[23000] [Microsoft][ODBC SQL Server Driver][SQL Server]Violation of PRIMARY KEY constraint 'PK_BusinessEntityContact'. Cannot insert duplicate key in object 'dbo.BusinessEntityContact'. The duplicate key value is (624). (2627) (SQLExecDirectW); [23000] [Microsoft][ODBC SQL Server Driver][SQL Server]The statement has been terminated. (3621)\")\n"
     ]
    }
   ],
   "source": [
    "#Person.BusinessEntityContact\n",
    "try:\n",
    "    with pyodbc.connect(source_conn_str) as source_conn:\n",
    "        BusinessEntityContact_df = pd.read_sql_query(\"SELECT BusinessEntityID, PersonID, ContactTypeID FROM Person.BusinessEntityContact\", source_conn)\n",
    "        ContactType_df = pd.read_sql_query(\"SELECT Name, ContactTypeID FROM Person.ContactType\", source_conn)\n",
    "        \n",
    "        ## merging dataframes\n",
    "        BusinessEntityContact_df = pd.merge(BusinessEntityContact_df, ContactType_df, on='ContactTypeID', how='left')\n",
    "except pyodbc.Error as e:\n",
    "    print(\"Error while connecting to the source SQL Server:\", e)\n",
    "\n",
    "try:\n",
    "    with pyodbc.connect(destination_conn_str) as destination_conn:\n",
    "        cursor = destination_conn.cursor()\n",
    "        # Batch insert for BusinessEntityContact\n",
    "        insert_query = \"\"\"\n",
    "        INSERT INTO [DWUnitedOutdoors].[dbo].[BusinessEntityContact]\n",
    "        (BusinessEntityID, PersonID, ContactTypeID, Name)\n",
    "        VALUES (?, ?, ?, ?)\n",
    "        \"\"\"\n",
    "\n",
    "        # Convert DataFrame to a list of tuples for batch insertion\n",
    "        data_to_insert = BusinessEntityContact_df[['BusinessEntityID', 'PersonID', 'ContactTypeID', 'Name']].values.tolist()\n",
    "\n",
    "        # Executing batch insert\n",
    "        cursor.executemany(insert_query, data_to_insert)\n",
    "\n",
    "        # Commit transaction\n",
    "        destination_conn.commit()\n",
    "\n",
    "        print(\"Data inserted successfully into BusinessEntityContact table.\")\n",
    "except pyodbc.Error as e:\n",
    "    print(\"Error while connecting to the destination SQL Server:\", e)"
   ],
   "metadata": {
    "collapsed": false,
    "ExecuteTime": {
     "end_time": "2024-05-27T13:44:37.769154Z",
     "start_time": "2024-05-27T13:44:37.545533Z"
    }
   },
   "id": "3a2967fb0007bacd",
   "execution_count": 104
  },
  {
   "cell_type": "code",
   "outputs": [
    {
     "name": "stdout",
     "output_type": "stream",
     "text": [
      "Error while connecting to the source SQL Server: ('23000', \"[23000] [Microsoft][ODBC SQL Server Driver][SQL Server]Violation of PRIMARY KEY constraint 'PK_PurchaseOrder'. Cannot insert duplicate key in object 'dbo.PurchaseOrder'. The duplicate key value is (2). (2627) (SQLExecDirectW); [23000] [Microsoft][ODBC SQL Server Driver][SQL Server]The statement has been terminated. (3621)\")\n"
     ]
    }
   ],
   "source": [
    "#Purchasing.PurchaseOrder\n",
    "try:\n",
    "    with pyodbc.connect(source_conn_str) as source_conn:\n",
    "        PurchaseOrderDetail_df = pd.read_sql_query(\"SELECT PurchaseOrderID, PurchaseOrderDetailID, DueDate, OrderQty, ProductID, UnitPrice, LineTotal, ReceivedQty, RejectedQty, StockedQty FROM Purchasing.PurchaseOrderDetail\", source_conn)\n",
    "        PurchaseOrderHeader_df = pd.read_sql_query(\"SELECT PurchaseOrderID, RevisionNumber, Status, EmployeeID, VendorID, ShipMethodID, OrderDate, ShipDate, Subtotal, taxAmt, Freight, TotalDue FROM Purchasing.PurchaseOrderHeader \", source_conn)\n",
    "        \n",
    "        ## merging dataframes\n",
    "        PurchaseOrderDetail_df = pd.merge(PurchaseOrderHeader_df, PurchaseOrderDetail_df, on='PurchaseOrderID', how='left')\n",
    "except pyodbc.Error as e:\n",
    "    print(\"Error while connecting to the source SQL Server:\", e)\n",
    "    # Establish connection to the destination SQL Server database and insert data\n",
    "try:\n",
    "    with pyodbc.connect(destination_conn_str) as destination_conn:\n",
    "        cursor = destination_conn.cursor()\n",
    "        # Batch insert\n",
    "        insert_query = \"\"\"\n",
    "        INSERT INTO [DWUnitedOutdoors].[dbo].[PurchaseOrder]\n",
    "        (PurchaseOrderID, PurchaseOrderDetailID, DueDate, OrderQty, ProductID, UnitPrice, LineTotal, ReceivedQty, StockedQty, RejectedQty, RevisionNumber, Status, EmployeeID, VendorID, ShipMethodID, OrderDate, ShipDate, Subtotal, taxAmt, TotalDue)\n",
    "        VALUES (?, ?, ?, ?, ?, ?, ?, ?, ?, ?, ?, ?, ?, ?, ?, ?, ?, ?, ?, ? )\n",
    "        \"\"\"\n",
    "\n",
    "        # Convert DataFrame to a list of tuples for batch insertion\n",
    "        data_to_insert = PurchaseOrderDetail_df[['PurchaseOrderID', 'PurchaseOrderDetailID', 'DueDate', 'OrderQty', 'ProductID', 'UnitPrice', 'LineTotal', 'ReceivedQty', 'StockedQty', 'RejectedQty', 'RevisionNumber', 'Status', 'EmployeeID', 'VendorID', 'ShipMethodID', 'ShipDate', 'Subtotal', 'taxAmt', 'TotalDue' ]].values.tolist()\n",
    "\n",
    "        # Executing batch insert\n",
    "        cursor.executemany(insert_query, data_to_insert)\n",
    "\n",
    "        # Commit transaction\n",
    "        destination_conn.commit()\n",
    "        \n",
    "        print(\"Data inserted successfully.\")\n",
    "except pyodbc.Error as e:\n",
    "    print(\"Error while connecting to the source SQL Server:\", e)"
   ],
   "metadata": {
    "collapsed": false,
    "ExecuteTime": {
     "end_time": "2024-05-27T11:34:35.218182Z",
     "start_time": "2024-05-27T11:34:34.844698Z"
    }
   },
   "id": "53031a16fca2d380",
   "execution_count": 13
  },
  {
   "cell_type": "code",
   "outputs": [
    {
     "name": "stdout",
     "output_type": "stream",
     "text": [
      "Data inserted successfully.\n"
     ]
    }
   ],
   "source": [
    "#Purchasing.Vendor\n",
    "try:\n",
    "    with pyodbc.connect(source_conn_str) as source_conn:\n",
    "        Vendor_df = pd.read_sql_query(\"SELECT BusinessEntityID, AccountNumber, Name, CreditRating, PurchasingWebServiceURL FROM Purchasing.Vendor\", source_conn)\n",
    "except pyodbc.Error as e:\n",
    "    print(\"Error while connecting to the source SQL Server:\", e)\n",
    "\n",
    "# Establish connection to the destination SQL Server database and insert data\n",
    "try:\n",
    "    with pyodbc.connect(destination_conn_str) as destination_conn:\n",
    "        cursor = destination_conn.cursor()\n",
    "        # Batch insert\n",
    "        insert_query = \"\"\"\n",
    "        INSERT INTO [DWUnitedOutdoors].[dbo].[Vendor]\n",
    "        (BusinessEntityID, AccountNumber, Name, CreditRating, PurchasingWebServiceURL)\n",
    "        VALUES (?, ?, ?, ?, ?)\n",
    "        \"\"\"\n",
    "\n",
    "        # Convert DataFrame to a list of tuples for batch insertion\n",
    "        data_to_insert = Vendor_df[['BusinessEntityID', 'AccountNumber', 'Name', 'CreditRating', 'PurchasingWebServiceURL']].values.tolist()\n",
    "\n",
    "        # Executing batch insert\n",
    "        cursor.executemany(insert_query, data_to_insert)\n",
    "\n",
    "        # Commit transaction\n",
    "        destination_conn.commit()\n",
    "        \n",
    "        print(\"Data inserted successfully.\")\n",
    "except pyodbc.Error as e:\n",
    "    print(\"Error while connecting to the destination SQL Server:\", e)"
   ],
   "metadata": {
    "collapsed": false,
    "ExecuteTime": {
     "end_time": "2024-05-27T13:45:29.741582Z",
     "start_time": "2024-05-27T13:45:29.618967Z"
    }
   },
   "id": "2480fd30697a5b62",
   "execution_count": 105
  },
  {
   "cell_type": "code",
   "outputs": [
    {
     "name": "stdout",
     "output_type": "stream",
     "text": [
      "Error while connecting to the destination SQL Server or inserting data: ('23000', \"[23000] [Microsoft][ODBC SQL Server Driver][SQL Server]Violation of PRIMARY KEY constraint 'PK_ProductSubCategory'. Cannot insert duplicate key in object 'dbo.ProductSubCategory'. The duplicate key value is (1). (2627) (SQLExecDirectW); [23000] [Microsoft][ODBC SQL Server Driver][SQL Server]The statement has been terminated. (3621)\")\n"
     ]
    }
   ],
   "source": [
    "##Production.ProductSubCategory\n",
    "try:\n",
    "    with pyodbc.connect(source_conn_str) as source_conn:\n",
    "        ProductSubCategory_df = pd.read_sql_query(\"SELECT ProductSubCategoryID ,ProductCategoryID, Name FROM Production.ProductSubCategory\", source_conn)\n",
    "        ProductCategory_df = pd.read_sql_query(\"SELECT Name, ProductCategoryID FROM Production.ProductCategory\", source_conn)\n",
    "\n",
    "        ## merging dataframes\n",
    "        ProductSubCategory_df = pd.merge(ProductSubCategory_df, ProductCategory_df, on='ProductCategoryID', how='left')\n",
    "except pyodbc.Error as e:\n",
    "    print(\"Error while connecting to the source SQL Server:\", e)\n",
    "    # Establish connection to the destination SQL Server database and insert data\n",
    "try:\n",
    "    with pyodbc.connect(destination_conn_str) as destination_conn:\n",
    "        cursor = destination_conn.cursor()\n",
    "\n",
    "        # Batch insert\n",
    "        insert_query = \"\"\"\n",
    "        INSERT INTO [DWUnitedOutdoors].[dbo].[ProductSubCategory]\n",
    "        (ProductSubCategoryID, ProductCategoryID, SubCategory_Name, Category_Name)\n",
    "        VALUES (?, ?, ?, ?)\n",
    "        \"\"\"\n",
    "        # Convert DataFrame to a list of tuples for batch insertion\n",
    "        data_to_insert = ProductSubCategory_df[['ProductSubCategoryID', 'ProductCategoryID', 'Name_x', 'Name_y']].values.tolist()\n",
    "\n",
    "        # Executing batch insert\n",
    "        cursor.executemany(insert_query, data_to_insert)\n",
    "\n",
    "        # Commit transaction\n",
    "        destination_conn.commit()\n",
    "\n",
    "        print(\"Data inserted successfully.\")\n",
    "except pyodbc.Error as e:\n",
    "    print(\"Error while connecting to the destination SQL Server or inserting data:\", e)"
   ],
   "metadata": {
    "collapsed": false,
    "ExecuteTime": {
     "end_time": "2024-05-27T13:46:18.470586Z",
     "start_time": "2024-05-27T13:46:18.423276Z"
    }
   },
   "id": "b66d66c80806fed6",
   "execution_count": 106
  },
  {
   "cell_type": "code",
   "outputs": [
    {
     "name": "stdout",
     "output_type": "stream",
     "text": [
      "Error while connecting to the destination SQL Server or inserting data: ('22008', '[22008] [Microsoft][ODBC SQL Server Driver]Overloop in het datum-/tijdveld (0) (SQLExecDirectW)')\n"
     ]
    }
   ],
   "source": [
    "#Production.Product\n",
    "try:\n",
    "    with pyodbc.connect(source_conn_str) as source_conn:\n",
    "        productionproduct_df = pd.read_sql_query(\"SELECT ProductID ,Name, ProductNumber, Color, SafetyStockLevel, ReorderPoint, StandardCost, ListPrice, Size, SizeUnitMeasureCode, WeightUnitMeasureCode, Weight, DaysToManufacture, ProductLine, Class, Style, ProductSubcategoryID, SellStartDate, SellEndDate, DiscontinuedDate FROM Production.Product\", source_conn)\n",
    "\n",
    "except pyodbc.Error as e:\n",
    "    print(\"Error while connecting to the source SQL Server:\", e)\n",
    "    # Establish connection to the destination SQL Server database and insert data\n",
    "try:\n",
    "    with pyodbc.connect(destination_conn_str) as destination_conn:\n",
    "        cursor = destination_conn.cursor()\n",
    "\n",
    "        # Batch insert\n",
    "        insert_query = \"\"\"\n",
    "        INSERT INTO [DWUnitedOutdoors].[dbo].[ProductionProduct]\n",
    "        (ProductID, Name, ProductNumber, Color, SafetyStockLevel, ReorderPoint, StandardCost, ListPrice, Size, SizeUnitMeasureCode, WeightUnitMeasureCode, Weight, DaysToManufacture, ProductLine, Class, Style, ProductSubcategoryID, SellStartDate, SellEndDate, DiscontinuedDate)\n",
    "        VALUES (?, ?, ?, ?, ?, ?, ?, ?, ?, ?, ?, ?, ?, ?, ?, ?, ?, ?, ?, ?)\n",
    "        \"\"\"\n",
    "        # Convert DataFrame to a list of tuples for batch insertion\n",
    "        data_to_insert = productionproduct_df[['ProductID', 'Name', 'ProductNumber', 'Color', 'SafetyStockLevel', 'ReorderPoint', 'StandardCost', 'ListPrice', 'Size', 'SizeUnitMeasureCode', 'WeightUnitMeasureCode', 'Weight', 'DaysToManufacture', 'ProductLine', 'Class', 'Style', 'ProductSubcategoryID', 'SellStartDate', 'SellEndDate', 'DiscontinuedDate']].values.tolist()\n",
    "\n",
    "        # Executing batch insert\n",
    "        cursor.executemany(insert_query, data_to_insert)\n",
    "\n",
    "        # Commit transaction\n",
    "        destination_conn.commit()\n",
    "\n",
    "        print(\"Data inserted successfully.\")\n",
    "except pyodbc.Error as e:\n",
    "    print(\"Error while connecting to the destination SQL Server or inserting data:\", e)\n",
    "#productionproduct_df"
   ],
   "metadata": {
    "collapsed": false,
    "ExecuteTime": {
     "end_time": "2024-05-27T13:47:05.476775Z",
     "start_time": "2024-05-27T13:47:05.439259Z"
    }
   },
   "id": "b7cfee617ac3d50a",
   "execution_count": 107
  },
  {
   "cell_type": "code",
   "outputs": [
    {
     "name": "stdout",
     "output_type": "stream",
     "text": [
      "Error while connecting to the destination SQL Server or inserting data: ('23000', \"[23000] [Microsoft][ODBC SQL Server Driver][SQL Server]Violation of PRIMARY KEY constraint 'PK_Work'. Cannot insert duplicate key in object 'dbo.Work'. The duplicate key value is (747). (2627) (SQLExecDirectW); [23000] [Microsoft][ODBC SQL Server Driver][SQL Server]The statement has been terminated. (3621)\")\n"
     ]
    }
   ],
   "source": [
    "#Production.Work\n",
    "try:\n",
    "    with pyodbc.connect(source_conn_str) as source_conn:\n",
    "        work_order_df = pd.read_sql_query(\"SELECT WorkOrderID, ProductID, OrderQty, StockedQty, ScrappedQty, StartDate, EndDate, DueDate FROM Production.WorkOrder\", source_conn)\n",
    "        work_order_routing_df = pd.read_sql_query(\"SELECT WorkOrderID, OperationSequence, LocationID, ScheduledStartDate, ScheduledEndDate, ActualStartDate, ActualEndDate, ActualResourceHrs, PlannedCost, ActualCost FROM Production.WorkOrderRouting\", source_conn)\n",
    "         ## merging dataframes\n",
    "        work_order_df = pd.merge(work_order_routing_df, work_order_df, on='WorkOrderID', how='left')\n",
    "except pyodbc.Error as e:\n",
    "    print(\"Error while connecting to the source SQL Server:\", e)\n",
    "        # Establish connection to the destination SQL Server database and insert data\n",
    "try:\n",
    "    with pyodbc.connect(destination_conn_str) as destination_conn:\n",
    "        cursor = destination_conn.cursor()\n",
    "\n",
    "        # Batch insert\n",
    "        insert_query = \"\"\"\n",
    "        INSERT INTO [DWUnitedOutdoors].[dbo].[Work]\n",
    "        (WorkOrderID, ProductID, OperationSequence, LocationID, ScheduledStartDate, ScheduledEndDate, ActualStartDate, ActualEndDate, ActualResourceHrs, PlannedCost, ActualCost, OrderQty, StockedQty, StartDate, EndDate, DueDate)\n",
    "        VALUES (?, ?, ?, ?, ?, ?, ?, ?, ?, ?, ?, ?, ?, ?, ?, ?)\n",
    "        \"\"\"\n",
    "        # Convert DataFrame to a list of tuples for batch insertion\n",
    "        data_to_insert = work_order_df[['WorkOrderID', 'ProductID', 'OperationSequence', 'LocationID', 'ScheduledStartDate', 'ScheduledEndDate', 'ActualStartDate', 'ActualEndDate', 'ActualResourceHrs', 'PlannedCost', 'ActualCost', 'OrderQty', 'StockedQty', 'StartDate', 'EndDate', 'DueDate']].values.tolist()\n",
    "\n",
    "        # Executing batch insert\n",
    "        cursor.executemany(insert_query, data_to_insert)\n",
    "\n",
    "        # Commit transaction\n",
    "        destination_conn.commit()\n",
    "\n",
    "        print(\"Data inserted successfully.\")\n",
    "except pyodbc.Error as e:\n",
    "    print(\"Error while connecting to the destination SQL Server or inserting data:\", e)"
   ],
   "metadata": {
    "collapsed": false,
    "ExecuteTime": {
     "end_time": "2024-05-27T12:21:25.724848Z",
     "start_time": "2024-05-27T12:21:23.523836Z"
    }
   },
   "id": "185a72664fa74849",
   "execution_count": 28
  },
  {
   "cell_type": "code",
   "outputs": [
    {
     "name": "stdout",
     "output_type": "stream",
     "text": [
      "Error while connecting to the destination SQL Server: ('42S02', \"[42S02] [Microsoft][ODBC SQL Server Driver][SQL Server]Invalid object name 'DWUnitedOutdoors.dbo.ProductCostHistory'. (208) (SQLExecDirectW); [42S02] [Microsoft][ODBC SQL Server Driver][SQL Server]Statement(s) could not be prepared. (8180)\")\n"
     ]
    }
   ],
   "source": [
    "#Production.ProductionHistory\n",
    "try:\n",
    "    with pyodbc.connect(source_conn_str) as source_conn:\n",
    "        ProductCostHistory_df = pd.read_sql_query(\"SELECT ProductID, StartDate, EndDate, StandardCost FROM Production.ProductCostHistory\", source_conn)\n",
    "        ProductListPriceHistory_df = pd.read_sql_query(\"SELECT ProductID, StartDate, EndDate, ListPrice FROM Production.ProductListPriceHistory\", source_conn)\n",
    "        TransactionHistory_df = pd.read_sql_query(\"SELECT ProductID, TransactionID, ReferenceOrderID, ReferenceOrderLineID, TransactionDate, Quantity, ActualCost FROM Production.TransactionHistory\", source_conn)\n",
    "        \n",
    "         ## merging dataframes\n",
    "        ProductCostHistory_df = pd.merge(ProductCostHistory_df, ProductListPriceHistory_df, on='ProductID', how='left')\n",
    "        ProductCostHistory_df = pd.merge(ProductCostHistory_df, TransactionHistory_df, on='ProductID', how='left')\n",
    "except pyodbc.Error as e:\n",
    "    print(\"Error while connecting to the source SQL Server:\", e)\n",
    "try:\n",
    "    with pyodbc.connect(destination_conn_str) as destination_conn:\n",
    "        cursor = destination_conn.cursor()\n",
    "        # Batch insert for ProductCostHistory\n",
    "        insert_query = \"\"\"\n",
    "        INSERT INTO [DWUnitedOutdoors].[dbo].[ProductCostHistory]\n",
    "        (ProductID, Cost_StartDate, Cost_EndDate, StandardCost, List_StartDate, List_EndDate, ListPrice, TransactionID, ReferenceOrderID, ReferenceOrderLineID, TransactionDate, Quantity, ActualCost)\n",
    "        VALUES (?, ?, ?, ?, ?, ?, ?, ?, ?, ?, ?, ?, ?)\n",
    "        \"\"\"\n",
    "\n",
    "        # Convert DataFrame to a list of tuples for batch insertion\n",
    "        data_to_insert = ProductCostHistory_df[['ProductID', 'StartDate_x', 'EndDate_x', 'StandardCost', 'StartDate_y', 'EndDate_y', 'ListPrice', 'TransactionID', 'ReferenceOrderID', 'ReferenceOrderLineID', 'TransactionDate', 'Quantity', 'ActualCost']].values.tolist()\n",
    "\n",
    "        # Executing batch insert\n",
    "        cursor.executemany(insert_query, data_to_insert)\n",
    "\n",
    "        # Commit transaction\n",
    "        destination_conn.commit()\n",
    "\n",
    "        print(\"Data inserted successfully into ProductCostHistory table.\")\n",
    "except pyodbc.Error as e:\n",
    "    print(\"Error while connecting to the destination SQL Server:\", e)"
   ],
   "metadata": {
    "collapsed": false,
    "ExecuteTime": {
     "end_time": "2024-05-27T13:51:24.408798Z",
     "start_time": "2024-05-27T13:51:16.569952Z"
    }
   },
   "id": "96a6a410940a71dd",
   "execution_count": 113
  },
  {
   "cell_type": "code",
   "outputs": [
    {
     "name": "stdout",
     "output_type": "stream",
     "text": [
      "Error while connecting to the destination SQL Server: ('23000', \"[23000] [Microsoft][ODBC SQL Server Driver][SQL Server]Violation of PRIMARY KEY constraint 'PK_ProductInventory'. Cannot insert duplicate key in object 'dbo.ProductInventory'. The duplicate key value is (1). (2627) (SQLExecDirectW); [23000] [Microsoft][ODBC SQL Server Driver][SQL Server]The statement has been terminated. (3621)\")\n"
     ]
    }
   ],
   "source": [
    "#Production.ProductInventory\n",
    "try:\n",
    "    with pyodbc.connect(source_conn_str) as source_conn:\n",
    "        ProductInventory_df = pd.read_sql_query(\"SELECT ProductID, LocationID, Shelf, Bin, Quantity FROM Production.ProductInventory\", source_conn)\n",
    "        Location_df = pd.read_sql_query(\"SELECT LocationID, Name, CostRate, Availability FROM Production.Location\", source_conn)\n",
    "        \n",
    "        ## merging dataframes\n",
    "        ProductInventory_df = pd.merge(ProductInventory_df, Location_df, on='LocationID', how='left')\n",
    "except pyodbc.Error as e:\n",
    "    print(\"Error while connecting to the source SQL Server:\", e)\n",
    "try:\n",
    "    with pyodbc.connect(destination_conn_str) as destination_conn:\n",
    "        cursor = destination_conn.cursor()\n",
    "        # Batch insert\n",
    "        insert_query = \"\"\"\n",
    "        INSERT INTO [DWUnitedOutdoors].[dbo].[ProductInventory]\n",
    "        (ProductID, LocationID, Shelf, Bin, Quantity, Name, CostRate, Availability)\n",
    "        VALUES (?, ?, ?, ?, ?, ?, ?, ?)\n",
    "        \"\"\"\n",
    "\n",
    "        # Convert DataFrame to a list of tuples for batch insertion\n",
    "        data_to_insert = ProductInventory_df[['ProductID', 'LocationID', 'Shelf', 'Bin', 'Quantity', 'Name', 'CostRate', 'Availability']].values.tolist()\n",
    "\n",
    "        # Executing batch insert\n",
    "        cursor.executemany(insert_query, data_to_insert)\n",
    "\n",
    "        # Commit transaction\n",
    "        destination_conn.commit()\n",
    "\n",
    "        print(\"Data inserted successfully into ProductInventory table.\")\n",
    "except pyodbc.Error as e:\n",
    "    print(\"Error while connecting to the destination SQL Server:\", e)"
   ],
   "metadata": {
    "collapsed": false,
    "ExecuteTime": {
     "end_time": "2024-05-27T13:52:09.263958Z",
     "start_time": "2024-05-27T13:52:09.232284Z"
    }
   },
   "id": "9f5cf4b88fe0980f",
   "execution_count": 115
  },
  {
   "cell_type": "code",
   "outputs": [
    {
     "name": "stdout",
     "output_type": "stream",
     "text": [
      "Error while connecting to the destination SQL Server: ('23000', \"[23000] [Microsoft][ODBC SQL Server Driver][SQL Server]Violation of PRIMARY KEY constraint 'PK_ProductVendor'. Cannot insert duplicate key in object 'dbo.ProductVendor'. The duplicate key value is (317). (2627) (SQLExecDirectW); [23000] [Microsoft][ODBC SQL Server Driver][SQL Server]The statement has been terminated. (3621)\")\n"
     ]
    }
   ],
   "source": [
    "#Purchasing.ProductVendor\n",
    "try:\n",
    "    with pyodbc.connect(source_conn_str) as source_conn:\n",
    "        ProductVendor_df = pd.read_sql_query(\"SELECT ProductID, BusinessEntityID, AverageLeadTime, StandardPrice, LastReceiptCost, LastReceiptDate, MinOrderQty, MaxOrderQty, OnOrderQty, UnitMeasureCode FROM Purchasing.ProductVendor\", source_conn)\n",
    "except pyodbc.Error as e:\n",
    "    print(\"Error while connecting to the source SQL Server:\", e)\n",
    "\n",
    "ProductVendor_df['OnOrderQty'].fillna(0, inplace=True)\n",
    "try:\n",
    "    with pyodbc.connect(destination_conn_str) as destination_conn:\n",
    "        cursor = destination_conn.cursor()\n",
    "        insert_query = \"\"\"\n",
    "        INSERT INTO [DWUnitedOutdoors].[dbo].[ProductVendor]\n",
    "        (ProductID, BusinessEntityID, AverageLeadTime, StandardPrice, LastReceiptCost, LastReceiptDate, MinOrderQty, MaxOrderQty, OnOrderQty, UnitMeasureCode)\n",
    "        VALUES (?, ?, ?, ?, ?, ?, ?, ?, ?, ?)\n",
    "        \"\"\"\n",
    "        data_to_insert = ProductVendor_df[['ProductID', 'BusinessEntityID', 'AverageLeadTime', 'StandardPrice', 'LastReceiptCost', 'LastReceiptDate', 'MinOrderQty', 'MaxOrderQty', 'OnOrderQty', 'UnitMeasureCode']].values.tolist()\n",
    "        cursor.executemany(insert_query, data_to_insert)\n",
    "        destination_conn.commit()\n",
    "        print(\"Data inserted successfully into ProductVendor table.\")\n",
    "except pyodbc.Error as e:\n",
    "    print(\"Error while connecting to the destination SQL Server:\", e)"
   ],
   "metadata": {
    "collapsed": false,
    "ExecuteTime": {
     "end_time": "2024-05-27T13:54:54.291014Z",
     "start_time": "2024-05-27T13:54:54.265995Z"
    }
   },
   "id": "453fb642c4f4eb63",
   "execution_count": 122
  },
  {
   "cell_type": "code",
   "outputs": [
    {
     "name": "stdout",
     "output_type": "stream",
     "text": [
      "Data inserted successfully into ShoppingCartItem table.\n"
     ]
    }
   ],
   "source": [
    "#ShoppingcartItem\n",
    "try:\n",
    "      with pyodbc.connect(source_conn_str) as source_conn:\n",
    "          Shoppingcart_df = pd.read_sql_query(\"SELECT ShoppingCartItemID, ShoppingCartID, Quantity, ProductID, DateCreated from Sales.ShoppingCartItem\", source_conn)\n",
    "except pyodbc.Error as e:\n",
    "    print(\"Error while connecting to the source SQL Server:\", e)\n",
    "try:\n",
    "    with pyodbc.connect(destination_conn_str) as destination_conn:\n",
    "        cursor = destination_conn.cursor()\n",
    "        # Batch insert\n",
    "        insert_query = \"\"\"\n",
    "        INSERT INTO [DWUnitedOutdoors].[dbo].[ShoppingCartItem]\n",
    "        (ShoppingCartItemID, ShoppingCardID, Quantity, ProductID, DateCreated)\n",
    "        VALUES (?, ?, ?, ?, ?)\n",
    "        \"\"\"\n",
    "\n",
    "        # Convert DataFrame to a list of tuples for batch insertion\n",
    "        data_to_insert = Shoppingcart_df[['ShoppingCartItemID', 'ShoppingCartID', 'Quantity', 'ProductID', 'DateCreated']].values.tolist()\n",
    "\n",
    "        # Executing batch insert\n",
    "        cursor.executemany(insert_query, data_to_insert)\n",
    "\n",
    "        # Commit transaction\n",
    "        destination_conn.commit()\n",
    "\n",
    "        print(\"Data inserted successfully into ShoppingCartItem table.\")\n",
    "except pyodbc.Error as e:\n",
    "    print(\"Error while connecting to the destination SQL Server:\", e)"
   ],
   "metadata": {
    "collapsed": false,
    "ExecuteTime": {
     "end_time": "2024-05-27T14:00:23.721533Z",
     "start_time": "2024-05-27T14:00:23.686304Z"
    }
   },
   "id": "a2f3adbf70e267fa",
   "execution_count": 126
  },
  {
   "cell_type": "code",
   "outputs": [
    {
     "ename": "DatabaseError",
     "evalue": "Execution failed on sql 'SELECT OrderID, CustomerID, EmployeeID, OrderDate, RequiredDate, ShippedDate, ShipVia, Freight, ShipName, ShipAddress, ShipCity, ShipRegion, ShipPostalCode, ShipCountry  FROM Orders': ('42S02', \"[42S02] [Microsoft][ODBC SQL Server Driver][SQL Server]Invalid object name 'Orders'. (208) (SQLExecDirectW)\")",
     "output_type": "error",
     "traceback": [
      "\u001B[1;31m---------------------------------------------------------------------------\u001B[0m",
      "\u001B[1;31mProgrammingError\u001B[0m                          Traceback (most recent call last)",
      "File \u001B[1;32m~\\AppData\\Local\\Programs\\Python\\Python312\\Lib\\site-packages\\pandas\\io\\sql.py:2675\u001B[0m, in \u001B[0;36mSQLiteDatabase.execute\u001B[1;34m(self, sql, params)\u001B[0m\n\u001B[0;32m   2674\u001B[0m \u001B[38;5;28;01mtry\u001B[39;00m:\n\u001B[1;32m-> 2675\u001B[0m     \u001B[43mcur\u001B[49m\u001B[38;5;241;43m.\u001B[39;49m\u001B[43mexecute\u001B[49m\u001B[43m(\u001B[49m\u001B[43msql\u001B[49m\u001B[43m,\u001B[49m\u001B[43m \u001B[49m\u001B[38;5;241;43m*\u001B[39;49m\u001B[43margs\u001B[49m\u001B[43m)\u001B[49m\n\u001B[0;32m   2676\u001B[0m     \u001B[38;5;28;01mreturn\u001B[39;00m cur\n",
      "\u001B[1;31mProgrammingError\u001B[0m: ('42S02', \"[42S02] [Microsoft][ODBC SQL Server Driver][SQL Server]Invalid object name 'Orders'. (208) (SQLExecDirectW)\")",
      "\nThe above exception was the direct cause of the following exception:\n",
      "\u001B[1;31mDatabaseError\u001B[0m                             Traceback (most recent call last)",
      "Cell \u001B[1;32mIn[127], line 4\u001B[0m\n\u001B[0;32m      2\u001B[0m \u001B[38;5;28;01mtry\u001B[39;00m:\n\u001B[0;32m      3\u001B[0m         \u001B[38;5;28;01mwith\u001B[39;00m pyodbc\u001B[38;5;241m.\u001B[39mconnect(source_conn_str) \u001B[38;5;28;01mas\u001B[39;00m source_conn:\n\u001B[1;32m----> 4\u001B[0m             Orders_df \u001B[38;5;241m=\u001B[39m \u001B[43mpd\u001B[49m\u001B[38;5;241;43m.\u001B[39;49m\u001B[43mread_sql_query\u001B[49m\u001B[43m(\u001B[49m\u001B[38;5;124;43m\"\u001B[39;49m\u001B[38;5;124;43mSELECT OrderID, CustomerID, EmployeeID, OrderDate, RequiredDate, ShippedDate, ShipVia, Freight, ShipName, ShipAddress, ShipCity, ShipRegion, ShipPostalCode, ShipCountry  FROM Orders\u001B[39;49m\u001B[38;5;124;43m\"\u001B[39;49m\u001B[43m,\u001B[49m\u001B[43m \u001B[49m\u001B[43msource_conn\u001B[49m\u001B[43m)\u001B[49m\n\u001B[0;32m      5\u001B[0m             OrdersDetail_df \u001B[38;5;241m=\u001B[39m pd\u001B[38;5;241m.\u001B[39mread_sql_query(\u001B[38;5;124m\"\u001B[39m\u001B[38;5;124mSELECT OrderID, ProductID, UnitPrice, Quantity, Discount FROM OrderDetails\u001B[39m\u001B[38;5;124m\"\u001B[39m, source_conn)\n\u001B[0;32m      7\u001B[0m             \u001B[38;5;66;03m##mergingOrderDetails\u001B[39;00m\n",
      "File \u001B[1;32m~\\AppData\\Local\\Programs\\Python\\Python312\\Lib\\site-packages\\pandas\\io\\sql.py:526\u001B[0m, in \u001B[0;36mread_sql_query\u001B[1;34m(sql, con, index_col, coerce_float, params, parse_dates, chunksize, dtype, dtype_backend)\u001B[0m\n\u001B[0;32m    523\u001B[0m \u001B[38;5;28;01massert\u001B[39;00m dtype_backend \u001B[38;5;129;01mis\u001B[39;00m \u001B[38;5;129;01mnot\u001B[39;00m lib\u001B[38;5;241m.\u001B[39mno_default\n\u001B[0;32m    525\u001B[0m \u001B[38;5;28;01mwith\u001B[39;00m pandasSQL_builder(con) \u001B[38;5;28;01mas\u001B[39;00m pandas_sql:\n\u001B[1;32m--> 526\u001B[0m     \u001B[38;5;28;01mreturn\u001B[39;00m \u001B[43mpandas_sql\u001B[49m\u001B[38;5;241;43m.\u001B[39;49m\u001B[43mread_query\u001B[49m\u001B[43m(\u001B[49m\n\u001B[0;32m    527\u001B[0m \u001B[43m        \u001B[49m\u001B[43msql\u001B[49m\u001B[43m,\u001B[49m\n\u001B[0;32m    528\u001B[0m \u001B[43m        \u001B[49m\u001B[43mindex_col\u001B[49m\u001B[38;5;241;43m=\u001B[39;49m\u001B[43mindex_col\u001B[49m\u001B[43m,\u001B[49m\n\u001B[0;32m    529\u001B[0m \u001B[43m        \u001B[49m\u001B[43mparams\u001B[49m\u001B[38;5;241;43m=\u001B[39;49m\u001B[43mparams\u001B[49m\u001B[43m,\u001B[49m\n\u001B[0;32m    530\u001B[0m \u001B[43m        \u001B[49m\u001B[43mcoerce_float\u001B[49m\u001B[38;5;241;43m=\u001B[39;49m\u001B[43mcoerce_float\u001B[49m\u001B[43m,\u001B[49m\n\u001B[0;32m    531\u001B[0m \u001B[43m        \u001B[49m\u001B[43mparse_dates\u001B[49m\u001B[38;5;241;43m=\u001B[39;49m\u001B[43mparse_dates\u001B[49m\u001B[43m,\u001B[49m\n\u001B[0;32m    532\u001B[0m \u001B[43m        \u001B[49m\u001B[43mchunksize\u001B[49m\u001B[38;5;241;43m=\u001B[39;49m\u001B[43mchunksize\u001B[49m\u001B[43m,\u001B[49m\n\u001B[0;32m    533\u001B[0m \u001B[43m        \u001B[49m\u001B[43mdtype\u001B[49m\u001B[38;5;241;43m=\u001B[39;49m\u001B[43mdtype\u001B[49m\u001B[43m,\u001B[49m\n\u001B[0;32m    534\u001B[0m \u001B[43m        \u001B[49m\u001B[43mdtype_backend\u001B[49m\u001B[38;5;241;43m=\u001B[39;49m\u001B[43mdtype_backend\u001B[49m\u001B[43m,\u001B[49m\n\u001B[0;32m    535\u001B[0m \u001B[43m    \u001B[49m\u001B[43m)\u001B[49m\n",
      "File \u001B[1;32m~\\AppData\\Local\\Programs\\Python\\Python312\\Lib\\site-packages\\pandas\\io\\sql.py:2739\u001B[0m, in \u001B[0;36mSQLiteDatabase.read_query\u001B[1;34m(self, sql, index_col, coerce_float, parse_dates, params, chunksize, dtype, dtype_backend)\u001B[0m\n\u001B[0;32m   2728\u001B[0m \u001B[38;5;28;01mdef\u001B[39;00m \u001B[38;5;21mread_query\u001B[39m(\n\u001B[0;32m   2729\u001B[0m     \u001B[38;5;28mself\u001B[39m,\n\u001B[0;32m   2730\u001B[0m     sql,\n\u001B[1;32m   (...)\u001B[0m\n\u001B[0;32m   2737\u001B[0m     dtype_backend: DtypeBackend \u001B[38;5;241m|\u001B[39m Literal[\u001B[38;5;124m\"\u001B[39m\u001B[38;5;124mnumpy\u001B[39m\u001B[38;5;124m\"\u001B[39m] \u001B[38;5;241m=\u001B[39m \u001B[38;5;124m\"\u001B[39m\u001B[38;5;124mnumpy\u001B[39m\u001B[38;5;124m\"\u001B[39m,\n\u001B[0;32m   2738\u001B[0m ) \u001B[38;5;241m-\u001B[39m\u001B[38;5;241m>\u001B[39m DataFrame \u001B[38;5;241m|\u001B[39m Iterator[DataFrame]:\n\u001B[1;32m-> 2739\u001B[0m     cursor \u001B[38;5;241m=\u001B[39m \u001B[38;5;28;43mself\u001B[39;49m\u001B[38;5;241;43m.\u001B[39;49m\u001B[43mexecute\u001B[49m\u001B[43m(\u001B[49m\u001B[43msql\u001B[49m\u001B[43m,\u001B[49m\u001B[43m \u001B[49m\u001B[43mparams\u001B[49m\u001B[43m)\u001B[49m\n\u001B[0;32m   2740\u001B[0m     columns \u001B[38;5;241m=\u001B[39m [col_desc[\u001B[38;5;241m0\u001B[39m] \u001B[38;5;28;01mfor\u001B[39;00m col_desc \u001B[38;5;129;01min\u001B[39;00m cursor\u001B[38;5;241m.\u001B[39mdescription]\n\u001B[0;32m   2742\u001B[0m     \u001B[38;5;28;01mif\u001B[39;00m chunksize \u001B[38;5;129;01mis\u001B[39;00m \u001B[38;5;129;01mnot\u001B[39;00m \u001B[38;5;28;01mNone\u001B[39;00m:\n",
      "File \u001B[1;32m~\\AppData\\Local\\Programs\\Python\\Python312\\Lib\\site-packages\\pandas\\io\\sql.py:2687\u001B[0m, in \u001B[0;36mSQLiteDatabase.execute\u001B[1;34m(self, sql, params)\u001B[0m\n\u001B[0;32m   2684\u001B[0m     \u001B[38;5;28;01mraise\u001B[39;00m ex \u001B[38;5;28;01mfrom\u001B[39;00m \u001B[38;5;21;01minner_exc\u001B[39;00m\n\u001B[0;32m   2686\u001B[0m ex \u001B[38;5;241m=\u001B[39m DatabaseError(\u001B[38;5;124mf\u001B[39m\u001B[38;5;124m\"\u001B[39m\u001B[38;5;124mExecution failed on sql \u001B[39m\u001B[38;5;124m'\u001B[39m\u001B[38;5;132;01m{\u001B[39;00msql\u001B[38;5;132;01m}\u001B[39;00m\u001B[38;5;124m'\u001B[39m\u001B[38;5;124m: \u001B[39m\u001B[38;5;132;01m{\u001B[39;00mexc\u001B[38;5;132;01m}\u001B[39;00m\u001B[38;5;124m\"\u001B[39m)\n\u001B[1;32m-> 2687\u001B[0m \u001B[38;5;28;01mraise\u001B[39;00m ex \u001B[38;5;28;01mfrom\u001B[39;00m \u001B[38;5;21;01mexc\u001B[39;00m\n",
      "\u001B[1;31mDatabaseError\u001B[0m: Execution failed on sql 'SELECT OrderID, CustomerID, EmployeeID, OrderDate, RequiredDate, ShippedDate, ShipVia, Freight, ShipName, ShipAddress, ShipCity, ShipRegion, ShipPostalCode, ShipCountry  FROM Orders': ('42S02', \"[42S02] [Microsoft][ODBC SQL Server Driver][SQL Server]Invalid object name 'Orders'. (208) (SQLExecDirectW)\")"
     ]
    }
   ],
   "source": [
    "##Orders\n",
    "try:\n",
    "        with pyodbc.connect(source_conn_str) as source_conn:\n",
    "            Orders_df = pd.read_sql_query(\"SELECT OrderID, CustomerID, EmployeeID, OrderDate, RequiredDate, ShippedDate, ShipVia, Freight, ShipName, ShipAddress, ShipCity, ShipRegion, ShipPostalCode, ShipCountry  FROM Orders\", source_conn)\n",
    "            OrdersDetail_df = pd.read_sql_query(\"SELECT OrderID, ProductID, UnitPrice, Quantity, Discount FROM OrderDetails\", source_conn)\n",
    "            \n",
    "            ##mergingOrderDetails\n",
    "            Orders_df = pd.merge(Orders_df, OrdersDetail_df, on='OrderID', how='left')\n",
    "            \n",
    "except pyodbc.Error as e:\n",
    "    print(\"Error while connecting to the source SQL Server:\", e)\n",
    "try:\n",
    "    with pyodbc.connect(destination_conn_str) as destination_conn:\n",
    "        cursor = destination_conn.cursor()\n",
    "        # Batch insert\n",
    "        insert_query = \"\"\"\n",
    "        INSERT INTO [DWUnitedOutdoors].[dbo].[OrderDetails]\n",
    "        (OrderID, CustomerID, EmployeeID, OrderDate, RequiredDate, ShippedDate, ShipVia, Freight, ShipName, ShipAddress, ShipCity, ShipRegion, ShipPostalCode, ShipCountry, ProductID, UnitPrice, Quantity, Discount)\n",
    "        VALUES (?, ?, ?, ?, ?, ?, ?, ?, ?, ?, ?, ?, ?, ?, ?, ?, ?, ?)\n",
    "        \"\"\"\n",
    "\n",
    "        # Convert DataFrame to a list of tuples for batch insertion\n",
    "        data_to_insert = Orders_df[['OrderID', 'CustomerID', 'EmployeeID', 'OrderDate', 'RequiredDate', 'ShippedDate', 'ShipVia', 'Freight', 'ShipName', 'ShipAddress', 'ShipCity', 'ShipRegion', 'ShipPostalCode', 'ShipCountry', 'ProductID', 'UnitPrice', 'Quantity', 'Discount']].values.tolist()\n",
    "\n",
    "        # Executing batch insert\n",
    "        cursor.executemany(insert_query, data_to_insert)\n",
    "\n",
    "        # Commit transaction\n",
    "        destination_conn.commit()\n",
    "\n",
    "        print(\"Data inserted successfully into OrderDetails table.\")\n",
    "except pyodbc.Error as e:\n",
    "    print(\"Error while connecting to the destination SQL Server:\", e)"
   ],
   "metadata": {
    "collapsed": false,
    "ExecuteTime": {
     "end_time": "2024-05-27T14:00:49.664178Z",
     "start_time": "2024-05-27T14:00:49.586425Z"
    }
   },
   "id": "dc4d1db40277e0f9",
   "execution_count": 127
  },
  {
   "cell_type": "code",
   "outputs": [
    {
     "name": "stdout",
     "output_type": "stream",
     "text": [
      "Data inserted successfully.\n"
     ]
    }
   ],
   "source": [
    "#unitmeasure\n",
    "# Establish connection to the source SQL Server database and read\n",
    "try:\n",
    "    with pyodbc.connect(source_conn_str) as source_conn:\n",
    "        unitmeasure_df = pd.read_sql_query(\"SELECT UnitMeasureCode, Name FROM Production.UnitMeasure\", source_conn)\n",
    "\n",
    "except pyodbc.Error as e:\n",
    "    print(\"Error while connecting to the source SQL Server:\", e)\n",
    "\n",
    "# Establish connection to the destination SQL Server database and insert data\n",
    "try:\n",
    "    with pyodbc.connect(destination_conn_str) as destination_conn:\n",
    "        cursor = destination_conn.cursor()\n",
    "\n",
    "        # Batch insert\n",
    "        insert_query = \"\"\"\n",
    "        INSERT INTO [DWUnitedOutdoors].[dbo].[UnitMeasure]\n",
    "        (UnitMeasureCode, Name)\n",
    "        VALUES (?, ?)\n",
    "        \"\"\"\n",
    "\n",
    "        # Convert DataFrame to a list of tuples for batch insertion\n",
    "        data_to_insert = unitmeasure_df[['UnitMeasureCode', 'Name']].values.tolist()\n",
    "\n",
    "        # Executing batch insert\n",
    "        cursor.executemany(insert_query, data_to_insert) \n",
    "        # Commit transaction\n",
    "        destination_conn.commit()\n",
    "\n",
    "        print(\"Data inserted successfully.\")\n",
    "except pyodbc.Error as e:\n",
    "    print(\"Error while connecting to the destination SQL Server or inserting data:\", e)"
   ],
   "metadata": {
    "collapsed": false,
    "ExecuteTime": {
     "end_time": "2024-05-27T12:02:17.995471Z",
     "start_time": "2024-05-27T12:02:17.927472Z"
    }
   },
   "id": "21200a53cb257eba",
   "execution_count": 23
  },
  {
   "cell_type": "code",
   "outputs": [
    {
     "name": "stdout",
     "output_type": "stream",
     "text": [
      "Data types of DataFrame columns:\n",
      "BillOfMaterialsID      int64\n",
      "ProductAssemblyID      int32\n",
      "ComponentID            int64\n",
      "StartDate             object\n",
      "EndDate               object\n",
      "UnitMeasureCode       object\n",
      "BOMlevel               int64\n",
      "PerAssemblyQty       float64\n",
      "dtype: object\n",
      "Data inserted successfully into BillOfMaterial table.\n"
     ]
    },
    {
     "data": {
      "text/plain": "      BillOfMaterialsID  ProductAssemblyID  ComponentID   StartDate  \\\n0                   893                  0          749  2010-05-26   \n1                   271                  0          750  2010-03-04   \n2                    34                  0          750  2010-05-04   \n3                   830                  0          751  2010-05-26   \n4                  2074                  0          752  2010-07-08   \n...                 ...                ...          ...         ...   \n2674               3063                999          948  2010-12-15   \n2675                 75                999          949  2010-03-04   \n2676                285                999          952  2010-03-04   \n2677                 74                999          952  2010-05-04   \n2678               3303                999          994  2010-12-23   \n\n         EndDate UnitMeasureCode  BOMlevel  PerAssemblyQty  \n0           None             EA          0             1.0  \n1     2010-05-03             EA          0             1.0  \n2           None             EA          0             1.0  \n3           None             EA          0             1.0  \n4           None             EA          0             1.0  \n...          ...             ...       ...             ...  \n2674        None             EA          1             1.0  \n2675        None             EA          1             1.0  \n2676  2010-05-03             EA          1             2.0  \n2677        None             EA          1             1.0  \n2678        None             EA          1             1.0  \n\n[2679 rows x 8 columns]",
      "text/html": "<div>\n<style scoped>\n    .dataframe tbody tr th:only-of-type {\n        vertical-align: middle;\n    }\n\n    .dataframe tbody tr th {\n        vertical-align: top;\n    }\n\n    .dataframe thead th {\n        text-align: right;\n    }\n</style>\n<table border=\"1\" class=\"dataframe\">\n  <thead>\n    <tr style=\"text-align: right;\">\n      <th></th>\n      <th>BillOfMaterialsID</th>\n      <th>ProductAssemblyID</th>\n      <th>ComponentID</th>\n      <th>StartDate</th>\n      <th>EndDate</th>\n      <th>UnitMeasureCode</th>\n      <th>BOMlevel</th>\n      <th>PerAssemblyQty</th>\n    </tr>\n  </thead>\n  <tbody>\n    <tr>\n      <th>0</th>\n      <td>893</td>\n      <td>0</td>\n      <td>749</td>\n      <td>2010-05-26</td>\n      <td>None</td>\n      <td>EA</td>\n      <td>0</td>\n      <td>1.0</td>\n    </tr>\n    <tr>\n      <th>1</th>\n      <td>271</td>\n      <td>0</td>\n      <td>750</td>\n      <td>2010-03-04</td>\n      <td>2010-05-03</td>\n      <td>EA</td>\n      <td>0</td>\n      <td>1.0</td>\n    </tr>\n    <tr>\n      <th>2</th>\n      <td>34</td>\n      <td>0</td>\n      <td>750</td>\n      <td>2010-05-04</td>\n      <td>None</td>\n      <td>EA</td>\n      <td>0</td>\n      <td>1.0</td>\n    </tr>\n    <tr>\n      <th>3</th>\n      <td>830</td>\n      <td>0</td>\n      <td>751</td>\n      <td>2010-05-26</td>\n      <td>None</td>\n      <td>EA</td>\n      <td>0</td>\n      <td>1.0</td>\n    </tr>\n    <tr>\n      <th>4</th>\n      <td>2074</td>\n      <td>0</td>\n      <td>752</td>\n      <td>2010-07-08</td>\n      <td>None</td>\n      <td>EA</td>\n      <td>0</td>\n      <td>1.0</td>\n    </tr>\n    <tr>\n      <th>...</th>\n      <td>...</td>\n      <td>...</td>\n      <td>...</td>\n      <td>...</td>\n      <td>...</td>\n      <td>...</td>\n      <td>...</td>\n      <td>...</td>\n    </tr>\n    <tr>\n      <th>2674</th>\n      <td>3063</td>\n      <td>999</td>\n      <td>948</td>\n      <td>2010-12-15</td>\n      <td>None</td>\n      <td>EA</td>\n      <td>1</td>\n      <td>1.0</td>\n    </tr>\n    <tr>\n      <th>2675</th>\n      <td>75</td>\n      <td>999</td>\n      <td>949</td>\n      <td>2010-03-04</td>\n      <td>None</td>\n      <td>EA</td>\n      <td>1</td>\n      <td>1.0</td>\n    </tr>\n    <tr>\n      <th>2676</th>\n      <td>285</td>\n      <td>999</td>\n      <td>952</td>\n      <td>2010-03-04</td>\n      <td>2010-05-03</td>\n      <td>EA</td>\n      <td>1</td>\n      <td>2.0</td>\n    </tr>\n    <tr>\n      <th>2677</th>\n      <td>74</td>\n      <td>999</td>\n      <td>952</td>\n      <td>2010-05-04</td>\n      <td>None</td>\n      <td>EA</td>\n      <td>1</td>\n      <td>1.0</td>\n    </tr>\n    <tr>\n      <th>2678</th>\n      <td>3303</td>\n      <td>999</td>\n      <td>994</td>\n      <td>2010-12-23</td>\n      <td>None</td>\n      <td>EA</td>\n      <td>1</td>\n      <td>1.0</td>\n    </tr>\n  </tbody>\n</table>\n<p>2679 rows × 8 columns</p>\n</div>"
     },
     "execution_count": 37,
     "metadata": {},
     "output_type": "execute_result"
    }
   ],
   "source": [
    "# Fetch data from source\n",
    "try:\n",
    "    with pyodbc.connect(source_conn_str) as source_conn:\n",
    "        bill_of_material_df = pd.read_sql_query(\"\"\"SELECT BillOfMaterialsID, ProductAssemblyID, ComponentID, StartDate, EndDate, UnitMeasureCode, BOMlevel, PerAssemblyQty FROM Production.BillOfMaterials\"\"\", source_conn)\n",
    "except pyodbc.Error as e:\n",
    "    print(\"Error while connecting to the source SQL Server:\", e)\n",
    "\n",
    "# Validate and clean date columns\n",
    "date_columns = ['StartDate', 'EndDate']\n",
    "for column in date_columns:\n",
    "    bill_of_material_df[column] = pd.to_datetime(bill_of_material_df[column], errors='coerce')\n",
    "\n",
    "# Drop rows with invalid StartDate\n",
    "bill_of_material_df.dropna(subset=['StartDate'], inplace=True)\n",
    "\n",
    "# Replace NaT in EndDate with None\n",
    "bill_of_material_df['EndDate'] = bill_of_material_df['EndDate'].apply(lambda x: None if pd.isna(x) else x)\n",
    "\n",
    "# Convert datetime columns to strings in 'YYYY-MM-DD' format, or None\n",
    "bill_of_material_df['StartDate'] = bill_of_material_df['StartDate'].apply(lambda x: x.strftime('%Y-%m-%d') if not pd.isna(x) else None)\n",
    "bill_of_material_df['EndDate'] = bill_of_material_df['EndDate'].apply(lambda x: x.strftime('%Y-%m-%d') if not pd.isna(x) else None)\n",
    "\n",
    "# Ensure PerAssemblyQty is of type float\n",
    "bill_of_material_df['PerAssemblyQty'] = bill_of_material_df['PerAssemblyQty'].astype(float)\n",
    "\n",
    "# Handle missing and infinite values in ProductAssemblyID\n",
    "bill_of_material_df['ProductAssemblyID'] = bill_of_material_df['ProductAssemblyID'].fillna(0).astype(int)\n",
    "\n",
    "# Print data types of each column\n",
    "print(\"Data types of DataFrame columns:\")\n",
    "print(bill_of_material_df.dtypes)\n",
    "\n",
    "# Insert data into destination\n",
    "try:\n",
    "    with pyodbc.connect(destination_conn_str) as destination_conn:\n",
    "        cursor = destination_conn.cursor()\n",
    "        insert_query = \"\"\"\n",
    "        INSERT INTO [DWUnitedOutdoors].[dbo].[BillOfMaterial]\n",
    "        (BillOfMaterialsID, ProductAssemblyID, ComponentID, StartDate, EndDate, UnitMeasureCode, BOMlevel, PerAssemblyQty)\n",
    "        VALUES (?, ?, ?, ?, ?, ?, ?, ?)\n",
    "        \"\"\"\n",
    "\n",
    "        # Convert DataFrame to a list of tuples for batch insertion\n",
    "        data_to_insert = bill_of_material_df[\n",
    "            ['BillOfMaterialsID', 'ProductAssemblyID', 'ComponentID', 'StartDate', 'EndDate', 'UnitMeasureCode', 'BOMlevel', 'PerAssemblyQty']\n",
    "        ].values.tolist()\n",
    "\n",
    "        # Executing batch insert\n",
    "        cursor.executemany(insert_query, data_to_insert)\n",
    "\n",
    "        # Commit transaction\n",
    "        destination_conn.commit()\n",
    "\n",
    "        print(\"Data inserted successfully into BillOfMaterial table.\")\n",
    "except pyodbc.Error as e:\n",
    "    print(\"Error while connecting to the destination SQL Server:\", e)"
   ],
   "metadata": {
    "collapsed": false,
    "ExecuteTime": {
     "end_time": "2024-05-27T12:41:33.690783Z",
     "start_time": "2024-05-27T12:41:27.749857Z"
    }
   },
   "id": "a419bffc0335e282",
   "execution_count": 37
  },
  {
   "cell_type": "code",
   "outputs": [
    {
     "data": {
      "text/plain": "    ProductID                      ProductName  SupplierID  CategoryID  \\\n0           1                             Chai           1           1   \n1           2                            Chang           1           1   \n2           3                    Aniseed Syrup           1           2   \n3           4     Chef Anton's Cajun Seasoning           2           2   \n4           5           Chef Anton's Gumbo Mix           2           2   \n..        ...                              ...         ...         ...   \n72         73                       Röd Kaviar          17           8   \n73         74                    Longlife Tofu           4           7   \n74         75             Rhönbräu Klosterbier          12           1   \n75         76                     Lakkalikööri          23           1   \n76         77  Original Frankfurter grüne Soße          12           2   \n\n        QuantityPerUnit  UnitPrice  UnitsInStock  UnitsOnOrder  ReorderLevel  \\\n0    10 boxes x 20 bags      18.00            39             0            10   \n1    24 - 12 oz bottles      19.00            17            40            25   \n2   12 - 550 ml bottles      10.00            13            70            25   \n3        48 - 6 oz jars      22.00            53             0             0   \n4              36 boxes      21.35             0             0             0   \n..                  ...        ...           ...           ...           ...   \n72      24 - 150 g jars      15.00           101             0             5   \n73            5 kg pkg.      10.00             4            20             5   \n74   24 - 0.5 l bottles       7.75           125             0            25   \n75               500 ml      18.00            57             0            20   \n76             12 boxes      13.00            32             0            15   \n\n    Discontinued  ...                        CompanyName       ContactName  \\\n0          False  ...                     Exotic Liquids  Charlotte Cooper   \n1          False  ...                     Exotic Liquids  Charlotte Cooper   \n2          False  ...                     Exotic Liquids  Charlotte Cooper   \n3          False  ...         New Orleans Cajun Delights     Shelley Burke   \n4           True  ...         New Orleans Cajun Delights     Shelley Burke   \n..           ...  ...                                ...               ...   \n72         False  ...                  Svensk Sjöföda AB     Michael Björn   \n73         False  ...                      Tokyo Traders      Yoshi Nagase   \n74         False  ...  Plutzer Lebensmittelgroßmärkte AG       Martin Bein   \n75         False  ...                          Karkki Oy    Anne Heikkonen   \n76         False  ...  Plutzer Lebensmittelgroßmärkte AG       Martin Bein   \n\n                    ContactTitle                    Address          City  \\\n0             Purchasing Manager             49 Gilbert St.        London   \n1             Purchasing Manager             49 Gilbert St.        London   \n2             Purchasing Manager             49 Gilbert St.        London   \n3            Order Administrator             P.O. Box 78934   New Orleans   \n4            Order Administrator             P.O. Box 78934   New Orleans   \n..                           ...                        ...           ...   \n72          Sales Representative          Brovallavägen 231     Stockholm   \n73             Marketing Manager  9-8 Sekimai Musashino-shi         Tokyo   \n74  International Marketing Mgr.              Bogenallee 51     Frankfurt   \n75               Product Manager               Valtakatu 12  Lappeenranta   \n76  International Marketing Mgr.              Bogenallee 51     Frankfurt   \n\n   Region PostalCode  Country           Phone   Fax  \n0    None    EC1 4SD       UK  (171) 555-2222  None  \n1    None    EC1 4SD       UK  (171) 555-2222  None  \n2    None    EC1 4SD       UK  (171) 555-2222  None  \n3      LA      70117      USA  (100) 555-4822  None  \n4      LA      70117      USA  (100) 555-4822  None  \n..    ...        ...      ...             ...   ...  \n72   None   S-123 45   Sweden    08-123 45 67  None  \n73   None        100    Japan  (03) 3555-5011  None  \n74   None      60439  Germany    (069) 992755  None  \n75   None      53120  Finland     (953) 10956  None  \n76   None      60439  Germany    (069) 992755  None  \n\n[77 rows x 23 columns]",
      "text/html": "<div>\n<style scoped>\n    .dataframe tbody tr th:only-of-type {\n        vertical-align: middle;\n    }\n\n    .dataframe tbody tr th {\n        vertical-align: top;\n    }\n\n    .dataframe thead th {\n        text-align: right;\n    }\n</style>\n<table border=\"1\" class=\"dataframe\">\n  <thead>\n    <tr style=\"text-align: right;\">\n      <th></th>\n      <th>ProductID</th>\n      <th>ProductName</th>\n      <th>SupplierID</th>\n      <th>CategoryID</th>\n      <th>QuantityPerUnit</th>\n      <th>UnitPrice</th>\n      <th>UnitsInStock</th>\n      <th>UnitsOnOrder</th>\n      <th>ReorderLevel</th>\n      <th>Discontinued</th>\n      <th>...</th>\n      <th>CompanyName</th>\n      <th>ContactName</th>\n      <th>ContactTitle</th>\n      <th>Address</th>\n      <th>City</th>\n      <th>Region</th>\n      <th>PostalCode</th>\n      <th>Country</th>\n      <th>Phone</th>\n      <th>Fax</th>\n    </tr>\n  </thead>\n  <tbody>\n    <tr>\n      <th>0</th>\n      <td>1</td>\n      <td>Chai</td>\n      <td>1</td>\n      <td>1</td>\n      <td>10 boxes x 20 bags</td>\n      <td>18.00</td>\n      <td>39</td>\n      <td>0</td>\n      <td>10</td>\n      <td>False</td>\n      <td>...</td>\n      <td>Exotic Liquids</td>\n      <td>Charlotte Cooper</td>\n      <td>Purchasing Manager</td>\n      <td>49 Gilbert St.</td>\n      <td>London</td>\n      <td>None</td>\n      <td>EC1 4SD</td>\n      <td>UK</td>\n      <td>(171) 555-2222</td>\n      <td>None</td>\n    </tr>\n    <tr>\n      <th>1</th>\n      <td>2</td>\n      <td>Chang</td>\n      <td>1</td>\n      <td>1</td>\n      <td>24 - 12 oz bottles</td>\n      <td>19.00</td>\n      <td>17</td>\n      <td>40</td>\n      <td>25</td>\n      <td>False</td>\n      <td>...</td>\n      <td>Exotic Liquids</td>\n      <td>Charlotte Cooper</td>\n      <td>Purchasing Manager</td>\n      <td>49 Gilbert St.</td>\n      <td>London</td>\n      <td>None</td>\n      <td>EC1 4SD</td>\n      <td>UK</td>\n      <td>(171) 555-2222</td>\n      <td>None</td>\n    </tr>\n    <tr>\n      <th>2</th>\n      <td>3</td>\n      <td>Aniseed Syrup</td>\n      <td>1</td>\n      <td>2</td>\n      <td>12 - 550 ml bottles</td>\n      <td>10.00</td>\n      <td>13</td>\n      <td>70</td>\n      <td>25</td>\n      <td>False</td>\n      <td>...</td>\n      <td>Exotic Liquids</td>\n      <td>Charlotte Cooper</td>\n      <td>Purchasing Manager</td>\n      <td>49 Gilbert St.</td>\n      <td>London</td>\n      <td>None</td>\n      <td>EC1 4SD</td>\n      <td>UK</td>\n      <td>(171) 555-2222</td>\n      <td>None</td>\n    </tr>\n    <tr>\n      <th>3</th>\n      <td>4</td>\n      <td>Chef Anton's Cajun Seasoning</td>\n      <td>2</td>\n      <td>2</td>\n      <td>48 - 6 oz jars</td>\n      <td>22.00</td>\n      <td>53</td>\n      <td>0</td>\n      <td>0</td>\n      <td>False</td>\n      <td>...</td>\n      <td>New Orleans Cajun Delights</td>\n      <td>Shelley Burke</td>\n      <td>Order Administrator</td>\n      <td>P.O. Box 78934</td>\n      <td>New Orleans</td>\n      <td>LA</td>\n      <td>70117</td>\n      <td>USA</td>\n      <td>(100) 555-4822</td>\n      <td>None</td>\n    </tr>\n    <tr>\n      <th>4</th>\n      <td>5</td>\n      <td>Chef Anton's Gumbo Mix</td>\n      <td>2</td>\n      <td>2</td>\n      <td>36 boxes</td>\n      <td>21.35</td>\n      <td>0</td>\n      <td>0</td>\n      <td>0</td>\n      <td>True</td>\n      <td>...</td>\n      <td>New Orleans Cajun Delights</td>\n      <td>Shelley Burke</td>\n      <td>Order Administrator</td>\n      <td>P.O. Box 78934</td>\n      <td>New Orleans</td>\n      <td>LA</td>\n      <td>70117</td>\n      <td>USA</td>\n      <td>(100) 555-4822</td>\n      <td>None</td>\n    </tr>\n    <tr>\n      <th>...</th>\n      <td>...</td>\n      <td>...</td>\n      <td>...</td>\n      <td>...</td>\n      <td>...</td>\n      <td>...</td>\n      <td>...</td>\n      <td>...</td>\n      <td>...</td>\n      <td>...</td>\n      <td>...</td>\n      <td>...</td>\n      <td>...</td>\n      <td>...</td>\n      <td>...</td>\n      <td>...</td>\n      <td>...</td>\n      <td>...</td>\n      <td>...</td>\n      <td>...</td>\n      <td>...</td>\n    </tr>\n    <tr>\n      <th>72</th>\n      <td>73</td>\n      <td>Röd Kaviar</td>\n      <td>17</td>\n      <td>8</td>\n      <td>24 - 150 g jars</td>\n      <td>15.00</td>\n      <td>101</td>\n      <td>0</td>\n      <td>5</td>\n      <td>False</td>\n      <td>...</td>\n      <td>Svensk Sjöföda AB</td>\n      <td>Michael Björn</td>\n      <td>Sales Representative</td>\n      <td>Brovallavägen 231</td>\n      <td>Stockholm</td>\n      <td>None</td>\n      <td>S-123 45</td>\n      <td>Sweden</td>\n      <td>08-123 45 67</td>\n      <td>None</td>\n    </tr>\n    <tr>\n      <th>73</th>\n      <td>74</td>\n      <td>Longlife Tofu</td>\n      <td>4</td>\n      <td>7</td>\n      <td>5 kg pkg.</td>\n      <td>10.00</td>\n      <td>4</td>\n      <td>20</td>\n      <td>5</td>\n      <td>False</td>\n      <td>...</td>\n      <td>Tokyo Traders</td>\n      <td>Yoshi Nagase</td>\n      <td>Marketing Manager</td>\n      <td>9-8 Sekimai Musashino-shi</td>\n      <td>Tokyo</td>\n      <td>None</td>\n      <td>100</td>\n      <td>Japan</td>\n      <td>(03) 3555-5011</td>\n      <td>None</td>\n    </tr>\n    <tr>\n      <th>74</th>\n      <td>75</td>\n      <td>Rhönbräu Klosterbier</td>\n      <td>12</td>\n      <td>1</td>\n      <td>24 - 0.5 l bottles</td>\n      <td>7.75</td>\n      <td>125</td>\n      <td>0</td>\n      <td>25</td>\n      <td>False</td>\n      <td>...</td>\n      <td>Plutzer Lebensmittelgroßmärkte AG</td>\n      <td>Martin Bein</td>\n      <td>International Marketing Mgr.</td>\n      <td>Bogenallee 51</td>\n      <td>Frankfurt</td>\n      <td>None</td>\n      <td>60439</td>\n      <td>Germany</td>\n      <td>(069) 992755</td>\n      <td>None</td>\n    </tr>\n    <tr>\n      <th>75</th>\n      <td>76</td>\n      <td>Lakkalikööri</td>\n      <td>23</td>\n      <td>1</td>\n      <td>500 ml</td>\n      <td>18.00</td>\n      <td>57</td>\n      <td>0</td>\n      <td>20</td>\n      <td>False</td>\n      <td>...</td>\n      <td>Karkki Oy</td>\n      <td>Anne Heikkonen</td>\n      <td>Product Manager</td>\n      <td>Valtakatu 12</td>\n      <td>Lappeenranta</td>\n      <td>None</td>\n      <td>53120</td>\n      <td>Finland</td>\n      <td>(953) 10956</td>\n      <td>None</td>\n    </tr>\n    <tr>\n      <th>76</th>\n      <td>77</td>\n      <td>Original Frankfurter grüne Soße</td>\n      <td>12</td>\n      <td>2</td>\n      <td>12 boxes</td>\n      <td>13.00</td>\n      <td>32</td>\n      <td>0</td>\n      <td>15</td>\n      <td>False</td>\n      <td>...</td>\n      <td>Plutzer Lebensmittelgroßmärkte AG</td>\n      <td>Martin Bein</td>\n      <td>International Marketing Mgr.</td>\n      <td>Bogenallee 51</td>\n      <td>Frankfurt</td>\n      <td>None</td>\n      <td>60439</td>\n      <td>Germany</td>\n      <td>(069) 992755</td>\n      <td>None</td>\n    </tr>\n  </tbody>\n</table>\n<p>77 rows × 23 columns</p>\n</div>"
     },
     "execution_count": 65,
     "metadata": {},
     "output_type": "execute_result"
    }
   ],
   "source": [
    "try:\n",
    "    with pyodbc.connect(source_conn_str_northwind) as source_conn:\n",
    "        NorthWindProducts_df = pd.read_sql_query(\"SELECT * FROM dbo.Products\", source_conn)\n",
    "        NorthWindCategories_df = pd.read_sql_query(\"SELECT * FROM dbo.Categories\", source_conn)\n",
    "        #merge on CategoryID\n",
    "        NorthWindSuppliers_df = pd.read_sql_query(\"SELECT SupplierID, CompanyName, ContactName, ContactTitle, Address, City, Region, PostalCode, Country, Phone, Fax FROM dbo.Suppliers\", source_conn)  \n",
    "        #merge on SupplierID\n",
    "        NorthWindProducts_df = pd.merge(NorthWindProducts_df, NorthWindCategories_df, on='CategoryID', how='left')\n",
    "        NorthWindProducts_df = pd.merge(NorthWindProducts_df, NorthWindSuppliers_df, on='SupplierID', how='left')\n",
    "\n",
    "except pyodbc.Error as e:\n",
    "    print(\"Error while connecting to the source SQL Server:\", e)\n",
    "\n",
    "# Establish connection to the destination SQL Server database and insert data\n",
    "try:\n",
    "    with pyodbc.connect(source_conn_str_northwind) as destination_conn:\n",
    "        cursor = destination_conn.cursor()\n",
    "\n",
    "        # Batch insert\n",
    "        insert_query = \"\"\"\n",
    "        INSERT INTO [DWUnitedOutdoors].[dbo].[Product]\n",
    "        (UnitMeasureCode, Name)\n",
    "        VALUES (?, ?)\n",
    "        \"\"\"\n",
    "\n",
    "        # Convert DataFrame to a list of tuples for batch insertion\n",
    "        data_to_insert = unitmeasure_df[['UnitMeasureCode', 'Name']].values.tolist()\n",
    "\n",
    "        # Executing batch insert\n",
    "        cursor.executemany(insert_query, data_to_insert) \n",
    "        # Commit transaction\n",
    "        destination_conn.commit()\n",
    "\n",
    "        print(\"Data inserted successfully.\")\n",
    "except pyodbc.Error as e:\n",
    "    print(\"Error while connecting to the destination SQL Server or inserting data:\", e)"
   ],
   "metadata": {
    "collapsed": false,
    "ExecuteTime": {
     "end_time": "2024-05-27T13:12:52.039523Z",
     "start_time": "2024-05-27T13:12:51.932310Z"
    }
   },
   "id": "e222e0cd7707b79c",
   "execution_count": 65
  }
 ],
 "metadata": {
  "kernelspec": {
   "display_name": "Python 3",
   "language": "python",
   "name": "python3"
  },
  "language_info": {
   "codemirror_mode": {
    "name": "ipython",
    "version": 2
   },
   "file_extension": ".py",
   "mimetype": "text/x-python",
   "name": "python",
   "nbconvert_exporter": "python",
   "pygments_lexer": "ipython2",
   "version": "2.7.6"
  }
 },
 "nbformat": 4,
 "nbformat_minor": 5
}

{
 "cells": [
  {
   "cell_type": "code",
   "execution_count": 15,
   "id": "initial_id",
   "metadata": {
    "collapsed": true,
    "ExecuteTime": {
     "end_time": "2024-05-29T08:21:13.829492600Z",
     "start_time": "2024-05-29T08:21:13.814486800Z"
    }
   },
   "outputs": [],
   "source": [
    "import pandas as pd\n",
    "import pyodbc\n",
    "from sklearn.model_selection import train_test_split\n",
    "import random\n",
    "from sklearn import linear_model\n",
    "from sklearn.linear_model import LinearRegression\n",
    "from sklearn.metrics import mean_squared_error, mean_absolute_error\n",
    "import matplotlib.pyplot as plt"
   ]
  },
  {
   "cell_type": "code",
   "outputs": [],
   "source": [
    "source_db = {\n",
    "    'servername': r'LAPTOP-NDOACQTH\\SQLEXPRESS',\n",
    "    'database': 'DWUnitedOutdoors'\n",
    "}\n",
    "\n",
    "source_conn_str = (\n",
    "    'Driver={SQL Server};'\n",
    "    'SERVER=' + source_db['servername'] + ';'\n",
    "    'DATABASE=' + source_db['database'] + ';'\n",
    "    'Trusted_Connection=yes;'\n",
    ")"
   ],
   "metadata": {
    "collapsed": false,
    "ExecuteTime": {
     "end_time": "2024-05-29T08:21:16.200593600Z",
     "start_time": "2024-05-29T08:21:16.189797700Z"
    }
   },
   "id": "31f17e6477ea92df",
   "execution_count": 16
  },
  {
   "cell_type": "code",
   "outputs": [
    {
     "name": "stderr",
     "output_type": "stream",
     "text": [
      "C:\\Users\\markv\\AppData\\Local\\Temp\\ipykernel_20748\\2623768607.py:3: UserWarning: pandas only supports SQLAlchemy connectable (engine/connection) or database string URI or sqlite3 DBAPI2 connection. Other DBAPI2 objects are not tested. Please consider using SQLAlchemy.\n",
      "  product_df = pd.read_sql_query(\"SELECT * FROM dbo.ProductionProduct\", source_conn)\n",
      "C:\\Users\\markv\\AppData\\Local\\Temp\\ipykernel_20748\\2623768607.py:4: UserWarning: pandas only supports SQLAlchemy connectable (engine/connection) or database string URI or sqlite3 DBAPI2 connection. Other DBAPI2 objects are not tested. Please consider using SQLAlchemy.\n",
      "  sales_order_df = pd.read_sql_query(\"SELECT * FROM dbo.Sales_Order\", source_conn)\n"
     ]
    },
    {
     "data": {
      "text/plain": "        SalesOrderID  OrderDate    DueDate   ShipDate  Status  \\\n0              43662 2011-05-31 2011-06-12 2011-06-07       5   \n1              43665 2011-05-31 2011-06-12 2011-06-07       5   \n2              43668 2011-05-31 2011-06-12 2011-06-07       5   \n3              43672 2011-05-31 2011-06-12 2011-06-07       5   \n4              43677 2011-05-31 2011-06-12 2011-06-07       5   \n...              ...        ...        ...        ...     ...   \n121312         75122 2014-06-30 2014-07-12 2014-07-07       5   \n121313         75122 2014-06-30 2014-07-12 2014-07-07       5   \n121314         75123 2014-06-30 2014-07-12 2014-07-07       5   \n121315         75123 2014-06-30 2014-07-12 2014-07-07       5   \n121316         75123 2014-06-30 2014-07-12 2014-07-07       5   \n\n       SalesOrderNumber PurchaseOrderNumber   AccountNumber  CustomerID  \\\n0               SO43662       PO18444174044  10-4020-000227       29994   \n1               SO43665       PO16588191572  10-4020-000146       29580   \n2               SO43668       PO14732180295  10-4020-000514       29614   \n3               SO43672       PO13862153537  10-4020-000119       30067   \n4               SO43677       PO11049174786  10-4020-000679       29824   \n...                 ...                 ...             ...         ...   \n121312          SO75122                None  10-4030-015868       15868   \n121313          SO75122                None  10-4030-015868       15868   \n121314          SO75123                None  10-4030-018759       18759   \n121315          SO75123                None  10-4030-018759       18759   \n121316          SO75123                None  10-4030-018759       18759   \n\n        SalesPersonID  ...  WeightUnitMeasureCode  Weight  DaysToManufacture  \\\n0                 282  ...                    LB     2.50                  1   \n1                 283  ...                   None    0.00                  0   \n2                 282  ...                    LB    19.42                  4   \n3                 282  ...                    LB    21.42                  4   \n4                 278  ...                    LB    19.90                  4   \n...               ...  ...                    ...     ...                ...   \n121312              0  ...                   None    0.00                  0   \n121313              0  ...                   None    0.00                  0   \n121314              0  ...                   None    0.00                  0   \n121315              0  ...                   None    0.00                  0   \n121316              0  ...                   None    0.00                  0   \n\n        ProductLine  Class  Style  ProductSubcategoryID  SellStartDate  \\\n0                R      L      U                     14     2011-05-31   \n1                S      no     U                     21     2011-05-31   \n2                R      L      U                      2     2011-05-31   \n3                M      H      U                      1     2011-05-31   \n4                R      L      U                      2     2011-05-31   \n...             ...    ...    ...                   ...            ...   \n121312           M      no     no                    30     2013-05-30   \n121313           S      no     U                     19     2011-05-31   \n121314           M      no     no                    30     2013-05-30   \n121315           M      no     no                    27     2013-05-30   \n121316           S      no     U                     19     2011-05-31   \n\n        SellEndDate DiscontinuedDate  \n0        2013-05-29       1900-01-01  \n1        1900-01-01       1900-01-01  \n2        2013-05-29       1900-01-01  \n3        2012-05-29       1900-01-01  \n4        2013-05-29       1900-01-01  \n...             ...              ...  \n121312   1900-01-01       1900-01-01  \n121313   1900-01-01       1900-01-01  \n121314   1900-01-01       1900-01-01  \n121315   1900-01-01       1900-01-01  \n121316   1900-01-01       1900-01-01  \n\n[121317 rows x 50 columns]",
      "text/html": "<div>\n<style scoped>\n    .dataframe tbody tr th:only-of-type {\n        vertical-align: middle;\n    }\n\n    .dataframe tbody tr th {\n        vertical-align: top;\n    }\n\n    .dataframe thead th {\n        text-align: right;\n    }\n</style>\n<table border=\"1\" class=\"dataframe\">\n  <thead>\n    <tr style=\"text-align: right;\">\n      <th></th>\n      <th>SalesOrderID</th>\n      <th>OrderDate</th>\n      <th>DueDate</th>\n      <th>ShipDate</th>\n      <th>Status</th>\n      <th>SalesOrderNumber</th>\n      <th>PurchaseOrderNumber</th>\n      <th>AccountNumber</th>\n      <th>CustomerID</th>\n      <th>SalesPersonID</th>\n      <th>...</th>\n      <th>WeightUnitMeasureCode</th>\n      <th>Weight</th>\n      <th>DaysToManufacture</th>\n      <th>ProductLine</th>\n      <th>Class</th>\n      <th>Style</th>\n      <th>ProductSubcategoryID</th>\n      <th>SellStartDate</th>\n      <th>SellEndDate</th>\n      <th>DiscontinuedDate</th>\n    </tr>\n  </thead>\n  <tbody>\n    <tr>\n      <th>0</th>\n      <td>43662</td>\n      <td>2011-05-31</td>\n      <td>2011-06-12</td>\n      <td>2011-06-07</td>\n      <td>5</td>\n      <td>SO43662</td>\n      <td>PO18444174044</td>\n      <td>10-4020-000227</td>\n      <td>29994</td>\n      <td>282</td>\n      <td>...</td>\n      <td>LB</td>\n      <td>2.50</td>\n      <td>1</td>\n      <td>R</td>\n      <td>L</td>\n      <td>U</td>\n      <td>14</td>\n      <td>2011-05-31</td>\n      <td>2013-05-29</td>\n      <td>1900-01-01</td>\n    </tr>\n    <tr>\n      <th>1</th>\n      <td>43665</td>\n      <td>2011-05-31</td>\n      <td>2011-06-12</td>\n      <td>2011-06-07</td>\n      <td>5</td>\n      <td>SO43665</td>\n      <td>PO16588191572</td>\n      <td>10-4020-000146</td>\n      <td>29580</td>\n      <td>283</td>\n      <td>...</td>\n      <td>None</td>\n      <td>0.00</td>\n      <td>0</td>\n      <td>S</td>\n      <td>no</td>\n      <td>U</td>\n      <td>21</td>\n      <td>2011-05-31</td>\n      <td>1900-01-01</td>\n      <td>1900-01-01</td>\n    </tr>\n    <tr>\n      <th>2</th>\n      <td>43668</td>\n      <td>2011-05-31</td>\n      <td>2011-06-12</td>\n      <td>2011-06-07</td>\n      <td>5</td>\n      <td>SO43668</td>\n      <td>PO14732180295</td>\n      <td>10-4020-000514</td>\n      <td>29614</td>\n      <td>282</td>\n      <td>...</td>\n      <td>LB</td>\n      <td>19.42</td>\n      <td>4</td>\n      <td>R</td>\n      <td>L</td>\n      <td>U</td>\n      <td>2</td>\n      <td>2011-05-31</td>\n      <td>2013-05-29</td>\n      <td>1900-01-01</td>\n    </tr>\n    <tr>\n      <th>3</th>\n      <td>43672</td>\n      <td>2011-05-31</td>\n      <td>2011-06-12</td>\n      <td>2011-06-07</td>\n      <td>5</td>\n      <td>SO43672</td>\n      <td>PO13862153537</td>\n      <td>10-4020-000119</td>\n      <td>30067</td>\n      <td>282</td>\n      <td>...</td>\n      <td>LB</td>\n      <td>21.42</td>\n      <td>4</td>\n      <td>M</td>\n      <td>H</td>\n      <td>U</td>\n      <td>1</td>\n      <td>2011-05-31</td>\n      <td>2012-05-29</td>\n      <td>1900-01-01</td>\n    </tr>\n    <tr>\n      <th>4</th>\n      <td>43677</td>\n      <td>2011-05-31</td>\n      <td>2011-06-12</td>\n      <td>2011-06-07</td>\n      <td>5</td>\n      <td>SO43677</td>\n      <td>PO11049174786</td>\n      <td>10-4020-000679</td>\n      <td>29824</td>\n      <td>278</td>\n      <td>...</td>\n      <td>LB</td>\n      <td>19.90</td>\n      <td>4</td>\n      <td>R</td>\n      <td>L</td>\n      <td>U</td>\n      <td>2</td>\n      <td>2011-05-31</td>\n      <td>2013-05-29</td>\n      <td>1900-01-01</td>\n    </tr>\n    <tr>\n      <th>...</th>\n      <td>...</td>\n      <td>...</td>\n      <td>...</td>\n      <td>...</td>\n      <td>...</td>\n      <td>...</td>\n      <td>...</td>\n      <td>...</td>\n      <td>...</td>\n      <td>...</td>\n      <td>...</td>\n      <td>...</td>\n      <td>...</td>\n      <td>...</td>\n      <td>...</td>\n      <td>...</td>\n      <td>...</td>\n      <td>...</td>\n      <td>...</td>\n      <td>...</td>\n      <td>...</td>\n    </tr>\n    <tr>\n      <th>121312</th>\n      <td>75122</td>\n      <td>2014-06-30</td>\n      <td>2014-07-12</td>\n      <td>2014-07-07</td>\n      <td>5</td>\n      <td>SO75122</td>\n      <td>None</td>\n      <td>10-4030-015868</td>\n      <td>15868</td>\n      <td>0</td>\n      <td>...</td>\n      <td>None</td>\n      <td>0.00</td>\n      <td>0</td>\n      <td>M</td>\n      <td>no</td>\n      <td>no</td>\n      <td>30</td>\n      <td>2013-05-30</td>\n      <td>1900-01-01</td>\n      <td>1900-01-01</td>\n    </tr>\n    <tr>\n      <th>121313</th>\n      <td>75122</td>\n      <td>2014-06-30</td>\n      <td>2014-07-12</td>\n      <td>2014-07-07</td>\n      <td>5</td>\n      <td>SO75122</td>\n      <td>None</td>\n      <td>10-4030-015868</td>\n      <td>15868</td>\n      <td>0</td>\n      <td>...</td>\n      <td>None</td>\n      <td>0.00</td>\n      <td>0</td>\n      <td>S</td>\n      <td>no</td>\n      <td>U</td>\n      <td>19</td>\n      <td>2011-05-31</td>\n      <td>1900-01-01</td>\n      <td>1900-01-01</td>\n    </tr>\n    <tr>\n      <th>121314</th>\n      <td>75123</td>\n      <td>2014-06-30</td>\n      <td>2014-07-12</td>\n      <td>2014-07-07</td>\n      <td>5</td>\n      <td>SO75123</td>\n      <td>None</td>\n      <td>10-4030-018759</td>\n      <td>18759</td>\n      <td>0</td>\n      <td>...</td>\n      <td>None</td>\n      <td>0.00</td>\n      <td>0</td>\n      <td>M</td>\n      <td>no</td>\n      <td>no</td>\n      <td>30</td>\n      <td>2013-05-30</td>\n      <td>1900-01-01</td>\n      <td>1900-01-01</td>\n    </tr>\n    <tr>\n      <th>121315</th>\n      <td>75123</td>\n      <td>2014-06-30</td>\n      <td>2014-07-12</td>\n      <td>2014-07-07</td>\n      <td>5</td>\n      <td>SO75123</td>\n      <td>None</td>\n      <td>10-4030-018759</td>\n      <td>18759</td>\n      <td>0</td>\n      <td>...</td>\n      <td>None</td>\n      <td>0.00</td>\n      <td>0</td>\n      <td>M</td>\n      <td>no</td>\n      <td>no</td>\n      <td>27</td>\n      <td>2013-05-30</td>\n      <td>1900-01-01</td>\n      <td>1900-01-01</td>\n    </tr>\n    <tr>\n      <th>121316</th>\n      <td>75123</td>\n      <td>2014-06-30</td>\n      <td>2014-07-12</td>\n      <td>2014-07-07</td>\n      <td>5</td>\n      <td>SO75123</td>\n      <td>None</td>\n      <td>10-4030-018759</td>\n      <td>18759</td>\n      <td>0</td>\n      <td>...</td>\n      <td>None</td>\n      <td>0.00</td>\n      <td>0</td>\n      <td>S</td>\n      <td>no</td>\n      <td>U</td>\n      <td>19</td>\n      <td>2011-05-31</td>\n      <td>1900-01-01</td>\n      <td>1900-01-01</td>\n    </tr>\n  </tbody>\n</table>\n<p>121317 rows × 50 columns</p>\n</div>"
     },
     "execution_count": 17,
     "metadata": {},
     "output_type": "execute_result"
    }
   ],
   "source": [
    "try:\n",
    "    with pyodbc.connect(source_conn_str) as source_conn:\n",
    "        product_df = pd.read_sql_query(\"SELECT ProductID, ListPrice, StandardCost,  FROM dbo.ProductionProduct\", source_conn)\n",
    "        sales_order_df = pd.read_sql_query(\"SELECT * FROM dbo.Sales_Order\", source_conn)\n",
    "        sales_df = pd.merge(sales_order_df, product_df, on='ProductID', how='left')\n",
    "except pyodbc.Error as e:\n",
    "    print(\"Error while connecting to the source SQL Server:\", e)\n",
    "sales_df"
   ],
   "metadata": {
    "collapsed": false,
    "ExecuteTime": {
     "end_time": "2024-05-29T08:21:24.899651600Z",
     "start_time": "2024-05-29T08:21:18.124568300Z"
    }
   },
   "id": "3c81a7acd7d2bc0a",
   "execution_count": 17
  }
 ],
 "metadata": {
  "kernelspec": {
   "display_name": "Python 3",
   "language": "python",
   "name": "python3"
  },
  "language_info": {
   "codemirror_mode": {
    "name": "ipython",
    "version": 2
   },
   "file_extension": ".py",
   "mimetype": "text/x-python",
   "name": "python",
   "nbconvert_exporter": "python",
   "pygments_lexer": "ipython2",
   "version": "2.7.6"
  }
 },
 "nbformat": 4,
 "nbformat_minor": 5
}
